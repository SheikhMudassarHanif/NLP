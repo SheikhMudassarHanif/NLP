{
  "nbformat": 4,
  "nbformat_minor": 0,
  "metadata": {
    "colab": {
      "provenance": [],
      "mount_file_id": "1Wjy2w9rxmOEevKboke1d7eJLQlnQlHj8",
      "authorship_tag": "ABX9TyP+aesB35u6GO7dSiy05Jde",
      "include_colab_link": true
    },
    "kernelspec": {
      "name": "python3",
      "display_name": "Python 3"
    },
    "language_info": {
      "name": "python"
    }
  },
  "cells": [
    {
      "cell_type": "markdown",
      "metadata": {
        "id": "view-in-github",
        "colab_type": "text"
      },
      "source": [
        "<a href=\"https://colab.research.google.com/github/SheikhMudassarHanif/NLP/blob/main/NLPUrduTextPrepocessing2_0.ipynb\" target=\"_parent\"><img src=\"https://colab.research.google.com/assets/colab-badge.svg\" alt=\"Open In Colab\"/></a>"
      ]
    },
    {
      "cell_type": "markdown",
      "source": [
        "phase3 starting"
      ],
      "metadata": {
        "id": "2pGgV0Fhchaa"
      }
    },
    {
      "cell_type": "code",
      "source": [
        "import pandas as pd\n",
        "import numpy as np\n",
        "import re\n",
        "import string\n",
        "\n"
      ],
      "metadata": {
        "id": "NNOleLYZcpqk"
      },
      "execution_count": 114,
      "outputs": []
    },
    {
      "cell_type": "code",
      "source": [
        "import nltk as nltk\n",
        "nltk.download('stopwords')\n",
        "from nltk.corpus import stopwords\n",
        "nltk.download('punkt')"
      ],
      "metadata": {
        "colab": {
          "base_uri": "https://localhost:8080/"
        },
        "id": "qA4TRSsNLGVx",
        "outputId": "ad240ec6-e6f8-42bc-d82b-50082b822168"
      },
      "execution_count": 115,
      "outputs": [
        {
          "output_type": "stream",
          "name": "stderr",
          "text": [
            "[nltk_data] Downloading package stopwords to /root/nltk_data...\n",
            "[nltk_data]   Package stopwords is already up-to-date!\n",
            "[nltk_data] Downloading package punkt to /root/nltk_data...\n",
            "[nltk_data]   Package punkt is already up-to-date!\n"
          ]
        },
        {
          "output_type": "execute_result",
          "data": {
            "text/plain": [
              "True"
            ]
          },
          "metadata": {},
          "execution_count": 115
        }
      ]
    },
    {
      "cell_type": "code",
      "source": [
        "df=pd.read_csv('/content/drive/MyDrive/urdu_sarcastic_dataset.csv')\n",
        "df.drop(columns=['Unnamed: 2','Unnamed: 3','Unnamed: 4','Unnamed: 5','Unnamed: 6','Unnamed: 7'],inplace=True)\n",
        "df.dropna(inplace=True)\n",
        "df.head()"
      ],
      "metadata": {
        "colab": {
          "base_uri": "https://localhost:8080/",
          "height": 206
        },
        "id": "zyj4abxw-dO_",
        "outputId": "8acae53e-49d0-4e2f-a130-fde629dc20bd"
      },
      "execution_count": 155,
      "outputs": [
        {
          "output_type": "execute_result",
          "data": {
            "text/plain": [
              "                                           urdu_text  is_sarcastic\n",
              "0  🤣😂😂 ہو لینے دے میری شادی فسادن ٹھیک ہے کوجی نہ...           1.0\n",
              "1  چل مہمانوں میں کھانا سرو کر چڑیل چاچی نوں دسدی...           1.0\n",
              "2  کامران خان آپکی دن بھریہ زمہ داری لگائی گئی اپ...           0.0\n",
              "3                                       نہیں پائین 😎           0.0\n",
              "4   `` مراد علی شاہ کے بھیس میں ڈی جی آئی ایس آئی...           1.0"
            ],
            "text/html": [
              "\n",
              "  <div id=\"df-8bdbe2b9-06c8-4cf0-a1f1-52b9e97d90cd\" class=\"colab-df-container\">\n",
              "    <div>\n",
              "<style scoped>\n",
              "    .dataframe tbody tr th:only-of-type {\n",
              "        vertical-align: middle;\n",
              "    }\n",
              "\n",
              "    .dataframe tbody tr th {\n",
              "        vertical-align: top;\n",
              "    }\n",
              "\n",
              "    .dataframe thead th {\n",
              "        text-align: right;\n",
              "    }\n",
              "</style>\n",
              "<table border=\"1\" class=\"dataframe\">\n",
              "  <thead>\n",
              "    <tr style=\"text-align: right;\">\n",
              "      <th></th>\n",
              "      <th>urdu_text</th>\n",
              "      <th>is_sarcastic</th>\n",
              "    </tr>\n",
              "  </thead>\n",
              "  <tbody>\n",
              "    <tr>\n",
              "      <th>0</th>\n",
              "      <td>🤣😂😂 ہو لینے دے میری شادی فسادن ٹھیک ہے کوجی نہ...</td>\n",
              "      <td>1.0</td>\n",
              "    </tr>\n",
              "    <tr>\n",
              "      <th>1</th>\n",
              "      <td>چل مہمانوں میں کھانا سرو کر چڑیل چاچی نوں دسدی...</td>\n",
              "      <td>1.0</td>\n",
              "    </tr>\n",
              "    <tr>\n",
              "      <th>2</th>\n",
              "      <td>کامران خان آپکی دن بھریہ زمہ داری لگائی گئی اپ...</td>\n",
              "      <td>0.0</td>\n",
              "    </tr>\n",
              "    <tr>\n",
              "      <th>3</th>\n",
              "      <td>نہیں پائین 😎</td>\n",
              "      <td>0.0</td>\n",
              "    </tr>\n",
              "    <tr>\n",
              "      <th>4</th>\n",
              "      <td>`` مراد علی شاہ کے بھیس میں ڈی جی آئی ایس آئی...</td>\n",
              "      <td>1.0</td>\n",
              "    </tr>\n",
              "  </tbody>\n",
              "</table>\n",
              "</div>\n",
              "    <div class=\"colab-df-buttons\">\n",
              "\n",
              "  <div class=\"colab-df-container\">\n",
              "    <button class=\"colab-df-convert\" onclick=\"convertToInteractive('df-8bdbe2b9-06c8-4cf0-a1f1-52b9e97d90cd')\"\n",
              "            title=\"Convert this dataframe to an interactive table.\"\n",
              "            style=\"display:none;\">\n",
              "\n",
              "  <svg xmlns=\"http://www.w3.org/2000/svg\" height=\"24px\" viewBox=\"0 -960 960 960\">\n",
              "    <path d=\"M120-120v-720h720v720H120Zm60-500h600v-160H180v160Zm220 220h160v-160H400v160Zm0 220h160v-160H400v160ZM180-400h160v-160H180v160Zm440 0h160v-160H620v160ZM180-180h160v-160H180v160Zm440 0h160v-160H620v160Z\"/>\n",
              "  </svg>\n",
              "    </button>\n",
              "\n",
              "  <style>\n",
              "    .colab-df-container {\n",
              "      display:flex;\n",
              "      gap: 12px;\n",
              "    }\n",
              "\n",
              "    .colab-df-convert {\n",
              "      background-color: #E8F0FE;\n",
              "      border: none;\n",
              "      border-radius: 50%;\n",
              "      cursor: pointer;\n",
              "      display: none;\n",
              "      fill: #1967D2;\n",
              "      height: 32px;\n",
              "      padding: 0 0 0 0;\n",
              "      width: 32px;\n",
              "    }\n",
              "\n",
              "    .colab-df-convert:hover {\n",
              "      background-color: #E2EBFA;\n",
              "      box-shadow: 0px 1px 2px rgba(60, 64, 67, 0.3), 0px 1px 3px 1px rgba(60, 64, 67, 0.15);\n",
              "      fill: #174EA6;\n",
              "    }\n",
              "\n",
              "    .colab-df-buttons div {\n",
              "      margin-bottom: 4px;\n",
              "    }\n",
              "\n",
              "    [theme=dark] .colab-df-convert {\n",
              "      background-color: #3B4455;\n",
              "      fill: #D2E3FC;\n",
              "    }\n",
              "\n",
              "    [theme=dark] .colab-df-convert:hover {\n",
              "      background-color: #434B5C;\n",
              "      box-shadow: 0px 1px 3px 1px rgba(0, 0, 0, 0.15);\n",
              "      filter: drop-shadow(0px 1px 2px rgba(0, 0, 0, 0.3));\n",
              "      fill: #FFFFFF;\n",
              "    }\n",
              "  </style>\n",
              "\n",
              "    <script>\n",
              "      const buttonEl =\n",
              "        document.querySelector('#df-8bdbe2b9-06c8-4cf0-a1f1-52b9e97d90cd button.colab-df-convert');\n",
              "      buttonEl.style.display =\n",
              "        google.colab.kernel.accessAllowed ? 'block' : 'none';\n",
              "\n",
              "      async function convertToInteractive(key) {\n",
              "        const element = document.querySelector('#df-8bdbe2b9-06c8-4cf0-a1f1-52b9e97d90cd');\n",
              "        const dataTable =\n",
              "          await google.colab.kernel.invokeFunction('convertToInteractive',\n",
              "                                                    [key], {});\n",
              "        if (!dataTable) return;\n",
              "\n",
              "        const docLinkHtml = 'Like what you see? Visit the ' +\n",
              "          '<a target=\"_blank\" href=https://colab.research.google.com/notebooks/data_table.ipynb>data table notebook</a>'\n",
              "          + ' to learn more about interactive tables.';\n",
              "        element.innerHTML = '';\n",
              "        dataTable['output_type'] = 'display_data';\n",
              "        await google.colab.output.renderOutput(dataTable, element);\n",
              "        const docLink = document.createElement('div');\n",
              "        docLink.innerHTML = docLinkHtml;\n",
              "        element.appendChild(docLink);\n",
              "      }\n",
              "    </script>\n",
              "  </div>\n",
              "\n",
              "\n",
              "<div id=\"df-525c01e9-c27b-4933-a1ec-e635056b6610\">\n",
              "  <button class=\"colab-df-quickchart\" onclick=\"quickchart('df-525c01e9-c27b-4933-a1ec-e635056b6610')\"\n",
              "            title=\"Suggest charts\"\n",
              "            style=\"display:none;\">\n",
              "\n",
              "<svg xmlns=\"http://www.w3.org/2000/svg\" height=\"24px\"viewBox=\"0 0 24 24\"\n",
              "     width=\"24px\">\n",
              "    <g>\n",
              "        <path d=\"M19 3H5c-1.1 0-2 .9-2 2v14c0 1.1.9 2 2 2h14c1.1 0 2-.9 2-2V5c0-1.1-.9-2-2-2zM9 17H7v-7h2v7zm4 0h-2V7h2v10zm4 0h-2v-4h2v4z\"/>\n",
              "    </g>\n",
              "</svg>\n",
              "  </button>\n",
              "\n",
              "<style>\n",
              "  .colab-df-quickchart {\n",
              "      --bg-color: #E8F0FE;\n",
              "      --fill-color: #1967D2;\n",
              "      --hover-bg-color: #E2EBFA;\n",
              "      --hover-fill-color: #174EA6;\n",
              "      --disabled-fill-color: #AAA;\n",
              "      --disabled-bg-color: #DDD;\n",
              "  }\n",
              "\n",
              "  [theme=dark] .colab-df-quickchart {\n",
              "      --bg-color: #3B4455;\n",
              "      --fill-color: #D2E3FC;\n",
              "      --hover-bg-color: #434B5C;\n",
              "      --hover-fill-color: #FFFFFF;\n",
              "      --disabled-bg-color: #3B4455;\n",
              "      --disabled-fill-color: #666;\n",
              "  }\n",
              "\n",
              "  .colab-df-quickchart {\n",
              "    background-color: var(--bg-color);\n",
              "    border: none;\n",
              "    border-radius: 50%;\n",
              "    cursor: pointer;\n",
              "    display: none;\n",
              "    fill: var(--fill-color);\n",
              "    height: 32px;\n",
              "    padding: 0;\n",
              "    width: 32px;\n",
              "  }\n",
              "\n",
              "  .colab-df-quickchart:hover {\n",
              "    background-color: var(--hover-bg-color);\n",
              "    box-shadow: 0 1px 2px rgba(60, 64, 67, 0.3), 0 1px 3px 1px rgba(60, 64, 67, 0.15);\n",
              "    fill: var(--button-hover-fill-color);\n",
              "  }\n",
              "\n",
              "  .colab-df-quickchart-complete:disabled,\n",
              "  .colab-df-quickchart-complete:disabled:hover {\n",
              "    background-color: var(--disabled-bg-color);\n",
              "    fill: var(--disabled-fill-color);\n",
              "    box-shadow: none;\n",
              "  }\n",
              "\n",
              "  .colab-df-spinner {\n",
              "    border: 2px solid var(--fill-color);\n",
              "    border-color: transparent;\n",
              "    border-bottom-color: var(--fill-color);\n",
              "    animation:\n",
              "      spin 1s steps(1) infinite;\n",
              "  }\n",
              "\n",
              "  @keyframes spin {\n",
              "    0% {\n",
              "      border-color: transparent;\n",
              "      border-bottom-color: var(--fill-color);\n",
              "      border-left-color: var(--fill-color);\n",
              "    }\n",
              "    20% {\n",
              "      border-color: transparent;\n",
              "      border-left-color: var(--fill-color);\n",
              "      border-top-color: var(--fill-color);\n",
              "    }\n",
              "    30% {\n",
              "      border-color: transparent;\n",
              "      border-left-color: var(--fill-color);\n",
              "      border-top-color: var(--fill-color);\n",
              "      border-right-color: var(--fill-color);\n",
              "    }\n",
              "    40% {\n",
              "      border-color: transparent;\n",
              "      border-right-color: var(--fill-color);\n",
              "      border-top-color: var(--fill-color);\n",
              "    }\n",
              "    60% {\n",
              "      border-color: transparent;\n",
              "      border-right-color: var(--fill-color);\n",
              "    }\n",
              "    80% {\n",
              "      border-color: transparent;\n",
              "      border-right-color: var(--fill-color);\n",
              "      border-bottom-color: var(--fill-color);\n",
              "    }\n",
              "    90% {\n",
              "      border-color: transparent;\n",
              "      border-bottom-color: var(--fill-color);\n",
              "    }\n",
              "  }\n",
              "</style>\n",
              "\n",
              "  <script>\n",
              "    async function quickchart(key) {\n",
              "      const quickchartButtonEl =\n",
              "        document.querySelector('#' + key + ' button');\n",
              "      quickchartButtonEl.disabled = true;  // To prevent multiple clicks.\n",
              "      quickchartButtonEl.classList.add('colab-df-spinner');\n",
              "      try {\n",
              "        const charts = await google.colab.kernel.invokeFunction(\n",
              "            'suggestCharts', [key], {});\n",
              "      } catch (error) {\n",
              "        console.error('Error during call to suggestCharts:', error);\n",
              "      }\n",
              "      quickchartButtonEl.classList.remove('colab-df-spinner');\n",
              "      quickchartButtonEl.classList.add('colab-df-quickchart-complete');\n",
              "    }\n",
              "    (() => {\n",
              "      let quickchartButtonEl =\n",
              "        document.querySelector('#df-525c01e9-c27b-4933-a1ec-e635056b6610 button');\n",
              "      quickchartButtonEl.style.display =\n",
              "        google.colab.kernel.accessAllowed ? 'block' : 'none';\n",
              "    })();\n",
              "  </script>\n",
              "</div>\n",
              "\n",
              "    </div>\n",
              "  </div>\n"
            ],
            "application/vnd.google.colaboratory.intrinsic+json": {
              "type": "dataframe",
              "variable_name": "df",
              "summary": "{\n  \"name\": \"df\",\n  \"rows\": 19955,\n  \"fields\": [\n    {\n      \"column\": \"urdu_text\",\n      \"properties\": {\n        \"dtype\": \"string\",\n        \"num_unique_values\": 15813,\n        \"samples\": [\n          \"\\u0635\\u0644\\u06cc \\u0627\\u0644\\u0644\\u06c1 \\u0639\\u0644\\u06cc\\u06c1 \\u0648\\u0627\\u0670\\u0644\\u06c1 \\u0648\\u0633\\u0644\\u0645\",\n          \"\\u0633\\u0686\\u06cc \\u0645\\u0632\\u06c1 \\u0622\\u06cc\\u0627 \\u06d4\\u06d4\\u06d4\\u0648\\u06cc\\u0633\\u06d2 \\u062d\\u06cc\\u062f\\u0631 \\u0628\\u06be\\u0627\\u0626\\u06cc \\u0628\\u06c1\\u062a \\u067e\\u06cc\\u0627\\u0631\\u06d2 \\u0627\\u0646\\u0633\\u0627\\u0646 \\u06c1\\u06cc\\u06ba \\u2764\",\n          \"\\ud83d\\ude02\\ud83e\\udd23\\ud83d\\ude02\\u0622\\u067e \\u0633\\u06d2 \\u0628\\u06c1\\u062a \\u0639\\u0631\\u0635\\u06c1 \\u067e\\u06c1\\u0644\\u06d2 \\u06a9\\u06c1\\u0627 \\u062a\\u06be\\u0627 \\u06a9\\u06c1 \\u0686\\u06be\\u0648\\u0644\\u06d2 \\u0641\\u0631\\u0648\\u0634 \\u0636\\u0645\\u06cc\\u0631 \\u0641\\u0631\\u0648\\u0634 \\u0627\\u0648\\u0631 \\u0633\\u067e\\u0644\\u0627\\u0626\\u06cc\\u0631 \\u062e\\u0648\\u062f \\u0633\\u0627\\u062e\\u062a\\u06c1 \\u0635\\u062d\\u0627\\u0641\\u06cc \\u06c1\\u06d2 \\u06cc\\u06c1\"\n        ],\n        \"semantic_type\": \"\",\n        \"description\": \"\"\n      }\n    },\n    {\n      \"column\": \"is_sarcastic\",\n      \"properties\": {\n        \"dtype\": \"number\",\n        \"std\": 0.5000119253068661,\n        \"min\": 0.0,\n        \"max\": 1.0,\n        \"num_unique_values\": 2,\n        \"samples\": [\n          0.0,\n          1.0\n        ],\n        \"semantic_type\": \"\",\n        \"description\": \"\"\n      }\n    }\n  ]\n}"
            }
          },
          "metadata": {},
          "execution_count": 155
        }
      ]
    },
    {
      "cell_type": "code",
      "source": [
        "corpus=df['urdu_text'].to_numpy()"
      ],
      "metadata": {
        "id": "2SjpZCKX-dtR"
      },
      "execution_count": 157,
      "outputs": []
    },
    {
      "cell_type": "code",
      "source": [
        "\n",
        "def remove_stopWords(whitespaced_tokens, numpy_array):\n",
        "    # Create a new list to hold tokens after removing stop words\n",
        "    filtered_tokens = []\n",
        "\n",
        "    for word in whitespaced_tokens:\n",
        "        if word not in numpy_array:\n",
        "            filtered_tokens.append(word)  # Keep the word if it's not a stop word\n",
        "\n",
        "    return filtered_tokens"
      ],
      "metadata": {
        "id": "-B6zDXpvhcIM"
      },
      "execution_count": 116,
      "outputs": []
    },
    {
      "cell_type": "code",
      "source": [
        "# def remove_punctuation(text):\n",
        "#     return text.translate(str.maketrans('', '', string.punctuation))\n",
        "def remove_urdu_punctuation(text):\n",
        "    urdu_punctuation = r\"[۔.،؛؟!''\\\"”“():{}<>[\\]|/\\\\~`@#$%^&*+=-]\"\n",
        "    return re.sub(urdu_punctuation, \"\", text)"
      ],
      "metadata": {
        "id": "mv_4C_VhmQUj"
      },
      "execution_count": 144,
      "outputs": []
    },
    {
      "cell_type": "code",
      "source": [
        "def remove_hashtags(text):\n",
        "\n",
        "  return re.sub(r'#\\w+', '', text)\n"
      ],
      "metadata": {
        "id": "tQr1D8gO1ESK"
      },
      "execution_count": 118,
      "outputs": []
    },
    {
      "cell_type": "code",
      "source": [
        "\n",
        "def remove_url(text):\n",
        "    return re.sub(r'http\\S+|www\\S+|https\\S+', '', text, flags=re.MULTILINE)"
      ],
      "metadata": {
        "id": "I6eZz0lEzECR"
      },
      "execution_count": 119,
      "outputs": []
    },
    {
      "cell_type": "code",
      "source": [
        "# prompt: remove emjoi funcion\n",
        "\n",
        "import re\n",
        "\n",
        "def remove_emoji(text):\n",
        "  emoji_pattern = re.compile(\"[\"\n",
        "                           u\"\\U0001F600-\\U0001F64F\"  # emoticons\n",
        "                           u\"\\U0001F300-\\U0001F5FF\"  # symbols & pictographs\n",
        "                           u\"\\U0001F680-\\U0001F6FF\"  # transport & map symbols\n",
        "                           u\"\\U0001F1E0-\\U0001F1FF\"  # flags (iOS)\n",
        "                           u\"\\U00002702-\\U000027B0\"\n",
        "                           u\"\\U000024C2-\\U0001F251\"\n",
        "                           \"]+\", flags=re.UNICODE)\n",
        "  return emoji_pattern.sub(r'', text)\n"
      ],
      "metadata": {
        "id": "jU3fzlD0DV9H"
      },
      "execution_count": 120,
      "outputs": []
    },
    {
      "cell_type": "code",
      "source": [
        "def Remove_short_convos(text):\n",
        "  positive_sentiments = [\"خوشی\", \"محبت\", \"امید\", \"عزت\", \"اطمینان\", \"رحمت\", \"خواب\", \"مسرت\", \"کامیابی\", \"سکون\", \"شکریہ\", \"دوستی\", \"خوبصورتی\", \"قوت\", \"خیرخواہی\"]\n",
        "  negative_sentiments = [\"غم\", \"نفرت\", \"مایوسی\", \"شرمندگی\", \"خوف\", \"تنہائی\", \"دکھ\", \"ناکامی\", \"پریشانی\", \"دھمکی\", \"نفرت\", \"خطرہ\", \"بے چینی\", \"دھوکہ\", \"غصہ\"]\n",
        "  if any(sentiment in text for sentiment in positive_sentiments) and any(sentiment in text for sentiment in negative_sentiments):\n",
        "    return True\n",
        "  else:\n",
        "    return False\n"
      ],
      "metadata": {
        "id": "D41F7aozyzFF"
      },
      "execution_count": 121,
      "outputs": []
    },
    {
      "cell_type": "code",
      "source": [
        "from LughaatNLP import LughaatNLP\n",
        "urdu_text_processing = LughaatNLP()\n"
      ],
      "metadata": {
        "id": "5Q5hR1mNxxaD"
      },
      "execution_count": 122,
      "outputs": []
    },
    {
      "cell_type": "code",
      "source": [
        "def clean_text(text, stopwords_array):\n",
        "    # Step 1: Remove URLs\n",
        "    text = remove_url(text)\n",
        "\n",
        "    # Step 2: Remove Hashtags\n",
        "    text = remove_hashtags(text)\n",
        "\n",
        "    #step2.5 : Remove Emjoi\n",
        "    text=remove_emoji(text)\n",
        "    #step2.6:normalize\n",
        "    text=urdu_text_processing.normalize(text)\n",
        "\n",
        "    # Step 3: Remove Punctuation\n",
        "    text = remove_urdu_punctuation(text)\n",
        "\n",
        "    # Step 4: Tokenize text\n",
        "    # whitespaced_tokens = text.split()\n",
        "    whitespaced_tokens=nltk.word_tokenize(text)\n",
        "\n",
        "    # Step 5: Remove Stopwords\n",
        "    filtered_tokens = remove_stopWords(whitespaced_tokens, stopwords_array)\n",
        "\n",
        "    return ' '.join(filtered_tokens)\n",
        "\n",
        "\n",
        "\n",
        "data=pd.read_csv('/content/drive/MyDrive/stopwords-list.csv')\n",
        "df = pd.DataFrame(data)\n",
        "urdu_stopwords = df.to_numpy()\n",
        "\n",
        "\n",
        "\n",
        "\n",
        "\n",
        "\n",
        "\n",
        "\n",
        "cleaned_corpus=[]\n",
        "for doc in corpus:\n",
        "  words = doc.split()\n",
        "  if len(words)<=3:\n",
        "    if Remove_short_convos(doc):\n",
        "      cleaned_corpus.append(clean_text(doc,urdu_stopwords))\n",
        "\n",
        "  else:\n",
        "      cleaned_corpus.append(clean_text(doc,urdu_stopwords))\n",
        "\n",
        "\n",
        "\n",
        "#cleaned corpus\n",
        "cleaned_corpus\n",
        "\n"
      ],
      "metadata": {
        "colab": {
          "base_uri": "https://localhost:8080/"
        },
        "id": "a5akeACpjPGV",
        "outputId": "b26eeba4-f0f8-4d55-afa3-f71f8b32893c"
      },
      "execution_count": 145,
      "outputs": [
        {
          "output_type": "execute_result",
          "data": {
            "text/plain": [
              "['کتاب دلچسپ پسند',\n",
              " 'زندگی کامیابی محنت صبر ضروری',\n",
              " 'کام ختم',\n",
              " 'حکومت محنت کامیابی حاصل',\n",
              " 'سیاستدانوں عوام سخت قوانین بنائے',\n",
              " 'بچے روزانہ کتابیں پڑھتے کامیاب',\n",
              " 'طلباء سیاست بات کتابیں پڑھتے']"
            ]
          },
          "metadata": {},
          "execution_count": 145
        }
      ]
    },
    {
      "cell_type": "code",
      "source": [
        "base_words = {\n",
        "    # General Nouns\n",
        "    'کتاب': ['کتاب', 'کتابیں'],                     # Book\n",
        "    'گھر': ['گھر', 'گھروں'],                         # House\n",
        "    'بچہ': ['بچہ', 'بچے', 'بچوں'],                   # Child\n",
        "    'نظام': ['نظام', 'نظاموں'],                     # System\n",
        "    'دنیا': ['دنیا', 'دنیاوں'],                      # World\n",
        "    'خواب': ['خواب', 'خوابوں'],                      # Dream\n",
        "    'دوست': ['دوست', 'دوستوں'],                      # Friend\n",
        "    'محبت': ['محبت', 'محبتوں'],                      # Love\n",
        "    'خوشی': ['خوشی', 'خوشیوں'],                      # Happiness\n",
        "    'دکھ': ['دکھ', 'دکھوں'],                          # Sadness\n",
        "    'فطرت': ['فطرت', 'فطرتوں'],                      # Nature\n",
        "    'کام': ['کام', 'کاموں'],                        # Work\n",
        "\n",
        "    # General Adjectives\n",
        "    'خوبصورت': ['خوبصورت', 'خوبصورتوں'],          # Beautiful\n",
        "    'اچھا': ['اچھا', 'اچھی', 'اچھے'],                # Good\n",
        "    'بڑا': ['بڑا', 'بڑی', 'بڑے'],                    # Big\n",
        "    'چھوٹا': ['چھوٹا', 'چھوٹی', 'چھوٹے'],           # Small\n",
        "    'مہنگا': ['مہنگا', 'مہنگی', 'مہنگے'],            # Expensive\n",
        "    'سستا': ['سستا', 'سستی', 'سستے'],               # Cheap\n",
        "    'سخت': ['سخت', 'سختی', 'سختیوں'],               # Hard\n",
        "\n",
        "    # General Verbs\n",
        "    'پڑھنا': ['پڑھنا', 'پڑھتے', 'پڑھتی', 'پڑھا'],   # To read\n",
        "    'لکھنا': ['لکھنا', 'لکھتے', 'لکھتی', 'لکھا'],    # To write\n",
        "    'چلنا': ['چلنا', 'چلتے', 'چلتی', 'چلا'],          # To walk\n",
        "    'دیکھنا': ['دیکھنا', 'دیکھتے', 'دیکھتی', 'دیکھا'], # To see\n",
        "    'سنا': ['سنا', 'سنتے', 'سنائی', 'سنایا'],         # To hear\n",
        "    'سمجھنا': ['سمجھنا', 'سمجھتے', 'سمجھتی', 'سمجھا'], # To understand\n",
        "    'کھیلنا': ['کھیلنا', 'کھیلتے', 'کھیلتی', 'کھیلا'], # To play\n",
        "    'کھانا': ['کھانا', 'کھاتے', 'کھاتی', 'کھایا'],     # To eat\n",
        "\n",
        "    # Political Nouns\n",
        "    'سیاست': ['سیاست', 'سیاستدان', 'سیاستدانوں'],    # Politics, Politician\n",
        "    'حکومت': ['حکومت', 'حکومتیں'],                     # Government\n",
        "    'پارٹی': ['پارٹی', 'پارٹیاں'],                      # Party\n",
        "    'انتخابات': ['انتخابات', 'انتخابی'],              # Elections\n",
        "    'حزب': ['حزب', 'احزاب'],                           # Party (political)\n",
        "    'قومی': ['قومی', 'قومیت'],                         # National\n",
        "    'مسئلہ': ['مسئلہ', 'مسائل'],                       # Issue\n",
        "    'بجٹ': ['بجٹ', 'بجٹوں'],                           # Budget\n",
        "    'مفاہمت': ['مفاہمت', 'مفاہمتیں'],                 # Reconciliation\n",
        "    'پالیسی': ['پالیسی', 'پالیسیوں'],                 # Policy\n",
        "    'غیرت': ['غیرت', 'غیرتیں'],                       # Honor\n",
        "    'دولت': ['دولت', 'دولتیں'],                       # Wealth\n",
        "    'قانون': ['قانون', 'قوانین'],                     # Law\n",
        "    'امن': ['امن', 'امنیں'],                          # Peace\n",
        "    'تنقید': ['تنقید', 'تنقیدیں'],                     # Criticism\n",
        "\n",
        "    # Sarcastic Expressions\n",
        "    'واہ': ['واہ', 'واہ واہ'],                       # Wow\n",
        "    'بہت اچھا': ['بہت اچھا', 'بہت اچھی', 'بہت اچھے'], # Very good (sarcastic)\n",
        "    'کمال': ['کمال', 'کمالات'],                      # Amazing (sarcastic)\n",
        "    'عمدہ': ['عمدہ', 'عمدہ کام'],                     # Excellent (sarcastic)\n",
        "    'کیا بات ہے': ['کیا بات ہے', 'کیا باتیں ہیں'],     # What a thing (sarcastic)\n",
        "    'زبردست': ['زبردست', 'زبردستی'],                 # Fantastic (sarcastic)\n",
        "    'مزا آ گیا': ['مزا آ گیا', 'مزا آگیا'],          # That was fun (sarcastic)\n",
        "    'شکریہ': ['شکریہ', 'شکریہ ادا کرنا'],             # Thank you (can be sarcastic)\n",
        "\n",
        "    # Political Adjectives\n",
        "    'سیاسی': ['سیاسی', 'سیاسیوں'],                    # Political\n",
        "    'مقامی': ['مقامی', 'مقامیوں'],                    # Local\n",
        "    'علاقائی': ['علاقائی', 'علاقائیوں'],              # Regional\n",
        "    'مفہومی': ['مفہومی', 'مفہومیوں'],                  # Conceptual\n",
        "    'مفاہمتی': ['مفاہمتی', 'مفاہمتیوں'],              # Reconciliatory\n",
        "    'مفید': ['مفید', 'مفیدوں'],                        # Useful\n",
        "    'نیک': ['نیک', 'نیکوں'],                            # Good/virtuous\n",
        "\n",
        "    # Political Verbs\n",
        "    'چننا': ['چننا', 'چنتے', 'چنتی', 'چنا'],            # To elect\n",
        "    'بیان کرنا': ['بیان کرنا', 'بیان کرتے', 'بیان کرتی'], # To state\n",
        "    'مذاکرہ کرنا': ['مذاکرہ کرنا', 'مذاکرے کرتے'],    # To negotiate\n",
        "    'منظور کرنا': ['منظور کرنا', 'منظور کرتے'],       # To approve\n",
        "    'تحریک کرنا': ['تحریک کرنا', 'تحریک کرتے'],       # To motivate\n",
        "    'اجلاس کرنا': ['اجلاس کرنا', 'اجلاس کرتے'],       # To convene\n",
        "    'تنقید کرنا': ['تنقید کرنا', 'تنقید کرتے'],        # To criticize\n",
        "    'تشکیل دینا': ['تشکیل دینا', 'تشکیل دیتے'],        # To form\n",
        "\n",
        "    # Other\n",
        "    'مسلم': ['مسلم', 'مسلمان', 'مسلمانوں'],            # Muslim\n",
        "    'عوام': ['عوام', 'عوامی'],                          # Public\n",
        "    'عقیدہ': ['عقیدہ', 'عقائد'],                       # Belief\n",
        "}\n",
        "\n",
        "# Example usage\n",
        "\n"
      ],
      "metadata": {
        "id": "1CdMIphMBJd2"
      },
      "execution_count": 124,
      "outputs": []
    },
    {
      "cell_type": "code",
      "source": [
        "#now lemmatization"
      ],
      "metadata": {
        "id": "AC0kFYg1DQ9_"
      },
      "execution_count": 125,
      "outputs": []
    },
    {
      "cell_type": "code",
      "source": [
        "updated_corpus = []\n",
        "\n",
        "for sentence in cleaned_corpus:\n",
        "    updated_sentence = []\n",
        "    words = sentence.split()  # Split sentence into individual words\n",
        "    for word in words:\n",
        "        found_root = False\n",
        "        for root_word, variants in base_words.items():\n",
        "            if word in variants:\n",
        "                updated_sentence.append(root_word)\n",
        "                found_root = True\n",
        "                break\n",
        "        if not found_root:\n",
        "            updated_sentence.append(word)  # If no root found, keep the original word\n",
        "    updated_corpus.append(' '.join(updated_sentence))\n",
        "\n",
        "# Print the updated corpus with root words\n",
        "for sentence in updated_corpus:\n",
        "    print(sentence)"
      ],
      "metadata": {
        "colab": {
          "base_uri": "https://localhost:8080/"
        },
        "id": "1vPcEnGELd9o",
        "outputId": "3525dd13-76ba-47e2-a94d-3bb7b77e91e4"
      },
      "execution_count": 146,
      "outputs": [
        {
          "output_type": "stream",
          "name": "stdout",
          "text": [
            "کتاب دلچسپ پسند\n",
            "زندگی کامیابی محنت صبر ضروری\n",
            "کام ختم\n",
            "حکومت محنت کامیابی حاصل\n",
            "سیاست عوام سخت قانون بنائے\n",
            "بچہ روزانہ کتاب پڑھنا کامیاب\n",
            "طلباء سیاست بات کتاب پڑھنا\n"
          ]
        }
      ]
    },
    {
      "cell_type": "code",
      "source": [
        "# !pip install LughaatNLP\n",
        "from LughaatNLP import LughaatNLP"
      ],
      "metadata": {
        "id": "M7Hun_5_5Sdw"
      },
      "execution_count": 140,
      "outputs": []
    },
    {
      "cell_type": "code",
      "source": [
        "urdu_text_processing = LughaatNLP()\n"
      ],
      "metadata": {
        "id": "TJPFVFhSAB6-"
      },
      "execution_count": 128,
      "outputs": []
    },
    {
      "cell_type": "code",
      "source": [
        "stemmed_sentence=[]\n",
        "\n",
        "for sentence in cleaned_corpus:\n",
        "  stemmed_sentence.append(urdu_text_processing.urdu_stemmer(sentence))\n"
      ],
      "metadata": {
        "id": "gl1Jh7RVBXaY"
      },
      "execution_count": 147,
      "outputs": []
    },
    {
      "cell_type": "code",
      "source": [
        "for sentence in stemmed_sentence:\n",
        "  print(sentence)"
      ],
      "metadata": {
        "colab": {
          "base_uri": "https://localhost:8080/"
        },
        "id": "_mkLCNK8BsqZ",
        "outputId": "1bef3a88-77ed-4e14-9cec-8f6c15a6ee52"
      },
      "execution_count": 148,
      "outputs": [
        {
          "output_type": "stream",
          "name": "stdout",
          "text": [
            "کتب دلچسپ پسند\n",
            "زندگی کامیابی محنت صبر ضروری\n",
            "کام ختم\n",
            "حکومت محنت کامیابی حاصل\n",
            "سیاستدانا عوام سخت قوانین بنائہ\n",
            "بچہ روزانہ کتب پڑھ کامیاب\n",
            "طلبء سیاست به کتب پڑھ\n"
          ]
        }
      ]
    },
    {
      "cell_type": "markdown",
      "source": [
        "Phase 3 start feature extraction"
      ],
      "metadata": {
        "id": "T4NHmIv7DQm1"
      }
    },
    {
      "cell_type": "code",
      "source": [
        "#tokenization step 1\n",
        "vocabulary=[]\n",
        "for sentence in updated_corpus:\n",
        "  words=sentence.split()\n",
        "  for word in words:\n",
        "    if word not in vocabulary:\n",
        "      vocabulary.append(word)"
      ],
      "metadata": {
        "id": "kt5bHHyeB4Hy"
      },
      "execution_count": 149,
      "outputs": []
    },
    {
      "cell_type": "code",
      "source": [
        "# file_data=pd.read_csv('/content/drive/MyDrive/urdu_sarcastic_dataset.csv')"
      ],
      "metadata": {
        "id": "txdkKWqeDYoD"
      },
      "execution_count": 132,
      "outputs": []
    },
    {
      "cell_type": "code",
      "source": [
        "# file_data.head()"
      ],
      "metadata": {
        "id": "NIA9voxREt5r"
      },
      "execution_count": 133,
      "outputs": []
    },
    {
      "cell_type": "code",
      "source": [
        "# for words in vocabulary:\n",
        "#   print(words)"
      ],
      "metadata": {
        "id": "wE8D20u7EwyX"
      },
      "execution_count": 134,
      "outputs": []
    },
    {
      "cell_type": "code",
      "source": [
        "def Tf(word,sentence):\n",
        "  count=0\n",
        "  words=sentence.split()\n",
        "  for w in words:\n",
        "    if w==word:\n",
        "      count+=1\n",
        "  return count/len(words)"
      ],
      "metadata": {
        "id": "mDIJFrjfFDnx"
      },
      "execution_count": 150,
      "outputs": []
    },
    {
      "cell_type": "code",
      "source": [
        "def Idf(word,corpus):\n",
        "  count=0\n",
        "  for sentence in corpus:\n",
        "    if word in sentence.split():\n",
        "      count+=1\n",
        "  return np.log(len(corpus)/count)"
      ],
      "metadata": {
        "id": "MaR0FbxnqSYu"
      },
      "execution_count": 151,
      "outputs": []
    },
    {
      "cell_type": "code",
      "source": [
        "#maintain a dictinory for every word\n",
        "words_tfidf={}\n",
        "for word in vocabulary:\n",
        "  words_tfidf[word]=[]\n",
        "  for sentence in updated_corpus:\n",
        "    tf=Tf(word,sentence)\n",
        "    idf=Idf(word,updated_corpus)\n",
        "    words_tfidf[word].append(tf*idf)\n",
        "\n"
      ],
      "metadata": {
        "id": "EVEMhqPLKB5F"
      },
      "execution_count": 152,
      "outputs": []
    },
    {
      "cell_type": "code",
      "source": [
        "print(words_tfidf)"
      ],
      "metadata": {
        "colab": {
          "base_uri": "https://localhost:8080/"
        },
        "id": "KywbO4TrjpNW",
        "outputId": "89aacc35-bdc1-4bc5-e3ce-c219cb94f4c4"
      },
      "execution_count": 153,
      "outputs": [
        {
          "output_type": "stream",
          "name": "stdout",
          "text": [
            "{'کتاب': [0.2824326201290679, 0.0, 0.0, 0.0, 0.0, 0.16945957207744075, 0.16945957207744075], 'دلچسپ': [0.648636716351771, 0.0, 0.0, 0.0, 0.0, 0.0, 0.0], 'پسند': [0.648636716351771, 0.0, 0.0, 0.0, 0.0, 0.0, 0.0], 'زندگی': [0.0, 0.38918202981106265, 0.0, 0.0, 0.0, 0.0, 0.0], 'کامیابی': [0.0, 0.2505525936990736, 0.0, 0.313190742123842, 0.0, 0.0, 0.0], 'محنت': [0.0, 0.2505525936990736, 0.0, 0.313190742123842, 0.0, 0.0, 0.0], 'صبر': [0.0, 0.38918202981106265, 0.0, 0.0, 0.0, 0.0, 0.0], 'ضروری': [0.0, 0.38918202981106265, 0.0, 0.0, 0.0, 0.0, 0.0], 'کام': [0.0, 0.0, 0.9729550745276566, 0.0, 0.0, 0.0, 0.0], 'ختم': [0.0, 0.0, 0.9729550745276566, 0.0, 0.0, 0.0, 0.0], 'حکومت': [0.0, 0.0, 0.0, 0.4864775372638283, 0.0, 0.0, 0.0], 'حاصل': [0.0, 0.0, 0.0, 0.4864775372638283, 0.0, 0.0, 0.0], 'سیاست': [0.0, 0.0, 0.0, 0.0, 0.2505525936990736, 0.0, 0.2505525936990736], 'عوام': [0.0, 0.0, 0.0, 0.0, 0.38918202981106265, 0.0, 0.0], 'سخت': [0.0, 0.0, 0.0, 0.0, 0.38918202981106265, 0.0, 0.0], 'قانون': [0.0, 0.0, 0.0, 0.0, 0.38918202981106265, 0.0, 0.0], 'بنائے': [0.0, 0.0, 0.0, 0.0, 0.38918202981106265, 0.0, 0.0], 'بچہ': [0.0, 0.0, 0.0, 0.0, 0.0, 0.38918202981106265, 0.0], 'روزانہ': [0.0, 0.0, 0.0, 0.0, 0.0, 0.38918202981106265, 0.0], 'پڑھنا': [0.0, 0.0, 0.0, 0.0, 0.0, 0.2505525936990736, 0.2505525936990736], 'کامیاب': [0.0, 0.0, 0.0, 0.0, 0.0, 0.38918202981106265, 0.0], 'طلباء': [0.0, 0.0, 0.0, 0.0, 0.0, 0.0, 0.38918202981106265], 'بات': [0.0, 0.0, 0.0, 0.0, 0.0, 0.0, 0.38918202981106265]}\n"
          ]
        }
      ]
    },
    {
      "cell_type": "code",
      "source": [
        "# prompt: i want to display top 10 words along with their tfidf from my words_tfidf dict\n",
        "\n",
        "# Iterate through the words_tfidf dictionary\n",
        "for word, tfidf_scores in words_tfidf.items():\n",
        "  # Calculate the average TF-IDF score for the word across all sentences\n",
        "  average_tfidf = sum(tfidf_scores) / len(tfidf_scores) if tfidf_scores else 0\n",
        "  # Store the word and its average TF-IDF score as a tuple\n",
        "  words_tfidf[word] = average_tfidf\n",
        "\n",
        "\n",
        "# Sort the dictionary by TF-IDF scores in descending order\n",
        "sorted_words_tfidf = dict(sorted(words_tfidf.items(), key=lambda item: item[1], reverse=True))\n",
        "\n",
        "# Get the top 10 words with their TF-IDF scores\n",
        "top_10_words = list(sorted_words_tfidf.items())[:10]\n",
        "\n",
        "# Print the top 10 words and their TF-IDF scores\n",
        "print(\"Top 10 words and their TF-IDF scores:\")\n",
        "for word, tfidf_score in top_10_words:\n",
        "    print(f\"{word}: {tfidf_score:.4f}\")\n"
      ],
      "metadata": {
        "id": "SJbFyViAk7RQ",
        "colab": {
          "base_uri": "https://localhost:8080/"
        },
        "outputId": "60172bb7-df5f-429b-f6bf-b6eed659e7c2"
      },
      "execution_count": 154,
      "outputs": [
        {
          "output_type": "stream",
          "name": "stdout",
          "text": [
            "Top 10 words and their TF-IDF scores:\n",
            "کام: 0.1390\n",
            "ختم: 0.1390\n",
            "دلچسپ: 0.0927\n",
            "پسند: 0.0927\n",
            "کتاب: 0.0888\n",
            "کامیابی: 0.0805\n",
            "محنت: 0.0805\n",
            "سیاست: 0.0716\n",
            "پڑھنا: 0.0716\n",
            "حکومت: 0.0695\n"
          ]
        }
      ]
    },
    {
      "cell_type": "code",
      "source": [],
      "metadata": {
        "id": "G1xz_D_79X9f"
      },
      "execution_count": null,
      "outputs": []
    }
  ]
}