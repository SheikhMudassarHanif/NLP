{
  "nbformat": 4,
  "nbformat_minor": 0,
  "metadata": {
    "colab": {
      "provenance": [],
      "mount_file_id": "1Wjy2w9rxmOEevKboke1d7eJLQlnQlHj8",
      "authorship_tag": "ABX9TyNTyqrxcxcABlzfEmRNsA/C",
      "include_colab_link": true
    },
    "kernelspec": {
      "name": "python3",
      "display_name": "Python 3"
    },
    "language_info": {
      "name": "python"
    }
  },
  "cells": [
    {
      "cell_type": "markdown",
      "metadata": {
        "id": "view-in-github",
        "colab_type": "text"
      },
      "source": [
        "<a href=\"https://colab.research.google.com/github/SheikhMudassarHanif/NLP/blob/main/NLPUrduTextPrepocessing2_0.ipynb\" target=\"_parent\"><img src=\"https://colab.research.google.com/assets/colab-badge.svg\" alt=\"Open In Colab\"/></a>"
      ]
    },
    {
      "cell_type": "markdown",
      "source": [
        "phase3 starting"
      ],
      "metadata": {
        "id": "2pGgV0Fhchaa"
      }
    },
    {
      "cell_type": "code",
      "source": [
        "import pandas as pd\n",
        "import numpy as np\n",
        "import re\n",
        "import string\n",
        "\n"
      ],
      "metadata": {
        "id": "NNOleLYZcpqk"
      },
      "execution_count": 67,
      "outputs": []
    },
    {
      "cell_type": "code",
      "source": [
        "import nltk as nltk\n",
        "nltk.download('stopwords')\n",
        "from nltk.corpus import stopwords\n",
        "nltk.download('punkt')"
      ],
      "metadata": {
        "colab": {
          "base_uri": "https://localhost:8080/"
        },
        "id": "qA4TRSsNLGVx",
        "outputId": "d8c392e7-9a24-410b-e39a-b63cb14e401e"
      },
      "execution_count": 68,
      "outputs": [
        {
          "output_type": "stream",
          "name": "stderr",
          "text": [
            "[nltk_data] Downloading package stopwords to /root/nltk_data...\n",
            "[nltk_data]   Package stopwords is already up-to-date!\n",
            "[nltk_data] Downloading package punkt to /root/nltk_data...\n",
            "[nltk_data]   Package punkt is already up-to-date!\n"
          ]
        },
        {
          "output_type": "execute_result",
          "data": {
            "text/plain": [
              "True"
            ]
          },
          "metadata": {},
          "execution_count": 68
        }
      ]
    },
    {
      "cell_type": "code",
      "source": [
        "dftweets=pd.read_csv('/content/drive/MyDrive/urdu_sarcastic_dataset.csv')\n",
        "dftweets.drop(columns=['Unnamed: 2','Unnamed: 3','Unnamed: 4','Unnamed: 5','Unnamed: 6','Unnamed: 7'],inplace=True)\n",
        "dftweets.dropna(inplace=True)\n",
        "dftweets.head()"
      ],
      "metadata": {
        "colab": {
          "base_uri": "https://localhost:8080/",
          "height": 206
        },
        "id": "zyj4abxw-dO_",
        "outputId": "6bf0dc01-1e2f-456b-c496-5c72e19cd3a5"
      },
      "execution_count": 70,
      "outputs": [
        {
          "output_type": "execute_result",
          "data": {
            "text/plain": [
              "                                           urdu_text  is_sarcastic\n",
              "0  🤣😂😂 ہو لینے دے میری شادی فسادن ٹھیک ہے کوجی نہ...           1.0\n",
              "1  چل مہمانوں میں کھانا سرو کر چڑیل چاچی نوں دسدی...           1.0\n",
              "2  کامران خان آپکی دن بھریہ زمہ داری لگائی گئی اپ...           0.0\n",
              "3                                       نہیں پائین 😎           0.0\n",
              "4   `` مراد علی شاہ کے بھیس میں ڈی جی آئی ایس آئی...           1.0"
            ],
            "text/html": [
              "\n",
              "  <div id=\"df-cdef0382-0c59-49f1-88d5-ca117c85e6ed\" class=\"colab-df-container\">\n",
              "    <div>\n",
              "<style scoped>\n",
              "    .dataframe tbody tr th:only-of-type {\n",
              "        vertical-align: middle;\n",
              "    }\n",
              "\n",
              "    .dataframe tbody tr th {\n",
              "        vertical-align: top;\n",
              "    }\n",
              "\n",
              "    .dataframe thead th {\n",
              "        text-align: right;\n",
              "    }\n",
              "</style>\n",
              "<table border=\"1\" class=\"dataframe\">\n",
              "  <thead>\n",
              "    <tr style=\"text-align: right;\">\n",
              "      <th></th>\n",
              "      <th>urdu_text</th>\n",
              "      <th>is_sarcastic</th>\n",
              "    </tr>\n",
              "  </thead>\n",
              "  <tbody>\n",
              "    <tr>\n",
              "      <th>0</th>\n",
              "      <td>🤣😂😂 ہو لینے دے میری شادی فسادن ٹھیک ہے کوجی نہ...</td>\n",
              "      <td>1.0</td>\n",
              "    </tr>\n",
              "    <tr>\n",
              "      <th>1</th>\n",
              "      <td>چل مہمانوں میں کھانا سرو کر چڑیل چاچی نوں دسدی...</td>\n",
              "      <td>1.0</td>\n",
              "    </tr>\n",
              "    <tr>\n",
              "      <th>2</th>\n",
              "      <td>کامران خان آپکی دن بھریہ زمہ داری لگائی گئی اپ...</td>\n",
              "      <td>0.0</td>\n",
              "    </tr>\n",
              "    <tr>\n",
              "      <th>3</th>\n",
              "      <td>نہیں پائین 😎</td>\n",
              "      <td>0.0</td>\n",
              "    </tr>\n",
              "    <tr>\n",
              "      <th>4</th>\n",
              "      <td>`` مراد علی شاہ کے بھیس میں ڈی جی آئی ایس آئی...</td>\n",
              "      <td>1.0</td>\n",
              "    </tr>\n",
              "  </tbody>\n",
              "</table>\n",
              "</div>\n",
              "    <div class=\"colab-df-buttons\">\n",
              "\n",
              "  <div class=\"colab-df-container\">\n",
              "    <button class=\"colab-df-convert\" onclick=\"convertToInteractive('df-cdef0382-0c59-49f1-88d5-ca117c85e6ed')\"\n",
              "            title=\"Convert this dataframe to an interactive table.\"\n",
              "            style=\"display:none;\">\n",
              "\n",
              "  <svg xmlns=\"http://www.w3.org/2000/svg\" height=\"24px\" viewBox=\"0 -960 960 960\">\n",
              "    <path d=\"M120-120v-720h720v720H120Zm60-500h600v-160H180v160Zm220 220h160v-160H400v160Zm0 220h160v-160H400v160ZM180-400h160v-160H180v160Zm440 0h160v-160H620v160ZM180-180h160v-160H180v160Zm440 0h160v-160H620v160Z\"/>\n",
              "  </svg>\n",
              "    </button>\n",
              "\n",
              "  <style>\n",
              "    .colab-df-container {\n",
              "      display:flex;\n",
              "      gap: 12px;\n",
              "    }\n",
              "\n",
              "    .colab-df-convert {\n",
              "      background-color: #E8F0FE;\n",
              "      border: none;\n",
              "      border-radius: 50%;\n",
              "      cursor: pointer;\n",
              "      display: none;\n",
              "      fill: #1967D2;\n",
              "      height: 32px;\n",
              "      padding: 0 0 0 0;\n",
              "      width: 32px;\n",
              "    }\n",
              "\n",
              "    .colab-df-convert:hover {\n",
              "      background-color: #E2EBFA;\n",
              "      box-shadow: 0px 1px 2px rgba(60, 64, 67, 0.3), 0px 1px 3px 1px rgba(60, 64, 67, 0.15);\n",
              "      fill: #174EA6;\n",
              "    }\n",
              "\n",
              "    .colab-df-buttons div {\n",
              "      margin-bottom: 4px;\n",
              "    }\n",
              "\n",
              "    [theme=dark] .colab-df-convert {\n",
              "      background-color: #3B4455;\n",
              "      fill: #D2E3FC;\n",
              "    }\n",
              "\n",
              "    [theme=dark] .colab-df-convert:hover {\n",
              "      background-color: #434B5C;\n",
              "      box-shadow: 0px 1px 3px 1px rgba(0, 0, 0, 0.15);\n",
              "      filter: drop-shadow(0px 1px 2px rgba(0, 0, 0, 0.3));\n",
              "      fill: #FFFFFF;\n",
              "    }\n",
              "  </style>\n",
              "\n",
              "    <script>\n",
              "      const buttonEl =\n",
              "        document.querySelector('#df-cdef0382-0c59-49f1-88d5-ca117c85e6ed button.colab-df-convert');\n",
              "      buttonEl.style.display =\n",
              "        google.colab.kernel.accessAllowed ? 'block' : 'none';\n",
              "\n",
              "      async function convertToInteractive(key) {\n",
              "        const element = document.querySelector('#df-cdef0382-0c59-49f1-88d5-ca117c85e6ed');\n",
              "        const dataTable =\n",
              "          await google.colab.kernel.invokeFunction('convertToInteractive',\n",
              "                                                    [key], {});\n",
              "        if (!dataTable) return;\n",
              "\n",
              "        const docLinkHtml = 'Like what you see? Visit the ' +\n",
              "          '<a target=\"_blank\" href=https://colab.research.google.com/notebooks/data_table.ipynb>data table notebook</a>'\n",
              "          + ' to learn more about interactive tables.';\n",
              "        element.innerHTML = '';\n",
              "        dataTable['output_type'] = 'display_data';\n",
              "        await google.colab.output.renderOutput(dataTable, element);\n",
              "        const docLink = document.createElement('div');\n",
              "        docLink.innerHTML = docLinkHtml;\n",
              "        element.appendChild(docLink);\n",
              "      }\n",
              "    </script>\n",
              "  </div>\n",
              "\n",
              "\n",
              "<div id=\"df-32827bd4-eb9a-475a-947d-695816c4a4af\">\n",
              "  <button class=\"colab-df-quickchart\" onclick=\"quickchart('df-32827bd4-eb9a-475a-947d-695816c4a4af')\"\n",
              "            title=\"Suggest charts\"\n",
              "            style=\"display:none;\">\n",
              "\n",
              "<svg xmlns=\"http://www.w3.org/2000/svg\" height=\"24px\"viewBox=\"0 0 24 24\"\n",
              "     width=\"24px\">\n",
              "    <g>\n",
              "        <path d=\"M19 3H5c-1.1 0-2 .9-2 2v14c0 1.1.9 2 2 2h14c1.1 0 2-.9 2-2V5c0-1.1-.9-2-2-2zM9 17H7v-7h2v7zm4 0h-2V7h2v10zm4 0h-2v-4h2v4z\"/>\n",
              "    </g>\n",
              "</svg>\n",
              "  </button>\n",
              "\n",
              "<style>\n",
              "  .colab-df-quickchart {\n",
              "      --bg-color: #E8F0FE;\n",
              "      --fill-color: #1967D2;\n",
              "      --hover-bg-color: #E2EBFA;\n",
              "      --hover-fill-color: #174EA6;\n",
              "      --disabled-fill-color: #AAA;\n",
              "      --disabled-bg-color: #DDD;\n",
              "  }\n",
              "\n",
              "  [theme=dark] .colab-df-quickchart {\n",
              "      --bg-color: #3B4455;\n",
              "      --fill-color: #D2E3FC;\n",
              "      --hover-bg-color: #434B5C;\n",
              "      --hover-fill-color: #FFFFFF;\n",
              "      --disabled-bg-color: #3B4455;\n",
              "      --disabled-fill-color: #666;\n",
              "  }\n",
              "\n",
              "  .colab-df-quickchart {\n",
              "    background-color: var(--bg-color);\n",
              "    border: none;\n",
              "    border-radius: 50%;\n",
              "    cursor: pointer;\n",
              "    display: none;\n",
              "    fill: var(--fill-color);\n",
              "    height: 32px;\n",
              "    padding: 0;\n",
              "    width: 32px;\n",
              "  }\n",
              "\n",
              "  .colab-df-quickchart:hover {\n",
              "    background-color: var(--hover-bg-color);\n",
              "    box-shadow: 0 1px 2px rgba(60, 64, 67, 0.3), 0 1px 3px 1px rgba(60, 64, 67, 0.15);\n",
              "    fill: var(--button-hover-fill-color);\n",
              "  }\n",
              "\n",
              "  .colab-df-quickchart-complete:disabled,\n",
              "  .colab-df-quickchart-complete:disabled:hover {\n",
              "    background-color: var(--disabled-bg-color);\n",
              "    fill: var(--disabled-fill-color);\n",
              "    box-shadow: none;\n",
              "  }\n",
              "\n",
              "  .colab-df-spinner {\n",
              "    border: 2px solid var(--fill-color);\n",
              "    border-color: transparent;\n",
              "    border-bottom-color: var(--fill-color);\n",
              "    animation:\n",
              "      spin 1s steps(1) infinite;\n",
              "  }\n",
              "\n",
              "  @keyframes spin {\n",
              "    0% {\n",
              "      border-color: transparent;\n",
              "      border-bottom-color: var(--fill-color);\n",
              "      border-left-color: var(--fill-color);\n",
              "    }\n",
              "    20% {\n",
              "      border-color: transparent;\n",
              "      border-left-color: var(--fill-color);\n",
              "      border-top-color: var(--fill-color);\n",
              "    }\n",
              "    30% {\n",
              "      border-color: transparent;\n",
              "      border-left-color: var(--fill-color);\n",
              "      border-top-color: var(--fill-color);\n",
              "      border-right-color: var(--fill-color);\n",
              "    }\n",
              "    40% {\n",
              "      border-color: transparent;\n",
              "      border-right-color: var(--fill-color);\n",
              "      border-top-color: var(--fill-color);\n",
              "    }\n",
              "    60% {\n",
              "      border-color: transparent;\n",
              "      border-right-color: var(--fill-color);\n",
              "    }\n",
              "    80% {\n",
              "      border-color: transparent;\n",
              "      border-right-color: var(--fill-color);\n",
              "      border-bottom-color: var(--fill-color);\n",
              "    }\n",
              "    90% {\n",
              "      border-color: transparent;\n",
              "      border-bottom-color: var(--fill-color);\n",
              "    }\n",
              "  }\n",
              "</style>\n",
              "\n",
              "  <script>\n",
              "    async function quickchart(key) {\n",
              "      const quickchartButtonEl =\n",
              "        document.querySelector('#' + key + ' button');\n",
              "      quickchartButtonEl.disabled = true;  // To prevent multiple clicks.\n",
              "      quickchartButtonEl.classList.add('colab-df-spinner');\n",
              "      try {\n",
              "        const charts = await google.colab.kernel.invokeFunction(\n",
              "            'suggestCharts', [key], {});\n",
              "      } catch (error) {\n",
              "        console.error('Error during call to suggestCharts:', error);\n",
              "      }\n",
              "      quickchartButtonEl.classList.remove('colab-df-spinner');\n",
              "      quickchartButtonEl.classList.add('colab-df-quickchart-complete');\n",
              "    }\n",
              "    (() => {\n",
              "      let quickchartButtonEl =\n",
              "        document.querySelector('#df-32827bd4-eb9a-475a-947d-695816c4a4af button');\n",
              "      quickchartButtonEl.style.display =\n",
              "        google.colab.kernel.accessAllowed ? 'block' : 'none';\n",
              "    })();\n",
              "  </script>\n",
              "</div>\n",
              "\n",
              "    </div>\n",
              "  </div>\n"
            ],
            "application/vnd.google.colaboratory.intrinsic+json": {
              "type": "dataframe",
              "variable_name": "dftweets",
              "summary": "{\n  \"name\": \"dftweets\",\n  \"rows\": 19955,\n  \"fields\": [\n    {\n      \"column\": \"urdu_text\",\n      \"properties\": {\n        \"dtype\": \"string\",\n        \"num_unique_values\": 15813,\n        \"samples\": [\n          \"\\u0635\\u0644\\u06cc \\u0627\\u0644\\u0644\\u06c1 \\u0639\\u0644\\u06cc\\u06c1 \\u0648\\u0627\\u0670\\u0644\\u06c1 \\u0648\\u0633\\u0644\\u0645\",\n          \"\\u0633\\u0686\\u06cc \\u0645\\u0632\\u06c1 \\u0622\\u06cc\\u0627 \\u06d4\\u06d4\\u06d4\\u0648\\u06cc\\u0633\\u06d2 \\u062d\\u06cc\\u062f\\u0631 \\u0628\\u06be\\u0627\\u0626\\u06cc \\u0628\\u06c1\\u062a \\u067e\\u06cc\\u0627\\u0631\\u06d2 \\u0627\\u0646\\u0633\\u0627\\u0646 \\u06c1\\u06cc\\u06ba \\u2764\",\n          \"\\ud83d\\ude02\\ud83e\\udd23\\ud83d\\ude02\\u0622\\u067e \\u0633\\u06d2 \\u0628\\u06c1\\u062a \\u0639\\u0631\\u0635\\u06c1 \\u067e\\u06c1\\u0644\\u06d2 \\u06a9\\u06c1\\u0627 \\u062a\\u06be\\u0627 \\u06a9\\u06c1 \\u0686\\u06be\\u0648\\u0644\\u06d2 \\u0641\\u0631\\u0648\\u0634 \\u0636\\u0645\\u06cc\\u0631 \\u0641\\u0631\\u0648\\u0634 \\u0627\\u0648\\u0631 \\u0633\\u067e\\u0644\\u0627\\u0626\\u06cc\\u0631 \\u062e\\u0648\\u062f \\u0633\\u0627\\u062e\\u062a\\u06c1 \\u0635\\u062d\\u0627\\u0641\\u06cc \\u06c1\\u06d2 \\u06cc\\u06c1\"\n        ],\n        \"semantic_type\": \"\",\n        \"description\": \"\"\n      }\n    },\n    {\n      \"column\": \"is_sarcastic\",\n      \"properties\": {\n        \"dtype\": \"number\",\n        \"std\": 0.5000119253068661,\n        \"min\": 0.0,\n        \"max\": 1.0,\n        \"num_unique_values\": 2,\n        \"samples\": [\n          0.0,\n          1.0\n        ],\n        \"semantic_type\": \"\",\n        \"description\": \"\"\n      }\n    }\n  ]\n}"
            }
          },
          "metadata": {},
          "execution_count": 70
        }
      ]
    },
    {
      "cell_type": "code",
      "source": [
        "dftweets.tail()"
      ],
      "metadata": {
        "colab": {
          "base_uri": "https://localhost:8080/",
          "height": 206
        },
        "id": "6JWG4Y546scV",
        "outputId": "553c8775-4633-4086-fbdc-ddeffb3151c8"
      },
      "execution_count": 71,
      "outputs": [
        {
          "output_type": "execute_result",
          "data": {
            "text/plain": [
              "                                               urdu_text  is_sarcastic\n",
              "19999  راجہ صاحب نے توڑ سنگ تکر کر چھڈیا۔۔۔ ہن آواز ن...           1.0\n",
              "20000      اور اس کے بعد بےبی پرائم منسٹر بن گئی۔۔🤣😂🤣🤣😁😁           1.0\n",
              "20001  اتنا بونگا وزیر اعظم ڈھونڈنے سے بھی نہیں ملے گا 😌           1.0\n",
              "20002  کاکا جب تم نے عِدت پوری نہیں ہونے دی 🤭 تو عوام...           1.0\n",
              "20003  جتنا مرضی بلیک میل کر لیں این آر او نہیں دوں گ...           1.0"
            ],
            "text/html": [
              "\n",
              "  <div id=\"df-e5b63dcf-777f-4a5f-aec0-b008d28909ab\" class=\"colab-df-container\">\n",
              "    <div>\n",
              "<style scoped>\n",
              "    .dataframe tbody tr th:only-of-type {\n",
              "        vertical-align: middle;\n",
              "    }\n",
              "\n",
              "    .dataframe tbody tr th {\n",
              "        vertical-align: top;\n",
              "    }\n",
              "\n",
              "    .dataframe thead th {\n",
              "        text-align: right;\n",
              "    }\n",
              "</style>\n",
              "<table border=\"1\" class=\"dataframe\">\n",
              "  <thead>\n",
              "    <tr style=\"text-align: right;\">\n",
              "      <th></th>\n",
              "      <th>urdu_text</th>\n",
              "      <th>is_sarcastic</th>\n",
              "    </tr>\n",
              "  </thead>\n",
              "  <tbody>\n",
              "    <tr>\n",
              "      <th>19999</th>\n",
              "      <td>راجہ صاحب نے توڑ سنگ تکر کر چھڈیا۔۔۔ ہن آواز ن...</td>\n",
              "      <td>1.0</td>\n",
              "    </tr>\n",
              "    <tr>\n",
              "      <th>20000</th>\n",
              "      <td>اور اس کے بعد بےبی پرائم منسٹر بن گئی۔۔🤣😂🤣🤣😁😁</td>\n",
              "      <td>1.0</td>\n",
              "    </tr>\n",
              "    <tr>\n",
              "      <th>20001</th>\n",
              "      <td>اتنا بونگا وزیر اعظم ڈھونڈنے سے بھی نہیں ملے گا 😌</td>\n",
              "      <td>1.0</td>\n",
              "    </tr>\n",
              "    <tr>\n",
              "      <th>20002</th>\n",
              "      <td>کاکا جب تم نے عِدت پوری نہیں ہونے دی 🤭 تو عوام...</td>\n",
              "      <td>1.0</td>\n",
              "    </tr>\n",
              "    <tr>\n",
              "      <th>20003</th>\n",
              "      <td>جتنا مرضی بلیک میل کر لیں این آر او نہیں دوں گ...</td>\n",
              "      <td>1.0</td>\n",
              "    </tr>\n",
              "  </tbody>\n",
              "</table>\n",
              "</div>\n",
              "    <div class=\"colab-df-buttons\">\n",
              "\n",
              "  <div class=\"colab-df-container\">\n",
              "    <button class=\"colab-df-convert\" onclick=\"convertToInteractive('df-e5b63dcf-777f-4a5f-aec0-b008d28909ab')\"\n",
              "            title=\"Convert this dataframe to an interactive table.\"\n",
              "            style=\"display:none;\">\n",
              "\n",
              "  <svg xmlns=\"http://www.w3.org/2000/svg\" height=\"24px\" viewBox=\"0 -960 960 960\">\n",
              "    <path d=\"M120-120v-720h720v720H120Zm60-500h600v-160H180v160Zm220 220h160v-160H400v160Zm0 220h160v-160H400v160ZM180-400h160v-160H180v160Zm440 0h160v-160H620v160ZM180-180h160v-160H180v160Zm440 0h160v-160H620v160Z\"/>\n",
              "  </svg>\n",
              "    </button>\n",
              "\n",
              "  <style>\n",
              "    .colab-df-container {\n",
              "      display:flex;\n",
              "      gap: 12px;\n",
              "    }\n",
              "\n",
              "    .colab-df-convert {\n",
              "      background-color: #E8F0FE;\n",
              "      border: none;\n",
              "      border-radius: 50%;\n",
              "      cursor: pointer;\n",
              "      display: none;\n",
              "      fill: #1967D2;\n",
              "      height: 32px;\n",
              "      padding: 0 0 0 0;\n",
              "      width: 32px;\n",
              "    }\n",
              "\n",
              "    .colab-df-convert:hover {\n",
              "      background-color: #E2EBFA;\n",
              "      box-shadow: 0px 1px 2px rgba(60, 64, 67, 0.3), 0px 1px 3px 1px rgba(60, 64, 67, 0.15);\n",
              "      fill: #174EA6;\n",
              "    }\n",
              "\n",
              "    .colab-df-buttons div {\n",
              "      margin-bottom: 4px;\n",
              "    }\n",
              "\n",
              "    [theme=dark] .colab-df-convert {\n",
              "      background-color: #3B4455;\n",
              "      fill: #D2E3FC;\n",
              "    }\n",
              "\n",
              "    [theme=dark] .colab-df-convert:hover {\n",
              "      background-color: #434B5C;\n",
              "      box-shadow: 0px 1px 3px 1px rgba(0, 0, 0, 0.15);\n",
              "      filter: drop-shadow(0px 1px 2px rgba(0, 0, 0, 0.3));\n",
              "      fill: #FFFFFF;\n",
              "    }\n",
              "  </style>\n",
              "\n",
              "    <script>\n",
              "      const buttonEl =\n",
              "        document.querySelector('#df-e5b63dcf-777f-4a5f-aec0-b008d28909ab button.colab-df-convert');\n",
              "      buttonEl.style.display =\n",
              "        google.colab.kernel.accessAllowed ? 'block' : 'none';\n",
              "\n",
              "      async function convertToInteractive(key) {\n",
              "        const element = document.querySelector('#df-e5b63dcf-777f-4a5f-aec0-b008d28909ab');\n",
              "        const dataTable =\n",
              "          await google.colab.kernel.invokeFunction('convertToInteractive',\n",
              "                                                    [key], {});\n",
              "        if (!dataTable) return;\n",
              "\n",
              "        const docLinkHtml = 'Like what you see? Visit the ' +\n",
              "          '<a target=\"_blank\" href=https://colab.research.google.com/notebooks/data_table.ipynb>data table notebook</a>'\n",
              "          + ' to learn more about interactive tables.';\n",
              "        element.innerHTML = '';\n",
              "        dataTable['output_type'] = 'display_data';\n",
              "        await google.colab.output.renderOutput(dataTable, element);\n",
              "        const docLink = document.createElement('div');\n",
              "        docLink.innerHTML = docLinkHtml;\n",
              "        element.appendChild(docLink);\n",
              "      }\n",
              "    </script>\n",
              "  </div>\n",
              "\n",
              "\n",
              "<div id=\"df-f90e7f8c-a21a-4b8a-8f87-2138d87e5204\">\n",
              "  <button class=\"colab-df-quickchart\" onclick=\"quickchart('df-f90e7f8c-a21a-4b8a-8f87-2138d87e5204')\"\n",
              "            title=\"Suggest charts\"\n",
              "            style=\"display:none;\">\n",
              "\n",
              "<svg xmlns=\"http://www.w3.org/2000/svg\" height=\"24px\"viewBox=\"0 0 24 24\"\n",
              "     width=\"24px\">\n",
              "    <g>\n",
              "        <path d=\"M19 3H5c-1.1 0-2 .9-2 2v14c0 1.1.9 2 2 2h14c1.1 0 2-.9 2-2V5c0-1.1-.9-2-2-2zM9 17H7v-7h2v7zm4 0h-2V7h2v10zm4 0h-2v-4h2v4z\"/>\n",
              "    </g>\n",
              "</svg>\n",
              "  </button>\n",
              "\n",
              "<style>\n",
              "  .colab-df-quickchart {\n",
              "      --bg-color: #E8F0FE;\n",
              "      --fill-color: #1967D2;\n",
              "      --hover-bg-color: #E2EBFA;\n",
              "      --hover-fill-color: #174EA6;\n",
              "      --disabled-fill-color: #AAA;\n",
              "      --disabled-bg-color: #DDD;\n",
              "  }\n",
              "\n",
              "  [theme=dark] .colab-df-quickchart {\n",
              "      --bg-color: #3B4455;\n",
              "      --fill-color: #D2E3FC;\n",
              "      --hover-bg-color: #434B5C;\n",
              "      --hover-fill-color: #FFFFFF;\n",
              "      --disabled-bg-color: #3B4455;\n",
              "      --disabled-fill-color: #666;\n",
              "  }\n",
              "\n",
              "  .colab-df-quickchart {\n",
              "    background-color: var(--bg-color);\n",
              "    border: none;\n",
              "    border-radius: 50%;\n",
              "    cursor: pointer;\n",
              "    display: none;\n",
              "    fill: var(--fill-color);\n",
              "    height: 32px;\n",
              "    padding: 0;\n",
              "    width: 32px;\n",
              "  }\n",
              "\n",
              "  .colab-df-quickchart:hover {\n",
              "    background-color: var(--hover-bg-color);\n",
              "    box-shadow: 0 1px 2px rgba(60, 64, 67, 0.3), 0 1px 3px 1px rgba(60, 64, 67, 0.15);\n",
              "    fill: var(--button-hover-fill-color);\n",
              "  }\n",
              "\n",
              "  .colab-df-quickchart-complete:disabled,\n",
              "  .colab-df-quickchart-complete:disabled:hover {\n",
              "    background-color: var(--disabled-bg-color);\n",
              "    fill: var(--disabled-fill-color);\n",
              "    box-shadow: none;\n",
              "  }\n",
              "\n",
              "  .colab-df-spinner {\n",
              "    border: 2px solid var(--fill-color);\n",
              "    border-color: transparent;\n",
              "    border-bottom-color: var(--fill-color);\n",
              "    animation:\n",
              "      spin 1s steps(1) infinite;\n",
              "  }\n",
              "\n",
              "  @keyframes spin {\n",
              "    0% {\n",
              "      border-color: transparent;\n",
              "      border-bottom-color: var(--fill-color);\n",
              "      border-left-color: var(--fill-color);\n",
              "    }\n",
              "    20% {\n",
              "      border-color: transparent;\n",
              "      border-left-color: var(--fill-color);\n",
              "      border-top-color: var(--fill-color);\n",
              "    }\n",
              "    30% {\n",
              "      border-color: transparent;\n",
              "      border-left-color: var(--fill-color);\n",
              "      border-top-color: var(--fill-color);\n",
              "      border-right-color: var(--fill-color);\n",
              "    }\n",
              "    40% {\n",
              "      border-color: transparent;\n",
              "      border-right-color: var(--fill-color);\n",
              "      border-top-color: var(--fill-color);\n",
              "    }\n",
              "    60% {\n",
              "      border-color: transparent;\n",
              "      border-right-color: var(--fill-color);\n",
              "    }\n",
              "    80% {\n",
              "      border-color: transparent;\n",
              "      border-right-color: var(--fill-color);\n",
              "      border-bottom-color: var(--fill-color);\n",
              "    }\n",
              "    90% {\n",
              "      border-color: transparent;\n",
              "      border-bottom-color: var(--fill-color);\n",
              "    }\n",
              "  }\n",
              "</style>\n",
              "\n",
              "  <script>\n",
              "    async function quickchart(key) {\n",
              "      const quickchartButtonEl =\n",
              "        document.querySelector('#' + key + ' button');\n",
              "      quickchartButtonEl.disabled = true;  // To prevent multiple clicks.\n",
              "      quickchartButtonEl.classList.add('colab-df-spinner');\n",
              "      try {\n",
              "        const charts = await google.colab.kernel.invokeFunction(\n",
              "            'suggestCharts', [key], {});\n",
              "      } catch (error) {\n",
              "        console.error('Error during call to suggestCharts:', error);\n",
              "      }\n",
              "      quickchartButtonEl.classList.remove('colab-df-spinner');\n",
              "      quickchartButtonEl.classList.add('colab-df-quickchart-complete');\n",
              "    }\n",
              "    (() => {\n",
              "      let quickchartButtonEl =\n",
              "        document.querySelector('#df-f90e7f8c-a21a-4b8a-8f87-2138d87e5204 button');\n",
              "      quickchartButtonEl.style.display =\n",
              "        google.colab.kernel.accessAllowed ? 'block' : 'none';\n",
              "    })();\n",
              "  </script>\n",
              "</div>\n",
              "\n",
              "    </div>\n",
              "  </div>\n"
            ],
            "application/vnd.google.colaboratory.intrinsic+json": {
              "type": "dataframe",
              "summary": "{\n  \"name\": \"dftweets\",\n  \"rows\": 5,\n  \"fields\": [\n    {\n      \"column\": \"urdu_text\",\n      \"properties\": {\n        \"dtype\": \"string\",\n        \"num_unique_values\": 5,\n        \"samples\": [\n          \"\\u0627\\u0648\\u0631 \\u0627\\u0633 \\u06a9\\u06d2 \\u0628\\u0639\\u062f \\u0628\\u06d2\\u0628\\u06cc \\u067e\\u0631\\u0627\\u0626\\u0645 \\u0645\\u0646\\u0633\\u0679\\u0631 \\u0628\\u0646 \\u06af\\u0626\\u06cc\\u06d4\\u06d4\\ud83e\\udd23\\ud83d\\ude02\\ud83e\\udd23\\ud83e\\udd23\\ud83d\\ude01\\ud83d\\ude01\",\n          \"\\u062c\\u062a\\u0646\\u0627 \\u0645\\u0631\\u0636\\u06cc \\u0628\\u0644\\u06cc\\u06a9 \\u0645\\u06cc\\u0644 \\u06a9\\u0631 \\u0644\\u06cc\\u06ba \\u0627\\u06cc\\u0646 \\u0622\\u0631 \\u0627\\u0648 \\u0646\\u06c1\\u06cc\\u06ba \\u062f\\u0648\\u06ba \\u06af\\u0627\\u060c\\u062c\\u062a\\u0646\\u06d2 \\u0645\\u0631\\u0636\\u06cc \\u062c\\u0644\\u0633\\u06d2 \\u06a9\\u0631\\u0644\\u06cc\\u06ba\\u060c\\u0642\\u0627\\u0646\\u0648\\u0646 \\u062a\\u0648\\u0691\\u0627 \\u062a\\u0648\\u062c\\u06cc\\u0644 \\u0645\\u06cc\\u06ba \\u0688\\u0627\\u0644 \\u062f\\u0648\\u06ba \\u06af\\u0627\\u270c\\ufe0f \\u0633\\u0691\\u06a9\\u0648\\u06ba \\u067e\\u0631 \\u0646\\u06a9\\u0644 \\u06a9\\u0631 \\u0628\\u0644\\u06cc\\u06a9 \\u0645\\u06cc\\u0644 \\u06a9\\u0631\\u0646\\u06d2 \\u06a9\\u0627 \\u062e\\u0648\\u0627\\u0628 \\u062f\\u06cc\\u06a9\\u06be\\u0646\\u06d2 \\u0648\\u0627\\u0644\\u06d2 \\u0646\\u0627\\u06a9\\u0627\\u0645 \\u06c1\\u0648\\u0646\\u06af\\u06d2 \\u06cc\\u06c1 \\u062a\\u0645\\u0627\\u0645 \\u0644\\u0648\\u06af \\u0645\\u0644 \\u06a9\\u0631 \\u0628\\u06be\\u06cc \\u0627\\u062d\\u062a\\u062c\\u0627\\u062c \\u06a9\\u0631\\u0644\\u06cc\\u06ba \\u062a\\u0648 \\u0627\\u0646\\u06c1\\u06cc\\u06ba \\u06a9\\u0686\\u06be \\u062d\\u0627\\u0635\\u0644 \\u0646\\u06c1\\u06cc\\u06ba \\u06c1\\u0648\\u06af\\u0627\\u060c \\u0645\\u064f\\u0631\\u0634\\u062f \\u0648\\u0632\\u06cc\\u0631 \\u0627\\u0639\\u0638\\u0645 \\u0639\\u0645\\u0631\\u0627\\u0646 \\u062e\\u0627\\u0646 \\u2764 PDMExposed\",\n          \"\\u0627\\u062a\\u0646\\u0627 \\u0628\\u0648\\u0646\\u06af\\u0627 \\u0648\\u0632\\u06cc\\u0631 \\u0627\\u0639\\u0638\\u0645 \\u0688\\u06be\\u0648\\u0646\\u0688\\u0646\\u06d2 \\u0633\\u06d2 \\u0628\\u06be\\u06cc \\u0646\\u06c1\\u06cc\\u06ba \\u0645\\u0644\\u06d2 \\u06af\\u0627 \\ud83d\\ude0c\"\n        ],\n        \"semantic_type\": \"\",\n        \"description\": \"\"\n      }\n    },\n    {\n      \"column\": \"is_sarcastic\",\n      \"properties\": {\n        \"dtype\": \"number\",\n        \"std\": 0.0,\n        \"min\": 1.0,\n        \"max\": 1.0,\n        \"num_unique_values\": 1,\n        \"samples\": [\n          1.0\n        ],\n        \"semantic_type\": \"\",\n        \"description\": \"\"\n      }\n    }\n  ]\n}"
            }
          },
          "metadata": {},
          "execution_count": 71
        }
      ]
    },
    {
      "cell_type": "code",
      "source": [
        "limit=1000\n",
        "corpus=dftweets['urdu_text'].head(limit).to_numpy()"
      ],
      "metadata": {
        "id": "2SjpZCKX-dtR"
      },
      "execution_count": 75,
      "outputs": []
    },
    {
      "cell_type": "code",
      "source": [
        "\n",
        "def remove_stopWords(whitespaced_tokens, numpy_array):\n",
        "    # Create a new list to hold tokens after removing stop words\n",
        "    filtered_tokens = []\n",
        "\n",
        "    for word in whitespaced_tokens:\n",
        "        if word not in numpy_array:\n",
        "            filtered_tokens.append(word)  # Keep the word if it's not a stop word\n",
        "\n",
        "    return filtered_tokens"
      ],
      "metadata": {
        "id": "-B6zDXpvhcIM"
      },
      "execution_count": 76,
      "outputs": []
    },
    {
      "cell_type": "code",
      "source": [
        "# def remove_punctuation(text):\n",
        "#     return text.translate(str.maketrans('', '', string.punctuation))\n",
        "def remove_urdu_punctuation(text):\n",
        "    urdu_punctuation = r\"[۔.،؛؟!''\\\"”“():{}<>[\\]|/\\\\~`@#$%^&*+=-]\"\n",
        "    return re.sub(urdu_punctuation, \"\", text)"
      ],
      "metadata": {
        "id": "mv_4C_VhmQUj"
      },
      "execution_count": 77,
      "outputs": []
    },
    {
      "cell_type": "code",
      "source": [
        "def remove_hashtags(text):\n",
        "\n",
        "  return re.sub(r'#\\w+', '', text)\n"
      ],
      "metadata": {
        "id": "tQr1D8gO1ESK"
      },
      "execution_count": 78,
      "outputs": []
    },
    {
      "cell_type": "code",
      "source": [
        "\n",
        "def remove_url(text):\n",
        "    return re.sub(r'http\\S+|www\\S+|https\\S+', '', text, flags=re.MULTILINE)"
      ],
      "metadata": {
        "id": "I6eZz0lEzECR"
      },
      "execution_count": 79,
      "outputs": []
    },
    {
      "cell_type": "code",
      "source": [
        "import emoji\n",
        "def remove_emoji(text):\n",
        "    emojis = sorted(emoji.EMOJI_DATA, key=len, reverse=True)\n",
        "    pattern = u'(' + u'|'.join(re.escape(u) for u in emojis) + u')'\n",
        "    return re.compile(pattern).sub(r'', text)"
      ],
      "metadata": {
        "id": "zNAczN3S_2kF"
      },
      "execution_count": 80,
      "outputs": []
    },
    {
      "cell_type": "code",
      "source": [
        "def Remove_short_convos(text):\n",
        "  positive_sentiments = [\"خوشی\", \"محبت\", \"امید\", \"عزت\", \"اطمینان\", \"رحمت\", \"خواب\", \"مسرت\", \"کامیابی\", \"سکون\", \"شکریہ\", \"دوستی\", \"خوبصورتی\", \"قوت\", \"خیرخواہی\"]\n",
        "  negative_sentiments = [\"غم\", \"نفرت\", \"مایوسی\", \"شرمندگی\", \"خوف\", \"تنہائی\", \"دکھ\", \"ناکامی\", \"پریشانی\", \"دھمکی\", \"نفرت\", \"خطرہ\", \"بے چینی\", \"دھوکہ\", \"غصہ\"]\n",
        "  if any(sentiment in text for sentiment in positive_sentiments) and any(sentiment in text for sentiment in negative_sentiments):\n",
        "    return True\n",
        "  else:\n",
        "    return False\n"
      ],
      "metadata": {
        "id": "D41F7aozyzFF"
      },
      "execution_count": 81,
      "outputs": []
    },
    {
      "cell_type": "code",
      "source": [
        "from LughaatNLP import LughaatNLP\n",
        "urdu_text_processing = LughaatNLP()\n"
      ],
      "metadata": {
        "id": "5Q5hR1mNxxaD"
      },
      "execution_count": 82,
      "outputs": []
    },
    {
      "cell_type": "code",
      "source": [
        "def clean_text(text, stopwords_array):\n",
        "    # Step 1: Remove URLs\n",
        "    text = remove_url(text)\n",
        "\n",
        "    # Step 2: Remove Hashtags\n",
        "    text = remove_hashtags(text)\n",
        "\n",
        "    #step2.5 : Remove Emjoi\n",
        "    text=remove_emoji(text)\n",
        "    #step2.6:normalize\n",
        "    text=urdu_text_processing.normalize(text)\n",
        "\n",
        "    # Step 3: Remove Punctuation\n",
        "    text = remove_urdu_punctuation(text)\n",
        "\n",
        "    # Step 4: Tokenize text\n",
        "    # whitespaced_tokens = text.split()\n",
        "    whitespaced_tokens=nltk.word_tokenize(text)\n",
        "\n",
        "    # Step 5: Remove Stopwords\n",
        "    filtered_tokens = remove_stopWords(whitespaced_tokens, stopwords_array)\n",
        "\n",
        "    return ' '.join(filtered_tokens)\n",
        "\n",
        "\n",
        "\n",
        "data=pd.read_csv('/content/drive/MyDrive/stopwords-list.csv')\n",
        "df = pd.DataFrame(data)\n",
        "urdu_stopwords = df.to_numpy()\n",
        "\n",
        "\n",
        "\n",
        "\n",
        "\n",
        "\n",
        "\n",
        "\n",
        "cleaned_corpus=[]\n",
        "for doc in corpus:\n",
        "  words = doc.split()\n",
        "  if len(words)<=3:\n",
        "    if Remove_short_convos(doc):\n",
        "      cleaned_corpus.append(clean_text(doc,urdu_stopwords))\n",
        "\n",
        "  else:\n",
        "      cleaned_corpus.append(clean_text(doc,urdu_stopwords))\n",
        "\n",
        "\n",
        "\n",
        "#cleaned corpus\n",
        "cleaned_corpus[:10]\n",
        "\n"
      ],
      "metadata": {
        "colab": {
          "base_uri": "https://localhost:8080/"
        },
        "id": "a5akeACpjPGV",
        "outputId": "ec6230c4-3810-4258-e363-c3b4d5d02797"
      },
      "execution_count": 83,
      "outputs": [
        {
          "output_type": "execute_result",
          "data": {
            "text/plain": [
              "['لینے شادی فسادن ٹھیک کوجی چاہیے',\n",
              " 'چل مہمانوں کھانا سرو چڑیل چاچی نوں دسدی اں',\n",
              " 'کامران خان اپکی دن بھریہ زمہ داری لگائی اپوزیشن کردار کشی اوراس پربھونکناہےاپ خوشامدگری وچاپلوسی سےاورکتنی دولت کماناچاہتےہیں موٹرسائیکل سےپیجارو پراڈو کےسفرمیں ضمیرکی لاش سےاٹھتی بدبواپ ناک بند نوٹ اپ سےالتجاگزارش ہےہمیں فالوکریں شکریہ',\n",
              " 'مراد علی شاہ بھیس ڈی جی ائی ایس ائی حامد میر',\n",
              " 'قابل اعتبار اکثر قاتل اعتبار',\n",
              " 'انساں تھکا سوچوں سفر',\n",
              " 'حامد میر صاحب ویلڈن',\n",
              " 'یار وچارہ ویلا ہوندا ارے ہویا تسی تے پکے نجومی منندے',\n",
              " 'سمجھتے سارا پاکستان بیوقوف ھے',\n",
              " 'تسی لڑاںٔی کروانی ساڈی']"
            ]
          },
          "metadata": {},
          "execution_count": 83
        }
      ]
    },
    {
      "cell_type": "code",
      "source": [
        "base_words = {\n",
        "    # General Nouns\n",
        "    'کتاب': ['کتاب', 'کتابیں'],                     # Book\n",
        "    'گھر': ['گھر', 'گھروں'],                         # House\n",
        "    'بچہ': ['بچہ', 'بچے', 'بچوں'],                   # Child\n",
        "    'نظام': ['نظام', 'نظاموں'],                     # System\n",
        "    'دنیا': ['دنیا', 'دنیاوں'],                      # World\n",
        "    'خواب': ['خواب', 'خوابوں'],                      # Dream\n",
        "    'دوست': ['دوست', 'دوستوں'],                      # Friend\n",
        "    'محبت': ['محبت', 'محبتوں'],                      # Love\n",
        "    'خوشی': ['خوشی', 'خوشیوں'],                      # Happiness\n",
        "    'دکھ': ['دکھ', 'دکھوں'],                          # Sadness\n",
        "    'فطرت': ['فطرت', 'فطرتوں'],                      # Nature\n",
        "    'کام': ['کام', 'کاموں'],                        # Work\n",
        "\n",
        "    # General Adjectives\n",
        "    'خوبصورت': ['خوبصورت', 'خوبصورتوں'],          # Beautiful\n",
        "    'اچھا': ['اچھا', 'اچھی', 'اچھے'],                # Good\n",
        "    'بڑا': ['بڑا', 'بڑی', 'بڑے'],                    # Big\n",
        "    'چھوٹا': ['چھوٹا', 'چھوٹی', 'چھوٹے'],           # Small\n",
        "    'مہنگا': ['مہنگا', 'مہنگی', 'مہنگے'],            # Expensive\n",
        "    'سستا': ['سستا', 'سستی', 'سستے'],               # Cheap\n",
        "    'سخت': ['سخت', 'سختی', 'سختیوں'],               # Hard\n",
        "\n",
        "    # General Verbs\n",
        "    'پڑھنا': ['پڑھنا', 'پڑھتے', 'پڑھتی', 'پڑھا'],   # To read\n",
        "    'لکھنا': ['لکھنا', 'لکھتے', 'لکھتی', 'لکھا'],    # To write\n",
        "    'چلنا': ['چلنا', 'چلتے', 'چلتی', 'چلا'],          # To walk\n",
        "    'دیکھنا': ['دیکھنا', 'دیکھتے', 'دیکھتی', 'دیکھا'], # To see\n",
        "    'سنا': ['سنا', 'سنتے', 'سنائی', 'سنایا'],         # To hear\n",
        "    'سمجھنا': ['سمجھنا', 'سمجھتے', 'سمجھتی', 'سمجھا'], # To understand\n",
        "    'کھیلنا': ['کھیلنا', 'کھیلتے', 'کھیلتی', 'کھیلا'], # To play\n",
        "    'کھانا': ['کھانا', 'کھاتے', 'کھاتی', 'کھایا'],     # To eat\n",
        "\n",
        "    # Political Nouns\n",
        "    'سیاست': ['سیاست', 'سیاستدان', 'سیاستدانوں'],    # Politics, Politician\n",
        "    'حکومت': ['حکومت', 'حکومتیں'],                     # Government\n",
        "    'پارٹی': ['پارٹی', 'پارٹیاں'],                      # Party\n",
        "    'انتخابات': ['انتخابات', 'انتخابی'],              # Elections\n",
        "    'حزب': ['حزب', 'احزاب'],                           # Party (political)\n",
        "    'قومی': ['قومی', 'قومیت'],                         # National\n",
        "    'مسئلہ': ['مسئلہ', 'مسائل'],                       # Issue\n",
        "    'بجٹ': ['بجٹ', 'بجٹوں'],                           # Budget\n",
        "    'مفاہمت': ['مفاہمت', 'مفاہمتیں'],                 # Reconciliation\n",
        "    'پالیسی': ['پالیسی', 'پالیسیوں'],                 # Policy\n",
        "    'غیرت': ['غیرت', 'غیرتیں'],                       # Honor\n",
        "    'دولت': ['دولت', 'دولتیں'],                       # Wealth\n",
        "    'قانون': ['قانون', 'قوانین'],                     # Law\n",
        "    'امن': ['امن', 'امنیں'],                          # Peace\n",
        "    'تنقید': ['تنقید', 'تنقیدیں'],                     # Criticism\n",
        "\n",
        "    # Sarcastic Expressions\n",
        "    'واہ': ['واہ', 'واہ واہ'],                       # Wow\n",
        "    'بہت اچھا': ['بہت اچھا', 'بہت اچھی', 'بہت اچھے'], # Very good (sarcastic)\n",
        "    'کمال': ['کمال', 'کمالات'],                      # Amazing (sarcastic)\n",
        "    'عمدہ': ['عمدہ', 'عمدہ کام'],                     # Excellent (sarcastic)\n",
        "    'کیا بات ہے': ['کیا بات ہے', 'کیا باتیں ہیں'],     # What a thing (sarcastic)\n",
        "    'زبردست': ['زبردست', 'زبردستی'],                 # Fantastic (sarcastic)\n",
        "    'مزا آ گیا': ['مزا آ گیا', 'مزا آگیا'],          # That was fun (sarcastic)\n",
        "    'شکریہ': ['شکریہ', 'شکریہ ادا کرنا'],             # Thank you (can be sarcastic)\n",
        "\n",
        "    # Political Adjectives\n",
        "    'سیاسی': ['سیاسی', 'سیاسیوں'],                    # Political\n",
        "    'مقامی': ['مقامی', 'مقامیوں'],                    # Local\n",
        "    'علاقائی': ['علاقائی', 'علاقائیوں'],              # Regional\n",
        "    'مفہومی': ['مفہومی', 'مفہومیوں'],                  # Conceptual\n",
        "    'مفاہمتی': ['مفاہمتی', 'مفاہمتیوں'],              # Reconciliatory\n",
        "    'مفید': ['مفید', 'مفیدوں'],                        # Useful\n",
        "    'نیک': ['نیک', 'نیکوں'],                            # Good/virtuous\n",
        "\n",
        "    # Political Verbs\n",
        "    'چننا': ['چننا', 'چنتے', 'چنتی', 'چنا'],            # To elect\n",
        "    'بیان کرنا': ['بیان کرنا', 'بیان کرتے', 'بیان کرتی'], # To state\n",
        "    'مذاکرہ کرنا': ['مذاکرہ کرنا', 'مذاکرے کرتے'],    # To negotiate\n",
        "    'منظور کرنا': ['منظور کرنا', 'منظور کرتے'],       # To approve\n",
        "    'تحریک کرنا': ['تحریک کرنا', 'تحریک کرتے'],       # To motivate\n",
        "    'اجلاس کرنا': ['اجلاس کرنا', 'اجلاس کرتے'],       # To convene\n",
        "    'تنقید کرنا': ['تنقید کرنا', 'تنقید کرتے'],        # To criticize\n",
        "    'تشکیل دینا': ['تشکیل دینا', 'تشکیل دیتے'],        # To form\n",
        "\n",
        "    # Other\n",
        "    'مسلم': ['مسلم', 'مسلمان', 'مسلمانوں'],            # Muslim\n",
        "    'عوام': ['عوام', 'عوامی'],                          # Public\n",
        "    'عقیدہ': ['عقیدہ', 'عقائد'],                       # Belief\n",
        "}\n",
        "\n",
        "# Example usage\n",
        "\n"
      ],
      "metadata": {
        "id": "1CdMIphMBJd2"
      },
      "execution_count": 84,
      "outputs": []
    },
    {
      "cell_type": "markdown",
      "source": [
        "Lemmatization"
      ],
      "metadata": {
        "id": "cOerB2RTnRTU"
      }
    },
    {
      "cell_type": "code",
      "source": [
        "updated_corpus = []\n",
        "\n",
        "for sentence in cleaned_corpus:\n",
        "    updated_sentence = []\n",
        "    words = sentence.split()  # Split sentence into individual words\n",
        "    for word in words:\n",
        "        found_root = False\n",
        "        for root_word, variants in base_words.items():\n",
        "            if word in variants:\n",
        "                updated_sentence.append(root_word)\n",
        "                found_root = True\n",
        "                break\n",
        "        if not found_root:\n",
        "            updated_sentence.append(word)  # If no root found, keep the original word\n",
        "    updated_corpus.append(' '.join(updated_sentence))\n",
        "\n"
      ],
      "metadata": {
        "id": "1vPcEnGELd9o"
      },
      "execution_count": 85,
      "outputs": []
    },
    {
      "cell_type": "code",
      "source": [
        "# !pip install LughaatNLP\n",
        "from LughaatNLP import LughaatNLP"
      ],
      "metadata": {
        "id": "M7Hun_5_5Sdw"
      },
      "execution_count": 86,
      "outputs": []
    },
    {
      "cell_type": "code",
      "source": [
        "urdu_text_processing = LughaatNLP()\n"
      ],
      "metadata": {
        "id": "TJPFVFhSAB6-"
      },
      "execution_count": 87,
      "outputs": []
    },
    {
      "cell_type": "code",
      "source": [
        "stemmed_sentence=[]\n",
        "\n",
        "for sentence in cleaned_corpus:\n",
        "  stemmed_sentence.append(urdu_text_processing.urdu_stemmer(sentence))\n"
      ],
      "metadata": {
        "id": "gl1Jh7RVBXaY"
      },
      "execution_count": 88,
      "outputs": []
    },
    {
      "cell_type": "markdown",
      "source": [
        "Phase 3 start feature extraction"
      ],
      "metadata": {
        "id": "T4NHmIv7DQm1"
      }
    },
    {
      "cell_type": "code",
      "source": [
        "#tokenization step 1\n",
        "vocabulary=[]\n",
        "for sentence in updated_corpus:\n",
        "  words=sentence.split()\n",
        "  for word in words:\n",
        "    if word not in vocabulary:\n",
        "      vocabulary.append(word)"
      ],
      "metadata": {
        "id": "kt5bHHyeB4Hy"
      },
      "execution_count": 89,
      "outputs": []
    },
    {
      "cell_type": "code",
      "source": [
        "import numpy as np\n",
        "from collections import defaultdict\n",
        "\n",
        "# Step 1: Define the TF function\n",
        "def compute_tf(corpus):\n",
        "    tf_values = defaultdict(lambda: defaultdict(float))\n",
        "    for sentence in corpus:\n",
        "        words = sentence.split()\n",
        "        total_words = len(words)\n",
        "        for word in words:\n",
        "            tf_values[sentence][word] += 1 / total_words\n",
        "    return tf_values\n",
        "\n",
        "# Step 2: Define the IDF function\n",
        "def compute_idf(vocabulary, corpus):\n",
        "    total_sentences = len(corpus)\n",
        "    idf_values = {}\n",
        "\n",
        "    if total_sentences == 0:\n",
        "        return idf_values\n",
        "\n",
        "    for word in vocabulary:\n",
        "        count = sum(1 for sentence in corpus if word in set(sentence.split()))\n",
        "        idf_values[word] = np.log(total_sentences / count) if count > 0 else 0\n",
        "\n",
        "    return idf_values"
      ],
      "metadata": {
        "id": "AMRVG42GaqSX"
      },
      "execution_count": 90,
      "outputs": []
    },
    {
      "cell_type": "code",
      "source": [
        "tf_values = compute_tf(updated_corpus)\n",
        "\n",
        "# Step 4: Compute IDF values\n",
        "idf_values = compute_idf(vocabulary, updated_corpus)\n",
        "\n",
        "# Step 5: Calculate TF-IDF\n",
        "words_tfidf = defaultdict(lambda: [])\n",
        "for word in vocabulary:\n",
        "    for sentence in updated_corpus:\n",
        "        tf = tf_values[sentence].get(word, 0)\n",
        "        tf_idf = tf * idf_values[word]  # Calculate the TF-IDF value\n",
        "        words_tfidf[word].append(tf_idf)"
      ],
      "metadata": {
        "id": "9moqoorw3S8U"
      },
      "execution_count": 91,
      "outputs": []
    },
    {
      "cell_type": "code",
      "source": [
        "# Iterate through the words_tfidf dictionary\n",
        "for word, tfidf_scores in words_tfidf.items():\n",
        "  # Calculate the average TF-IDF score for the word across all sentences\n",
        "  average_tfidf = sum(tfidf_scores) / len(tfidf_scores) if tfidf_scores else 0\n",
        "  # Store the word and its average TF-IDF score as a tuple\n",
        "  words_tfidf[word] = average_tfidf\n",
        "\n",
        "\n",
        "# Sort the dictionary by TF-IDF scores in descending order\n",
        "sorted_words_tfidf = dict(sorted(words_tfidf.items(), key=lambda item: item[1], reverse=True))\n",
        "\n",
        "# Get the top 10 words with their TF-IDF scores\n",
        "top_10_words = list(sorted_words_tfidf.items())[:10]\n",
        "\n",
        "# Print the top 10 words and their TF-IDF scores\n",
        "print(\"Top 10 words and their TF-IDF scores:\")\n",
        "for word, tfidf_score in top_10_words:\n",
        "    print(f\"{word}: {tfidf_score:.4f}\")\n"
      ],
      "metadata": {
        "colab": {
          "base_uri": "https://localhost:8080/"
        },
        "id": "BJZgmTwt3b4r",
        "outputId": "fb5bad73-f8fd-4720-a16d-c193221243a1"
      },
      "execution_count": 92,
      "outputs": [
        {
          "output_type": "stream",
          "name": "stdout",
          "text": [
            "Top 10 words and their TF-IDF scores:\n",
            "_: 0.0444\n",
            "اپ: 0.0386\n",
            "نوٹس: 0.0325\n",
            "صاحب: 0.0306\n",
            "اب: 0.0267\n",
            "ارمی: 0.0234\n",
            "چیف: 0.0227\n",
            "عزت: 0.0221\n",
            "خان: 0.0214\n",
            "جی: 0.0210\n"
          ]
        }
      ]
    },
    {
      "cell_type": "code",
      "source": [
        "TFIDF_WORDS=pd.DataFrame(words_tfidf, index=[0]) # Added index=[0]\n",
        "TFIDF_WORDS.head(10)"
      ],
      "metadata": {
        "colab": {
          "base_uri": "https://localhost:8080/",
          "height": 110
        },
        "id": "s6V5MWGC7rXH",
        "outputId": "e4be3cc5-e4b2-4dae-c473-7033d135be55"
      },
      "execution_count": 97,
      "outputs": [
        {
          "output_type": "execute_result",
          "data": {
            "text/plain": [
              "      لینے      شادی     فسادن      ٹھیک      کوجی     چاہیے        چل  \\\n",
              "0  0.00381  0.002543  0.003775  0.006995  0.002368  0.010707  0.005148   \n",
              "\n",
              "    مہمانوں     کھانا       سرو  ...      ٹکور      قادر  پارلیمنٹ     چلاتے  \\\n",
              "0  0.001364  0.006891  0.000798  ...  0.000653  0.000327  0.000327  0.000327   \n",
              "\n",
              "     پوچھتے     تواڈا     بنایا      کریے      اوہی      اندا  \n",
              "0  0.000327  0.001796  0.000513  0.000513  0.000513  0.000513  \n",
              "\n",
              "[1 rows x 3615 columns]"
            ],
            "text/html": [
              "\n",
              "  <div id=\"df-86c3e785-80cc-45e3-83c1-ab4f796ad520\" class=\"colab-df-container\">\n",
              "    <div>\n",
              "<style scoped>\n",
              "    .dataframe tbody tr th:only-of-type {\n",
              "        vertical-align: middle;\n",
              "    }\n",
              "\n",
              "    .dataframe tbody tr th {\n",
              "        vertical-align: top;\n",
              "    }\n",
              "\n",
              "    .dataframe thead th {\n",
              "        text-align: right;\n",
              "    }\n",
              "</style>\n",
              "<table border=\"1\" class=\"dataframe\">\n",
              "  <thead>\n",
              "    <tr style=\"text-align: right;\">\n",
              "      <th></th>\n",
              "      <th>لینے</th>\n",
              "      <th>شادی</th>\n",
              "      <th>فسادن</th>\n",
              "      <th>ٹھیک</th>\n",
              "      <th>کوجی</th>\n",
              "      <th>چاہیے</th>\n",
              "      <th>چل</th>\n",
              "      <th>مہمانوں</th>\n",
              "      <th>کھانا</th>\n",
              "      <th>سرو</th>\n",
              "      <th>...</th>\n",
              "      <th>ٹکور</th>\n",
              "      <th>قادر</th>\n",
              "      <th>پارلیمنٹ</th>\n",
              "      <th>چلاتے</th>\n",
              "      <th>پوچھتے</th>\n",
              "      <th>تواڈا</th>\n",
              "      <th>بنایا</th>\n",
              "      <th>کریے</th>\n",
              "      <th>اوہی</th>\n",
              "      <th>اندا</th>\n",
              "    </tr>\n",
              "  </thead>\n",
              "  <tbody>\n",
              "    <tr>\n",
              "      <th>0</th>\n",
              "      <td>0.00381</td>\n",
              "      <td>0.002543</td>\n",
              "      <td>0.003775</td>\n",
              "      <td>0.006995</td>\n",
              "      <td>0.002368</td>\n",
              "      <td>0.010707</td>\n",
              "      <td>0.005148</td>\n",
              "      <td>0.001364</td>\n",
              "      <td>0.006891</td>\n",
              "      <td>0.000798</td>\n",
              "      <td>...</td>\n",
              "      <td>0.000653</td>\n",
              "      <td>0.000327</td>\n",
              "      <td>0.000327</td>\n",
              "      <td>0.000327</td>\n",
              "      <td>0.000327</td>\n",
              "      <td>0.001796</td>\n",
              "      <td>0.000513</td>\n",
              "      <td>0.000513</td>\n",
              "      <td>0.000513</td>\n",
              "      <td>0.000513</td>\n",
              "    </tr>\n",
              "  </tbody>\n",
              "</table>\n",
              "<p>1 rows × 3615 columns</p>\n",
              "</div>\n",
              "    <div class=\"colab-df-buttons\">\n",
              "\n",
              "  <div class=\"colab-df-container\">\n",
              "    <button class=\"colab-df-convert\" onclick=\"convertToInteractive('df-86c3e785-80cc-45e3-83c1-ab4f796ad520')\"\n",
              "            title=\"Convert this dataframe to an interactive table.\"\n",
              "            style=\"display:none;\">\n",
              "\n",
              "  <svg xmlns=\"http://www.w3.org/2000/svg\" height=\"24px\" viewBox=\"0 -960 960 960\">\n",
              "    <path d=\"M120-120v-720h720v720H120Zm60-500h600v-160H180v160Zm220 220h160v-160H400v160Zm0 220h160v-160H400v160ZM180-400h160v-160H180v160Zm440 0h160v-160H620v160ZM180-180h160v-160H180v160Zm440 0h160v-160H620v160Z\"/>\n",
              "  </svg>\n",
              "    </button>\n",
              "\n",
              "  <style>\n",
              "    .colab-df-container {\n",
              "      display:flex;\n",
              "      gap: 12px;\n",
              "    }\n",
              "\n",
              "    .colab-df-convert {\n",
              "      background-color: #E8F0FE;\n",
              "      border: none;\n",
              "      border-radius: 50%;\n",
              "      cursor: pointer;\n",
              "      display: none;\n",
              "      fill: #1967D2;\n",
              "      height: 32px;\n",
              "      padding: 0 0 0 0;\n",
              "      width: 32px;\n",
              "    }\n",
              "\n",
              "    .colab-df-convert:hover {\n",
              "      background-color: #E2EBFA;\n",
              "      box-shadow: 0px 1px 2px rgba(60, 64, 67, 0.3), 0px 1px 3px 1px rgba(60, 64, 67, 0.15);\n",
              "      fill: #174EA6;\n",
              "    }\n",
              "\n",
              "    .colab-df-buttons div {\n",
              "      margin-bottom: 4px;\n",
              "    }\n",
              "\n",
              "    [theme=dark] .colab-df-convert {\n",
              "      background-color: #3B4455;\n",
              "      fill: #D2E3FC;\n",
              "    }\n",
              "\n",
              "    [theme=dark] .colab-df-convert:hover {\n",
              "      background-color: #434B5C;\n",
              "      box-shadow: 0px 1px 3px 1px rgba(0, 0, 0, 0.15);\n",
              "      filter: drop-shadow(0px 1px 2px rgba(0, 0, 0, 0.3));\n",
              "      fill: #FFFFFF;\n",
              "    }\n",
              "  </style>\n",
              "\n",
              "    <script>\n",
              "      const buttonEl =\n",
              "        document.querySelector('#df-86c3e785-80cc-45e3-83c1-ab4f796ad520 button.colab-df-convert');\n",
              "      buttonEl.style.display =\n",
              "        google.colab.kernel.accessAllowed ? 'block' : 'none';\n",
              "\n",
              "      async function convertToInteractive(key) {\n",
              "        const element = document.querySelector('#df-86c3e785-80cc-45e3-83c1-ab4f796ad520');\n",
              "        const dataTable =\n",
              "          await google.colab.kernel.invokeFunction('convertToInteractive',\n",
              "                                                    [key], {});\n",
              "        if (!dataTable) return;\n",
              "\n",
              "        const docLinkHtml = 'Like what you see? Visit the ' +\n",
              "          '<a target=\"_blank\" href=https://colab.research.google.com/notebooks/data_table.ipynb>data table notebook</a>'\n",
              "          + ' to learn more about interactive tables.';\n",
              "        element.innerHTML = '';\n",
              "        dataTable['output_type'] = 'display_data';\n",
              "        await google.colab.output.renderOutput(dataTable, element);\n",
              "        const docLink = document.createElement('div');\n",
              "        docLink.innerHTML = docLinkHtml;\n",
              "        element.appendChild(docLink);\n",
              "      }\n",
              "    </script>\n",
              "  </div>\n",
              "\n",
              "\n",
              "    </div>\n",
              "  </div>\n"
            ],
            "application/vnd.google.colaboratory.intrinsic+json": {
              "type": "dataframe",
              "variable_name": "TFIDF_WORDS"
            }
          },
          "metadata": {},
          "execution_count": 97
        }
      ]
    },
    {
      "cell_type": "markdown",
      "source": [
        "Now Word2Vec"
      ],
      "metadata": {
        "id": "QFMDZeex8iG0"
      }
    },
    {
      "cell_type": "code",
      "source": [
        "from gensim.models import Word2Vec"
      ],
      "metadata": {
        "id": "TARdCYYe9L6j"
      },
      "execution_count": 99,
      "outputs": []
    },
    {
      "cell_type": "code",
      "source": [
        "updated_corpus[:20]"
      ],
      "metadata": {
        "colab": {
          "base_uri": "https://localhost:8080/"
        },
        "id": "nH055XHg9g-5",
        "outputId": "9dd9995f-f000-426a-dfcb-2754786f5834"
      },
      "execution_count": 102,
      "outputs": [
        {
          "output_type": "execute_result",
          "data": {
            "text/plain": [
              "['لینے شادی فسادن ٹھیک کوجی چاہیے',\n",
              " 'چل مہمانوں کھانا سرو چڑیل چاچی نوں دسدی اں',\n",
              " 'کامران خان اپکی دن بھریہ زمہ داری لگائی اپوزیشن کردار کشی اوراس پربھونکناہےاپ خوشامدگری وچاپلوسی سےاورکتنی دولت کماناچاہتےہیں موٹرسائیکل سےپیجارو پراڈو کےسفرمیں ضمیرکی لاش سےاٹھتی بدبواپ ناک بند نوٹ اپ سےالتجاگزارش ہےہمیں فالوکریں شکریہ',\n",
              " 'مراد علی شاہ بھیس ڈی جی ائی ایس ائی حامد میر',\n",
              " 'قابل اعتبار اکثر قاتل اعتبار',\n",
              " 'انساں تھکا سوچوں سفر',\n",
              " 'حامد میر صاحب ویلڈن',\n",
              " 'یار وچارہ ویلا ہوندا ارے ہویا تسی تے پکے نجومی منندے',\n",
              " 'سمجھنا سارا پاکستان بیوقوف ھے',\n",
              " 'تسی لڑاںٔی کروانی ساڈی',\n",
              " 'پائن دوبارہ فالو کرئیے',\n",
              " 'کتنی مہنگائی الو دوسو روپے درجن کدو ۸۰روپے گز ISPR',\n",
              " 'عشق راس اۓ زخم کھاٶ مسکراٶ',\n",
              " 'چونا',\n",
              " 'خاتم _ النبیین _ محمدﷺ Surat ۷۳ سورة المزمل Ayt ۲۰ حصہ۵ ترجمہ اللہ راہ لڑتے جتنا قران میسر پڑھواورنماز قائم رکھواورزکوٰة دواور اللہ اچھا قرض درود _ وقران صلی اللہ علٰی حبیبہٖ سیدنا محمد والہٖ وصحبہٖ وسلم',\n",
              " 'اب بس بیچارے بیویاں ہیے اپ تیسری ٹرائ',\n",
              " 'پتہ ہورہا بورڈ زنگ لگ',\n",
              " 'اللہ اپ رحمتوں سائے مکمل صحت یاب فرمائے',\n",
              " 'ارمی چیف نوٹس اب مجرم جرائیم خود نوٹس کرےگا',\n",
              " 'کھوتی بچیا عزت کیتی قدر کیتی شکر بونڈ نئیں ماری جے بونڈ ماری ہوندی تے تینوں پٹھاناں ہتھے چاڑ تے پین یکا']"
            ]
          },
          "metadata": {},
          "execution_count": 102
        }
      ]
    },
    {
      "cell_type": "code",
      "source": [
        "tokenized_corpus = [sentence.split() for sentence in updated_corpus]\n",
        "\n",
        "# Step 2: Train Word2Vec model using the tokenized corpus\n",
        "from gensim.models import Word2Vec\n",
        "\n",
        "model = Word2Vec(sentences=tokenized_corpus, vector_size=100, window=5, min_count=1, workers=4)\n",
        "\n",
        "# Save the model\n",
        "model.save(\"urdu_word2vec.model\")"
      ],
      "metadata": {
        "id": "impfCfUI87RL"
      },
      "execution_count": 106,
      "outputs": []
    },
    {
      "cell_type": "code",
      "source": [
        "similar_words = model.wv.most_similar(\"اچھا\")\n",
        "print(similar_words)"
      ],
      "metadata": {
        "colab": {
          "base_uri": "https://localhost:8080/"
        },
        "id": "VQbLKLs--GOu",
        "outputId": "5ffec1c6-ff46-4d65-87b3-c28f24274969"
      },
      "execution_count": 108,
      "outputs": [
        {
          "output_type": "stream",
          "name": "stdout",
          "text": [
            "[('ماننی', 0.3481685519218445), ('اغواء', 0.33479365706443787), ('عطر', 0.3338896334171295), ('حکومت', 0.3331184983253479), ('مقدر', 0.3285723924636841), ('صدیق', 0.3275006115436554), ('پہ', 0.31857696175575256), ('وفاق', 0.31086674332618713), ('شریف', 0.3103678226470947), ('اپ', 0.3103261888027191)]\n"
          ]
        }
      ]
    },
    {
      "cell_type": "markdown",
      "source": [
        "GRams"
      ],
      "metadata": {
        "id": "P1ch7TjvBJ2I"
      }
    },
    {
      "cell_type": "code",
      "source": [
        "#creating Bigrams vectors /embeddings from the urdu dataset"
      ],
      "metadata": {
        "id": "TNmoRrUZ_Ufp"
      },
      "execution_count": 109,
      "outputs": []
    },
    {
      "cell_type": "code",
      "source": [
        "\n",
        "bigrams = [\" \".join(pair) for pair in zip(vocabulary, vocabulary[1:])]\n",
        "print('bigrams')\n",
        "print(bigrams)\n"
      ],
      "metadata": {
        "colab": {
          "base_uri": "https://localhost:8080/"
        },
        "id": "kvmwe4rJGE0F",
        "outputId": "300c5be1-e500-457b-f363-f3cf69db6c71"
      },
      "execution_count": 119,
      "outputs": [
        {
          "output_type": "stream",
          "name": "stdout",
          "text": [
            "bigrams\n",
            "['لینے شادی', 'شادی فسادن', 'فسادن ٹھیک', 'ٹھیک کوجی', 'کوجی چاہیے', 'چاہیے چل', 'چل مہمانوں', 'مہمانوں کھانا', 'کھانا سرو', 'سرو چڑیل', 'چڑیل چاچی', 'چاچی نوں', 'نوں دسدی', 'دسدی اں', 'اں کامران', 'کامران خان', 'خان اپکی', 'اپکی دن', 'دن بھریہ', 'بھریہ زمہ', 'زمہ داری', 'داری لگائی', 'لگائی اپوزیشن', 'اپوزیشن کردار', 'کردار کشی', 'کشی اوراس', 'اوراس پربھونکناہےاپ', 'پربھونکناہےاپ خوشامدگری', 'خوشامدگری وچاپلوسی', 'وچاپلوسی سےاورکتنی', 'سےاورکتنی دولت', 'دولت کماناچاہتےہیں', 'کماناچاہتےہیں موٹرسائیکل', 'موٹرسائیکل سےپیجارو', 'سےپیجارو پراڈو', 'پراڈو کےسفرمیں', 'کےسفرمیں ضمیرکی', 'ضمیرکی لاش', 'لاش سےاٹھتی', 'سےاٹھتی بدبواپ', 'بدبواپ ناک', 'ناک بند', 'بند نوٹ', 'نوٹ اپ', 'اپ سےالتجاگزارش', 'سےالتجاگزارش ہےہمیں', 'ہےہمیں فالوکریں', 'فالوکریں شکریہ', 'شکریہ مراد', 'مراد علی', 'علی شاہ', 'شاہ بھیس', 'بھیس ڈی', 'ڈی جی', 'جی ائی', 'ائی ایس', 'ایس حامد', 'حامد میر', 'میر قابل', 'قابل اعتبار', 'اعتبار اکثر', 'اکثر قاتل', 'قاتل انساں', 'انساں تھکا', 'تھکا سوچوں', 'سوچوں سفر', 'سفر صاحب', 'صاحب ویلڈن', 'ویلڈن یار', 'یار وچارہ', 'وچارہ ویلا', 'ویلا ہوندا', 'ہوندا ارے', 'ارے ہویا', 'ہویا تسی', 'تسی تے', 'تے پکے', 'پکے نجومی', 'نجومی منندے', 'منندے سمجھنا', 'سمجھنا سارا', 'سارا پاکستان', 'پاکستان بیوقوف', 'بیوقوف ھے', 'ھے لڑاںٔی', 'لڑاںٔی کروانی', 'کروانی ساڈی', 'ساڈی پائن', 'پائن دوبارہ', 'دوبارہ فالو', 'فالو کرئیے', 'کرئیے کتنی', 'کتنی مہنگائی', 'مہنگائی الو', 'الو دوسو', 'دوسو روپے', 'روپے درجن', 'درجن کدو', 'کدو ۸۰روپے', '۸۰روپے گز', 'گز ISPR', 'ISPR عشق', 'عشق راس', 'راس اۓ', 'اۓ زخم', 'زخم کھاٶ', 'کھاٶ مسکراٶ', 'مسکراٶ چونا', 'چونا خاتم', 'خاتم _', '_ النبیین', 'النبیین محمدﷺ', 'محمدﷺ Surat', 'Surat ۷۳', '۷۳ سورة', 'سورة المزمل', 'المزمل Ayt', 'Ayt ۲۰', '۲۰ حصہ۵', 'حصہ۵ ترجمہ', 'ترجمہ اللہ', 'اللہ راہ', 'راہ لڑتے', 'لڑتے جتنا', 'جتنا قران', 'قران میسر', 'میسر پڑھواورنماز', 'پڑھواورنماز قائم', 'قائم رکھواورزکوٰة', 'رکھواورزکوٰة دواور', 'دواور اچھا', 'اچھا قرض', 'قرض درود', 'درود وقران', 'وقران صلی', 'صلی علٰی', 'علٰی حبیبہٖ', 'حبیبہٖ سیدنا', 'سیدنا محمد', 'محمد والہٖ', 'والہٖ وصحبہٖ', 'وصحبہٖ وسلم', 'وسلم اب', 'اب بس', 'بس بیچارے', 'بیچارے بیویاں', 'بیویاں ہیے', 'ہیے تیسری', 'تیسری ٹرائ', 'ٹرائ پتہ', 'پتہ ہورہا', 'ہورہا بورڈ', 'بورڈ زنگ', 'زنگ لگ', 'لگ رحمتوں', 'رحمتوں سائے', 'سائے مکمل', 'مکمل صحت', 'صحت یاب', 'یاب فرمائے', 'فرمائے ارمی', 'ارمی چیف', 'چیف نوٹس', 'نوٹس مجرم', 'مجرم جرائیم', 'جرائیم خود', 'خود کرےگا', 'کرےگا کھوتی', 'کھوتی بچیا', 'بچیا عزت', 'عزت کیتی', 'کیتی قدر', 'قدر شکر', 'شکر بونڈ', 'بونڈ نئیں', 'نئیں ماری', 'ماری جے', 'جے ہوندی', 'ہوندی تینوں', 'تینوں پٹھاناں', 'پٹھاناں ہتھے', 'ہتھے چاڑ', 'چاڑ پین', 'پین یکا', 'یکا فوج', 'فوج سیاست', 'سیاست دور', 'دور بلاول', 'بلاول زرداری', 'زرداری کراچی', 'کراچی واقعے', 'واقعے لڑکی', 'لڑکی جیتی', 'جیتی صدائیں', 'صدائیں درودوں', 'درودوں اتی', 'اتی رہینگی', 'رہینگی سن', 'سن دل', 'دل شاد', 'شاد خدا', 'خدا اہلسنت', 'اہلسنت اباد', 'اباد میلاد', 'میلاد رہیگا', 'رہیگا ﷺ', 'ﷺ Eide…', 'Eide… ووٹ', 'ووٹ بجائے', 'بجائے ووٹر', 'ووٹر ۲۰۰۴', '۲۰۰۴ نشئی', 'نشئی اسٹیبلشمنٹ', 'اسٹیبلشمنٹ کتا', 'کتا وزیراعظم', 'وزیراعظم بن', 'بن ۲۰۱۸', '۲۰۱۸ کتے', 'کتے PMبنتے', 'PMبنتے دیکھ', 'دیکھ مشکل', 'مشکل ناممکن', 'ناممکن کوشش', 'کوشش پورے', 'پورے ہفتے', 'ہفتے سالن', 'سالن روٹی', 'روٹی حال', 'حال وھ', 'وھ ھو', 'ھو بیشک', 'بیشک کیمنا', 'کیمنا حرام', 'حرام حق', 'حق بات', 'بات کتنا', 'کتنا پیسا', 'پیسا ماضی', 'ماضی انتہائی', 'انتہائی وقوف', 'وقوف سمجھدار', 'سمجھدار مریم', 'مریم نواز', 'نواز بزدارکی', 'بزدارکی پرواز', 'پرواز بیک…', 'بیک… امین', 'امین ثمہ', 'ثمہ جیتھے', 'جیتھے وتھے', 'وتھے ا', 'ا کھلوتی', 'کھلوتی اسمبلی', 'اسمبلی بغیر', 'بغیر ڈیزل', 'ڈیزل اسکو', 'اسکو گدھا', 'گدھا گدھے', 'گدھے ڈنڈے', 'ڈنڈے ضرورت', 'ضرورت عجیب', 'عجیب پنگا', 'پنگا گولیاں', 'گولیاں محو', 'محو رقص', 'رقص کوئ', 'کوئ خبر', 'خبر غلط', 'غلط سکتی', 'سکتی دروازے', 'دروازے اتارتے', 'اتارتے تھپڑ', 'تھپڑ لگاتے', 'لگاتے ویسے', 'ویسے پیر', 'پیر کلہاڑی', 'کلہاڑی مارنا', 'مارنا سیکھے', 'سیکھے دلہن', 'دلہن پھپھو', 'پھپھو ندیم', 'ندیم ملک', 'ملک بطور', 'بطور عام', 'عام پاکستانی', 'پاکستانی عزیز', 'عزیز وزیر', 'وزیر اعلیٰ', 'اعلیٰ پنجاب', 'پنجاب جناب', 'جناب عثمان', 'عثمان احمد', 'احمد بزدار', 'بزدار خلاف', 'خلاف بیان', 'بیان پرزور', 'پرزور مزمت', 'مزمت بیکار', 'بیکار قطری', 'قطری نانی', 'نانی بلو', 'بلو رانی', 'رانی ذلیل', 'ذلیل وقت', 'وقت چاہتا', 'چاہتا گیم', 'گیم بری', 'بری پھنس', 'پھنس صفدر', 'صفدر ازاد', 'ازاد واکے', 'واکے ٹوپی', 'ٹوپی ڈرامہ', 'ڈرامہ کھولے', 'کھولے ماب', 'ماب درخواست', 'درخواست حضور', 'حضور جال', 'جال بچائیں', 'بچائیں بھائیوں', 'بھائیوں ویلکم', 'ویلکم بہنوں', 'بہنوں کرا', 'کرا نہیںبلی', 'نہیںبلی دیکھو', 'دیکھو زرا', 'زرا پہ', 'پہ کڑی', 'کڑی نظر', 'نظر موٹی', 'موٹی ٹویٹ', 'ٹویٹ ایتھے', 'ایتھے جج', 'جج اک', 'اک محترمہ', 'محترمہ پاک', 'پاک بکواس', 'بکواس رات', 'رات فوجی', 'فوجی ساتھ', 'ساتھ گل', 'گل لگتا', 'لگتا انکے', 'انکے دیوتا', 'دیوتا پورا', 'پورا لکیروں', 'لکیروں سہارے', 'سہارے سوچتا', 'سوچتا بولتا', 'بولتا ہاہاہاہاہاہاہاہاہاہاہااہاہاہاہا', 'ہاہاہاہاہاہاہاہاہاہاہااہاہاہاہا لگدا', 'لگدا مینوں', 'مینوں ای', 'ای قربانی', 'قربانی پڑنی', 'پڑنی الٹی', 'الٹی کھوپڑی', 'کھوپڑی کان', 'کان سنو', 'سنو دوسرے', 'دوسرے نکال', 'نکال سنا', 'سنا ۱', '۱ اکیلا', 'اکیلا ۱۱', '۱۱ گیارہ', 'گیارہ تاریخ', 'تاریخ پہلی', 'پہلی دفعہ', 'دفعہ برباد', 'برباد کردیا', 'کردیا واہ', 'واہ زندگی', 'زندگی مصروف', 'مصروف اتنا', 'اتنا بھول', 'بھول یاد', 'یاد اردو', 'اردو زبان', 'زبان ہور', 'ہور ٹرک', 'ٹرک انا', 'انا ملوث', 'ملوث سندھ', 'سندھ پولیس', 'پولیس حوالے', 'حوالے وچ', 'وچ کہڑہ', 'کہڑہ جوک', 'جوک جنابچھڈو', 'جنابچھڈو رھن', 'رھن دیو', 'دیو تہانوں', 'تہانوں دا', 'دا پتا', 'پتا اج', 'اج استعفی', 'استعفی لکھنا', 'لکھنا ایا', 'ایا اگلے', 'اگلے جنم', 'جنم مل', 'مل پریس', 'پریس کانفرنس', 'کانفرنس صبح', 'صبح واقعات', 'واقعات بابت', 'بابت کور', 'کور کمانڈر', 'کمانڈر تحقیقات', 'تحقیقات رپورٹ', 'رپورٹ پیش', 'پیش حکم', 'حکم حکومت', 'حکومت IG', 'IG زبردست', 'زبردست چھٹیوں', 'چھٹیوں بھیجا', 'بھیجا کھیل', 'کھیل مزید', 'مزید دلچسپ', 'دلچسپ جلسے', 'جلسے لوگوں', 'لوگوں بلالیا', 'بلالیا مرگیا', 'مرگیا اسکی', 'اسکی برسی', 'برسی محبت', 'محبت وراثت', 'وراثت ملتی', 'ملتی تلاش', 'تلاش پڑتی', 'پڑتی ادب', 'ادب نوازش', 'نوازش دوسروں', 'دوسروں جلنے', 'جلنے بہتر', 'بہتر یے', 'یے بیویوں', 'بیویوں خرچہ', 'خرچہ پارلر', 'پارلر مارخورز', 'مارخورز سعید', 'سعید غنی', 'غنی عمران', 'عمران سازش', 'سازش الحمدللہ', 'الحمدللہ بےنقاب', 'بےنقاب صافی', 'صافی پوچھوں', 'پوچھوں بلاک', 'بلاک سچ', 'سچ بتائو', 'بتائو تبدیلی', 'تبدیلی ارہی', 'ارہی لفافی', 'لفافی صحافی', 'صحافی ہاہاہاہاہاہا', 'ہاہاہاہاہاہا چالیس', 'چالیس سالہ', 'سالہ صحافت', 'صحافت بلتکار', 'بلتکار مولا', 'مولا خوش', 'خوش دراصل', 'دراصل ٹکلا', 'ٹکلا انکل', 'انکل چمہ', 'چمہ بیچ', 'بیچ نانا', 'نانا اگئے', 'اگئے اوئے', 'اوئے غائب', 'غائب لوگ', 'لوگ ائے', 'ائے ہا', 'ہا اہو', 'اہو پشاور', 'پشاور ہاٸیکورٹ', 'ہاٸیکورٹ لیگی', 'لیگی رہنما', 'رہنما امیر', 'امیر مقام', 'مقام FIA', 'FIA کیسز', 'کیسز سفارشات', 'سفارشات رد', 'رد باعزت', 'باعزت لینا', 'لینا ھی', 'ھی ھوا', 'ھوا دودھ', 'دودھ راکھا', 'راکھا بلا', 'بلا چراغ', 'چراغ تلے', 'تلے اندھیرا', 'اندھیرا ۶', '۶ بسکٹ', 'بسکٹ گن', 'گن معافی', 'معافی دیندے', 'دیندے قوم', 'قوم غلامی', 'غلامی رسول', 'رسول موت', 'موت قبول', 'قبول مصطفی', 'مصطفی فضول', 'فضول حضورصلى', 'حضورصلى الله', 'الله عليه', 'عليه النبيين', 'النبيين صلى', 'صلى نبی', 'نبی شک', 'شک بیرونی', 'بیرونی دوست', 'دوست مدد', 'مدد لٸے', 'لٸے تیار', 'تیار بیٹھے', 'بیٹھے ہمیں', 'ہمیں پوچھنا', 'پوچھنا چھٹی', 'چھٹی لکھ', 'لکھ شغل', 'شغل میلہ', 'میلہ لان', 'لان دؤ', 'دؤ توانوں', 'توانوں فالورز', 'فالورز بڑھانے', 'بڑھانے تشریف', 'تشریف محسوس', 'محسوس دیوار', 'دیوار حکیم', 'حکیم اشتہار', 'اشتہار ٹوئیٹر', 'ٹوئیٹر دواخانہ', 'دواخانہ غیرتوں', 'غیرتوں جاہلوں', 'جاہلوں سوا', 'سوا نیازی', 'نیازی ہارون', 'ہارون رشید', 'رشید StandWithSindhPolice', 'StandWithSindhPolice فلاسفی', 'فلاسفی کھلے', 'کھلے بولا', 'بولا مائی', 'مائی لارڈ', 'لارڈ ڈیر', 'ڈیر خکولے', 'خکولے ماشاءالله', 'ماشاءالله دیکھنا', 'دیکھنا کافی', 'کافی مقدار', 'مقدار پاپ', 'پاپ کارن', 'کارن منگوا', 'منگوا اواز', 'اواز قائد', 'قائد اعظم', 'اعظم لوگو', 'لوگو فون', 'فون پوچھ', 'پوچھ مزار', 'مزار داخل', 'داخل تعجب', 'تعجب جانتا', 'جانتا کہنے', 'کہنے کاروائی', 'کاروائی چلو', 'چلو ریلیف', 'ریلیف ملے', 'ملے صف', 'صف شامل', 'شامل ھوگیا', 'ھوگیا ھمارا', 'ھمارا نعرہ', 'نعرہ حسن', 'حسن اتفاق', 'اتفاق گلی', 'گلی کام', 'کام معاملہ', 'معاملہ بولے', 'بولے ڈمی', 'ڈمی PM', 'PM لطیفے', 'لطیفے کپتان', 'کپتان میراثی', 'میراثی مرغے', 'مرغے نام', 'نام وردی', 'وردی اتار', 'اتار کہیں', 'کہیں مرد', 'مرد جوانی', 'جوانی اعمال', 'اعمال بیٹی', 'بیٹی قسمت', 'قسمت ساقی', 'ساقی بستا', 'بستا وجود', 'وجود سلطنت', 'سلطنت رگ', 'رگ لفظ', 'لفظ تشریح', 'تشریح غریب', 'غریب ڈھنگی', 'ڈھنگی پرواہ', 'پرواہ مخلوق', 'مخلوق عرض', 'عرض کیلئے', 'کیلئے ڈھنگ', 'ڈھنگ کھسم', 'کھسم مر', 'مر نئ', 'نئ سکون', 'سکون عطا', 'عطا فرماۓ', 'فرماۓ ثم', 'ثم ایناں', 'ایناں نی', 'نی جیناں', 'جیناں اویا', 'اویا ملازم', 'ملازم تنخواہ', 'تنخواہ تولہ', 'تولہ سونے', 'سونے برابر', 'برابر بیغیرت', 'بیغیرت چوک', 'چوک در', 'در کہتے', 'کہتے کٹھ', 'کٹھ پتلی', 'پتلی فیصلے', 'فیصلے انتقام', 'انتقام جلدی', 'جلدی سوچ', 'سوچ بدزبان', 'بدزبان بد', 'بد کلام', 'کلام چوہان', 'چوہان ٹائیگر', 'ٹائیگر نامی', 'نامی لگام', 'لگام BachaKhanOurHero', 'BachaKhanOurHero دماغ', 'دماغ گرد', 'گرد گھومتے', 'گھومتے موجودگی', 'موجودگی ضروری', 'ضروری استعمال', 'استعمال عورت', 'عورت اتنی', 'اتنی وفا', 'وفا جنت', 'جنت خواب', 'خواب جبکہ', 'جبکہ پہلو', 'پہلو بیٹھا', 'بیٹھا تین', 'تین کسطرح', 'کسطرح سانوں', 'سانوں بھل', 'بھل سکدے', 'سکدے ملی', 'ملی ہنھ', 'ہنھ نہی', 'نہی بدلے', 'بدلے چکا', 'چکا ن', 'ن لیک', 'لیک گنجے', 'گنجے مخالف', 'مخالف تقریر', 'تقریر کروائ', 'کروائ گنجی', 'گنجی اجازت', 'اجازت پوسٹر', 'پوسٹر نیچے', 'نیچے پیپلزپارٹی', 'پیپلزپارٹی لکھوا', 'لکھوا بینرز', 'بینرز وائرل', 'وائرل جوائ', 'جوائ گرفتار', 'گرفتار کروا', 'کروا اتحاد', 'اتحاد بینڈ', 'بینڈ بجائ', 'بجائ جارہی', 'جارہی گشتی', 'گشتی پاگل', 'پاگل ہوگی', 'ہوگی سیریس', 'سیریس شام', 'شام جتنے', 'جتنے ریٹویٹ', 'ریٹویٹ سپیشل', 'سپیشل پروموشن', 'پروموشن لسٹ', 'لسٹ گاجلدی', 'گاجلدی گارنٹی', 'گارنٹی ف…', 'ف… سرعام', 'سرعام گوئ', 'گوئ ہنر', 'ہنر پایا', 'پایا ع', 'ع جگر', 'جگر وچلے', 'وچلے ذرائع', 'ذرائع مطابق', 'مطابق کپٹن', 'کپٹن ۱۹۹۲', '۱۹۹۲ بدلہ', 'بدلہ CompromiseGames', 'CompromiseGames پٹواریوں', 'پٹواریوں مادرملت', 'مادرملت بنا', 'بنا سوار', 'سوار سواری', 'سواری نکما', 'نکما کیپٹن', 'کیپٹن صفدو', 'صفدو گجر', 'گجر طیارہ', 'طیارہ وڑائچ', 'وڑائچ چیمہ', 'چیمہ خدمت', 'خدمت نیو', 'نیو لیول', 'لیول انسانوں', 'انسانوں ملا', 'ملا حساب', 'حساب کتوں', 'کتوں ہوگا', 'ہوگا باجوا', 'باجوا چھاتی', 'چھاتی قریب', 'قریب میڈل', 'میڈل دیکھے', 'دیکھے پچھلے', 'پچھلے چار', 'چار سالوں', 'سالوں سےاتنا', 'سےاتنا فتح', 'فتح کشمیر', 'کشمیر اسکے', 'اسکے بائیں', 'بائیں ہاتھ', 'ہاتھ راکٹ', 'راکٹ سائنس', 'سائنس جیو', 'جیو شیرنی', 'شیرنی مشیروں', 'مشیروں وزیروں', 'وزیروں نیند', 'نیند پنڈی', 'پنڈی بواے', 'بواے کال', 'کال گئ', 'گئ zabardast', 'zabardast رابطے', 'رابطے شفاء', 'شفاء روح', 'روح انتہا', 'انتہا چوری', 'چوری خوب', 'خوب کمال', 'کمال مسکرانا', 'مسکرانا ھمیں', 'ھمیں ڈوبا', 'ڈوبا ۴٢٠', '۴٢٠ زنبیل', 'زنبیل دفن', 'دفن اڑ', 'اڑ ماتحت', 'ماتحت بنانا', 'بنانا اسان', 'اسان ٹرکوں', 'ٹرکوں پیچھے', 'پیچھے سلام', 'سلام مادر', 'مادر ملت', 'ملت زلت', 'زلت افتخار', 'افتخار ٹھاکر', 'ٹھاکر سٹائل', 'سٹائل بھٹو', 'بھٹو پوچھنے', 'پوچھنے بتانے', 'بتانے ضروت', 'ضروت کل', 'کل کہاں', 'کہاں گزاری', 'گزاری چنگچی', 'چنگچی ڈھونڈ', 'ڈھونڈ بیانیہ', 'بیانیہ گھر', 'گھر پہنچائیں', 'پہنچائیں انقلاب', 'انقلاب بریکنگ', 'بریکنگ نیوز', 'نیوز کامیاب', 'کامیاب جلسوں', 'جلسوں نکے', 'نکے ابا', 'ابا استعفے', 'استعفے شروع', 'شروع مبارک', 'مبارک ریاست', 'ریاست …', '… ڈوبے', 'ڈوبے اصل', 'اصل لفافے', 'لفافے خونی', 'خونی لبرل', 'لبرل روز', 'روز جھوٹ', 'جھوٹ بولتے', 'بولتے سوتے', 'سوتے عادت', 'عادت غم', 'غم شب', 'شب ارزو', 'ارزو چاہ', 'چاہ اجڑ', 'اجڑ بسا', 'بسا بچھڑ', 'بچھڑ علاؤہ', 'علاؤہ دنیا', 'دنیا سچی', 'سچی مطلب', 'مطلب کنوارا', 'کنوارا مروں', 'مروں سمجھ', 'سمجھ ارہا', 'ارہا ۹', '۹ بجے', 'بجے خبریں', 'خبریں فلم', 'فلم سنگم', 'سنگم طبعیت', 'طبعیت خراب', 'خراب ہوگئی', 'ہوگئی بھونکنے', 'بھونکنے ائ', 'ائ دباو', 'دباو گورنمنٹ', 'گورنمنٹ وفاق', 'وفاق پہر', 'پہر بھر', 'بھر بھونک', 'بھونک ضرور', 'ضرور غور', 'غور پانی', 'پانی ختم', 'ختم پرائمری', 'پرائمری سکول', 'سکول بچہ', 'بچہ منٹ', 'منٹ اشتاد', 'اشتاد پی', 'پی اواں', 'اواں اغواکاروں', 'اغواکاروں چنگل', 'چنگل کرانا', 'کرانا کاکا', 'کاکا عدت', 'عدت پوری', 'پوری عوام', 'عوام مدت', 'مدت ترجمان', 'ترجمان گھٹیا', 'گھٹیا باتیں', 'باتیں اندر', 'اندر اوپر', 'اوپر درست', 'درست رویہ', 'رویہ قسمیں', 'قسمیں انج', 'انج چھوٹنے', 'چھوٹنے موسمیات', 'موسمیات زرتاج', 'زرتاج اظہار', 'اظہار اطمینان', 'اطمینان ھاھاھاھاھااو', 'ھاھاھاھاھااو خیر', 'خیر پاٸیا', 'پاٸیا فیاض', 'فیاض نال', 'نال پٸے', 'پٸے کردے', 'کردے جونی', 'جونی نٸیں', 'نٸیں جماعت', 'جماعت اسلامی', 'اسلامی جلوس', 'جلوس تحریک', 'تحریک طور', 'طور نوکر', 'نوکر شاہی', 'شاہی دلالی', 'دلالی ایم', 'ایم مخالفت', 'مخالفت ھاھاھاھا', 'ھاھاھاھا توں', 'توں مزے', 'مزے ماہیا', 'ماہیا ہن', 'ہن انیل', 'انیل کپورے', 'کپورے کہنا', 'کہنا نامراد', 'نامراد کہی', 'کہی دوسری', 'دوسری کھڑی', 'کھڑی فراغت', 'فراغت میاں', 'میاں ساب', 'ساب شیر', 'شیر ثابت', 'ثابت پونچھ', 'پونچھ لگوانے', 'لگوانے سرجری', 'سرجری روانہ', 'روانہ ذرایع', 'ذرایع حامڈ', 'حامڈ میڑ', 'میڑ جلد', 'جلد سوفٹ', 'سوفٹ ویئر', 'ویئر ڈیٹ', 'ڈیٹ شیخ', 'شیخ خودکش', 'خودکش گھنٹے', 'گھنٹے اپنوں', 'اپنوں نقصان', 'نقصان پہنچانے', 'پہنچانے نظرتوصرف', 'نظرتوصرف لڑکیوں', 'لڑکیوں کولگتی', 'کولگتی لڑکوں', 'لڑکوں پیچھےتوجب', 'پیچھےتوجب لگتے', 'لگتے زادی', 'زادی بستی', 'بستی ملنا', 'ملنا بار', 'بار منیر', 'منیر الیکشن', 'الیکشن امیدوار', 'امیدوار کمشنر', 'کمشنر نو', 'نو گولی', 'گولی مار', 'مار دیندا', 'دیندا لگھڑ', 'لگھڑ بھگڑ', 'بھگڑ کروایا', 'کروایا پلے', 'پلے ھیں', 'ھیں حیرت', 'حیرت انکو', 'انکو اعتراض', 'اعتراض کریڈٹ', 'کریڈٹ پڑے', 'پڑے بهی', 'بهی یوتھیے', 'یوتھیے بےچارے', 'بےچارے فی', 'فی سبیل', 'سبیل ہيں', 'ہيں مان', 'مان مرشد', 'مرشد تیر', 'تیر ميں', 'ميں شکار', 'شکار StateAboveStateRejected', 'StateAboveStateRejected IGSindh', 'IGSindh نیا', 'نیا گانا', 'گانا ریلیز', 'ریلیز کتی', 'کتی جئ', 'جئ زنانی', 'زنانی رول', 'رول جھاد', 'جھاد مجاد', 'مجاد جناح', 'جناح رح', 'رح نہیںتم', 'نہیںتم چھٹیاں', 'چھٹیاں بتا', 'بتا شرم', 'شرم انی', 'انی چاہیےقانون', 'چاہیےقانون عمل', 'عمل گیایہ', 'گیایہ باپ', 'باپ ہےیہ', 'ہےیہ پاکستانیوں', 'پاکستانیوں وطن', 'وطن ہےاب', 'ہےاب داماد', 'داماد مچھ', 'مچھ جیل', 'جیل تھاقانون', 'تھاقانون پڑھو', 'پڑھو اخر', 'اخر ماموں', 'ماموں بیٹے', 'بیٹے کلاس', 'کلاس باخدا', 'باخدا یقین', 'یقین اتا', 'اتا لڑکا', 'لڑکا Geo', 'Geo News', 'News پروگرام', 'پروگرام پکا', 'پکا اصلی', 'اصلی بیٹا', 'بیٹا بندوق', 'بندوق ذیادہ', 'ذیادہ طاقت', 'طاقت قلم', 'قلم کیمرے', 'کیمرے شرط', 'شرط کیمرا', 'کیمرا بکے', 'بکے دلال', 'دلال اعوان', 'اعوان جذباتی', 'جذباتی ایہہ', 'ایہہ کم', 'کم پیندا', 'پیندا سارے', 'سارے بابر', 'بابر فردوس', 'فردوس عاشق', 'عاشق ہوندے', 'ہوندے پچیس', 'پچیس پیچش', 'پیچش سال', 'سال اذان', 'اذان سننےسے', 'سننےسے ذہنی', 'ذہنی بیماریوں', 'بیماریوں نجات', 'نجات بدتمیزی', 'بدتمیزی مت', 'مت گھبرائیں', 'گھبرائیں تعارف', 'تعارف کرواتے', 'کرواتے سمجھداری', 'سمجھداری پہچان', 'پہچان اگے', 'اگے مرادعلی', 'مرادعلی سےپوچھے', 'سےپوچھے اریحائی', 'اریحائی ملازمت', 'ملازمت چھوڑ', 'چھوڑ کھیتی', 'کھیتی باڑی', 'باڑی ارائیوں', 'ارائیوں پیشہ', 'پیشہ ذراعت', 'ذراعت باغ', 'باغ بانی', 'بانی پیاز', 'پیاز اگانے', 'اگانے کھانے', 'کھانے کوپیاز', 'کوپیاز تڑکا', 'تڑکا لگانے', 'لگانے طریقہ', 'طریقہ اقوام', 'اقوام سیکھا', 'سیکھا ارائیں', 'ارائیں عربی', 'عربی نسل', 'نسل عرب', 'عرب عجم', 'عجم انکی', 'انکی تہذیب', 'تہذیب نمائیاں', 'نمائیاں فرق', 'فرق نشہ', 'نشہ شاہین', 'شاہین واقعی', 'واقعی مزہ', 'مزہ حیدر', 'حیدر بھائی', 'بھائی پیارے', 'پیارے انسان', 'انسان بےوفا', 'بےوفا مانا', 'مانا تیرا', 'تیرا بنتا', 'بنتا فیصل', 'فیصل واوڈا', 'واوڈا ترین', 'ترین اعلان', 'اعلان انڈیا', 'انڈیا سوگ', 'سوگ انرت', 'انرت ہوگیا', 'ہوگیا ہمیشہ', 'ہمیشہ دیوالی', 'دیوالی مانتا', 'مانتا انڈین', 'انڈین جان', 'جان ڈھائی', 'ڈھائی ہزار', 'ہزار کرسیوں', 'کرسیوں پانچ', 'پانچ لاکھ', 'لاکھ افراد', 'افراد بٹھانے', 'بٹھانے ذمہ', 'ذمہ عاصمہ', 'عاصمہ شیرازی', 'شیرازی سلیم', 'سلیم اٹھتی', 'اٹھتی کالج', 'کالج ۵', '۵ منت', 'منت ٹویٹر', 'ٹویٹر بخیر', 'بخیر سکوں', 'سکوں لیٹ', 'لیٹ پاتی', 'پاتی وین', 'وین اورمیں', 'اورمیں بھاگ', 'بھاگ گانڈو', 'گانڈو بھڑوے', 'بھڑوے کنجر', 'کنجر نشئ', 'نشئ چور', 'چور اچکے', 'اچکے حرامخور', 'حرامخور کرپٹ', 'کرپٹ زانی', 'زانی پالشیئے', 'پالشیئے ھمارے', 'ھمارے جلانے', 'جلانے یوے', 'یوے انے', 'انے لفافہ', 'لفافہ کتنے', 'کتنے نیک', 'نیک پیپلز', 'پیپلز پارٹی', 'پارٹی نون', 'نون لیگ', 'لیگ مولانا', 'مولانا فضل', 'فضل ا…', 'ا… بڑوں', 'بڑوں لڑائی', 'لڑائی خوشی', 'خوشی اچھل', 'اچھل رھے', 'رھے ھوتابعدار', 'ھوتابعدار نوازشریف', 'نوازشریف اعزاز', 'اعزاز حاصل', 'حاصل لوئر', 'لوئر پاپولر', 'پاپولر ھورھا', 'ھورھا وؤٹ', 'وؤٹ بندہ', 'بندہ بوٹ', 'بوٹ چاٹ', 'چاٹ تھکتا', 'تھکتا شاعر', 'شاعر ائو', 'ائو اکٹھے', 'اکٹھے ڈوبتے', 'ڈوبتے ڈوبنا', 'ڈوبنا پٹوارن', 'پٹوارن بیغیرتوں', 'بیغیرتوں افسوس', 'افسوس محض', 'محض ڈرامے', 'ڈرامے مبنی', 'مبنی راء', 'راء ٹکڑوں', 'ٹکڑوں پلنے', 'پلنے خاص', 'خاص بھونکنا', 'بھونکنا پھونکی', 'پھونکی ہٹے', 'ہٹے شکوے', 'شکوے برا', 'برا چاہنا', 'چاہنا تربیت', 'تربیت اپس', 'اپس چے', 'چے فساد', 'فساد پے', 'پے جانا', 'جانا وا', 'وا صحافیوں', 'صحافیوں کھسرے', 'کھسرے اوزار', 'اوزار دئے', 'دئے جونسا', 'جونسا سائڈ', 'سائڈ سکو', 'سکو مثلا', 'مثلا پڑتا', 'پڑتا افسران', 'افسران چلے', 'چلے فورس', 'فورس لیئے', 'لیئے ڈاکٹر', 'ڈاکٹر شہباز', 'شہباز ہائے', 'ہائے مینو', 'مینو خور', 'خور میڈم', 'میڈم جتنی', 'جتنی لڑکیاں', 'لڑکیاں سوٹ', 'سوٹ پہن', 'پہن ماسک', 'ماسک کرونا', 'کرونا پیٹھ', 'پیٹھ برائی', 'برائی ایمانداری', 'ایمانداری کھو', 'کھو جاو', 'جاو سلیوٹ', 'سلیوٹ جہنوں', 'جہنوں دائرہ', 'دائرہ اختیار', 'اختیار اثر', 'اثر انداز', 'انداز احتجاجا', 'احتجاجا درخواستیں', 'درخواستیں جمع', 'جمع کروانا', 'کروانا کردیں', 'کردیں ITTEFAQ', 'ITTEFAQ PROMO', 'PROMO بہترین', 'بہترین فالوبیک', 'فالوبیک ٹیم', 'ٹیم خوامخواہ', 'خوامخواہ شراکت', 'شراکت ہنستے', 'ہنستے سہہ', 'سہہ سیانے', 'سیانے طریقے', 'طریقے رہیے', 'رہیے حالت', 'حالت سہی', 'سہی ۷', '۷ خون', 'خون معاف', 'معاف شخص', 'شخص گراتے', 'گراتے گر', 'گر کاٹ', 'کاٹ افراتفری', 'افراتفری پھیل', 'پھیل جنریٹر', 'جنریٹر مک', 'مک غزوہ', 'غزوہ ٹویٹس', 'ٹویٹس ڈرافٹ', 'ڈرافٹ قدرت', 'قدرت حسین', 'حسین مورت', 'مورت جانچنے', 'جانچنے بیٹھوں', 'بیٹھوں صدیاں', 'صدیاں پڑ', 'پڑ ادائے', 'ادائے سخن', 'سخن جبیں', 'جبیں چھونے', 'چھونے دھرتی', 'دھرتی ٹکرا', 'ٹکرا ناز', 'ناز چھو', 'چھو ازلوں', 'ازلوں بیمار', 'بیمار لمحوں', 'لمحوں عزتی', 'عزتی چیئرمین', 'چیئرمین زندہ', 'زندہ سیاسی', 'سیاسی جرنیل', 'جرنیل بیوی', 'بیوی سکتے', 'سکتے دلوائے', 'دلوائے خنزیرکےبچےکاباقی', 'خنزیرکےبچےکاباقی کاٹبرجوپاکستان', 'کاٹبرجوپاکستان ہےاسےISIاٹھاکےاس', 'ہےاسےISIاٹھاکےاس خنزیرکوپاکستان', 'خنزیرکوپاکستان بلاسکتی', 'بلاسکتی ہےاورپھراس', 'ہےاورپھراس پرچھترول', 'پرچھترول کےبیل', 'کےبیل بوٹےبناکےاس', 'بوٹےبناکےاس کاایجنڈاپروپیگنڈااس', 'کاایجنڈاپروپیگنڈااس گھسابھی', 'گھسابھی ہےاوراس', 'ہےاوراس کےناجائزباپ', 'کےناجائزباپ گوالمنڈیلاجس', 'گوالمنڈیلاجس کایہ', 'کایہ پالتوکتاہےکوبھی', 'پالتوکتاہےکوبھی واپس', 'واپس مادرچودایزی', 'مادرچودایزی لےرہاISIکومیشایاداگئی', 'لےرہاISIکومیشایاداگئی سکینہ', 'سکینہ کہتا', 'کہتا بابا', 'بابا مرثیہ', 'مرثیہ سوال', 'سوال جواب', 'جواب پوچھا', 'پوچھا مفت', 'مفت گھوٹ', 'گھوٹ بوا', 'بوا بنی', 'بنی تبھی', 'تبھی نکالا', 'نکالا منحوس', 'منحوس مارا', 'مارا لوڈ', 'لوڈ شیڈنگ', 'شیڈنگ وعدہ', 'وعدہ کمبخت', 'کمبخت پرچی', 'پرچی پڑھ', 'پڑھ بونگیاں', 'بونگیاں مارتے', 'مارتے رحم', 'رحم عیش', 'عیش اولاد', 'اولاد چھتر', 'چھتر پٹواری', 'پٹواری کھا', 'کھا پٹ…', 'پٹ… ادارے', 'ادارے وقار', 'وقار احتجاج', 'احتجاج سستا', 'سستا بناؤ', 'بناؤ ٹکے', 'ٹکے سلیکٹڈ', 'سلیکٹڈ بھلا', 'بھلا سلیکٹر', 'سلیکٹر اجائے', 'اجائے بھنگڑے', 'بھنگڑے ڈالتے', 'ڈالتے اوقات', 'اوقات ریے', 'ریے مزا', 'مزا پٹیل', 'پٹیل اکلوتی', 'اکلوتی کلئیر', 'کلئیر بننے', 'بننے شکوک', 'شکوک کدھر', 'کدھر افواہ', 'افواہ سسرال', 'سسرال درویش', 'درویش چھٹ', 'چھٹ لیڈر', 'لیڈر نکلا', 'نکلا باندری', 'باندری الگ', 'الگ جانتے', 'جانتے گالی', 'گالی توہین', 'توہین لگالے', 'لگالے دیکھنے', 'دیکھنے شکھنا', 'شکھنا کوٸی', 'کوٸی گڈ', 'گڈ ناٸیٹ', 'ناٸیٹ گزر', 'گزر موازنہ', 'موازنہ ترق…', 'ترق… مقبول', 'مقبول ٹی', 'ٹی مجبور', 'مجبور ارہے', 'ارہے عقل', 'عقل جمی', 'جمی پڑی', 'پڑی پھوپھا', 'پھوپھا حرکتیں', 'حرکتیں دس', 'دس تانو', 'تانو پھوپو', 'پھوپو SindhPolice', 'SindhPolice شمالی', 'شمالی علاقہ', 'علاقہ جات', 'جات سیر', 'سیر محکمہ', 'محکمہ سیاحت', 'سیاحت مہنگا', 'مہنگا تصویروں', 'تصویروں لےکر', 'لےکر لاک', 'لاک رہڈیو', 'رہڈیو ۷۴۹', '۷۴۹ ورکرز', 'ورکرز فارغ', 'فارغ ۲۰۲۰', '۲۰۲۰ نوکریاں', 'نوکریاں ترقی', 'ترقی شبلی', 'شبلی شیدا', 'شیدا فواد', 'فواد مسٹر', 'مسٹر اکبر', 'اکبر WeStandWithSindhPolice', 'WeStandWithSindhPolice PunjabPolice', 'PunjabPolice تھوڑی', 'تھوڑی چپیڑ', 'چپیڑ چوڑے', 'چوڑے دکھاو', 'دکھاو بتاتا', 'بتاتا جگہ', 'جگہ چاہئے', 'چاہئے انکھوں', 'انکھوں روشنی', 'روشنی رکھ', 'رکھ سہیلے', 'سہیلے بےبے', 'بےبے چمڑہ', 'چمڑہ سک', 'سک اوتھے', 'اوتھے تیل', 'تیل پیپا', 'پیپا پانا', 'پانا پئے', 'پئے البتہ', 'البتہ بھیناں', 'بھیناں کاشت', 'کاشت نیں', 'نیں انیس', 'انیس بیس', 'بیس ساٹھ', 'ساٹھ ستر', 'ستر گزار', 'گزار دھوبی', 'دھوبی گھاٹ', 'گھاٹ کااس', 'کااس dog', 'dog سمجھاپڑھا', 'سمجھاپڑھا نئی', 'نئی علم', 'علم علمیت', 'علمیت جنازہ', 'جنازہ نکل', 'نکل کپڑے', 'کپڑے دھونے', 'دھونے ڈنڈا', 'ڈنڈا جسے', 'جسے پھرتا', 'پھرتا یکو', 'یکو پہلا', 'پہلا جلوہ', 'جلوہ خلا', 'خلا ئ', 'ئ مخلو', 'مخلو ق', 'ق ابے', 'ابے Game', 'Game کہتی', 'کہتی بڑ', 'بڑ وں', 'وں کوئٹہ', 'کوئٹہ شرکت', 'شرکت انکار', 'انکار پیا', 'پیا شفاعت', 'شفاعت یقیں', 'یقیں حشر', 'حشر جہنم', 'جہنم بچا', 'بچا واله', 'واله گرم', 'گرم چائے', 'چائے گرتا', 'گرتا از', 'از محنتی', 'محنتی محنت', 'محنت تکے', 'تکے مارنے', 'مارنے شریف', 'شریف ظالم', 'ظالم سر', 'سر غزوۂ', 'غزوۂ ہند', 'ہند زلیل', 'زلیل بـے', 'بـے شـک', 'شـک شـخـص', 'شـخـص کامـیاب', 'کامـیاب ہـو', 'ہـو گیـا', 'گیـا جـس', 'جـس نـے', 'نـے اپـنے', 'اپـنے نـفس', 'نـفس کـو', 'کـو پـاکـیزہ', 'پـاکـیزہ رکـھا', 'رکـھا الـــقـــران', 'الـــقـــران °', '° للو', 'للو اینکر', 'اینکر ہولیس', 'ہولیس ایشو', 'ایشو زاتی', 'زاتی اینگل', 'اینگل مانگ', 'مانگ بیانیے', 'بیانیے منہ', 'منہ موڑا', 'موڑا نما', 'نما نالائق', 'نالائق جوتی', 'جوتی نوک', 'نوک توجہ', 'توجہ سیدھا', 'سیدھا الو۲۰۰روپےدرجن', 'الو۲۰۰روپےدرجن انڈے۲۰۰کلو', 'انڈے۲۰۰کلو اٹا۶۰۰روپےلیٹر', 'اٹا۶۰۰روپےلیٹر چینی', 'چینی ۱۰۰', '۱۰۰ روپےمربع', 'روپےمربع فٹ', 'فٹ سونا۱لاکھ', 'سونا۱لاکھ روپےکلومیڑ', 'روپےکلومیڑ سائنسدان', 'سائنسدان بتائیں', 'بتائیں کنڈوم', 'کنڈوم کوالٹی', 'کوالٹی چیک', 'چیک کروگے', 'کروگے نتیجہ', 'نتیجہ لخد', 'لخد لعنت', 'لعنت BachaKhanO…', 'BachaKhanO… اینج', 'اینج جیویں', 'جیویں سٹینڈ', 'سٹینڈ ہندی', 'ہندی بتادیا', 'بتادیا جیتے', 'جیتے جٸے', 'جٸے ذیابطیس', 'ذیابطیس وجہ', 'وجہ شدید', 'شدید پلیز', 'پلیز دعاۓ', 'دعاۓ جزاک', 'جزاک یقینی', 'یقینی انتظار', 'انتظار mr', 'mr mayo۷۵۶', 'mayo۷۵۶ Insta', 'Insta I', 'I d', 'd ۲۵', '۲۵ ٪', '٪ مکس', 'مکس اچار', 'اچار پارٹیوں', 'پارٹیوں واے', 'واے اپکے', 'اپکے ایل', 'ایل بریانی', 'بریانی پلیٹ', 'پلیٹ ۱۰۰۰', '۱۰۰۰ دیہاڑی', 'دیہاڑی دار', 'دار مقابلہ', 'مقابلہ تصویر', 'تصویر ٹانگ', 'ٹانگ بیٹھیں', 'بیٹھیں پراپیگنڈا', 'پراپیگنڈا تحفظ', 'تحفظ موومنٹ', 'موومنٹ کیسا', 'کیسا سرپرائز', 'سرپرائز ISPRچیئرمین', 'ISPRچیئرمین بھٹوزرداری', 'بھٹوزرداری سےارمی', 'سےارمی قمرجاوید', 'قمرجاوید باج', 'باج کاکراچی', 'کاکراچی واقعےپرتبادلہ', 'واقعےپرتبادلہ خیال', 'خیال کوارمی', 'کوارمی جنرل', 'جنرل قمر', 'قمر جاویدباجوہ', 'جاویدباجوہ کاٹیلی', 'کاٹیلی ہاوس', 'ہاوس اا', 'اا صوبے', 'صوبے موساد', 'موساد تھوڑا', 'تھوڑا اڈیکتا', 'اڈیکتا سلامی', 'سلامی کھاۓ', 'کھاۓ پیے', 'پیے جاٸیں', 'جاٸیں ظلم', 'ظلم برداشت', 'برداشت میک', 'میک یقینا', 'یقینا ماسٹر', 'ماسٹر پینٹ', 'پینٹ لگایا', 'لگایا بچیے', 'بچیے اینی', 'اینی ٹینشن', 'ٹینشن بارش', 'بارش اگردر', 'اگردر دیندارۍپخته\\u200cشدید', 'دیندارۍپخته\\u200cشدید \\u200cخام\\u200cنخواهید\\u200cشد', '\\u200cخام\\u200cنخواهید\\u200cشد ولےاگرداغ\\u200cشدید', 'ولےاگرداغ\\u200cشدید احتمالاسردخواهیدشد', 'احتمالاسردخواهیدشد پخته\\u200cشویم', 'پخته\\u200cشویم باہمت', 'باہمت ہارا', 'ہارا جیت', 'جیت سیکھ', 'سیکھ بروقت', 'بروقت برملا', 'برملا نہانے', 'نہانے صابن', 'صابن جھاگ', 'جھاگ کانوں', 'کانوں باقی', 'باقی مارننگ', 'مارننگ دیکھیں', 'دیکھیں اندازہ', 'اندازہ بوکھلائے', 'بوکھلائے عمر', 'عمر تقاضہ', 'تقاضہ بولو', 'بولو بنانے', 'بنانے بناتی', 'بناتی میٹھے', 'میٹھے پتر', 'پتر NationLovesPakistanArmy', 'NationLovesPakistanArmy تنظیم', 'تنظیم سازی', 'سازی چھوڑدے', 'چھوڑدے چکیا', 'چکیا فائدہ', 'فائدہ بھیجنے', 'بھیجنے اجتماعی', 'اجتماعی اپشن', 'اپشن دکھ', 'دکھ بول', 'بول دسیا', 'دسیا ٹویٹا', 'ٹویٹا الفاظ', 'الفاظ اوٹ', 'اوٹ پاکیزہ', 'پاکیزہ الزام', 'الزام لگائے', 'لگائے نماز', 'نماز پڑھنے', 'پڑھنے ٹیکس', 'ٹیکس ڈیم', 'ڈیم قرضہ', 'قرضہ ادا', 'ادا ہوجائے', 'ہوجائے لہو', 'لہو بغاوت', 'بغاوت فرض', 'فرض سوفیسٹیکیٹڈ', 'سوفیسٹیکیٹڈ چلائی', 'چلائی چنگی', 'چنگی پلی', 'پلی یاسر', 'یاسر ے', 'ے افزائی', 'افزائی تعریف', 'تعریف یوتھیوں', 'یوتھیوں ۲۲', '۲۲ کروڑ', 'کروڑ سونپ', 'سونپ مے', 'مے گونگے', 'گونگے اندھے', 'اندھے جدید', 'جدید خطرناک', 'خطرناک ایجاد', 'ایجاد عارضی', 'عارضی تعلقات', 'تعلقات اللھم', 'اللھم صل', 'صل وعلی', 'وعلی ال', 'ال ٹولہ', 'ٹولہ انگوٹھے', 'انگوٹھے انگوٹھا', 'انگوٹھا بھیجوں', 'بھیجوں خواہ', 'خواہ مخواہ', 'مخواہ خاندان', 'خاندان جسکی', 'جسکی تعلیم', 'تعلیم کزنوں', 'کزنوں لائف', 'لائف ٹائم', 'ٹائم طعنے', 'طعنے سننے', 'سننے پڑتے', 'پڑتے کزن', 'کزن چاہو', 'چاہو ٹیسٹی', 'ٹیسٹی بھیج', 'بھیج گھوبھی', 'گھوبھی شائد', 'شائد چلی', 'چلی دفتر', 'دفتر بچاکر', 'بچاکر گزارہ', 'گزارہ جاے', 'جاے فریال', 'فریال پکڑ', 'پکڑ لارہی', 'لارہی لائینز', 'لائینز ایریا', 'ایریا علاقے', 'علاقے خاتون', 'خاتون لگتی', 'لگتی پان', 'پان وچوں', 'وچوں باہر', 'باہر نمبر', 'نمبر بیلجیم', 'بیلجیم کافر', 'کافر سیدھے', 'سیدھے ۱۱۸', '۱۱۸ ویں', 'ویں فرشتے', 'فرشتے Ho', 'Ho ۳۰۰', '۳۰۰ اضافہ', 'اضافہ مینشن', 'مینشن ریٹوئیٹ', 'ریٹوئیٹ بیک', 'بیک دیں…', 'دیں… سبزیوں', 'سبزیوں ریٹ', 'ریٹ کھیرا', 'کھیرا مولی', 'مولی گاجر', 'گاجر فری', 'فری صفدرے', 'صفدرے پکڑنا', 'پکڑنا یو', 'یو ٹرن', 'ٹرن بخدا', 'بخدا ماں', 'ماں پکار', 'پکار چند', 'چند سڑو', 'سڑو کمنٹس', 'کمنٹس مذاق', 'مذاق حس', 'حس چول', 'چول جئے', 'جئے پا', 'پا ڈر', 'ڈر پیدائش', 'پیدائش دائی', 'دائی ناں', 'ناں وچاری', 'وچاری قبر', 'قبر عذاب', 'عذاب اٹھانے', 'اٹھانے سبق', 'سبق پرانی', 'پرانی کہانیوں', 'کہانیوں بھولنے', 'بھولنے الجھن', 'الجھن باتوں', 'باتوں خرافات', 'خرافات اسکتا', 'اسکتا ظرف', 'ظرف Dedicated', 'Dedicated تمھارا', 'تمھارا موذوع', 'موذوع بدل', 'بدل بنتے', 'بنتے قبضہ', 'قبضہ رھا', 'رھا چپ', 'چپ ستمبر', 'ستمبر ۲۰۲۰میں', '۲۰۲۰میں ستمبر۲۰۱۹کے', 'ستمبر۲۰۱۹کے مقابلے', 'مقابلے شہری', 'شہری شرح', 'شرح دگنی', 'دگنی یعنی۲۰٪اوردیہاتی', 'یعنی۲۰٪اوردیہاتی یعنی۲۴٪رہی', 'یعنی۲۴٪رہی وفاقی', 'وفاقی ادارہ', 'ادارہ شماریات', 'شماریات ڈپٹی', 'ڈپٹی کربوٹے', 'کربوٹے بوٹا', 'بوٹا ظالموں', 'ظالموں وی', 'وی شعریف', 'شعریف کردو', 'کردو لاڈلی', 'لاڈلی بہن', 'بہن کرن', 'کرن ڈھولکی', 'ڈھولکی جینا', 'جینا مسکرا', 'مسکرا جینے', 'جینے حرج', 'حرج جنریشن', 'جنریشن موبائل', 'موبائل چھیننا', 'چھیننا مریض', 'مریض اکسیجن', 'اکسیجن اتارنے', 'اتارنے لائن', 'لائن دیر', 'دیر اللٰہ', 'اللٰہ الخیر', 'الخیر وضاحت', 'وضاحت کٙتا', 'کٙتا دوپٹہ', 'دوپٹہ حجاب', 'حجاب چادر', 'چادر مردوں', 'مردوں اٙحتراما', 'اٙحتراما عورتوں', 'عورتوں راستہ', 'راستہ نظریں', 'نظریں جھکاتے…', 'جھکاتے… بےغم', 'بےغم ادمی', 'ادمی کہلانے', 'کہلانے ۲', '۲ دشمن', 'دشمن بچو', 'بچو ۳', '۳ چڑیوں', 'چڑیوں کھال', 'کھال ایویں', 'ایویں چاہی', 'چاہی ههههههههههههههههههههہ', 'ههههههههههههههههههههہ ه', 'ه حافظ', 'حافظ دلوں', 'دلوں اگ', 'اگ حساس', 'حساس مظبوط', 'مظبوط دوستیاں', 'دوستیاں ڈالیں', 'ڈالیں جذبات', 'جذبات زیادتی', 'زیادتی نداز', 'نداز ہوسکتی', 'ہوسکتی پائے', 'پائے ھوں', 'ھوں محترم', 'محترم پہاڑوں', 'پہاڑوں پرندے', 'پرندے جاگتے', 'جاگتے دعائے', 'دعائے صبحدم', 'صبحدم Follow', 'Follow لئیے', 'لئیے رشتہ', 'رشتہ لاؤں', 'لاؤں فکر', 'فکر الســلام', 'الســلام عليڪم', 'عليڪم ورحمـةاللـه', 'ورحمـةاللـه وبرڪــاته', 'وبرڪــاته 𝐌𝐀𝐒𝐇𝐀ماشاء', '𝐌𝐀𝐒𝐇𝐀ماشاء اللہ𝐀𝐋𝐋𝐀𝐇', 'اللہ𝐀𝐋𝐋𝐀𝐇 قیـامت', 'قیـامت کـے', 'کـے سـاری', 'سـاری کـرنسـی', 'کـرنسـی فیــل', 'فیــل ہـوجائـے', 'ہـوجائـے گـی', 'گـی حضرت', 'حضرت سـے', 'سـے محـبت', 'محـبت کـا', 'کـا سکـہ', 'سکـہ چلـتا', 'چلـتا رہــے', 'رہــے 𝓓𝓻', '𝓓𝓻 𝓜𝓾𝓱𝓪𝓶𝓶𝓪𝓭', '𝓜𝓾𝓱𝓪𝓶𝓶𝓪𝓭 𝓐𝓴𝓶𝓪𝓵', '𝓐𝓴𝓶𝓪𝓵 𝓚𝓱𝓪𝓷', '𝓚𝓱𝓪𝓷 𝓜𝓾𝓱𝓶𝓪𝓷𝓭', '𝓜𝓾𝓱𝓶𝓪𝓷𝓭 جزاکم', 'جزاکم سدا', 'سدا واقعہ', 'واقعہ ار', 'ار ویسا', 'ویسا وینا', 'وینا ائندہ', 'ائندہ بہلانے', 'بہلانے غالب', 'غالب ہتھ', 'ہتھ ہولا', 'ہولا اردگرد', 'اردگرد منافق', 'منافق ۴۰۰', '۴۰۰ کراس', 'کراس کامیابی', 'کامیابی چوٹیوں', 'چوٹیوں رکا', 'رکا تسلی', 'تسلی خفیہ', 'خفیہ ہتھیار', 'ہتھیار سہیلی', 'سہیلی پالی', 'پالی انصاف', 'انصاف صوبوں', 'صوبوں یکساں', 'یکساں خوشحالی', 'خوشحالی شہر', 'شہر ک…', 'ک… پنسل', 'پنسل لکهو', 'لکهو ربڑ', 'ربڑ مٹا', 'مٹا کمپنی', 'کمپنی ضد', 'ضد ناکر', 'ناکر ادھ', 'ادھ دھاندلی', 'دھاندلی کریم', 'کریم حبیب', 'حبیب صدقے', 'صدقے کروٹ', 'کروٹ نصیب', 'نصیب کورکمانڈر', 'کورکمانڈر تبصرہ', 'تبصرہ PDM', 'PDM گلہ', 'گلہ گھونٹنے', 'گھونٹنے کفن', 'کفن پیج', 'پیج پلٹ', 'پلٹ دیگر', 'دیگر COAS', 'COAS وئی', 'وئی پروفیسر', 'پروفیسر کیہڑیاں', 'کیہڑیاں کھانیاں', 'کھانیاں چوں', 'چوں منا', 'منا ایکسٹینشن', 'ایکسٹینشن نکلیں', 'نکلیں بچی', 'بچی لفظوں', 'لفظوں پریم', 'پریم کہانی', 'کہانی پھوپھو', 'پھوپھو ڈھولک', 'ڈھولک پیار', 'پیار بانٹیں', 'بانٹیں بانٹنا', 'بانٹنا ئیں', 'ئیں سمجیں', 'سمجیں میدان', 'میدان بچاؤ', 'بچاؤ چلائیں', 'چلائیں فیصلہ', 'فیصلہ چوروں', 'چوروں ٹانگنا', 'ٹانگنا چلتا', 'چلتا حرف', 'حرف الگاف', 'الگاف گفتگو', 'گفتگو ★', '★ میٹھی', 'میٹھی بولنا', 'بولنا سرکاری', 'سرکاری حاجن', 'حاجن سخت', 'سخت مایوسی', 'مایوسی ہون', 'ہون کیہ', 'کیہ باجی', 'باجی ہین', 'ہین تارے', 'تارے توڑ', 'توڑ اؤ', 'اؤ فلاح', 'فلاح کاپی', 'کاپی صفحہ', 'صفحہ غیرت', 'غیرت سکے', 'سکے انڈے', 'انڈے ۲۱۶', '۲۱۶ ہوگئے', 'ہوگئے گندے', 'گندے سہیل', 'سہیل شوبازے', 'شوبازے لندن', 'لندن بلایا', 'بلایا کرسی', 'کرسی کتاب', 'کتاب پڑھی', 'پڑھی پنجابی', 'پنجابی گنڈاسے', 'گنڈاسے وفاوں', 'وفاوں مکر', 'مکر واقف', 'واقف چاہت', 'چاہت کپ', 'کپ باجوہ', 'باجوہ کرنل', 'کرنل پرامن', 'پرامن بنادیا', 'بنادیا تازہ', 'تازہ مثال', 'مثال جہاں', 'جہاں بکری', 'بکری زیبرا', 'زیبرا اٸی', 'اٸی اغوا', 'اغوا وارنٹ', 'وارنٹ گرفتاری', 'گرفتاری جاری', 'جاری چاھٸے', 'چاھٸے قصہ', 'قصہ ہوجاٸے', 'ہوجاٸے باری', 'باری احتیاط', 'احتیاط سکیورٹی', 'سکیورٹی لاجک', 'لاجک چھڈنا', 'چھڈنا پاسے', 'پاسے سیکنا', 'سیکنا ویر', 'ویر پیلے', 'پیلے تمھاری', 'تمھاری جوکر', 'جوکر جھوٹی', 'جھوٹی تھک', 'تھک عائشہ', 'عائشہ گلالئی', 'گلالئی میسیجز', 'میسیجز کمر', 'کمر درد', 'درد پیٹ', 'پیٹ می', 'می ٹھوک', 'ٹھوک وغیرہ', 'وغیرہ اتش', 'اتش جوان', 'جوان لالیکا', 'لالیکا لالا', 'لالا انگریزی', 'انگریزی Smokeless', 'Smokeless fire', 'fire کالا', 'کالا دھواں', 'دھواں ریحام', 'ریحام طلاق', 'طلاق پرانے', 'پرانے کوسنے', 'کوسنے لگےلگی', 'لگےلگی نوبت', 'نوبت مارشل', 'مارشل لاء', 'لاء تمیز', 'تمیز جاندا', 'جاندا دکھانے', 'دکھانے سرفہرست', 'سرفہرست BohtZulmHuaDilKySaht', 'BohtZulmHuaDilKySaht ورنہ', 'ورنہ چلنا', 'چلنا مصروفیت', 'مصروفیت چیز', 'چیز feelings', 'feelings سرحدوں', 'سرحدوں محافظ', 'محافظ ملائی', 'ملائی معصول', 'معصول برائے', 'برائے مہربانی', 'مہربانی ہولڈ', 'ہولڈ خلیمہ', 'خلیمہ پہنچ', 'پہنچ باس', 'باس شرماناں', 'شرماناں ایں', 'ایں Leonardo', 'Leonardo بنڑ', 'بنڑ شاوا', 'شاوا میشی', 'میشی لیونارڈو', 'لیونارڈو خیرا', 'خیرا کثیرا', 'کثیرا موچی', 'موچی ایلفی', 'ایلفی چاروں', 'چاروں دوسےبڑھ', 'دوسےبڑھ ائین', 'ائین کااحترم', 'کااحترم حدود', 'حدود رہوتک', 'رہوتک ہےبچےبوڑھے', 'ہےبچےبوڑھے مزدور', 'مزدور تاجر', 'تاجر پولی…', 'پولی… کما', 'کما نیچ', 'نیچ حرکت', 'حرکت چھپ', 'چھپ تانک', 'تانک جھانک', 'جھانک مکھی', 'مکھی صحیح', 'صحیح ویران', 'ویران مدینے', 'مدینے ز', 'ز ل', 'ل م', 'م صفہ', 'صفہ پرھ', 'پرھ شئیرز', 'شئیرز کافروں', 'کافروں بنانی', 'بنانی ٹیوب', 'ٹیوب چینل', 'چینل ریسیپی', 'ریسیپی سینڈ', 'سینڈ چھڈو', 'چھڈو پراں', 'پراں روزی', 'روزی دانشوری', 'دانشوری داران', 'داران صفائیاں', 'صفائیاں بتایا', 'بتایا دوسرا', 'دوسرا سٹاک', 'سٹاک بیچنا', 'بیچنا چہرے', 'چہرے انشاء', 'انشاء شفا', 'شفا دےامین', 'دےامین جشن', 'جشن ڈن', 'ڈن لٹ', 'لٹ رے', 'رے دوجی', 'دوجی جتے', 'جتے کیطرح', 'کیطرح فرمائش', 'فرمائش سمسنگ', 'سمسنگ ٹچ', 'ٹچ خرید', 'خرید دسو', 'دسو نہیںزرداری', 'نہیںزرداری ملنگ', 'ملنگ ہوگٸ', 'ہوگٸ تسلسل', 'تسلسل چاہیۓ', 'چاہیۓ تھکن', 'تھکن زمانوں', 'زمانوں کب', 'کب اترتی', 'اترتی رینجر', 'رینجر اغواہ', 'اغواہ ناراض', 'ناراض ظاہر', 'ظاہر اغواء', 'اغواء مہنگاٸی', 'مہنگاٸی چھٹکارہ', 'چھٹکارہ لنگر', 'لنگر خانے', 'خانے مسافر', 'مسافر پناہ', 'پناہ گاھیں', 'گاھیں کٹے', 'کٹے مرغیاں', 'مرغیاں درخت', 'درخت جابز', 'جابز پچاس', 'پچاس مکانات', 'مکانات بھنگ', 'بھنگ بچت', 'بچت بازار', 'بازار الزامات', 'الزامات بلاؤل', 'بلاؤل کروانے', 'کروانے بلی', 'بلی چھچھڑوں', 'چھچھڑوں والے…', 'والے… حد', 'حد سرحد', 'سرحد درمیاں', 'درمیاں فاصلے', 'فاصلے پیتا', 'پیتا گردوں', 'گردوں پھیر', 'پھیر سکی', 'سکی معلوم', 'معلوم رشتو…', 'رشتو… بھوک', 'بھوک بلبلاتے', 'بلبلاتے روتے', 'روتے خاطر', 'خاطر کیانی', 'کیانی شادیوں', 'شادیوں پیسے', 'پیسے لوٹا', 'لوٹا پوچھو', 'پوچھو ماروگے', 'ماروگے پیدائشی', 'پیدائشی PTI', 'PTI جوائن', 'جوائن پیدل', 'پیدل مشن', 'مشن impossible', 'impossible اسکا', 'اسکا حل', 'حل چکر', 'چکر اچ', 'اچ بیستی', 'بیستی نیئں', 'نیئں کردی', 'کردی پڑجانی', 'پڑجانی فیلڈ', 'فیلڈ پکارتے', 'پکارتے Salute', 'Salute You', 'You Commander', 'Commander گوجرانوالا', 'گوجرانوالا ٹیلی', 'ٹیلی اپناؤ', 'اپناؤ ائیگا', 'ائیگا چھین', 'چھین جائیگا', 'جائیگا ساڈے', 'ساڈے کیہڑے', 'کیہڑے لن', 'لن ٹھنڈ', 'ٹھنڈ ایہدی', 'ایہدی مروڑے', 'مروڑے پاواں', 'پاواں امریکا', 'امریکا افغانستان', 'افغانستان تابوت', 'تابوت ہدف', 'ہدف کرسکا', 'کرسکا گلبدین', 'گلبدین حکمت', 'حکمت Reason', 'Reason ISI', 'ISI پیٹرول', 'پیٹرول ۲۰۰', '۲۰۰ انگور۲۰۰', 'انگور۲۰۰ لیٹر', 'لیٹر اٹا', 'اٹا ۶۰۰', '۶۰۰ میٹر', 'میٹر نویں', 'نویں بونگی', 'بونگی شوق', 'شوق زمانہ', 'زمانہ جاھلیت', 'جاھلیت فراز', 'فراز کمی', 'کمی ھوگی', 'ھوگی بلکل', 'بلکل شو', 'شو شا', 'شا ناکام', 'ناکام کوششیں', 'کوششیں کونسا', 'کونسا جمسا', 'جمسا لیپرڈ', 'لیپرڈ جملہ', 'جملہ اخری', 'اخری جہاز', 'جہاز کھوتوں', 'کھوتوں پوچھے', 'پوچھے پوسٹ', 'پوسٹ لائک', 'لائک انگور', 'انگور ۱۸۰', '۱۸۰ ۳۰', '۳۰ لفافوں', 'لفافوں اہل', 'اہل بصارت', 'بصارت گہرائیاں', 'گہرائیاں ہیش', 'ہیش ٹیگ', 'ٹیگ ارشد', 'ارشد ٹرینڈز', 'ٹرینڈز چاہئیں', 'چاہئیں انصافیوں', 'انصافیوں بشری', 'بشری بی', 'بی عرف', 'عرف پنکی', 'پنکی بتاؤ', 'بتاؤ وزریراعظم', 'وزریراعظم معاملات', 'معاملات اپکو', 'اپکو نئے', 'نئے انقلابی', 'انقلابی خریدنے', 'خریدنے متعدد', 'متعدد رشوت', 'رشوت اعجازالحق', 'اعجازالحق غیر', 'غیر جانبدار', 'جانبدار پیغام', 'پیغام دہا', 'دہا دروازہ', 'دروازہ توڑا', 'توڑا جانبداری', 'جانبداری کیسی', 'کیسی یس', 'یس سس', 'سس legendfrndz', 'legendfrndz ہمشیہ', 'ہمشیہ ہمکنار', 'ہمکنار بھئ', 'بھئ اونو', 'اونو کیڑا', 'کیڑا ویکھاں', 'ویکھاں دھبہ', 'دھبہ ویائی', 'ویائی ماحول', 'ماحول ٹھنڈی', 'ٹھنڈی ہوگئ', 'ہوگئ ٹویٹیں', 'ٹویٹیں میٹرک', 'میٹرک فیل', 'فیل خطیب', 'خطیب امام', 'امام مسجد', 'مسجد امامت', 'امامت مساوی', 'مساوی معاشرہ', 'معاشرہ بھائ', 'بھائ حسد', 'حسد رونق', 'رونق اچھاہے', 'اچھاہے حنا', 'حنا سمجھایا', 'سمجھایا چھپکے', 'چھپکے سوشل', 'سوشل میڈیا', 'میڈیا زریعے', 'زریعے سنے', 'سنے لدھڑ', 'لدھڑ ڈینگیں', 'ڈینگیں زہنی', 'زہنی مزاحمت', 'مزاحمت رکھیں', 'رکھیں گیند', 'گیند کورٹ', 'کورٹ ٹوٸیٹس', 'ٹوٸیٹس سڑیل', 'سڑیل جھوووووووٹ', 'جھوووووووٹ سراسر', 'سراسر پسند', 'پسند پیسوں', 'پیسوں ارٹسٹ', 'ارٹسٹ رکجو', 'رکجو پالش', 'پالش مقتدر', 'مقتدر قوتوں', 'قوتوں منجی', 'منجی فخر', 'فخر ٹوٹے', 'ٹوٹے مدہوش', 'مدہوش دم', 'دم نکلے', 'نکلے مرے', 'مرے روبرو', 'روبرو گزارش', 'گزارش خدارا', 'خدارا شفائی', 'شفائی کاملہ', 'کاملہ عاجلہ', 'عاجلہ گھبرانا', 'گھبرانا مذید', 'مذید کٸ', 'کٸ دہاٸیوں', 'دہاٸیوں نکاح', 'نکاح نامہ', 'نامہ پکڑے', 'پکڑے مانتے', 'مانتے کھوکھر', 'کھوکھر بالخصوص', 'بالخصوص بڑھاتے', 'بڑھاتے شکایت', 'شکایت اٹھاتا', 'اٹھاتا جھوٹا', 'جھوٹا شكوے', 'شكوے زرفوں', 'زرفوں لگنا', 'لگنا ثبوت', 'ثبوت مکار', 'مکار رسیدیں', 'رسیدیں صورت', 'صورت تھو', 'تھو بھاری', 'بھاری بوسہ', 'بوسہ تکلیف', 'تکلیف سنائیں', 'سنائیں غلام', 'غلام مصطفیٰ', 'مصطفیٰ کیونکر', 'کیونکر ستائیں', 'ستائیں ﷺﷺﷺﷺﷺﷺﷺ', 'ﷺﷺﷺﷺﷺﷺﷺ تاجدارحرمﷺ', 'تاجدارحرمﷺ انمول', 'انمول تودو', 'تودو مرا', 'مرا بہ', 'بہ ط', 'ط افریده', 'افریده است', 'است عید', 'عید بیعت', 'بیعت کئ', 'کئ بھولی', 'بھولی صورتوں', 'صورتوں چھوڑو', 'چھوڑو نوجوان', 'نوجوان کنزرویٹو', 'کنزرویٹو شريف', 'شريف عالمی', 'عالمی مجلس', 'مجلس نبوت', 'نبوت زیر', 'زیر اہتمام', 'اہتمام ۲۲۲۳', '۲۲۲۳ اکتوبر', 'اکتوبر منعقد', 'منعقد ہونیوالی', 'ہونیوالی سالانہ', 'سالانہ چناپ', 'چناپ نگر', 'نگر احباب', 'احباب ری', 'ری شئیر', 'شئیر حاضری', 'حاضری لگایں', 'لگایں علیہ', 'علیہ دفاع', 'دفاع لازم', 'لازم مسلم', 'مسلم تسبیح', 'تسبیح لوڑ', 'لوڑ ڈاکو', 'ڈاکو یوتھیئے', 'یوتھیئے یوتھیا', 'یوتھیا چارجر', 'چارجر نقشہ', 'نقشہ جرنیلوں', 'جرنیلوں چہتی', 'چہتی چلانا', 'چلانا اتاروں', 'اتاروں وردیاں', 'وردیاں مانگو', 'مانگو جاۓگا', 'جاۓگا کیلے', 'کیلے تقدس', 'تقدس پامال', 'پامال قضاء', 'قضاء جاۓ', 'جاۓ واجب', 'واجب سادگی', 'سادگی مرزے', 'مرزے ٹٹی', 'ٹٹی کھبا', 'کھبا کپورہ', 'کپورہ فیر', 'فیر اپنڑیاں', 'اپنڑیاں پی…', 'پی… کرکٹ', 'کرکٹ کھسری', 'کھسری عنبر', 'عنبر CM', 'CM Sindh', 'Sindh ڈانس', 'ڈانس کرتیں', 'کرتیں stateabovestate', 'stateabovestate پیمرا', 'پیمرا چیرمین', 'چیرمین وزیراطلات', 'وزیراطلات ھم', 'ھم ۲۰۱۴', '۲۰۱۴ ھوئے', 'ھوئے گود', 'گود مبشر', 'مبشر زیدی', 'زیدی کنفیوزن', 'کنفیوزن میکو', 'میکو رخصتی', 'رخصتی روئے', 'روئے چاند', 'چاند پڑا', 'پڑا اکر', 'اکر ھاں', 'ھاں ایکسیجن', 'ایکسیجن گٹھنے', 'گٹھنے خطرہ', 'خطرہ فنا', 'فنا چاہنے', 'چاہنے شکست', 'شکست کتھوں', 'کتھوں ائیاں', 'ائیاں ساری', 'ساری خوشیاں', 'خوشیاں دیکھی', 'دیکھی bhai', 'bhai اخروٹ', 'اخروٹ فرماندے', 'فرماندے کلیاں', 'کلیاں کھان', 'کھان ڈھڈ', 'ڈھڈ کیڑے', 'کیڑے پیندے', 'پیندے شفاف', 'شفاف کرائے', 'کرائے SindhGovt', 'SindhGovt گیراج', 'گیراج رنگے', 'رنگے ہاتھوں', 'ہاتھوں پکڑا', 'پکڑا بیچنے', 'بیچنے لگو', 'لگو کھٹارا', 'کھٹارا پس', 'پس مارکیٹ', 'مارکیٹ کیتا', 'کیتا ویاہ', 'ویاہ دفع', 'دفع چوہدری', 'چوہدری مھجے', 'مھجے اسٹبلیشمنٹ', 'اسٹبلیشمنٹ نسی', 'نسی طلال', 'طلال چوھدری', 'چوھدری کیوںکہ', 'کیوںکہ خطر', 'خطر سمجھاوے', 'سمجھاوے بھئی', 'بھئی لچ', 'لچ تلنے', 'تلنے ٹک', 'ٹک باوے', 'باوے بارہ', 'بارہ ربیع', 'ربیع الاول', 'الاول ہزاروں', 'ہزاروں کیک', 'کیک کاٹیں', 'کاٹیں رسولﷺ', 'رسولﷺ اسم', 'اسم رضی', 'رضی عنہ', 'عنہ رسولﷺکا', 'رسولﷺکا مٹایا', 'مٹایا دعوے', 'دعوے کیکوں', 'کیکوں کیجئے', 'کیجئے الا', 'الا احسن', 'احسن اقبال', 'اقبال کمیشن', 'کمیشن قسم', 'قسم پول', 'پول پٹواریاں', 'پٹواریاں موقع', 'موقع دوے', 'دوے ایڈی', 'ایڈی سنجیدہ', 'سنجیدہ صورتحال', 'صورتحال جگتاں', 'جگتاں باز', 'باز اوندے', 'اوندے لگڑ', 'لگڑ بگڑ', 'بگڑ کھاو', 'کھاو تنہائی', 'تنہائی ں', 'ں حقیقتیں', 'حقیقتیں ساریاں', 'ساریاں موشن', 'موشن گۓ', 'گۓ مٹھائی', 'مٹھائی کہلوانا', 'کہلوانا مولوی', 'مولوی تہ', 'تہ اہ', 'اہ بدبخت', 'بدبخت ٹھہرے', 'ٹھہرے بخت', 'بخت ہاہاہا', 'ہاہاہا ڈبل', 'ڈبل علیحدہ', 'علیحدہ چکے', 'چکے بزدل', 'بزدل ہٹ', 'ہٹ لکڑ', 'لکڑ شرافت', 'شرافت شر', 'شر ہےاور', 'ہےاور افت', 'افت میٹنگ', 'میٹنگ انکوائری', 'انکوائری مطالبہ', 'مطالبہ ہورہی', 'ہورہی ڈرو', 'ڈرو برکت', 'برکت اکاونٹ', 'اکاونٹ دوستی', 'دوستی سٹار', 'سٹار ارادہ', 'ارادہ مدینہ', 'مدینہ مندر', 'مندر شکل', 'شکل بندر', 'بندر گندہ', 'گندہ بتاو', 'بتاو ھوگے', 'ھوگے توانو', 'توانو خکومت', 'خکومت قہر', 'قہر سامنا', 'سامنا چورنی', 'چورنی ببلو', 'ببلو ڈبلو', 'ڈبلو بزنس', 'بزنس کاروبار', 'کاروبار فرانس', 'فرانس اگیا', 'اگیا فراڈیہ', 'فراڈیہ پیڑوں', 'پیڑوں ممکن', 'ممکن دوڑ', 'دوڑ اتے', 'اتے لائق', 'لائق ذہنوں', 'ذہنوں زباں', 'زباں المیہ', 'المیہ سیکٹر', 'سیکٹر مداخلت', 'مداخلت چٹھیوں', 'چٹھیوں معملے', 'معملے انکا', 'انکا دخل', 'دخل ۱۵', '۱۵ ساگ', 'ساگ بائیسویں', 'بائیسویں گریڈ', 'گریڈ افسر', 'افسر انفورسمنٹ', 'انفورسمنٹ ہیڈ', 'ہیڈ حیثیت', 'حیثیت سچویشن', 'سچویشن اپنیاں', 'اپنیاں لتاں', 'لتاں چک', 'چک لینیاں', 'لینیاں کرکے', 'کرکے ایف', 'ایف کروائی', 'کروائی نااہل', 'نااہل محمود', 'محمود کےبچےجو', 'کےبچےجو کرتےہیں', 'کرتےہیں فورا', 'فورا ہوجاتی', 'ہوجاتی بچپن', 'بچپن ۵روپےکیلئےایک', '۵روپےکیلئےایک زمین', 'زمین ناگن', 'ناگن کرناپڑتا', 'کرناپڑتا تعلق', 'تعلق لوٹے', 'لوٹے برصغیر', 'برصغیر بنے', 'بنے بخش', 'بخش چڑ', 'چڑ کری', 'کری لحاظ', 'لحاظ بھناں', 'بھناں ساڈا', 'ساڈا چسکا', 'چسکا حمایت', 'حمایت والدیں', 'والدیں رسوا', 'رسوا ھوتے', 'ھوتے جوتے', 'جوتے لگائیں', 'لگائیں بھٹی', 'بھٹی اگاہی', 'اگاہی ٹوئٹ', 'ٹوئٹ ایچ', 'ایچ جمن', 'جمن الیا', 'الیا قصور', 'قصور گراؤنڈ', 'گراؤنڈ تیسرا', 'تیسرا معاملے', 'معاملے مانے', 'مانے ہرگز', 'ہرگز جیالے', 'جیالے غلطیاں', 'غلطیاں برے', 'برے رشتے', 'رشتے قربان', 'قربان کرنی', 'کرنی معزز', 'معزز ادم', 'ادم السلام', 'السلام محبتاں', 'محبتاں سرکار', 'سرکار تواڈے', 'تواڈے پکیاں', 'پکیاں کرگیا', 'کرگیا مسکرائیے', 'مسکرائیے ملکیت', 'ملکیت ھاھاھاھاھا', 'ھاھاھاھاھا کونسی', 'کونسی تبلیغ', 'تبلیغ بھاشن', 'بھاشن ڈکیت', 'ڈکیت وکالت', 'وکالت سراج', 'سراج الحق', 'الحق سعودیہ', 'سعودیہ افیشل', 'افیشل باندر', 'باندر عطر', 'عطر کپڑوں', 'کپڑوں مہکانا', 'مہکانا خوشبو', 'خوشبو بھتیجیاں', 'بھتیجیاں خوبصورت', 'خوبصورت ھونا', 'ھونا چاھیے', 'چاھیے ہیرو', 'ہیرو پلیٹاں', 'پلیٹاں دھون', 'دھون لئی', 'لئی رکھیا', 'رکھیا بلاو', 'بلاو چائی', 'چائی عمراں', 'عمراں رکھیاں', 'رکھیاں نہلاتے', 'نہلاتے رھنما', 'رھنما رانا', 'رانا ثناء', 'ثناء نہلایا', 'نہلایا sheikhrasheed', 'sheikhrasheed ranasanaullah', 'ranasanaullah NawazSharif', 'NawazSharif مخاطب', 'مخاطب ہوکر', 'ہوکر قانونی', 'قانونی احکامات', 'احکامات ماننے', 'ماننے دکھا', 'دکھا اجتمائی', 'اجتمائی بھیجیں', 'بھیجیں کنفرم', 'کنفرم کردیو', 'کردیو لگوں', 'لگوں ترسیل', 'ترسیل تماشہ', 'تماشہ پہنڑ', 'پہنڑ دیوبندی', 'دیوبندی وہابی', 'وہابی گھاس', 'گھاس پھوس', 'پھوس چرنے', 'چرنے ہاؤس', 'ہاؤس گورنر', 'گورنر بنائی', 'بنائی یونیورسٹیاں', 'یونیورسٹیاں داخلے', 'داخلے مرغیالوجی', 'مرغیالوجی بکریالوجی', 'بکریالوجی کٹیالوجی', 'کٹیالوجی فیض', 'فیض دھرنے', 'دھرنے طرز', 'طرز تقویت', 'تقویت گٸی', 'گٸی مانیں', 'مانیں اسمبلیوں', 'اسمبلیوں فریقین', 'فریقین صفحے', 'صفحے استراحت', 'استراحت فرمانا', 'فرمانا روم', 'روم میٹ', 'میٹ حالات', 'حالات ھاھاھا', 'ھاھاھا حسینا', 'حسینا دیوانی', 'دیوانی مخلص', 'مخلص جرم', 'جرم حاضر', 'حاضر باجواہ', 'باجواہ واقع', 'واقع لاعلم', 'لاعلم ہونااور', 'ہونااور علان', 'علان بیگم', 'بیگم بتانا', 'بتانا اف', 'اف سٹاف', 'سٹاف چھوٹا', 'چھوٹا گھوم', 'گھوم اپکا', 'اپکا ب', 'ب امن', 'امن استحکام', 'استحکام کےلیے', 'کےلیے قیمت', 'قیمت چکاٸی', 'چکاٸی مستحکم', 'مستحکم بھرپور', 'بھرپور جاوید', 'جاوید زیرصدارت', 'زیرصدارت مہمان', 'مہمان علیکم', 'علیکم ورحمتہ', 'ورحمتہ وبرکاتہ', 'وبرکاتہ اجکل', 'اجکل ٹاک', 'ٹاک مصدق', 'مصدق ڈیفنڈ', 'ڈیفنڈ الطاف', 'الطاف انشاءاللہ', 'انشاءاللہ طیب', 'طیب اردگان', 'اردگان ادویات', 'ادویات قیمتوں', 'قیمتوں بجلی', 'بجلی خیبر', 'خیبر ۳۵۰', '۳۵۰ ڈیمز', 'ڈیمز شکرے', 'شکرے اندھیروں', 'اندھیروں بم', 'بم دھماکے', 'دھماکے ٹارگٹ', 'ٹارگٹ کلنگ', 'کلنگ مانو', 'مانو گھسیٹ', 'گھسیٹ بھلے', 'بھلے رابطہ', 'رابطہ زرائع', 'زرائع دیاں', 'دیاں ونگاں', 'ونگاں دیسی', 'دیسی انڈوں', 'انڈوں اونہہ', 'اونہہ سمجھتا', 'سمجھتا ایکسپوز', 'ایکسپوز خواہش', 'خواہش بوائز', 'بوائز توبہ', 'توبہ خوشامد', 'خوشامد کاکوئی', 'کاکوئی ضرورہونا', 'ضرورہونا شاباش', 'شاباش موقعہ', 'موقعہ جایۓ', 'جایۓ کیجیے', 'کیجیے فالوورز', 'فالوورز کمینٹ', 'کمینٹ سیکشن', 'سیکشن کریں…', 'کریں… مہرباں', 'مہرباں چاہا', 'چاہا سنتا', 'سنتا گالیاں', 'گالیاں دیدی', 'دیدی بھتے', 'بھتے ہوجائےگا', 'ہوجائےگا اہلکاروں', 'اہلکاروں ہوجائیں', 'ہوجائیں ایڈیشنل', 'ایڈیشنل گھومیں', 'گھومیں ماشاءاللہ', 'ماشاءاللہ غلامان', 'غلامان سیشن', 'سیشن سورہ', 'سورہ اغاز', 'اغاز No', 'No Ay…', 'Ay… پینا', 'پینا جرور', 'جرور اداروں', 'اداروں Love', 'Love فاطمہ', 'فاطمہ بنت', 'بنت شوھر', 'شوھر ایمان', 'ایمان فتوحات', 'فتوحات کیں', 'کیں چاہتی', 'چاہتی ابو', 'ابو ڈان', 'ڈان لیکس', 'لیکس چھوٹ', 'چھوٹ ملنی', 'ملنی وما', 'وما كان', 'كان ربك', 'ربك نسيا', 'نسيا بےشک', 'بےشک گھومے', 'گھومے ترے', 'ترے ٹھکرا', 'ٹھکرا باادب', 'باادب سفید', 'سفید بالوں', 'بالوں تنکا', 'تنکا اسوقت', 'اسوقت لگانا', 'لگانا نکا', 'نکا وڈھے', 'وڈھے ڈیپلائی', 'ڈیپلائی طرع', 'طرع چوراہے', 'چوراہے کامی', 'کامی ٹھوکی', 'ٹھوکی مند', 'مند چالاک', 'چالاک چاہتے', 'چاہتے \\u200cبڑا', '\\u200cبڑا عہدہ', 'عہدہ بلائے', 'بلائے ٹپکی', 'ٹپکی میٹرو', 'میٹرو چکی', 'چکی اوندی', 'اوندی اوے', 'اوے پترا', 'پترا چاپلوسی', 'چاپلوسی بدنام', 'بدنام مال', 'مال پلتی', 'پلتی پھدو', 'پھدو بنائیں', 'بنائیں بوٹے', 'بوٹے گالاں', 'گالاں کڈ', 'کڈ رج', 'رج جواد', 'جواد لالے', 'لالے ڈیلیٹ', 'ڈیلیٹ کدی', 'کدی کہن', 'کہن جنا', 'جنا confuse', 'confuse دتا', 'دتا تویٹس', 'تویٹس معیاری', 'معیاری تصادم', 'تصادم استعفیٰ', 'استعفیٰ پیک', 'پیک وزارت', 'وزارت منسلک', 'منسلک سربراہ', 'سربراہ برانڈ', 'برانڈ پسندیدہ', 'پسندیدہ مرگئی', 'مرگئی مانگوں', 'مانگوں ڈال', 'ڈال ویکھو', 'ویکھو پرواں', 'پرواں تنگ', 'تنگ نیب', 'نیب ویڈیو', 'ویڈیو خاں', 'خاں پارٹنر', 'پارٹنر اعجاز', 'اعجاز ائر', 'ائر میجر', 'میجر جرنل', 'جرنل ریٹائرڈ', 'ریٹائرڈ حقیقت', 'حقیقت پیغمبر', 'پیغمبر بالکل', 'بالکل ارڈر', 'ارڈر سلسلے', 'سلسلے منسٹر', 'منسٹر ھوتی', 'ھوتی جوڑے', 'جوڑے اسمانوں', 'اسمانوں وزن', 'وزن نظریہ', 'نظریہ سمجھنے', 'سمجھنے کوشیش', 'کوشیش انشااللہ', 'انشااللہ بھڑوا', 'بھڑوا ٹیوٹ', 'ٹیوٹ مقصد', 'مقصد چارجنگ', 'چارجنگ دوسار', 'دوسار ہینڈ', 'ہینڈ استین', 'استین سانپ', 'سانپ پال', 'پال ھیرے', 'ھیرے امید', 'امید اگئی', 'اگئی ایموجی', 'ایموجی اعشاریہ', 'اعشاریہ فیصد', 'فیصد کیپ', 'کیپ اٹ', 'اٹ گرل', 'گرل کین', 'کین ڈو', 'ڈو کمنٹ', 'کمنٹ ڈے', 'ڈے شرمندگی', 'شرمندگی ٹریننگ', 'ٹریننگ بوجھ', 'بوجھ سٹک', 'سٹک رو', 'رو بھری', 'بھری داستان', 'داستان عنقریب', 'عنقریب ٹوٹنے', 'ٹوٹنے جاننے', 'جاننے بھگت', 'بھگت فرمائیں', 'فرمائیں پاؤں', 'پاؤں اکھڑ', 'اکھڑ عرصہ', 'عرصہ اگلی', 'اگلی رینجرز', 'رینجرز راج', 'راج برقرار', 'برقرار فیڈر', 'فیڈر محبتیں', 'محبتیں خیرات', 'خیرات خاموش', 'خاموش پرہیز', 'پرہیز علاج', 'علاج غدار', 'غدار ہنڑ', 'ہنڑ پھا', 'پھا بیٹھ', 'بیٹھ کھائیے', 'کھائیے چٹائ', 'چٹائ حلف', 'حلف وفاداری', 'وفاداری جعلی', 'جعلی پلیٹوں', 'پلیٹوں سہارا', 'سہارا لیکر', 'لیکر المیم', 'المیم مانگنا', 'مانگنا اہمیت', 'اہمیت Ego', 'Ego بڑھ', 'بڑھ الزاء', 'الزاء موڑ', 'موڑ صلح', 'صلح سیکھو', 'سیکھو جھکتا', 'جھکتا اکڑنا', 'اکڑنا مردے', 'مردے برو', 'برو ملو', 'ملو قاۂل', 'قاۂل مغرور', 'مغرور العین', 'العین والدین', 'والدین جھکا', 'جھکا انگلش', 'انگلش صاحبہ', 'صاحبہ سپورٹرز', 'سپورٹرز نیوٹن', 'نیوٹن تھرڈ', 'تھرڈ ردعمل', 'ردعمل بلانے', 'بلانے مصیبت', 'مصیبت جیب', 'جیب نکلوانا', 'نکلوانا ادھار', 'ادھار اسانی', 'اسانی بنالیتی', 'بنالیتی دھو', 'دھو دبا', 'دبا کرونگی', 'کرونگی مرضی', 'مرضی سات', 'سات کلومیٹر', 'کلومیٹر باندھ', 'باندھ شعر', 'شعر دکھی', 'دکھی ٹٹے', 'ٹٹے ھلا', 'ھلا بھاگتے', 'بھاگتے پھرو', 'پھرو وھاں', 'وھاں ھیرو', 'ھیرو السین', 'السین سچائی', 'سچائی خلوص', 'خلوص دیگا', 'دیگا حدیث', 'حدیث ابوہریرہ', 'ابوہریرہ ؓ', 'ؓ \\u200cاللہ', '\\u200cاللہ \\u200cعلیہ', '\\u200cعلیہ \\u200cوالہ', '\\u200cوالہ \\u200cوسلم', '\\u200cوسلم نےفرمایا', 'نےفرمایا ادمیوں', 'ادمیوں ائند', 'ائند قرار', 'قرار over', 'over واردات', 'واردات کھرے', 'کھرے بیانات', 'بیانات مختلف', 'مختلف صاف', 'صاف جبری', 'جبری دبایا', 'دبایا مارے', 'مارے ذلالت', 'ذلالت چوٹی', 'چوٹی پہنچنا', 'پہنچنا نعرے', 'نعرے راتوں', 'راتوں ابوبکر', 'ابوبکر صدیق', 'صدیق شان', 'شان گستاخی', 'گستاخی فرار', 'فرار Tabdeeli', 'Tabdeeli بھوسڑی', 'بھوسڑی دوائیاں', 'دوائیاں مخالفاں', 'مخالفاں ویکھ', 'ویکھ یوٹرن', 'یوٹرن کھلم', 'کھلم کھلا', 'کھلا ہاۓ', 'ہاۓ FATF', 'FATF گرے', 'گرے نکلنے', 'نکلنے صوبہ', 'صوبہ تھوپا', 'تھوپا ڈوریاں', 'ڈوریاں بھارت', 'بھارت کمیٹی', 'کمیٹی فرررر', 'فرررر گیو', 'گیو پبلک', 'پبلک سمجھو', 'سمجھو دکھاؤ', 'دکھاؤ وزیراعلیٰ', 'وزیراعلیٰ گیری', 'گیری پٹھی', 'پٹھی جدا', 'جدا نکلیا', 'نکلیا اینوں', 'اینوں پینے', 'پینے مجال', 'مجال لکھیں', 'لکھیں نگیٹو', 'نگیٹو پوزیٹو', 'پوزیٹو عتیق', 'عتیق دیکھتا', 'دیکھتا پشتو', 'پشتو ته', 'ته دلته', 'دلته اوودريگه', 'اوودريگه زه', 'زه پسې', 'پسې پلار', 'پلار راولم', 'راولم جتھے', 'جتھے سائیںاں', 'سائیںاں انہاں', 'انہاں پونچ', 'پونچ جانڑاں', 'جانڑاں کیہڑی', 'کیہڑی پیکنگ', 'پیکنگ ناحق', 'ناحق سزا', 'سزا پیدا', 'پیدا بلوچ', 'بلوچ سردار', 'سردار ۱۰۰۰۰', '۱۰۰۰۰ سےکم', 'سےکم کرینگے', 'کرینگے ریٹویٹوالوں', 'ریٹویٹوالوں کری…', 'کری… حلیمہ', 'حلیمہ موٹے', 'موٹے نین', 'نین جٹی', 'جٹی چرچے', 'چرچے رہن', 'رہن فقط', 'فقط ٹکڑا', 'ٹکڑا گردش', 'گردش محروم', 'محروم ہوں…', 'ہوں… باؤ', 'باؤ ہارٹ', 'ہارٹ اٹیک', 'اٹیک باو', 'باو چولیں', 'چولیں مارلیتی', 'مارلیتی پایین', 'پایین تواڈی', 'تواڈی چھوڑیں', 'چھوڑیں بدمعاش', 'بدمعاش کھسرا', 'کھسرا تفتیش', 'تفتیش فٹے', 'فٹے ترسا', 'ترسا بنگالی', 'بنگالی گاہک', 'گاہک ستے', 'ستے طلعت', 'طلعت کوارڈینیشن', 'کوارڈینیشن وکٹ', 'وکٹ دعوت', 'دعوت انشاللہ', 'انشاللہ دوران', 'دوران بنینگے', 'بنینگے کمپین', 'کمپین حصہ', 'حصہ پہلاں', 'پہلاں ہوٸی', 'ہوٸی تھانے', 'تھانے خاوند', 'خاوند copy', 'copy مطالعہ', 'مطالعہ مختصر', 'مختصر ٹاپک', 'ٹاپک متاثرین', 'متاثرین بادن', 'بادن ھوتا', 'ھوتا سائٹ', 'سائٹ تفصیل', 'تفصیل مفتی', 'مفتی ملنے', 'ملنے شناخت', 'شناخت شجرہ', 'شجرہ نسب', 'نسب چیڑیل', 'چیڑیل غصے', 'غصے جاؤ\\u200cں', 'جاؤ\\u200cں نمبر۲ہے', 'نمبر۲ہے اورنیازی', 'اورنیازی نمبر۱', 'نمبر۱ اورہے', 'اورہے لگاناپڑھیگا', 'لگاناپڑھیگا گنے', 'گنے چنے', 'چنے این', 'این اوکے', 'اوکے مستحق', 'مستحق نرمی', 'نرمی جاسکتی', 'جاسکتی پرستی', 'پرستی تقاضے', 'تقاضے مسئلے', 'مسئلے تلوار', 'تلوار نوبل', 'نوبل انعام', 'انعام پسندی', 'پسندی گانے', 'گانے ہنسی', 'ہنسی رونا', 'رونا عراقی', 'عراقی دبئی', 'دبئی تندوری', 'تندوری تر', 'تر جلتى', 'جلتى هے', 'هے دنيا', 'دنيا همارى', 'همارى يارى', 'يارى كى', 'كى يار', 'يار نهيں', 'نهيں چهوڑ', 'چهوڑ سكتے', 'سكتے جاتےتھے', 'جاتےتھے جاتےتھےاب', 'جاتےتھےاب تواتنی', 'تواتنی ھوگئی', 'ھوگئی ود', 'ود مختاریا', 'مختاریا نفرت', 'نفرت ہواؤں', 'ہواؤں اڑتی', 'اڑتی رہیگی', 'رہیگی انٹری', 'انٹری دھماکہ', 'دھماکہ خیز', 'خیز حکومتی', 'حکومتی خاموشی', 'خاموشی اکیلی', 'اکیلی نکلی', 'نکلی جانب', 'جانب منزل', 'منزل وہلیاں', 'وہلیاں گیں', 'گیں فلووینگ', 'فلووینگ بڑھتی', 'بڑھتی گیی', 'گیی رک', 'رک پڑہ', 'پڑہ إلٰه', 'إلٰه إلا', 'إلا أنت', 'أنت سبحانك', 'سبحانك إني', 'إني كنت', 'كنت من', 'من الظالمين', 'الظالمين گزری', 'گزری خفا', 'خفا حرمتی', 'حرمتی ھوی', 'ھوی ۱۴', '۱۴ اگست', 'اگست پڑھنا', 'پڑھنا لکھنے', 'لکھنے کلیکشن', 'کلیکشن فرمایا', 'فرمایا اکٹھا', 'اکٹھا دکھائیں', 'دکھائیں بھروسہ', 'بھروسہ ارب', 'ارب پتی', 'پتی سوری', 'سوری ڑونٹ', 'ڑونٹ بتائی', 'بتائی تضاد', 'تضاد چیزیں', 'چیزیں خوف', 'خوف مرنا', 'مرنا دعویٰ', 'دعویٰ تعالیٰ', 'تعالیٰ مقدر', 'مقدر اورنگزیب', 'اورنگزیب اکے', 'اکے بتائے', 'بتائے مسلط', 'مسلط کتابوں', 'کتابوں لیکں', 'لیکں ڈھیٹ', 'ڈھیٹ پن', 'پن سوہنی', 'سوہنی گارڈ', 'گارڈ باد', 'باد چھیڑ', 'چھیڑ نندن', 'نندن nationlovespakistanarmy', 'nationlovespakistanarmy ٹرینڈ', 'ٹرینڈ برداشتہ', 'برداشتہ ماہ', 'ماہ رخصت', 'رخصت ماؤں', 'ماؤں لال', 'لال بندے', 'بندے جنازے', 'جنازے ۱۰', '۱۰ جاوے', 'جاوے مردہ', 'مردہ دھڑکن', 'دھڑکن ویرانے', 'ویرانے گستاخ', 'گستاخ صحابہ', 'صحابہ سیلبریٹ', 'سیلبریٹ جتئیے', 'جتئیے اقتدار', 'اقتدار ضیاء', 'ضیاء طلب', 'طلب کرلی', 'کرلی ٹینڈے', 'ٹینڈے میـٹر', 'میـٹر ھاھا', 'ھاھا حیا', 'حیا ر', 'ر جل', 'جل دھوکہ', 'دھوکہ فیک', 'فیک لاکن', 'لاکن ماننی', 'ماننی ائیں', 'ائیں جد', 'جد گنوائیں', 'گنوائیں دورہ', 'دورہ تقدیر', 'تقدیر لہر', 'لہر دیھک', 'دیھک کراپ', 'کراپ کروناکی', 'کروناکی بہانہ', 'بہانہ ٹیلیفون', 'ٹیلیفون موجودہ', 'موجودہ تبادلہ', 'تبادلہ ناظرین', 'ناظرین پھٹی', 'پھٹی عاشقی', 'عاشقی قدموں', 'قدموں مجازی', 'مجازی ورکر', 'ورکر عظمت', 'عظمت پالیسی', 'پالیسی اسلام', 'اسلام متحمل', 'متحمل صنم', 'صنم ڈوبیں', 'ڈوبیں ٹو', 'ٹو سلیکٹرز', 'سلیکٹرز انچ', 'انچ چاول', 'چاول ۱۵۰', '۱۵۰ گوشت', 'گوشت ۴۵۰', '۴۵۰ لیٹرپالک', 'لیٹرپالک ۲۳۰', '۲۳۰ مرلہ', 'مرلہ نظیر', 'نظیر ننگی', 'ننگی تصویریں', 'تصویریں پھینکواتا', 'پھینکواتا nani۴۲۰', 'nani۴۲۰ لکل', 'لکل لبیک', 'لبیک باباجی', 'باباجی ذندہ', 'ذندہ ا۶ی', 'ا۶ی نالائقی', 'نالائقی دفتروں', 'دفتروں فائلز', 'فائلز بلڈنگز', 'بلڈنگز ریکارڈ', 'ریکارڈ جلاۓ', 'جلاۓ بیغیرتی', 'بیغیرتی کیلا', 'کیلا مشکلات', 'مشکلات زراری', 'زراری چلغوزے', 'چلغوزے ۲۵۰۰', '۲۵۰۰ کلو', 'کلو چوراپوزیشن', 'چوراپوزیشن پٹ', 'پٹ پٹا', 'پٹا تاڈا', 'تاڈا اچکزی', 'اچکزی خارشی', 'خارشی جسکو', 'جسکو دیکھنی', 'دیکھنی لے۳۵سال', 'لے۳۵سال شلواریں', 'شلواریں شلواروں', 'شلواروں ناڑے', 'ناڑے انتخابات', 'انتخابات لڑیں', 'لڑیں ڈنگرپٹواریوں', 'ڈنگرپٹواریوں جاہل', 'جاہل جیالوں', 'جیالوں کوپھرپھدوبنائیں', 'کوپھرپھدوبنائیں ورلڈکپ', 'ورلڈکپ شوکت', 'شوکت خانم', 'خانم ایمپائر', 'ایمپائر انگلی', 'انگلی کوکین', 'کوکین پڑیا', 'پڑیا بچتے', 'بچتے بتاۓ', 'بتاۓ سپری', 'سپری اکاونٹس', 'اکاونٹس موڈ', 'موڈ کائینات', 'کائینات ملکر', 'ملکر عادی', 'عادی کرلیں', 'کرلیں سین', 'سین ایکٹ', 'ایکٹ تحت', 'تحت مسکین', 'مسکین ۱۹۷۰', '۱۹۷۰ ۷۰پارٹیاں', '۷۰پارٹیاں کررہی', 'کررہی ڈنگر', 'ڈنگر موؤمنٹ', 'موؤمنٹ مشاہد', 'مشاہد ہندو', 'ہندو گائےکو', 'گائےکو مانتےہیں', 'مانتےہیں بیل', 'بیل کوباپ', 'کوباپ ویسےہی', 'ویسےہی کوبہنوئی', 'کوبہنوئی کیز', 'کیز بارے', 'بارے اونوں', 'اونوں معلومات', 'معلومات للہ', 'للہ الیہ', 'الیہ راجعون', 'راجعون معروف', 'معروف عالم', 'عالم دین', 'دین مناظر', 'مناظر عبدالکریم', 'عبدالکریم نعمانی', 'نعمانی کبیر', 'کبیر والہ', 'والہ انتقال', 'انتقال فرما', 'فرما اناللہ', 'اناللہ وانا', 'وانا نمازجنازہ', 'نمازجنازہ دارالعلوم', 'دارالعلوم کبیروالا', 'کبیروالا ترس', 'ترس امران', 'امران خانی', 'خانی انوں', 'انوں چنگا', 'چنگا نندا', 'نندا مشیر', 'مشیر بنگش', 'بنگش نوکری', 'نوکری سندہ', 'سندہ سندھی', 'سندھی بولنے', 'بولنے اسکول', 'اسکول ٹیچر', 'ٹیچر سوالوں', 'سوالوں بچنے', 'بچنے کرجاتے', 'کرجاتے کتےکی', 'کتےکی ڈاون', 'ڈاون حیران', 'حیران رہاہوں', 'رہاہوں ڈھیل', 'ڈھیل چڑھیں', 'چڑھیں ڈرائنگ', 'ڈرائنگ کروائیں', 'کروائیں سافٹ', 'سافٹ وئیر', 'وئیر اپڈیٹ', 'اپڈیٹ وائرس', 'وائرس smooth', 'smooth چلیں', 'چلیں کنجرلوگ', 'کنجرلوگ مائنڈ', 'مائنڈ کرگئے', 'کرگئے کمائی', 'کمائی منایا', 'منایا برنال', 'برنال برف', 'برف ٹکور', 'ٹکور قادر', 'قادر پارلیمنٹ', 'پارلیمنٹ چلاتے', 'چلاتے پوچھتے', 'پوچھتے تواڈا', 'تواڈا بنایا', 'بنایا کریے', 'کریے اوہی', 'اوہی اندا']\n"
          ]
        }
      ]
    },
    {
      "cell_type": "code",
      "source": [
        "trigrams = [\" \".join(trio) for trio in zip(vocabulary, vocabulary[1:], vocabulary[2:])]\n",
        "print('trigrams')\n",
        "print(trigrams)"
      ],
      "metadata": {
        "colab": {
          "base_uri": "https://localhost:8080/"
        },
        "id": "vfwigiy-Gyqj",
        "outputId": "f81ad591-b8e1-43f1-e390-a01bb34859e5"
      },
      "execution_count": 117,
      "outputs": [
        {
          "output_type": "stream",
          "name": "stdout",
          "text": [
            "trigrams\n",
            "['لینے شادی فسادن', 'شادی فسادن ٹھیک', 'فسادن ٹھیک کوجی', 'ٹھیک کوجی چاہیے', 'کوجی چاہیے چل', 'چاہیے چل مہمانوں', 'چل مہمانوں کھانا', 'مہمانوں کھانا سرو', 'کھانا سرو چڑیل', 'سرو چڑیل چاچی', 'چڑیل چاچی نوں', 'چاچی نوں دسدی', 'نوں دسدی اں', 'دسدی اں کامران', 'اں کامران خان', 'کامران خان اپکی', 'خان اپکی دن', 'اپکی دن بھریہ', 'دن بھریہ زمہ', 'بھریہ زمہ داری', 'زمہ داری لگائی', 'داری لگائی اپوزیشن', 'لگائی اپوزیشن کردار', 'اپوزیشن کردار کشی', 'کردار کشی اوراس', 'کشی اوراس پربھونکناہےاپ', 'اوراس پربھونکناہےاپ خوشامدگری', 'پربھونکناہےاپ خوشامدگری وچاپلوسی', 'خوشامدگری وچاپلوسی سےاورکتنی', 'وچاپلوسی سےاورکتنی دولت', 'سےاورکتنی دولت کماناچاہتےہیں', 'دولت کماناچاہتےہیں موٹرسائیکل', 'کماناچاہتےہیں موٹرسائیکل سےپیجارو', 'موٹرسائیکل سےپیجارو پراڈو', 'سےپیجارو پراڈو کےسفرمیں', 'پراڈو کےسفرمیں ضمیرکی', 'کےسفرمیں ضمیرکی لاش', 'ضمیرکی لاش سےاٹھتی', 'لاش سےاٹھتی بدبواپ', 'سےاٹھتی بدبواپ ناک', 'بدبواپ ناک بند', 'ناک بند نوٹ', 'بند نوٹ اپ', 'نوٹ اپ سےالتجاگزارش', 'اپ سےالتجاگزارش ہےہمیں', 'سےالتجاگزارش ہےہمیں فالوکریں', 'ہےہمیں فالوکریں شکریہ', 'فالوکریں شکریہ مراد', 'شکریہ مراد علی', 'مراد علی شاہ', 'علی شاہ بھیس', 'شاہ بھیس ڈی', 'بھیس ڈی جی', 'ڈی جی ائی', 'جی ائی ایس', 'ائی ایس حامد', 'ایس حامد میر', 'حامد میر قابل', 'میر قابل اعتبار', 'قابل اعتبار اکثر', 'اعتبار اکثر قاتل', 'اکثر قاتل انساں', 'قاتل انساں تھکا', 'انساں تھکا سوچوں', 'تھکا سوچوں سفر', 'سوچوں سفر صاحب', 'سفر صاحب ویلڈن', 'صاحب ویلڈن یار', 'ویلڈن یار وچارہ', 'یار وچارہ ویلا', 'وچارہ ویلا ہوندا', 'ویلا ہوندا ارے', 'ہوندا ارے ہویا', 'ارے ہویا تسی', 'ہویا تسی تے', 'تسی تے پکے', 'تے پکے نجومی', 'پکے نجومی منندے', 'نجومی منندے سمجھنا', 'منندے سمجھنا سارا', 'سمجھنا سارا پاکستان', 'سارا پاکستان بیوقوف', 'پاکستان بیوقوف ھے', 'بیوقوف ھے لڑاںٔی', 'ھے لڑاںٔی کروانی', 'لڑاںٔی کروانی ساڈی', 'کروانی ساڈی پائن', 'ساڈی پائن دوبارہ', 'پائن دوبارہ فالو', 'دوبارہ فالو کرئیے', 'فالو کرئیے کتنی', 'کرئیے کتنی مہنگائی', 'کتنی مہنگائی الو', 'مہنگائی الو دوسو', 'الو دوسو روپے', 'دوسو روپے درجن', 'روپے درجن کدو', 'درجن کدو ۸۰روپے', 'کدو ۸۰روپے گز', '۸۰روپے گز ISPR', 'گز ISPR عشق', 'ISPR عشق راس', 'عشق راس اۓ', 'راس اۓ زخم', 'اۓ زخم کھاٶ', 'زخم کھاٶ مسکراٶ', 'کھاٶ مسکراٶ چونا', 'مسکراٶ چونا خاتم', 'چونا خاتم _', 'خاتم _ النبیین', '_ النبیین محمدﷺ', 'النبیین محمدﷺ Surat', 'محمدﷺ Surat ۷۳', 'Surat ۷۳ سورة', '۷۳ سورة المزمل', 'سورة المزمل Ayt', 'المزمل Ayt ۲۰', 'Ayt ۲۰ حصہ۵', '۲۰ حصہ۵ ترجمہ', 'حصہ۵ ترجمہ اللہ', 'ترجمہ اللہ راہ', 'اللہ راہ لڑتے', 'راہ لڑتے جتنا', 'لڑتے جتنا قران', 'جتنا قران میسر', 'قران میسر پڑھواورنماز', 'میسر پڑھواورنماز قائم', 'پڑھواورنماز قائم رکھواورزکوٰة', 'قائم رکھواورزکوٰة دواور', 'رکھواورزکوٰة دواور اچھا', 'دواور اچھا قرض', 'اچھا قرض درود', 'قرض درود وقران', 'درود وقران صلی', 'وقران صلی علٰی', 'صلی علٰی حبیبہٖ', 'علٰی حبیبہٖ سیدنا', 'حبیبہٖ سیدنا محمد', 'سیدنا محمد والہٖ', 'محمد والہٖ وصحبہٖ', 'والہٖ وصحبہٖ وسلم', 'وصحبہٖ وسلم اب', 'وسلم اب بس', 'اب بس بیچارے', 'بس بیچارے بیویاں', 'بیچارے بیویاں ہیے', 'بیویاں ہیے تیسری', 'ہیے تیسری ٹرائ', 'تیسری ٹرائ پتہ', 'ٹرائ پتہ ہورہا', 'پتہ ہورہا بورڈ', 'ہورہا بورڈ زنگ', 'بورڈ زنگ لگ', 'زنگ لگ رحمتوں', 'لگ رحمتوں سائے', 'رحمتوں سائے مکمل', 'سائے مکمل صحت', 'مکمل صحت یاب', 'صحت یاب فرمائے', 'یاب فرمائے ارمی', 'فرمائے ارمی چیف', 'ارمی چیف نوٹس', 'چیف نوٹس مجرم', 'نوٹس مجرم جرائیم', 'مجرم جرائیم خود', 'جرائیم خود کرےگا', 'خود کرےگا کھوتی', 'کرےگا کھوتی بچیا', 'کھوتی بچیا عزت', 'بچیا عزت کیتی', 'عزت کیتی قدر', 'کیتی قدر شکر', 'قدر شکر بونڈ', 'شکر بونڈ نئیں', 'بونڈ نئیں ماری', 'نئیں ماری جے', 'ماری جے ہوندی', 'جے ہوندی تینوں', 'ہوندی تینوں پٹھاناں', 'تینوں پٹھاناں ہتھے', 'پٹھاناں ہتھے چاڑ', 'ہتھے چاڑ پین', 'چاڑ پین یکا', 'پین یکا فوج', 'یکا فوج سیاست', 'فوج سیاست دور', 'سیاست دور بلاول', 'دور بلاول زرداری', 'بلاول زرداری کراچی', 'زرداری کراچی واقعے', 'کراچی واقعے لڑکی', 'واقعے لڑکی جیتی', 'لڑکی جیتی صدائیں', 'جیتی صدائیں درودوں', 'صدائیں درودوں اتی', 'درودوں اتی رہینگی', 'اتی رہینگی سن', 'رہینگی سن دل', 'سن دل شاد', 'دل شاد خدا', 'شاد خدا اہلسنت', 'خدا اہلسنت اباد', 'اہلسنت اباد میلاد', 'اباد میلاد رہیگا', 'میلاد رہیگا ﷺ', 'رہیگا ﷺ Eide…', 'ﷺ Eide… ووٹ', 'Eide… ووٹ بجائے', 'ووٹ بجائے ووٹر', 'بجائے ووٹر ۲۰۰۴', 'ووٹر ۲۰۰۴ نشئی', '۲۰۰۴ نشئی اسٹیبلشمنٹ', 'نشئی اسٹیبلشمنٹ کتا', 'اسٹیبلشمنٹ کتا وزیراعظم', 'کتا وزیراعظم بن', 'وزیراعظم بن ۲۰۱۸', 'بن ۲۰۱۸ کتے', '۲۰۱۸ کتے PMبنتے', 'کتے PMبنتے دیکھ', 'PMبنتے دیکھ مشکل', 'دیکھ مشکل ناممکن', 'مشکل ناممکن کوشش', 'ناممکن کوشش پورے', 'کوشش پورے ہفتے', 'پورے ہفتے سالن', 'ہفتے سالن روٹی', 'سالن روٹی حال', 'روٹی حال وھ', 'حال وھ ھو', 'وھ ھو بیشک', 'ھو بیشک کیمنا', 'بیشک کیمنا حرام', 'کیمنا حرام حق', 'حرام حق بات', 'حق بات کتنا', 'بات کتنا پیسا', 'کتنا پیسا ماضی', 'پیسا ماضی انتہائی', 'ماضی انتہائی وقوف', 'انتہائی وقوف سمجھدار', 'وقوف سمجھدار مریم', 'سمجھدار مریم نواز', 'مریم نواز بزدارکی', 'نواز بزدارکی پرواز', 'بزدارکی پرواز بیک…', 'پرواز بیک… امین', 'بیک… امین ثمہ', 'امین ثمہ جیتھے', 'ثمہ جیتھے وتھے', 'جیتھے وتھے ا', 'وتھے ا کھلوتی', 'ا کھلوتی اسمبلی', 'کھلوتی اسمبلی بغیر', 'اسمبلی بغیر ڈیزل', 'بغیر ڈیزل اسکو', 'ڈیزل اسکو گدھا', 'اسکو گدھا گدھے', 'گدھا گدھے ڈنڈے', 'گدھے ڈنڈے ضرورت', 'ڈنڈے ضرورت عجیب', 'ضرورت عجیب پنگا', 'عجیب پنگا گولیاں', 'پنگا گولیاں محو', 'گولیاں محو رقص', 'محو رقص کوئ', 'رقص کوئ خبر', 'کوئ خبر غلط', 'خبر غلط سکتی', 'غلط سکتی دروازے', 'سکتی دروازے اتارتے', 'دروازے اتارتے تھپڑ', 'اتارتے تھپڑ لگاتے', 'تھپڑ لگاتے ویسے', 'لگاتے ویسے پیر', 'ویسے پیر کلہاڑی', 'پیر کلہاڑی مارنا', 'کلہاڑی مارنا سیکھے', 'مارنا سیکھے دلہن', 'سیکھے دلہن پھپھو', 'دلہن پھپھو ندیم', 'پھپھو ندیم ملک', 'ندیم ملک بطور', 'ملک بطور عام', 'بطور عام پاکستانی', 'عام پاکستانی عزیز', 'پاکستانی عزیز وزیر', 'عزیز وزیر اعلیٰ', 'وزیر اعلیٰ پنجاب', 'اعلیٰ پنجاب جناب', 'پنجاب جناب عثمان', 'جناب عثمان احمد', 'عثمان احمد بزدار', 'احمد بزدار خلاف', 'بزدار خلاف بیان', 'خلاف بیان پرزور', 'بیان پرزور مزمت', 'پرزور مزمت بیکار', 'مزمت بیکار قطری', 'بیکار قطری نانی', 'قطری نانی بلو', 'نانی بلو رانی', 'بلو رانی ذلیل', 'رانی ذلیل وقت', 'ذلیل وقت چاہتا', 'وقت چاہتا گیم', 'چاہتا گیم بری', 'گیم بری پھنس', 'بری پھنس صفدر', 'پھنس صفدر ازاد', 'صفدر ازاد واکے', 'ازاد واکے ٹوپی', 'واکے ٹوپی ڈرامہ', 'ٹوپی ڈرامہ کھولے', 'ڈرامہ کھولے ماب', 'کھولے ماب درخواست', 'ماب درخواست حضور', 'درخواست حضور جال', 'حضور جال بچائیں', 'جال بچائیں بھائیوں', 'بچائیں بھائیوں ویلکم', 'بھائیوں ویلکم بہنوں', 'ویلکم بہنوں کرا', 'بہنوں کرا نہیںبلی', 'کرا نہیںبلی دیکھو', 'نہیںبلی دیکھو زرا', 'دیکھو زرا پہ', 'زرا پہ کڑی', 'پہ کڑی نظر', 'کڑی نظر موٹی', 'نظر موٹی ٹویٹ', 'موٹی ٹویٹ ایتھے', 'ٹویٹ ایتھے جج', 'ایتھے جج اک', 'جج اک محترمہ', 'اک محترمہ پاک', 'محترمہ پاک بکواس', 'پاک بکواس رات', 'بکواس رات فوجی', 'رات فوجی ساتھ', 'فوجی ساتھ گل', 'ساتھ گل لگتا', 'گل لگتا انکے', 'لگتا انکے دیوتا', 'انکے دیوتا پورا', 'دیوتا پورا لکیروں', 'پورا لکیروں سہارے', 'لکیروں سہارے سوچتا', 'سہارے سوچتا بولتا', 'سوچتا بولتا ہاہاہاہاہاہاہاہاہاہاہااہاہاہاہا', 'بولتا ہاہاہاہاہاہاہاہاہاہاہااہاہاہاہا لگدا', 'ہاہاہاہاہاہاہاہاہاہاہااہاہاہاہا لگدا مینوں', 'لگدا مینوں ای', 'مینوں ای قربانی', 'ای قربانی پڑنی', 'قربانی پڑنی الٹی', 'پڑنی الٹی کھوپڑی', 'الٹی کھوپڑی کان', 'کھوپڑی کان سنو', 'کان سنو دوسرے', 'سنو دوسرے نکال', 'دوسرے نکال سنا', 'نکال سنا ۱', 'سنا ۱ اکیلا', '۱ اکیلا ۱۱', 'اکیلا ۱۱ گیارہ', '۱۱ گیارہ تاریخ', 'گیارہ تاریخ پہلی', 'تاریخ پہلی دفعہ', 'پہلی دفعہ برباد', 'دفعہ برباد کردیا', 'برباد کردیا واہ', 'کردیا واہ زندگی', 'واہ زندگی مصروف', 'زندگی مصروف اتنا', 'مصروف اتنا بھول', 'اتنا بھول یاد', 'بھول یاد اردو', 'یاد اردو زبان', 'اردو زبان ہور', 'زبان ہور ٹرک', 'ہور ٹرک انا', 'ٹرک انا ملوث', 'انا ملوث سندھ', 'ملوث سندھ پولیس', 'سندھ پولیس حوالے', 'پولیس حوالے وچ', 'حوالے وچ کہڑہ', 'وچ کہڑہ جوک', 'کہڑہ جوک جنابچھڈو', 'جوک جنابچھڈو رھن', 'جنابچھڈو رھن دیو', 'رھن دیو تہانوں', 'دیو تہانوں دا', 'تہانوں دا پتا', 'دا پتا اج', 'پتا اج استعفی', 'اج استعفی لکھنا', 'استعفی لکھنا ایا', 'لکھنا ایا اگلے', 'ایا اگلے جنم', 'اگلے جنم مل', 'جنم مل پریس', 'مل پریس کانفرنس', 'پریس کانفرنس صبح', 'کانفرنس صبح واقعات', 'صبح واقعات بابت', 'واقعات بابت کور', 'بابت کور کمانڈر', 'کور کمانڈر تحقیقات', 'کمانڈر تحقیقات رپورٹ', 'تحقیقات رپورٹ پیش', 'رپورٹ پیش حکم', 'پیش حکم حکومت', 'حکم حکومت IG', 'حکومت IG زبردست', 'IG زبردست چھٹیوں', 'زبردست چھٹیوں بھیجا', 'چھٹیوں بھیجا کھیل', 'بھیجا کھیل مزید', 'کھیل مزید دلچسپ', 'مزید دلچسپ جلسے', 'دلچسپ جلسے لوگوں', 'جلسے لوگوں بلالیا', 'لوگوں بلالیا مرگیا', 'بلالیا مرگیا اسکی', 'مرگیا اسکی برسی', 'اسکی برسی محبت', 'برسی محبت وراثت', 'محبت وراثت ملتی', 'وراثت ملتی تلاش', 'ملتی تلاش پڑتی', 'تلاش پڑتی ادب', 'پڑتی ادب نوازش', 'ادب نوازش دوسروں', 'نوازش دوسروں جلنے', 'دوسروں جلنے بہتر', 'جلنے بہتر یے', 'بہتر یے بیویوں', 'یے بیویوں خرچہ', 'بیویوں خرچہ پارلر', 'خرچہ پارلر مارخورز', 'پارلر مارخورز سعید', 'مارخورز سعید غنی', 'سعید غنی عمران', 'غنی عمران سازش', 'عمران سازش الحمدللہ', 'سازش الحمدللہ بےنقاب', 'الحمدللہ بےنقاب صافی', 'بےنقاب صافی پوچھوں', 'صافی پوچھوں بلاک', 'پوچھوں بلاک سچ', 'بلاک سچ بتائو', 'سچ بتائو تبدیلی', 'بتائو تبدیلی ارہی', 'تبدیلی ارہی لفافی', 'ارہی لفافی صحافی', 'لفافی صحافی ہاہاہاہاہاہا', 'صحافی ہاہاہاہاہاہا چالیس', 'ہاہاہاہاہاہا چالیس سالہ', 'چالیس سالہ صحافت', 'سالہ صحافت بلتکار', 'صحافت بلتکار مولا', 'بلتکار مولا خوش', 'مولا خوش دراصل', 'خوش دراصل ٹکلا', 'دراصل ٹکلا انکل', 'ٹکلا انکل چمہ', 'انکل چمہ بیچ', 'چمہ بیچ نانا', 'بیچ نانا اگئے', 'نانا اگئے اوئے', 'اگئے اوئے غائب', 'اوئے غائب لوگ', 'غائب لوگ ائے', 'لوگ ائے ہا', 'ائے ہا اہو', 'ہا اہو پشاور', 'اہو پشاور ہاٸیکورٹ', 'پشاور ہاٸیکورٹ لیگی', 'ہاٸیکورٹ لیگی رہنما', 'لیگی رہنما امیر', 'رہنما امیر مقام', 'امیر مقام FIA', 'مقام FIA کیسز', 'FIA کیسز سفارشات', 'کیسز سفارشات رد', 'سفارشات رد باعزت', 'رد باعزت لینا', 'باعزت لینا ھی', 'لینا ھی ھوا', 'ھی ھوا دودھ', 'ھوا دودھ راکھا', 'دودھ راکھا بلا', 'راکھا بلا چراغ', 'بلا چراغ تلے', 'چراغ تلے اندھیرا', 'تلے اندھیرا ۶', 'اندھیرا ۶ بسکٹ', '۶ بسکٹ گن', 'بسکٹ گن معافی', 'گن معافی دیندے', 'معافی دیندے قوم', 'دیندے قوم غلامی', 'قوم غلامی رسول', 'غلامی رسول موت', 'رسول موت قبول', 'موت قبول مصطفی', 'قبول مصطفی فضول', 'مصطفی فضول حضورصلى', 'فضول حضورصلى الله', 'حضورصلى الله عليه', 'الله عليه النبيين', 'عليه النبيين صلى', 'النبيين صلى نبی', 'صلى نبی شک', 'نبی شک بیرونی', 'شک بیرونی دوست', 'بیرونی دوست مدد', 'دوست مدد لٸے', 'مدد لٸے تیار', 'لٸے تیار بیٹھے', 'تیار بیٹھے ہمیں', 'بیٹھے ہمیں پوچھنا', 'ہمیں پوچھنا چھٹی', 'پوچھنا چھٹی لکھ', 'چھٹی لکھ شغل', 'لکھ شغل میلہ', 'شغل میلہ لان', 'میلہ لان دؤ', 'لان دؤ توانوں', 'دؤ توانوں فالورز', 'توانوں فالورز بڑھانے', 'فالورز بڑھانے تشریف', 'بڑھانے تشریف محسوس', 'تشریف محسوس دیوار', 'محسوس دیوار حکیم', 'دیوار حکیم اشتہار', 'حکیم اشتہار ٹوئیٹر', 'اشتہار ٹوئیٹر دواخانہ', 'ٹوئیٹر دواخانہ غیرتوں', 'دواخانہ غیرتوں جاہلوں', 'غیرتوں جاہلوں سوا', 'جاہلوں سوا نیازی', 'سوا نیازی ہارون', 'نیازی ہارون رشید', 'ہارون رشید StandWithSindhPolice', 'رشید StandWithSindhPolice فلاسفی', 'StandWithSindhPolice فلاسفی کھلے', 'فلاسفی کھلے بولا', 'کھلے بولا مائی', 'بولا مائی لارڈ', 'مائی لارڈ ڈیر', 'لارڈ ڈیر خکولے', 'ڈیر خکولے ماشاءالله', 'خکولے ماشاءالله دیکھنا', 'ماشاءالله دیکھنا کافی', 'دیکھنا کافی مقدار', 'کافی مقدار پاپ', 'مقدار پاپ کارن', 'پاپ کارن منگوا', 'کارن منگوا اواز', 'منگوا اواز قائد', 'اواز قائد اعظم', 'قائد اعظم لوگو', 'اعظم لوگو فون', 'لوگو فون پوچھ', 'فون پوچھ مزار', 'پوچھ مزار داخل', 'مزار داخل تعجب', 'داخل تعجب جانتا', 'تعجب جانتا کہنے', 'جانتا کہنے کاروائی', 'کہنے کاروائی چلو', 'کاروائی چلو ریلیف', 'چلو ریلیف ملے', 'ریلیف ملے صف', 'ملے صف شامل', 'صف شامل ھوگیا', 'شامل ھوگیا ھمارا', 'ھوگیا ھمارا نعرہ', 'ھمارا نعرہ حسن', 'نعرہ حسن اتفاق', 'حسن اتفاق گلی', 'اتفاق گلی کام', 'گلی کام معاملہ', 'کام معاملہ بولے', 'معاملہ بولے ڈمی', 'بولے ڈمی PM', 'ڈمی PM لطیفے', 'PM لطیفے کپتان', 'لطیفے کپتان میراثی', 'کپتان میراثی مرغے', 'میراثی مرغے نام', 'مرغے نام وردی', 'نام وردی اتار', 'وردی اتار کہیں', 'اتار کہیں مرد', 'کہیں مرد جوانی', 'مرد جوانی اعمال', 'جوانی اعمال بیٹی', 'اعمال بیٹی قسمت', 'بیٹی قسمت ساقی', 'قسمت ساقی بستا', 'ساقی بستا وجود', 'بستا وجود سلطنت', 'وجود سلطنت رگ', 'سلطنت رگ لفظ', 'رگ لفظ تشریح', 'لفظ تشریح غریب', 'تشریح غریب ڈھنگی', 'غریب ڈھنگی پرواہ', 'ڈھنگی پرواہ مخلوق', 'پرواہ مخلوق عرض', 'مخلوق عرض کیلئے', 'عرض کیلئے ڈھنگ', 'کیلئے ڈھنگ کھسم', 'ڈھنگ کھسم مر', 'کھسم مر نئ', 'مر نئ سکون', 'نئ سکون عطا', 'سکون عطا فرماۓ', 'عطا فرماۓ ثم', 'فرماۓ ثم ایناں', 'ثم ایناں نی', 'ایناں نی جیناں', 'نی جیناں اویا', 'جیناں اویا ملازم', 'اویا ملازم تنخواہ', 'ملازم تنخواہ تولہ', 'تنخواہ تولہ سونے', 'تولہ سونے برابر', 'سونے برابر بیغیرت', 'برابر بیغیرت چوک', 'بیغیرت چوک در', 'چوک در کہتے', 'در کہتے کٹھ', 'کہتے کٹھ پتلی', 'کٹھ پتلی فیصلے', 'پتلی فیصلے انتقام', 'فیصلے انتقام جلدی', 'انتقام جلدی سوچ', 'جلدی سوچ بدزبان', 'سوچ بدزبان بد', 'بدزبان بد کلام', 'بد کلام چوہان', 'کلام چوہان ٹائیگر', 'چوہان ٹائیگر نامی', 'ٹائیگر نامی لگام', 'نامی لگام BachaKhanOurHero', 'لگام BachaKhanOurHero دماغ', 'BachaKhanOurHero دماغ گرد', 'دماغ گرد گھومتے', 'گرد گھومتے موجودگی', 'گھومتے موجودگی ضروری', 'موجودگی ضروری استعمال', 'ضروری استعمال عورت', 'استعمال عورت اتنی', 'عورت اتنی وفا', 'اتنی وفا جنت', 'وفا جنت خواب', 'جنت خواب جبکہ', 'خواب جبکہ پہلو', 'جبکہ پہلو بیٹھا', 'پہلو بیٹھا تین', 'بیٹھا تین کسطرح', 'تین کسطرح سانوں', 'کسطرح سانوں بھل', 'سانوں بھل سکدے', 'بھل سکدے ملی', 'سکدے ملی ہنھ', 'ملی ہنھ نہی', 'ہنھ نہی بدلے', 'نہی بدلے چکا', 'بدلے چکا ن', 'چکا ن لیک', 'ن لیک گنجے', 'لیک گنجے مخالف', 'گنجے مخالف تقریر', 'مخالف تقریر کروائ', 'تقریر کروائ گنجی', 'کروائ گنجی اجازت', 'گنجی اجازت پوسٹر', 'اجازت پوسٹر نیچے', 'پوسٹر نیچے پیپلزپارٹی', 'نیچے پیپلزپارٹی لکھوا', 'پیپلزپارٹی لکھوا بینرز', 'لکھوا بینرز وائرل', 'بینرز وائرل جوائ', 'وائرل جوائ گرفتار', 'جوائ گرفتار کروا', 'گرفتار کروا اتحاد', 'کروا اتحاد بینڈ', 'اتحاد بینڈ بجائ', 'بینڈ بجائ جارہی', 'بجائ جارہی گشتی', 'جارہی گشتی پاگل', 'گشتی پاگل ہوگی', 'پاگل ہوگی سیریس', 'ہوگی سیریس شام', 'سیریس شام جتنے', 'شام جتنے ریٹویٹ', 'جتنے ریٹویٹ سپیشل', 'ریٹویٹ سپیشل پروموشن', 'سپیشل پروموشن لسٹ', 'پروموشن لسٹ گاجلدی', 'لسٹ گاجلدی گارنٹی', 'گاجلدی گارنٹی ف…', 'گارنٹی ف… سرعام', 'ف… سرعام گوئ', 'سرعام گوئ ہنر', 'گوئ ہنر پایا', 'ہنر پایا ع', 'پایا ع جگر', 'ع جگر وچلے', 'جگر وچلے ذرائع', 'وچلے ذرائع مطابق', 'ذرائع مطابق کپٹن', 'مطابق کپٹن ۱۹۹۲', 'کپٹن ۱۹۹۲ بدلہ', '۱۹۹۲ بدلہ CompromiseGames', 'بدلہ CompromiseGames پٹواریوں', 'CompromiseGames پٹواریوں مادرملت', 'پٹواریوں مادرملت بنا', 'مادرملت بنا سوار', 'بنا سوار سواری', 'سوار سواری نکما', 'سواری نکما کیپٹن', 'نکما کیپٹن صفدو', 'کیپٹن صفدو گجر', 'صفدو گجر طیارہ', 'گجر طیارہ وڑائچ', 'طیارہ وڑائچ چیمہ', 'وڑائچ چیمہ خدمت', 'چیمہ خدمت نیو', 'خدمت نیو لیول', 'نیو لیول انسانوں', 'لیول انسانوں ملا', 'انسانوں ملا حساب', 'ملا حساب کتوں', 'حساب کتوں ہوگا', 'کتوں ہوگا باجوا', 'ہوگا باجوا چھاتی', 'باجوا چھاتی قریب', 'چھاتی قریب میڈل', 'قریب میڈل دیکھے', 'میڈل دیکھے پچھلے', 'دیکھے پچھلے چار', 'پچھلے چار سالوں', 'چار سالوں سےاتنا', 'سالوں سےاتنا فتح', 'سےاتنا فتح کشمیر', 'فتح کشمیر اسکے', 'کشمیر اسکے بائیں', 'اسکے بائیں ہاتھ', 'بائیں ہاتھ راکٹ', 'ہاتھ راکٹ سائنس', 'راکٹ سائنس جیو', 'سائنس جیو شیرنی', 'جیو شیرنی مشیروں', 'شیرنی مشیروں وزیروں', 'مشیروں وزیروں نیند', 'وزیروں نیند پنڈی', 'نیند پنڈی بواے', 'پنڈی بواے کال', 'بواے کال گئ', 'کال گئ zabardast', 'گئ zabardast رابطے', 'zabardast رابطے شفاء', 'رابطے شفاء روح', 'شفاء روح انتہا', 'روح انتہا چوری', 'انتہا چوری خوب', 'چوری خوب کمال', 'خوب کمال مسکرانا', 'کمال مسکرانا ھمیں', 'مسکرانا ھمیں ڈوبا', 'ھمیں ڈوبا ۴٢٠', 'ڈوبا ۴٢٠ زنبیل', '۴٢٠ زنبیل دفن', 'زنبیل دفن اڑ', 'دفن اڑ ماتحت', 'اڑ ماتحت بنانا', 'ماتحت بنانا اسان', 'بنانا اسان ٹرکوں', 'اسان ٹرکوں پیچھے', 'ٹرکوں پیچھے سلام', 'پیچھے سلام مادر', 'سلام مادر ملت', 'مادر ملت زلت', 'ملت زلت افتخار', 'زلت افتخار ٹھاکر', 'افتخار ٹھاکر سٹائل', 'ٹھاکر سٹائل بھٹو', 'سٹائل بھٹو پوچھنے', 'بھٹو پوچھنے بتانے', 'پوچھنے بتانے ضروت', 'بتانے ضروت کل', 'ضروت کل کہاں', 'کل کہاں گزاری', 'کہاں گزاری چنگچی', 'گزاری چنگچی ڈھونڈ', 'چنگچی ڈھونڈ بیانیہ', 'ڈھونڈ بیانیہ گھر', 'بیانیہ گھر پہنچائیں', 'گھر پہنچائیں انقلاب', 'پہنچائیں انقلاب بریکنگ', 'انقلاب بریکنگ نیوز', 'بریکنگ نیوز کامیاب', 'نیوز کامیاب جلسوں', 'کامیاب جلسوں نکے', 'جلسوں نکے ابا', 'نکے ابا استعفے', 'ابا استعفے شروع', 'استعفے شروع مبارک', 'شروع مبارک ریاست', 'مبارک ریاست …', 'ریاست … ڈوبے', '… ڈوبے اصل', 'ڈوبے اصل لفافے', 'اصل لفافے خونی', 'لفافے خونی لبرل', 'خونی لبرل روز', 'لبرل روز جھوٹ', 'روز جھوٹ بولتے', 'جھوٹ بولتے سوتے', 'بولتے سوتے عادت', 'سوتے عادت غم', 'عادت غم شب', 'غم شب ارزو', 'شب ارزو چاہ', 'ارزو چاہ اجڑ', 'چاہ اجڑ بسا', 'اجڑ بسا بچھڑ', 'بسا بچھڑ علاؤہ', 'بچھڑ علاؤہ دنیا', 'علاؤہ دنیا سچی', 'دنیا سچی مطلب', 'سچی مطلب کنوارا', 'مطلب کنوارا مروں', 'کنوارا مروں سمجھ', 'مروں سمجھ ارہا', 'سمجھ ارہا ۹', 'ارہا ۹ بجے', '۹ بجے خبریں', 'بجے خبریں فلم', 'خبریں فلم سنگم', 'فلم سنگم طبعیت', 'سنگم طبعیت خراب', 'طبعیت خراب ہوگئی', 'خراب ہوگئی بھونکنے', 'ہوگئی بھونکنے ائ', 'بھونکنے ائ دباو', 'ائ دباو گورنمنٹ', 'دباو گورنمنٹ وفاق', 'گورنمنٹ وفاق پہر', 'وفاق پہر بھر', 'پہر بھر بھونک', 'بھر بھونک ضرور', 'بھونک ضرور غور', 'ضرور غور پانی', 'غور پانی ختم', 'پانی ختم پرائمری', 'ختم پرائمری سکول', 'پرائمری سکول بچہ', 'سکول بچہ منٹ', 'بچہ منٹ اشتاد', 'منٹ اشتاد پی', 'اشتاد پی اواں', 'پی اواں اغواکاروں', 'اواں اغواکاروں چنگل', 'اغواکاروں چنگل کرانا', 'چنگل کرانا کاکا', 'کرانا کاکا عدت', 'کاکا عدت پوری', 'عدت پوری عوام', 'پوری عوام مدت', 'عوام مدت ترجمان', 'مدت ترجمان گھٹیا', 'ترجمان گھٹیا باتیں', 'گھٹیا باتیں اندر', 'باتیں اندر اوپر', 'اندر اوپر درست', 'اوپر درست رویہ', 'درست رویہ قسمیں', 'رویہ قسمیں انج', 'قسمیں انج چھوٹنے', 'انج چھوٹنے موسمیات', 'چھوٹنے موسمیات زرتاج', 'موسمیات زرتاج اظہار', 'زرتاج اظہار اطمینان', 'اظہار اطمینان ھاھاھاھاھااو', 'اطمینان ھاھاھاھاھااو خیر', 'ھاھاھاھاھااو خیر پاٸیا', 'خیر پاٸیا فیاض', 'پاٸیا فیاض نال', 'فیاض نال پٸے', 'نال پٸے کردے', 'پٸے کردے جونی', 'کردے جونی نٸیں', 'جونی نٸیں جماعت', 'نٸیں جماعت اسلامی', 'جماعت اسلامی جلوس', 'اسلامی جلوس تحریک', 'جلوس تحریک طور', 'تحریک طور نوکر', 'طور نوکر شاہی', 'نوکر شاہی دلالی', 'شاہی دلالی ایم', 'دلالی ایم مخالفت', 'ایم مخالفت ھاھاھاھا', 'مخالفت ھاھاھاھا توں', 'ھاھاھاھا توں مزے', 'توں مزے ماہیا', 'مزے ماہیا ہن', 'ماہیا ہن انیل', 'ہن انیل کپورے', 'انیل کپورے کہنا', 'کپورے کہنا نامراد', 'کہنا نامراد کہی', 'نامراد کہی دوسری', 'کہی دوسری کھڑی', 'دوسری کھڑی فراغت', 'کھڑی فراغت میاں', 'فراغت میاں ساب', 'میاں ساب شیر', 'ساب شیر ثابت', 'شیر ثابت پونچھ', 'ثابت پونچھ لگوانے', 'پونچھ لگوانے سرجری', 'لگوانے سرجری روانہ', 'سرجری روانہ ذرایع', 'روانہ ذرایع حامڈ', 'ذرایع حامڈ میڑ', 'حامڈ میڑ جلد', 'میڑ جلد سوفٹ', 'جلد سوفٹ ویئر', 'سوفٹ ویئر ڈیٹ', 'ویئر ڈیٹ شیخ', 'ڈیٹ شیخ خودکش', 'شیخ خودکش گھنٹے', 'خودکش گھنٹے اپنوں', 'گھنٹے اپنوں نقصان', 'اپنوں نقصان پہنچانے', 'نقصان پہنچانے نظرتوصرف', 'پہنچانے نظرتوصرف لڑکیوں', 'نظرتوصرف لڑکیوں کولگتی', 'لڑکیوں کولگتی لڑکوں', 'کولگتی لڑکوں پیچھےتوجب', 'لڑکوں پیچھےتوجب لگتے', 'پیچھےتوجب لگتے زادی', 'لگتے زادی بستی', 'زادی بستی ملنا', 'بستی ملنا بار', 'ملنا بار منیر', 'بار منیر الیکشن', 'منیر الیکشن امیدوار', 'الیکشن امیدوار کمشنر', 'امیدوار کمشنر نو', 'کمشنر نو گولی', 'نو گولی مار', 'گولی مار دیندا', 'مار دیندا لگھڑ', 'دیندا لگھڑ بھگڑ', 'لگھڑ بھگڑ کروایا', 'بھگڑ کروایا پلے', 'کروایا پلے ھیں', 'پلے ھیں حیرت', 'ھیں حیرت انکو', 'حیرت انکو اعتراض', 'انکو اعتراض کریڈٹ', 'اعتراض کریڈٹ پڑے', 'کریڈٹ پڑے بهی', 'پڑے بهی یوتھیے', 'بهی یوتھیے بےچارے', 'یوتھیے بےچارے فی', 'بےچارے فی سبیل', 'فی سبیل ہيں', 'سبیل ہيں مان', 'ہيں مان مرشد', 'مان مرشد تیر', 'مرشد تیر ميں', 'تیر ميں شکار', 'ميں شکار StateAboveStateRejected', 'شکار StateAboveStateRejected IGSindh', 'StateAboveStateRejected IGSindh نیا', 'IGSindh نیا گانا', 'نیا گانا ریلیز', 'گانا ریلیز کتی', 'ریلیز کتی جئ', 'کتی جئ زنانی', 'جئ زنانی رول', 'زنانی رول جھاد', 'رول جھاد مجاد', 'جھاد مجاد جناح', 'مجاد جناح رح', 'جناح رح نہیںتم', 'رح نہیںتم چھٹیاں', 'نہیںتم چھٹیاں بتا', 'چھٹیاں بتا شرم', 'بتا شرم انی', 'شرم انی چاہیےقانون', 'انی چاہیےقانون عمل', 'چاہیےقانون عمل گیایہ', 'عمل گیایہ باپ', 'گیایہ باپ ہےیہ', 'باپ ہےیہ پاکستانیوں', 'ہےیہ پاکستانیوں وطن', 'پاکستانیوں وطن ہےاب', 'وطن ہےاب داماد', 'ہےاب داماد مچھ', 'داماد مچھ جیل', 'مچھ جیل تھاقانون', 'جیل تھاقانون پڑھو', 'تھاقانون پڑھو اخر', 'پڑھو اخر ماموں', 'اخر ماموں بیٹے', 'ماموں بیٹے کلاس', 'بیٹے کلاس باخدا', 'کلاس باخدا یقین', 'باخدا یقین اتا', 'یقین اتا لڑکا', 'اتا لڑکا Geo', 'لڑکا Geo News', 'Geo News پروگرام', 'News پروگرام پکا', 'پروگرام پکا اصلی', 'پکا اصلی بیٹا', 'اصلی بیٹا بندوق', 'بیٹا بندوق ذیادہ', 'بندوق ذیادہ طاقت', 'ذیادہ طاقت قلم', 'طاقت قلم کیمرے', 'قلم کیمرے شرط', 'کیمرے شرط کیمرا', 'شرط کیمرا بکے', 'کیمرا بکے دلال', 'بکے دلال اعوان', 'دلال اعوان جذباتی', 'اعوان جذباتی ایہہ', 'جذباتی ایہہ کم', 'ایہہ کم پیندا', 'کم پیندا سارے', 'پیندا سارے بابر', 'سارے بابر فردوس', 'بابر فردوس عاشق', 'فردوس عاشق ہوندے', 'عاشق ہوندے پچیس', 'ہوندے پچیس پیچش', 'پچیس پیچش سال', 'پیچش سال اذان', 'سال اذان سننےسے', 'اذان سننےسے ذہنی', 'سننےسے ذہنی بیماریوں', 'ذہنی بیماریوں نجات', 'بیماریوں نجات بدتمیزی', 'نجات بدتمیزی مت', 'بدتمیزی مت گھبرائیں', 'مت گھبرائیں تعارف', 'گھبرائیں تعارف کرواتے', 'تعارف کرواتے سمجھداری', 'کرواتے سمجھداری پہچان', 'سمجھداری پہچان اگے', 'پہچان اگے مرادعلی', 'اگے مرادعلی سےپوچھے', 'مرادعلی سےپوچھے اریحائی', 'سےپوچھے اریحائی ملازمت', 'اریحائی ملازمت چھوڑ', 'ملازمت چھوڑ کھیتی', 'چھوڑ کھیتی باڑی', 'کھیتی باڑی ارائیوں', 'باڑی ارائیوں پیشہ', 'ارائیوں پیشہ ذراعت', 'پیشہ ذراعت باغ', 'ذراعت باغ بانی', 'باغ بانی پیاز', 'بانی پیاز اگانے', 'پیاز اگانے کھانے', 'اگانے کھانے کوپیاز', 'کھانے کوپیاز تڑکا', 'کوپیاز تڑکا لگانے', 'تڑکا لگانے طریقہ', 'لگانے طریقہ اقوام', 'طریقہ اقوام سیکھا', 'اقوام سیکھا ارائیں', 'سیکھا ارائیں عربی', 'ارائیں عربی نسل', 'عربی نسل عرب', 'نسل عرب عجم', 'عرب عجم انکی', 'عجم انکی تہذیب', 'انکی تہذیب نمائیاں', 'تہذیب نمائیاں فرق', 'نمائیاں فرق نشہ', 'فرق نشہ شاہین', 'نشہ شاہین واقعی', 'شاہین واقعی مزہ', 'واقعی مزہ حیدر', 'مزہ حیدر بھائی', 'حیدر بھائی پیارے', 'بھائی پیارے انسان', 'پیارے انسان بےوفا', 'انسان بےوفا مانا', 'بےوفا مانا تیرا', 'مانا تیرا بنتا', 'تیرا بنتا فیصل', 'بنتا فیصل واوڈا', 'فیصل واوڈا ترین', 'واوڈا ترین اعلان', 'ترین اعلان انڈیا', 'اعلان انڈیا سوگ', 'انڈیا سوگ انرت', 'سوگ انرت ہوگیا', 'انرت ہوگیا ہمیشہ', 'ہوگیا ہمیشہ دیوالی', 'ہمیشہ دیوالی مانتا', 'دیوالی مانتا انڈین', 'مانتا انڈین جان', 'انڈین جان ڈھائی', 'جان ڈھائی ہزار', 'ڈھائی ہزار کرسیوں', 'ہزار کرسیوں پانچ', 'کرسیوں پانچ لاکھ', 'پانچ لاکھ افراد', 'لاکھ افراد بٹھانے', 'افراد بٹھانے ذمہ', 'بٹھانے ذمہ عاصمہ', 'ذمہ عاصمہ شیرازی', 'عاصمہ شیرازی سلیم', 'شیرازی سلیم اٹھتی', 'سلیم اٹھتی کالج', 'اٹھتی کالج ۵', 'کالج ۵ منت', '۵ منت ٹویٹر', 'منت ٹویٹر بخیر', 'ٹویٹر بخیر سکوں', 'بخیر سکوں لیٹ', 'سکوں لیٹ پاتی', 'لیٹ پاتی وین', 'پاتی وین اورمیں', 'وین اورمیں بھاگ', 'اورمیں بھاگ گانڈو', 'بھاگ گانڈو بھڑوے', 'گانڈو بھڑوے کنجر', 'بھڑوے کنجر نشئ', 'کنجر نشئ چور', 'نشئ چور اچکے', 'چور اچکے حرامخور', 'اچکے حرامخور کرپٹ', 'حرامخور کرپٹ زانی', 'کرپٹ زانی پالشیئے', 'زانی پالشیئے ھمارے', 'پالشیئے ھمارے جلانے', 'ھمارے جلانے یوے', 'جلانے یوے انے', 'یوے انے لفافہ', 'انے لفافہ کتنے', 'لفافہ کتنے نیک', 'کتنے نیک پیپلز', 'نیک پیپلز پارٹی', 'پیپلز پارٹی نون', 'پارٹی نون لیگ', 'نون لیگ مولانا', 'لیگ مولانا فضل', 'مولانا فضل ا…', 'فضل ا… بڑوں', 'ا… بڑوں لڑائی', 'بڑوں لڑائی خوشی', 'لڑائی خوشی اچھل', 'خوشی اچھل رھے', 'اچھل رھے ھوتابعدار', 'رھے ھوتابعدار نوازشریف', 'ھوتابعدار نوازشریف اعزاز', 'نوازشریف اعزاز حاصل', 'اعزاز حاصل لوئر', 'حاصل لوئر پاپولر', 'لوئر پاپولر ھورھا', 'پاپولر ھورھا وؤٹ', 'ھورھا وؤٹ بندہ', 'وؤٹ بندہ بوٹ', 'بندہ بوٹ چاٹ', 'بوٹ چاٹ تھکتا', 'چاٹ تھکتا شاعر', 'تھکتا شاعر ائو', 'شاعر ائو اکٹھے', 'ائو اکٹھے ڈوبتے', 'اکٹھے ڈوبتے ڈوبنا', 'ڈوبتے ڈوبنا پٹوارن', 'ڈوبنا پٹوارن بیغیرتوں', 'پٹوارن بیغیرتوں افسوس', 'بیغیرتوں افسوس محض', 'افسوس محض ڈرامے', 'محض ڈرامے مبنی', 'ڈرامے مبنی راء', 'مبنی راء ٹکڑوں', 'راء ٹکڑوں پلنے', 'ٹکڑوں پلنے خاص', 'پلنے خاص بھونکنا', 'خاص بھونکنا پھونکی', 'بھونکنا پھونکی ہٹے', 'پھونکی ہٹے شکوے', 'ہٹے شکوے برا', 'شکوے برا چاہنا', 'برا چاہنا تربیت', 'چاہنا تربیت اپس', 'تربیت اپس چے', 'اپس چے فساد', 'چے فساد پے', 'فساد پے جانا', 'پے جانا وا', 'جانا وا صحافیوں', 'وا صحافیوں کھسرے', 'صحافیوں کھسرے اوزار', 'کھسرے اوزار دئے', 'اوزار دئے جونسا', 'دئے جونسا سائڈ', 'جونسا سائڈ سکو', 'سائڈ سکو مثلا', 'سکو مثلا پڑتا', 'مثلا پڑتا افسران', 'پڑتا افسران چلے', 'افسران چلے فورس', 'چلے فورس لیئے', 'فورس لیئے ڈاکٹر', 'لیئے ڈاکٹر شہباز', 'ڈاکٹر شہباز ہائے', 'شہباز ہائے مینو', 'ہائے مینو خور', 'مینو خور میڈم', 'خور میڈم جتنی', 'میڈم جتنی لڑکیاں', 'جتنی لڑکیاں سوٹ', 'لڑکیاں سوٹ پہن', 'سوٹ پہن ماسک', 'پہن ماسک کرونا', 'ماسک کرونا پیٹھ', 'کرونا پیٹھ برائی', 'پیٹھ برائی ایمانداری', 'برائی ایمانداری کھو', 'ایمانداری کھو جاو', 'کھو جاو سلیوٹ', 'جاو سلیوٹ جہنوں', 'سلیوٹ جہنوں دائرہ', 'جہنوں دائرہ اختیار', 'دائرہ اختیار اثر', 'اختیار اثر انداز', 'اثر انداز احتجاجا', 'انداز احتجاجا درخواستیں', 'احتجاجا درخواستیں جمع', 'درخواستیں جمع کروانا', 'جمع کروانا کردیں', 'کروانا کردیں ITTEFAQ', 'کردیں ITTEFAQ PROMO', 'ITTEFAQ PROMO بہترین', 'PROMO بہترین فالوبیک', 'بہترین فالوبیک ٹیم', 'فالوبیک ٹیم خوامخواہ', 'ٹیم خوامخواہ شراکت', 'خوامخواہ شراکت ہنستے', 'شراکت ہنستے سہہ', 'ہنستے سہہ سیانے', 'سہہ سیانے طریقے', 'سیانے طریقے رہیے', 'طریقے رہیے حالت', 'رہیے حالت سہی', 'حالت سہی ۷', 'سہی ۷ خون', '۷ خون معاف', 'خون معاف شخص', 'معاف شخص گراتے', 'شخص گراتے گر', 'گراتے گر کاٹ', 'گر کاٹ افراتفری', 'کاٹ افراتفری پھیل', 'افراتفری پھیل جنریٹر', 'پھیل جنریٹر مک', 'جنریٹر مک غزوہ', 'مک غزوہ ٹویٹس', 'غزوہ ٹویٹس ڈرافٹ', 'ٹویٹس ڈرافٹ قدرت', 'ڈرافٹ قدرت حسین', 'قدرت حسین مورت', 'حسین مورت جانچنے', 'مورت جانچنے بیٹھوں', 'جانچنے بیٹھوں صدیاں', 'بیٹھوں صدیاں پڑ', 'صدیاں پڑ ادائے', 'پڑ ادائے سخن', 'ادائے سخن جبیں', 'سخن جبیں چھونے', 'جبیں چھونے دھرتی', 'چھونے دھرتی ٹکرا', 'دھرتی ٹکرا ناز', 'ٹکرا ناز چھو', 'ناز چھو ازلوں', 'چھو ازلوں بیمار', 'ازلوں بیمار لمحوں', 'بیمار لمحوں عزتی', 'لمحوں عزتی چیئرمین', 'عزتی چیئرمین زندہ', 'چیئرمین زندہ سیاسی', 'زندہ سیاسی جرنیل', 'سیاسی جرنیل بیوی', 'جرنیل بیوی سکتے', 'بیوی سکتے دلوائے', 'سکتے دلوائے خنزیرکےبچےکاباقی', 'دلوائے خنزیرکےبچےکاباقی کاٹبرجوپاکستان', 'خنزیرکےبچےکاباقی کاٹبرجوپاکستان ہےاسےISIاٹھاکےاس', 'کاٹبرجوپاکستان ہےاسےISIاٹھاکےاس خنزیرکوپاکستان', 'ہےاسےISIاٹھاکےاس خنزیرکوپاکستان بلاسکتی', 'خنزیرکوپاکستان بلاسکتی ہےاورپھراس', 'بلاسکتی ہےاورپھراس پرچھترول', 'ہےاورپھراس پرچھترول کےبیل', 'پرچھترول کےبیل بوٹےبناکےاس', 'کےبیل بوٹےبناکےاس کاایجنڈاپروپیگنڈااس', 'بوٹےبناکےاس کاایجنڈاپروپیگنڈااس گھسابھی', 'کاایجنڈاپروپیگنڈااس گھسابھی ہےاوراس', 'گھسابھی ہےاوراس کےناجائزباپ', 'ہےاوراس کےناجائزباپ گوالمنڈیلاجس', 'کےناجائزباپ گوالمنڈیلاجس کایہ', 'گوالمنڈیلاجس کایہ پالتوکتاہےکوبھی', 'کایہ پالتوکتاہےکوبھی واپس', 'پالتوکتاہےکوبھی واپس مادرچودایزی', 'واپس مادرچودایزی لےرہاISIکومیشایاداگئی', 'مادرچودایزی لےرہاISIکومیشایاداگئی سکینہ', 'لےرہاISIکومیشایاداگئی سکینہ کہتا', 'سکینہ کہتا بابا', 'کہتا بابا مرثیہ', 'بابا مرثیہ سوال', 'مرثیہ سوال جواب', 'سوال جواب پوچھا', 'جواب پوچھا مفت', 'پوچھا مفت گھوٹ', 'مفت گھوٹ بوا', 'گھوٹ بوا بنی', 'بوا بنی تبھی', 'بنی تبھی نکالا', 'تبھی نکالا منحوس', 'نکالا منحوس مارا', 'منحوس مارا لوڈ', 'مارا لوڈ شیڈنگ', 'لوڈ شیڈنگ وعدہ', 'شیڈنگ وعدہ کمبخت', 'وعدہ کمبخت پرچی', 'کمبخت پرچی پڑھ', 'پرچی پڑھ بونگیاں', 'پڑھ بونگیاں مارتے', 'بونگیاں مارتے رحم', 'مارتے رحم عیش', 'رحم عیش اولاد', 'عیش اولاد چھتر', 'اولاد چھتر پٹواری', 'چھتر پٹواری کھا', 'پٹواری کھا پٹ…', 'کھا پٹ… ادارے', 'پٹ… ادارے وقار', 'ادارے وقار احتجاج', 'وقار احتجاج سستا', 'احتجاج سستا بناؤ', 'سستا بناؤ ٹکے', 'بناؤ ٹکے سلیکٹڈ', 'ٹکے سلیکٹڈ بھلا', 'سلیکٹڈ بھلا سلیکٹر', 'بھلا سلیکٹر اجائے', 'سلیکٹر اجائے بھنگڑے', 'اجائے بھنگڑے ڈالتے', 'بھنگڑے ڈالتے اوقات', 'ڈالتے اوقات ریے', 'اوقات ریے مزا', 'ریے مزا پٹیل', 'مزا پٹیل اکلوتی', 'پٹیل اکلوتی کلئیر', 'اکلوتی کلئیر بننے', 'کلئیر بننے شکوک', 'بننے شکوک کدھر', 'شکوک کدھر افواہ', 'کدھر افواہ سسرال', 'افواہ سسرال درویش', 'سسرال درویش چھٹ', 'درویش چھٹ لیڈر', 'چھٹ لیڈر نکلا', 'لیڈر نکلا باندری', 'نکلا باندری الگ', 'باندری الگ جانتے', 'الگ جانتے گالی', 'جانتے گالی توہین', 'گالی توہین لگالے', 'توہین لگالے دیکھنے', 'لگالے دیکھنے شکھنا', 'دیکھنے شکھنا کوٸی', 'شکھنا کوٸی گڈ', 'کوٸی گڈ ناٸیٹ', 'گڈ ناٸیٹ گزر', 'ناٸیٹ گزر موازنہ', 'گزر موازنہ ترق…', 'موازنہ ترق… مقبول', 'ترق… مقبول ٹی', 'مقبول ٹی مجبور', 'ٹی مجبور ارہے', 'مجبور ارہے عقل', 'ارہے عقل جمی', 'عقل جمی پڑی', 'جمی پڑی پھوپھا', 'پڑی پھوپھا حرکتیں', 'پھوپھا حرکتیں دس', 'حرکتیں دس تانو', 'دس تانو پھوپو', 'تانو پھوپو SindhPolice', 'پھوپو SindhPolice شمالی', 'SindhPolice شمالی علاقہ', 'شمالی علاقہ جات', 'علاقہ جات سیر', 'جات سیر محکمہ', 'سیر محکمہ سیاحت', 'محکمہ سیاحت مہنگا', 'سیاحت مہنگا تصویروں', 'مہنگا تصویروں لےکر', 'تصویروں لےکر لاک', 'لےکر لاک رہڈیو', 'لاک رہڈیو ۷۴۹', 'رہڈیو ۷۴۹ ورکرز', '۷۴۹ ورکرز فارغ', 'ورکرز فارغ ۲۰۲۰', 'فارغ ۲۰۲۰ نوکریاں', '۲۰۲۰ نوکریاں ترقی', 'نوکریاں ترقی شبلی', 'ترقی شبلی شیدا', 'شبلی شیدا فواد', 'شیدا فواد مسٹر', 'فواد مسٹر اکبر', 'مسٹر اکبر WeStandWithSindhPolice', 'اکبر WeStandWithSindhPolice PunjabPolice', 'WeStandWithSindhPolice PunjabPolice تھوڑی', 'PunjabPolice تھوڑی چپیڑ', 'تھوڑی چپیڑ چوڑے', 'چپیڑ چوڑے دکھاو', 'چوڑے دکھاو بتاتا', 'دکھاو بتاتا جگہ', 'بتاتا جگہ چاہئے', 'جگہ چاہئے انکھوں', 'چاہئے انکھوں روشنی', 'انکھوں روشنی رکھ', 'روشنی رکھ سہیلے', 'رکھ سہیلے بےبے', 'سہیلے بےبے چمڑہ', 'بےبے چمڑہ سک', 'چمڑہ سک اوتھے', 'سک اوتھے تیل', 'اوتھے تیل پیپا', 'تیل پیپا پانا', 'پیپا پانا پئے', 'پانا پئے البتہ', 'پئے البتہ بھیناں', 'البتہ بھیناں کاشت', 'بھیناں کاشت نیں', 'کاشت نیں انیس', 'نیں انیس بیس', 'انیس بیس ساٹھ', 'بیس ساٹھ ستر', 'ساٹھ ستر گزار', 'ستر گزار دھوبی', 'گزار دھوبی گھاٹ', 'دھوبی گھاٹ کااس', 'گھاٹ کااس dog', 'کااس dog سمجھاپڑھا', 'dog سمجھاپڑھا نئی', 'سمجھاپڑھا نئی علم', 'نئی علم علمیت', 'علم علمیت جنازہ', 'علمیت جنازہ نکل', 'جنازہ نکل کپڑے', 'نکل کپڑے دھونے', 'کپڑے دھونے ڈنڈا', 'دھونے ڈنڈا جسے', 'ڈنڈا جسے پھرتا', 'جسے پھرتا یکو', 'پھرتا یکو پہلا', 'یکو پہلا جلوہ', 'پہلا جلوہ خلا', 'جلوہ خلا ئ', 'خلا ئ مخلو', 'ئ مخلو ق', 'مخلو ق ابے', 'ق ابے Game', 'ابے Game کہتی', 'Game کہتی بڑ', 'کہتی بڑ وں', 'بڑ وں کوئٹہ', 'وں کوئٹہ شرکت', 'کوئٹہ شرکت انکار', 'شرکت انکار پیا', 'انکار پیا شفاعت', 'پیا شفاعت یقیں', 'شفاعت یقیں حشر', 'یقیں حشر جہنم', 'حشر جہنم بچا', 'جہنم بچا واله', 'بچا واله گرم', 'واله گرم چائے', 'گرم چائے گرتا', 'چائے گرتا از', 'گرتا از محنتی', 'از محنتی محنت', 'محنتی محنت تکے', 'محنت تکے مارنے', 'تکے مارنے شریف', 'مارنے شریف ظالم', 'شریف ظالم سر', 'ظالم سر غزوۂ', 'سر غزوۂ ہند', 'غزوۂ ہند زلیل', 'ہند زلیل بـے', 'زلیل بـے شـک', 'بـے شـک شـخـص', 'شـک شـخـص کامـیاب', 'شـخـص کامـیاب ہـو', 'کامـیاب ہـو گیـا', 'ہـو گیـا جـس', 'گیـا جـس نـے', 'جـس نـے اپـنے', 'نـے اپـنے نـفس', 'اپـنے نـفس کـو', 'نـفس کـو پـاکـیزہ', 'کـو پـاکـیزہ رکـھا', 'پـاکـیزہ رکـھا الـــقـــران', 'رکـھا الـــقـــران °', 'الـــقـــران ° للو', '° للو اینکر', 'للو اینکر ہولیس', 'اینکر ہولیس ایشو', 'ہولیس ایشو زاتی', 'ایشو زاتی اینگل', 'زاتی اینگل مانگ', 'اینگل مانگ بیانیے', 'مانگ بیانیے منہ', 'بیانیے منہ موڑا', 'منہ موڑا نما', 'موڑا نما نالائق', 'نما نالائق جوتی', 'نالائق جوتی نوک', 'جوتی نوک توجہ', 'نوک توجہ سیدھا', 'توجہ سیدھا الو۲۰۰روپےدرجن', 'سیدھا الو۲۰۰روپےدرجن انڈے۲۰۰کلو', 'الو۲۰۰روپےدرجن انڈے۲۰۰کلو اٹا۶۰۰روپےلیٹر', 'انڈے۲۰۰کلو اٹا۶۰۰روپےلیٹر چینی', 'اٹا۶۰۰روپےلیٹر چینی ۱۰۰', 'چینی ۱۰۰ روپےمربع', '۱۰۰ روپےمربع فٹ', 'روپےمربع فٹ سونا۱لاکھ', 'فٹ سونا۱لاکھ روپےکلومیڑ', 'سونا۱لاکھ روپےکلومیڑ سائنسدان', 'روپےکلومیڑ سائنسدان بتائیں', 'سائنسدان بتائیں کنڈوم', 'بتائیں کنڈوم کوالٹی', 'کنڈوم کوالٹی چیک', 'کوالٹی چیک کروگے', 'چیک کروگے نتیجہ', 'کروگے نتیجہ لخد', 'نتیجہ لخد لعنت', 'لخد لعنت BachaKhanO…', 'لعنت BachaKhanO… اینج', 'BachaKhanO… اینج جیویں', 'اینج جیویں سٹینڈ', 'جیویں سٹینڈ ہندی', 'سٹینڈ ہندی بتادیا', 'ہندی بتادیا جیتے', 'بتادیا جیتے جٸے', 'جیتے جٸے ذیابطیس', 'جٸے ذیابطیس وجہ', 'ذیابطیس وجہ شدید', 'وجہ شدید پلیز', 'شدید پلیز دعاۓ', 'پلیز دعاۓ جزاک', 'دعاۓ جزاک یقینی', 'جزاک یقینی انتظار', 'یقینی انتظار mr', 'انتظار mr mayo۷۵۶', 'mr mayo۷۵۶ Insta', 'mayo۷۵۶ Insta I', 'Insta I d', 'I d ۲۵', 'd ۲۵ ٪', '۲۵ ٪ مکس', '٪ مکس اچار', 'مکس اچار پارٹیوں', 'اچار پارٹیوں واے', 'پارٹیوں واے اپکے', 'واے اپکے ایل', 'اپکے ایل بریانی', 'ایل بریانی پلیٹ', 'بریانی پلیٹ ۱۰۰۰', 'پلیٹ ۱۰۰۰ دیہاڑی', '۱۰۰۰ دیہاڑی دار', 'دیہاڑی دار مقابلہ', 'دار مقابلہ تصویر', 'مقابلہ تصویر ٹانگ', 'تصویر ٹانگ بیٹھیں', 'ٹانگ بیٹھیں پراپیگنڈا', 'بیٹھیں پراپیگنڈا تحفظ', 'پراپیگنڈا تحفظ موومنٹ', 'تحفظ موومنٹ کیسا', 'موومنٹ کیسا سرپرائز', 'کیسا سرپرائز ISPRچیئرمین', 'سرپرائز ISPRچیئرمین بھٹوزرداری', 'ISPRچیئرمین بھٹوزرداری سےارمی', 'بھٹوزرداری سےارمی قمرجاوید', 'سےارمی قمرجاوید باج', 'قمرجاوید باج کاکراچی', 'باج کاکراچی واقعےپرتبادلہ', 'کاکراچی واقعےپرتبادلہ خیال', 'واقعےپرتبادلہ خیال کوارمی', 'خیال کوارمی جنرل', 'کوارمی جنرل قمر', 'جنرل قمر جاویدباجوہ', 'قمر جاویدباجوہ کاٹیلی', 'جاویدباجوہ کاٹیلی ہاوس', 'کاٹیلی ہاوس اا', 'ہاوس اا صوبے', 'اا صوبے موساد', 'صوبے موساد تھوڑا', 'موساد تھوڑا اڈیکتا', 'تھوڑا اڈیکتا سلامی', 'اڈیکتا سلامی کھاۓ', 'سلامی کھاۓ پیے', 'کھاۓ پیے جاٸیں', 'پیے جاٸیں ظلم', 'جاٸیں ظلم برداشت', 'ظلم برداشت میک', 'برداشت میک یقینا', 'میک یقینا ماسٹر', 'یقینا ماسٹر پینٹ', 'ماسٹر پینٹ لگایا', 'پینٹ لگایا بچیے', 'لگایا بچیے اینی', 'بچیے اینی ٹینشن', 'اینی ٹینشن بارش', 'ٹینشن بارش اگردر', 'بارش اگردر دیندارۍپخته\\u200cشدید', 'اگردر دیندارۍپخته\\u200cشدید \\u200cخام\\u200cنخواهید\\u200cشد', 'دیندارۍپخته\\u200cشدید \\u200cخام\\u200cنخواهید\\u200cشد ولےاگرداغ\\u200cشدید', '\\u200cخام\\u200cنخواهید\\u200cشد ولےاگرداغ\\u200cشدید احتمالاسردخواهیدشد', 'ولےاگرداغ\\u200cشدید احتمالاسردخواهیدشد پخته\\u200cشویم', 'احتمالاسردخواهیدشد پخته\\u200cشویم باہمت', 'پخته\\u200cشویم باہمت ہارا', 'باہمت ہارا جیت', 'ہارا جیت سیکھ', 'جیت سیکھ بروقت', 'سیکھ بروقت برملا', 'بروقت برملا نہانے', 'برملا نہانے صابن', 'نہانے صابن جھاگ', 'صابن جھاگ کانوں', 'جھاگ کانوں باقی', 'کانوں باقی مارننگ', 'باقی مارننگ دیکھیں', 'مارننگ دیکھیں اندازہ', 'دیکھیں اندازہ بوکھلائے', 'اندازہ بوکھلائے عمر', 'بوکھلائے عمر تقاضہ', 'عمر تقاضہ بولو', 'تقاضہ بولو بنانے', 'بولو بنانے بناتی', 'بنانے بناتی میٹھے', 'بناتی میٹھے پتر', 'میٹھے پتر NationLovesPakistanArmy', 'پتر NationLovesPakistanArmy تنظیم', 'NationLovesPakistanArmy تنظیم سازی', 'تنظیم سازی چھوڑدے', 'سازی چھوڑدے چکیا', 'چھوڑدے چکیا فائدہ', 'چکیا فائدہ بھیجنے', 'فائدہ بھیجنے اجتماعی', 'بھیجنے اجتماعی اپشن', 'اجتماعی اپشن دکھ', 'اپشن دکھ بول', 'دکھ بول دسیا', 'بول دسیا ٹویٹا', 'دسیا ٹویٹا الفاظ', 'ٹویٹا الفاظ اوٹ', 'الفاظ اوٹ پاکیزہ', 'اوٹ پاکیزہ الزام', 'پاکیزہ الزام لگائے', 'الزام لگائے نماز', 'لگائے نماز پڑھنے', 'نماز پڑھنے ٹیکس', 'پڑھنے ٹیکس ڈیم', 'ٹیکس ڈیم قرضہ', 'ڈیم قرضہ ادا', 'قرضہ ادا ہوجائے', 'ادا ہوجائے لہو', 'ہوجائے لہو بغاوت', 'لہو بغاوت فرض', 'بغاوت فرض سوفیسٹیکیٹڈ', 'فرض سوفیسٹیکیٹڈ چلائی', 'سوفیسٹیکیٹڈ چلائی چنگی', 'چلائی چنگی پلی', 'چنگی پلی یاسر', 'پلی یاسر ے', 'یاسر ے افزائی', 'ے افزائی تعریف', 'افزائی تعریف یوتھیوں', 'تعریف یوتھیوں ۲۲', 'یوتھیوں ۲۲ کروڑ', '۲۲ کروڑ سونپ', 'کروڑ سونپ مے', 'سونپ مے گونگے', 'مے گونگے اندھے', 'گونگے اندھے جدید', 'اندھے جدید خطرناک', 'جدید خطرناک ایجاد', 'خطرناک ایجاد عارضی', 'ایجاد عارضی تعلقات', 'عارضی تعلقات اللھم', 'تعلقات اللھم صل', 'اللھم صل وعلی', 'صل وعلی ال', 'وعلی ال ٹولہ', 'ال ٹولہ انگوٹھے', 'ٹولہ انگوٹھے انگوٹھا', 'انگوٹھے انگوٹھا بھیجوں', 'انگوٹھا بھیجوں خواہ', 'بھیجوں خواہ مخواہ', 'خواہ مخواہ خاندان', 'مخواہ خاندان جسکی', 'خاندان جسکی تعلیم', 'جسکی تعلیم کزنوں', 'تعلیم کزنوں لائف', 'کزنوں لائف ٹائم', 'لائف ٹائم طعنے', 'ٹائم طعنے سننے', 'طعنے سننے پڑتے', 'سننے پڑتے کزن', 'پڑتے کزن چاہو', 'کزن چاہو ٹیسٹی', 'چاہو ٹیسٹی بھیج', 'ٹیسٹی بھیج گھوبھی', 'بھیج گھوبھی شائد', 'گھوبھی شائد چلی', 'شائد چلی دفتر', 'چلی دفتر بچاکر', 'دفتر بچاکر گزارہ', 'بچاکر گزارہ جاے', 'گزارہ جاے فریال', 'جاے فریال پکڑ', 'فریال پکڑ لارہی', 'پکڑ لارہی لائینز', 'لارہی لائینز ایریا', 'لائینز ایریا علاقے', 'ایریا علاقے خاتون', 'علاقے خاتون لگتی', 'خاتون لگتی پان', 'لگتی پان وچوں', 'پان وچوں باہر', 'وچوں باہر نمبر', 'باہر نمبر بیلجیم', 'نمبر بیلجیم کافر', 'بیلجیم کافر سیدھے', 'کافر سیدھے ۱۱۸', 'سیدھے ۱۱۸ ویں', '۱۱۸ ویں فرشتے', 'ویں فرشتے Ho', 'فرشتے Ho ۳۰۰', 'Ho ۳۰۰ اضافہ', '۳۰۰ اضافہ مینشن', 'اضافہ مینشن ریٹوئیٹ', 'مینشن ریٹوئیٹ بیک', 'ریٹوئیٹ بیک دیں…', 'بیک دیں… سبزیوں', 'دیں… سبزیوں ریٹ', 'سبزیوں ریٹ کھیرا', 'ریٹ کھیرا مولی', 'کھیرا مولی گاجر', 'مولی گاجر فری', 'گاجر فری صفدرے', 'فری صفدرے پکڑنا', 'صفدرے پکڑنا یو', 'پکڑنا یو ٹرن', 'یو ٹرن بخدا', 'ٹرن بخدا ماں', 'بخدا ماں پکار', 'ماں پکار چند', 'پکار چند سڑو', 'چند سڑو کمنٹس', 'سڑو کمنٹس مذاق', 'کمنٹس مذاق حس', 'مذاق حس چول', 'حس چول جئے', 'چول جئے پا', 'جئے پا ڈر', 'پا ڈر پیدائش', 'ڈر پیدائش دائی', 'پیدائش دائی ناں', 'دائی ناں وچاری', 'ناں وچاری قبر', 'وچاری قبر عذاب', 'قبر عذاب اٹھانے', 'عذاب اٹھانے سبق', 'اٹھانے سبق پرانی', 'سبق پرانی کہانیوں', 'پرانی کہانیوں بھولنے', 'کہانیوں بھولنے الجھن', 'بھولنے الجھن باتوں', 'الجھن باتوں خرافات', 'باتوں خرافات اسکتا', 'خرافات اسکتا ظرف', 'اسکتا ظرف Dedicated', 'ظرف Dedicated تمھارا', 'Dedicated تمھارا موذوع', 'تمھارا موذوع بدل', 'موذوع بدل بنتے', 'بدل بنتے قبضہ', 'بنتے قبضہ رھا', 'قبضہ رھا چپ', 'رھا چپ ستمبر', 'چپ ستمبر ۲۰۲۰میں', 'ستمبر ۲۰۲۰میں ستمبر۲۰۱۹کے', '۲۰۲۰میں ستمبر۲۰۱۹کے مقابلے', 'ستمبر۲۰۱۹کے مقابلے شہری', 'مقابلے شہری شرح', 'شہری شرح دگنی', 'شرح دگنی یعنی۲۰٪اوردیہاتی', 'دگنی یعنی۲۰٪اوردیہاتی یعنی۲۴٪رہی', 'یعنی۲۰٪اوردیہاتی یعنی۲۴٪رہی وفاقی', 'یعنی۲۴٪رہی وفاقی ادارہ', 'وفاقی ادارہ شماریات', 'ادارہ شماریات ڈپٹی', 'شماریات ڈپٹی کربوٹے', 'ڈپٹی کربوٹے بوٹا', 'کربوٹے بوٹا ظالموں', 'بوٹا ظالموں وی', 'ظالموں وی شعریف', 'وی شعریف کردو', 'شعریف کردو لاڈلی', 'کردو لاڈلی بہن', 'لاڈلی بہن کرن', 'بہن کرن ڈھولکی', 'کرن ڈھولکی جینا', 'ڈھولکی جینا مسکرا', 'جینا مسکرا جینے', 'مسکرا جینے حرج', 'جینے حرج جنریشن', 'حرج جنریشن موبائل', 'جنریشن موبائل چھیننا', 'موبائل چھیننا مریض', 'چھیننا مریض اکسیجن', 'مریض اکسیجن اتارنے', 'اکسیجن اتارنے لائن', 'اتارنے لائن دیر', 'لائن دیر اللٰہ', 'دیر اللٰہ الخیر', 'اللٰہ الخیر وضاحت', 'الخیر وضاحت کٙتا', 'وضاحت کٙتا دوپٹہ', 'کٙتا دوپٹہ حجاب', 'دوپٹہ حجاب چادر', 'حجاب چادر مردوں', 'چادر مردوں اٙحتراما', 'مردوں اٙحتراما عورتوں', 'اٙحتراما عورتوں راستہ', 'عورتوں راستہ نظریں', 'راستہ نظریں جھکاتے…', 'نظریں جھکاتے… بےغم', 'جھکاتے… بےغم ادمی', 'بےغم ادمی کہلانے', 'ادمی کہلانے ۲', 'کہلانے ۲ دشمن', '۲ دشمن بچو', 'دشمن بچو ۳', 'بچو ۳ چڑیوں', '۳ چڑیوں کھال', 'چڑیوں کھال ایویں', 'کھال ایویں چاہی', 'ایویں چاہی ههههههههههههههههههههہ', 'چاہی ههههههههههههههههههههہ ه', 'ههههههههههههههههههههہ ه حافظ', 'ه حافظ دلوں', 'حافظ دلوں اگ', 'دلوں اگ حساس', 'اگ حساس مظبوط', 'حساس مظبوط دوستیاں', 'مظبوط دوستیاں ڈالیں', 'دوستیاں ڈالیں جذبات', 'ڈالیں جذبات زیادتی', 'جذبات زیادتی نداز', 'زیادتی نداز ہوسکتی', 'نداز ہوسکتی پائے', 'ہوسکتی پائے ھوں', 'پائے ھوں محترم', 'ھوں محترم پہاڑوں', 'محترم پہاڑوں پرندے', 'پہاڑوں پرندے جاگتے', 'پرندے جاگتے دعائے', 'جاگتے دعائے صبحدم', 'دعائے صبحدم Follow', 'صبحدم Follow لئیے', 'Follow لئیے رشتہ', 'لئیے رشتہ لاؤں', 'رشتہ لاؤں فکر', 'لاؤں فکر الســلام', 'فکر الســلام عليڪم', 'الســلام عليڪم ورحمـةاللـه', 'عليڪم ورحمـةاللـه وبرڪــاته', 'ورحمـةاللـه وبرڪــاته 𝐌𝐀𝐒𝐇𝐀ماشاء', 'وبرڪــاته 𝐌𝐀𝐒𝐇𝐀ماشاء اللہ𝐀𝐋𝐋𝐀𝐇', '𝐌𝐀𝐒𝐇𝐀ماشاء اللہ𝐀𝐋𝐋𝐀𝐇 قیـامت', 'اللہ𝐀𝐋𝐋𝐀𝐇 قیـامت کـے', 'قیـامت کـے سـاری', 'کـے سـاری کـرنسـی', 'سـاری کـرنسـی فیــل', 'کـرنسـی فیــل ہـوجائـے', 'فیــل ہـوجائـے گـی', 'ہـوجائـے گـی حضرت', 'گـی حضرت سـے', 'حضرت سـے محـبت', 'سـے محـبت کـا', 'محـبت کـا سکـہ', 'کـا سکـہ چلـتا', 'سکـہ چلـتا رہــے', 'چلـتا رہــے 𝓓𝓻', 'رہــے 𝓓𝓻 𝓜𝓾𝓱𝓪𝓶𝓶𝓪𝓭', '𝓓𝓻 𝓜𝓾𝓱𝓪𝓶𝓶𝓪𝓭 𝓐𝓴𝓶𝓪𝓵', '𝓜𝓾𝓱𝓪𝓶𝓶𝓪𝓭 𝓐𝓴𝓶𝓪𝓵 𝓚𝓱𝓪𝓷', '𝓐𝓴𝓶𝓪𝓵 𝓚𝓱𝓪𝓷 𝓜𝓾𝓱𝓶𝓪𝓷𝓭', '𝓚𝓱𝓪𝓷 𝓜𝓾𝓱𝓶𝓪𝓷𝓭 جزاکم', '𝓜𝓾𝓱𝓶𝓪𝓷𝓭 جزاکم سدا', 'جزاکم سدا واقعہ', 'سدا واقعہ ار', 'واقعہ ار ویسا', 'ار ویسا وینا', 'ویسا وینا ائندہ', 'وینا ائندہ بہلانے', 'ائندہ بہلانے غالب', 'بہلانے غالب ہتھ', 'غالب ہتھ ہولا', 'ہتھ ہولا اردگرد', 'ہولا اردگرد منافق', 'اردگرد منافق ۴۰۰', 'منافق ۴۰۰ کراس', '۴۰۰ کراس کامیابی', 'کراس کامیابی چوٹیوں', 'کامیابی چوٹیوں رکا', 'چوٹیوں رکا تسلی', 'رکا تسلی خفیہ', 'تسلی خفیہ ہتھیار', 'خفیہ ہتھیار سہیلی', 'ہتھیار سہیلی پالی', 'سہیلی پالی انصاف', 'پالی انصاف صوبوں', 'انصاف صوبوں یکساں', 'صوبوں یکساں خوشحالی', 'یکساں خوشحالی شہر', 'خوشحالی شہر ک…', 'شہر ک… پنسل', 'ک… پنسل لکهو', 'پنسل لکهو ربڑ', 'لکهو ربڑ مٹا', 'ربڑ مٹا کمپنی', 'مٹا کمپنی ضد', 'کمپنی ضد ناکر', 'ضد ناکر ادھ', 'ناکر ادھ دھاندلی', 'ادھ دھاندلی کریم', 'دھاندلی کریم حبیب', 'کریم حبیب صدقے', 'حبیب صدقے کروٹ', 'صدقے کروٹ نصیب', 'کروٹ نصیب کورکمانڈر', 'نصیب کورکمانڈر تبصرہ', 'کورکمانڈر تبصرہ PDM', 'تبصرہ PDM گلہ', 'PDM گلہ گھونٹنے', 'گلہ گھونٹنے کفن', 'گھونٹنے کفن پیج', 'کفن پیج پلٹ', 'پیج پلٹ دیگر', 'پلٹ دیگر COAS', 'دیگر COAS وئی', 'COAS وئی پروفیسر', 'وئی پروفیسر کیہڑیاں', 'پروفیسر کیہڑیاں کھانیاں', 'کیہڑیاں کھانیاں چوں', 'کھانیاں چوں منا', 'چوں منا ایکسٹینشن', 'منا ایکسٹینشن نکلیں', 'ایکسٹینشن نکلیں بچی', 'نکلیں بچی لفظوں', 'بچی لفظوں پریم', 'لفظوں پریم کہانی', 'پریم کہانی پھوپھو', 'کہانی پھوپھو ڈھولک', 'پھوپھو ڈھولک پیار', 'ڈھولک پیار بانٹیں', 'پیار بانٹیں بانٹنا', 'بانٹیں بانٹنا ئیں', 'بانٹنا ئیں سمجیں', 'ئیں سمجیں میدان', 'سمجیں میدان بچاؤ', 'میدان بچاؤ چلائیں', 'بچاؤ چلائیں فیصلہ', 'چلائیں فیصلہ چوروں', 'فیصلہ چوروں ٹانگنا', 'چوروں ٹانگنا چلتا', 'ٹانگنا چلتا حرف', 'چلتا حرف الگاف', 'حرف الگاف گفتگو', 'الگاف گفتگو ★', 'گفتگو ★ میٹھی', '★ میٹھی بولنا', 'میٹھی بولنا سرکاری', 'بولنا سرکاری حاجن', 'سرکاری حاجن سخت', 'حاجن سخت مایوسی', 'سخت مایوسی ہون', 'مایوسی ہون کیہ', 'ہون کیہ باجی', 'کیہ باجی ہین', 'باجی ہین تارے', 'ہین تارے توڑ', 'تارے توڑ اؤ', 'توڑ اؤ فلاح', 'اؤ فلاح کاپی', 'فلاح کاپی صفحہ', 'کاپی صفحہ غیرت', 'صفحہ غیرت سکے', 'غیرت سکے انڈے', 'سکے انڈے ۲۱۶', 'انڈے ۲۱۶ ہوگئے', '۲۱۶ ہوگئے گندے', 'ہوگئے گندے سہیل', 'گندے سہیل شوبازے', 'سہیل شوبازے لندن', 'شوبازے لندن بلایا', 'لندن بلایا کرسی', 'بلایا کرسی کتاب', 'کرسی کتاب پڑھی', 'کتاب پڑھی پنجابی', 'پڑھی پنجابی گنڈاسے', 'پنجابی گنڈاسے وفاوں', 'گنڈاسے وفاوں مکر', 'وفاوں مکر واقف', 'مکر واقف چاہت', 'واقف چاہت کپ', 'چاہت کپ باجوہ', 'کپ باجوہ کرنل', 'باجوہ کرنل پرامن', 'کرنل پرامن بنادیا', 'پرامن بنادیا تازہ', 'بنادیا تازہ مثال', 'تازہ مثال جہاں', 'مثال جہاں بکری', 'جہاں بکری زیبرا', 'بکری زیبرا اٸی', 'زیبرا اٸی اغوا', 'اٸی اغوا وارنٹ', 'اغوا وارنٹ گرفتاری', 'وارنٹ گرفتاری جاری', 'گرفتاری جاری چاھٸے', 'جاری چاھٸے قصہ', 'چاھٸے قصہ ہوجاٸے', 'قصہ ہوجاٸے باری', 'ہوجاٸے باری احتیاط', 'باری احتیاط سکیورٹی', 'احتیاط سکیورٹی لاجک', 'سکیورٹی لاجک چھڈنا', 'لاجک چھڈنا پاسے', 'چھڈنا پاسے سیکنا', 'پاسے سیکنا ویر', 'سیکنا ویر پیلے', 'ویر پیلے تمھاری', 'پیلے تمھاری جوکر', 'تمھاری جوکر جھوٹی', 'جوکر جھوٹی تھک', 'جھوٹی تھک عائشہ', 'تھک عائشہ گلالئی', 'عائشہ گلالئی میسیجز', 'گلالئی میسیجز کمر', 'میسیجز کمر درد', 'کمر درد پیٹ', 'درد پیٹ می', 'پیٹ می ٹھوک', 'می ٹھوک وغیرہ', 'ٹھوک وغیرہ اتش', 'وغیرہ اتش جوان', 'اتش جوان لالیکا', 'جوان لالیکا لالا', 'لالیکا لالا انگریزی', 'لالا انگریزی Smokeless', 'انگریزی Smokeless fire', 'Smokeless fire کالا', 'fire کالا دھواں', 'کالا دھواں ریحام', 'دھواں ریحام طلاق', 'ریحام طلاق پرانے', 'طلاق پرانے کوسنے', 'پرانے کوسنے لگےلگی', 'کوسنے لگےلگی نوبت', 'لگےلگی نوبت مارشل', 'نوبت مارشل لاء', 'مارشل لاء تمیز', 'لاء تمیز جاندا', 'تمیز جاندا دکھانے', 'جاندا دکھانے سرفہرست', 'دکھانے سرفہرست BohtZulmHuaDilKySaht', 'سرفہرست BohtZulmHuaDilKySaht ورنہ', 'BohtZulmHuaDilKySaht ورنہ چلنا', 'ورنہ چلنا مصروفیت', 'چلنا مصروفیت چیز', 'مصروفیت چیز feelings', 'چیز feelings سرحدوں', 'feelings سرحدوں محافظ', 'سرحدوں محافظ ملائی', 'محافظ ملائی معصول', 'ملائی معصول برائے', 'معصول برائے مہربانی', 'برائے مہربانی ہولڈ', 'مہربانی ہولڈ خلیمہ', 'ہولڈ خلیمہ پہنچ', 'خلیمہ پہنچ باس', 'پہنچ باس شرماناں', 'باس شرماناں ایں', 'شرماناں ایں Leonardo', 'ایں Leonardo بنڑ', 'Leonardo بنڑ شاوا', 'بنڑ شاوا میشی', 'شاوا میشی لیونارڈو', 'میشی لیونارڈو خیرا', 'لیونارڈو خیرا کثیرا', 'خیرا کثیرا موچی', 'کثیرا موچی ایلفی', 'موچی ایلفی چاروں', 'ایلفی چاروں دوسےبڑھ', 'چاروں دوسےبڑھ ائین', 'دوسےبڑھ ائین کااحترم', 'ائین کااحترم حدود', 'کااحترم حدود رہوتک', 'حدود رہوتک ہےبچےبوڑھے', 'رہوتک ہےبچےبوڑھے مزدور', 'ہےبچےبوڑھے مزدور تاجر', 'مزدور تاجر پولی…', 'تاجر پولی… کما', 'پولی… کما نیچ', 'کما نیچ حرکت', 'نیچ حرکت چھپ', 'حرکت چھپ تانک', 'چھپ تانک جھانک', 'تانک جھانک مکھی', 'جھانک مکھی صحیح', 'مکھی صحیح ویران', 'صحیح ویران مدینے', 'ویران مدینے ز', 'مدینے ز ل', 'ز ل م', 'ل م صفہ', 'م صفہ پرھ', 'صفہ پرھ شئیرز', 'پرھ شئیرز کافروں', 'شئیرز کافروں بنانی', 'کافروں بنانی ٹیوب', 'بنانی ٹیوب چینل', 'ٹیوب چینل ریسیپی', 'چینل ریسیپی سینڈ', 'ریسیپی سینڈ چھڈو', 'سینڈ چھڈو پراں', 'چھڈو پراں روزی', 'پراں روزی دانشوری', 'روزی دانشوری داران', 'دانشوری داران صفائیاں', 'داران صفائیاں بتایا', 'صفائیاں بتایا دوسرا', 'بتایا دوسرا سٹاک', 'دوسرا سٹاک بیچنا', 'سٹاک بیچنا چہرے', 'بیچنا چہرے انشاء', 'چہرے انشاء شفا', 'انشاء شفا دےامین', 'شفا دےامین جشن', 'دےامین جشن ڈن', 'جشن ڈن لٹ', 'ڈن لٹ رے', 'لٹ رے دوجی', 'رے دوجی جتے', 'دوجی جتے کیطرح', 'جتے کیطرح فرمائش', 'کیطرح فرمائش سمسنگ', 'فرمائش سمسنگ ٹچ', 'سمسنگ ٹچ خرید', 'ٹچ خرید دسو', 'خرید دسو نہیںزرداری', 'دسو نہیںزرداری ملنگ', 'نہیںزرداری ملنگ ہوگٸ', 'ملنگ ہوگٸ تسلسل', 'ہوگٸ تسلسل چاہیۓ', 'تسلسل چاہیۓ تھکن', 'چاہیۓ تھکن زمانوں', 'تھکن زمانوں کب', 'زمانوں کب اترتی', 'کب اترتی رینجر', 'اترتی رینجر اغواہ', 'رینجر اغواہ ناراض', 'اغواہ ناراض ظاہر', 'ناراض ظاہر اغواء', 'ظاہر اغواء مہنگاٸی', 'اغواء مہنگاٸی چھٹکارہ', 'مہنگاٸی چھٹکارہ لنگر', 'چھٹکارہ لنگر خانے', 'لنگر خانے مسافر', 'خانے مسافر پناہ', 'مسافر پناہ گاھیں', 'پناہ گاھیں کٹے', 'گاھیں کٹے مرغیاں', 'کٹے مرغیاں درخت', 'مرغیاں درخت جابز', 'درخت جابز پچاس', 'جابز پچاس مکانات', 'پچاس مکانات بھنگ', 'مکانات بھنگ بچت', 'بھنگ بچت بازار', 'بچت بازار الزامات', 'بازار الزامات بلاؤل', 'الزامات بلاؤل کروانے', 'بلاؤل کروانے بلی', 'کروانے بلی چھچھڑوں', 'بلی چھچھڑوں والے…', 'چھچھڑوں والے… حد', 'والے… حد سرحد', 'حد سرحد درمیاں', 'سرحد درمیاں فاصلے', 'درمیاں فاصلے پیتا', 'فاصلے پیتا گردوں', 'پیتا گردوں پھیر', 'گردوں پھیر سکی', 'پھیر سکی معلوم', 'سکی معلوم رشتو…', 'معلوم رشتو… بھوک', 'رشتو… بھوک بلبلاتے', 'بھوک بلبلاتے روتے', 'بلبلاتے روتے خاطر', 'روتے خاطر کیانی', 'خاطر کیانی شادیوں', 'کیانی شادیوں پیسے', 'شادیوں پیسے لوٹا', 'پیسے لوٹا پوچھو', 'لوٹا پوچھو ماروگے', 'پوچھو ماروگے پیدائشی', 'ماروگے پیدائشی PTI', 'پیدائشی PTI جوائن', 'PTI جوائن پیدل', 'جوائن پیدل مشن', 'پیدل مشن impossible', 'مشن impossible اسکا', 'impossible اسکا حل', 'اسکا حل چکر', 'حل چکر اچ', 'چکر اچ بیستی', 'اچ بیستی نیئں', 'بیستی نیئں کردی', 'نیئں کردی پڑجانی', 'کردی پڑجانی فیلڈ', 'پڑجانی فیلڈ پکارتے', 'فیلڈ پکارتے Salute', 'پکارتے Salute You', 'Salute You Commander', 'You Commander گوجرانوالا', 'Commander گوجرانوالا ٹیلی', 'گوجرانوالا ٹیلی اپناؤ', 'ٹیلی اپناؤ ائیگا', 'اپناؤ ائیگا چھین', 'ائیگا چھین جائیگا', 'چھین جائیگا ساڈے', 'جائیگا ساڈے کیہڑے', 'ساڈے کیہڑے لن', 'کیہڑے لن ٹھنڈ', 'لن ٹھنڈ ایہدی', 'ٹھنڈ ایہدی مروڑے', 'ایہدی مروڑے پاواں', 'مروڑے پاواں امریکا', 'پاواں امریکا افغانستان', 'امریکا افغانستان تابوت', 'افغانستان تابوت ہدف', 'تابوت ہدف کرسکا', 'ہدف کرسکا گلبدین', 'کرسکا گلبدین حکمت', 'گلبدین حکمت Reason', 'حکمت Reason ISI', 'Reason ISI پیٹرول', 'ISI پیٹرول ۲۰۰', 'پیٹرول ۲۰۰ انگور۲۰۰', '۲۰۰ انگور۲۰۰ لیٹر', 'انگور۲۰۰ لیٹر اٹا', 'لیٹر اٹا ۶۰۰', 'اٹا ۶۰۰ میٹر', '۶۰۰ میٹر نویں', 'میٹر نویں بونگی', 'نویں بونگی شوق', 'بونگی شوق زمانہ', 'شوق زمانہ جاھلیت', 'زمانہ جاھلیت فراز', 'جاھلیت فراز کمی', 'فراز کمی ھوگی', 'کمی ھوگی بلکل', 'ھوگی بلکل شو', 'بلکل شو شا', 'شو شا ناکام', 'شا ناکام کوششیں', 'ناکام کوششیں کونسا', 'کوششیں کونسا جمسا', 'کونسا جمسا لیپرڈ', 'جمسا لیپرڈ جملہ', 'لیپرڈ جملہ اخری', 'جملہ اخری جہاز', 'اخری جہاز کھوتوں', 'جہاز کھوتوں پوچھے', 'کھوتوں پوچھے پوسٹ', 'پوچھے پوسٹ لائک', 'پوسٹ لائک انگور', 'لائک انگور ۱۸۰', 'انگور ۱۸۰ ۳۰', '۱۸۰ ۳۰ لفافوں', '۳۰ لفافوں اہل', 'لفافوں اہل بصارت', 'اہل بصارت گہرائیاں', 'بصارت گہرائیاں ہیش', 'گہرائیاں ہیش ٹیگ', 'ہیش ٹیگ ارشد', 'ٹیگ ارشد ٹرینڈز', 'ارشد ٹرینڈز چاہئیں', 'ٹرینڈز چاہئیں انصافیوں', 'چاہئیں انصافیوں بشری', 'انصافیوں بشری بی', 'بشری بی عرف', 'بی عرف پنکی', 'عرف پنکی بتاؤ', 'پنکی بتاؤ وزریراعظم', 'بتاؤ وزریراعظم معاملات', 'وزریراعظم معاملات اپکو', 'معاملات اپکو نئے', 'اپکو نئے انقلابی', 'نئے انقلابی خریدنے', 'انقلابی خریدنے متعدد', 'خریدنے متعدد رشوت', 'متعدد رشوت اعجازالحق', 'رشوت اعجازالحق غیر', 'اعجازالحق غیر جانبدار', 'غیر جانبدار پیغام', 'جانبدار پیغام دہا', 'پیغام دہا دروازہ', 'دہا دروازہ توڑا', 'دروازہ توڑا جانبداری', 'توڑا جانبداری کیسی', 'جانبداری کیسی یس', 'کیسی یس سس', 'یس سس legendfrndz', 'سس legendfrndz ہمشیہ', 'legendfrndz ہمشیہ ہمکنار', 'ہمشیہ ہمکنار بھئ', 'ہمکنار بھئ اونو', 'بھئ اونو کیڑا', 'اونو کیڑا ویکھاں', 'کیڑا ویکھاں دھبہ', 'ویکھاں دھبہ ویائی', 'دھبہ ویائی ماحول', 'ویائی ماحول ٹھنڈی', 'ماحول ٹھنڈی ہوگئ', 'ٹھنڈی ہوگئ ٹویٹیں', 'ہوگئ ٹویٹیں میٹرک', 'ٹویٹیں میٹرک فیل', 'میٹرک فیل خطیب', 'فیل خطیب امام', 'خطیب امام مسجد', 'امام مسجد امامت', 'مسجد امامت مساوی', 'امامت مساوی معاشرہ', 'مساوی معاشرہ بھائ', 'معاشرہ بھائ حسد', 'بھائ حسد رونق', 'حسد رونق اچھاہے', 'رونق اچھاہے حنا', 'اچھاہے حنا سمجھایا', 'حنا سمجھایا چھپکے', 'سمجھایا چھپکے سوشل', 'چھپکے سوشل میڈیا', 'سوشل میڈیا زریعے', 'میڈیا زریعے سنے', 'زریعے سنے لدھڑ', 'سنے لدھڑ ڈینگیں', 'لدھڑ ڈینگیں زہنی', 'ڈینگیں زہنی مزاحمت', 'زہنی مزاحمت رکھیں', 'مزاحمت رکھیں گیند', 'رکھیں گیند کورٹ', 'گیند کورٹ ٹوٸیٹس', 'کورٹ ٹوٸیٹس سڑیل', 'ٹوٸیٹس سڑیل جھوووووووٹ', 'سڑیل جھوووووووٹ سراسر', 'جھوووووووٹ سراسر پسند', 'سراسر پسند پیسوں', 'پسند پیسوں ارٹسٹ', 'پیسوں ارٹسٹ رکجو', 'ارٹسٹ رکجو پالش', 'رکجو پالش مقتدر', 'پالش مقتدر قوتوں', 'مقتدر قوتوں منجی', 'قوتوں منجی فخر', 'منجی فخر ٹوٹے', 'فخر ٹوٹے مدہوش', 'ٹوٹے مدہوش دم', 'مدہوش دم نکلے', 'دم نکلے مرے', 'نکلے مرے روبرو', 'مرے روبرو گزارش', 'روبرو گزارش خدارا', 'گزارش خدارا شفائی', 'خدارا شفائی کاملہ', 'شفائی کاملہ عاجلہ', 'کاملہ عاجلہ گھبرانا', 'عاجلہ گھبرانا مذید', 'گھبرانا مذید کٸ', 'مذید کٸ دہاٸیوں', 'کٸ دہاٸیوں نکاح', 'دہاٸیوں نکاح نامہ', 'نکاح نامہ پکڑے', 'نامہ پکڑے مانتے', 'پکڑے مانتے کھوکھر', 'مانتے کھوکھر بالخصوص', 'کھوکھر بالخصوص بڑھاتے', 'بالخصوص بڑھاتے شکایت', 'بڑھاتے شکایت اٹھاتا', 'شکایت اٹھاتا جھوٹا', 'اٹھاتا جھوٹا شكوے', 'جھوٹا شكوے زرفوں', 'شكوے زرفوں لگنا', 'زرفوں لگنا ثبوت', 'لگنا ثبوت مکار', 'ثبوت مکار رسیدیں', 'مکار رسیدیں صورت', 'رسیدیں صورت تھو', 'صورت تھو بھاری', 'تھو بھاری بوسہ', 'بھاری بوسہ تکلیف', 'بوسہ تکلیف سنائیں', 'تکلیف سنائیں غلام', 'سنائیں غلام مصطفیٰ', 'غلام مصطفیٰ کیونکر', 'مصطفیٰ کیونکر ستائیں', 'کیونکر ستائیں ﷺﷺﷺﷺﷺﷺﷺ', 'ستائیں ﷺﷺﷺﷺﷺﷺﷺ تاجدارحرمﷺ', 'ﷺﷺﷺﷺﷺﷺﷺ تاجدارحرمﷺ انمول', 'تاجدارحرمﷺ انمول تودو', 'انمول تودو مرا', 'تودو مرا بہ', 'مرا بہ ط', 'بہ ط افریده', 'ط افریده است', 'افریده است عید', 'است عید بیعت', 'عید بیعت کئ', 'بیعت کئ بھولی', 'کئ بھولی صورتوں', 'بھولی صورتوں چھوڑو', 'صورتوں چھوڑو نوجوان', 'چھوڑو نوجوان کنزرویٹو', 'نوجوان کنزرویٹو شريف', 'کنزرویٹو شريف عالمی', 'شريف عالمی مجلس', 'عالمی مجلس نبوت', 'مجلس نبوت زیر', 'نبوت زیر اہتمام', 'زیر اہتمام ۲۲۲۳', 'اہتمام ۲۲۲۳ اکتوبر', '۲۲۲۳ اکتوبر منعقد', 'اکتوبر منعقد ہونیوالی', 'منعقد ہونیوالی سالانہ', 'ہونیوالی سالانہ چناپ', 'سالانہ چناپ نگر', 'چناپ نگر احباب', 'نگر احباب ری', 'احباب ری شئیر', 'ری شئیر حاضری', 'شئیر حاضری لگایں', 'حاضری لگایں علیہ', 'لگایں علیہ دفاع', 'علیہ دفاع لازم', 'دفاع لازم مسلم', 'لازم مسلم تسبیح', 'مسلم تسبیح لوڑ', 'تسبیح لوڑ ڈاکو', 'لوڑ ڈاکو یوتھیئے', 'ڈاکو یوتھیئے یوتھیا', 'یوتھیئے یوتھیا چارجر', 'یوتھیا چارجر نقشہ', 'چارجر نقشہ جرنیلوں', 'نقشہ جرنیلوں چہتی', 'جرنیلوں چہتی چلانا', 'چہتی چلانا اتاروں', 'چلانا اتاروں وردیاں', 'اتاروں وردیاں مانگو', 'وردیاں مانگو جاۓگا', 'مانگو جاۓگا کیلے', 'جاۓگا کیلے تقدس', 'کیلے تقدس پامال', 'تقدس پامال قضاء', 'پامال قضاء جاۓ', 'قضاء جاۓ واجب', 'جاۓ واجب سادگی', 'واجب سادگی مرزے', 'سادگی مرزے ٹٹی', 'مرزے ٹٹی کھبا', 'ٹٹی کھبا کپورہ', 'کھبا کپورہ فیر', 'کپورہ فیر اپنڑیاں', 'فیر اپنڑیاں پی…', 'اپنڑیاں پی… کرکٹ', 'پی… کرکٹ کھسری', 'کرکٹ کھسری عنبر', 'کھسری عنبر CM', 'عنبر CM Sindh', 'CM Sindh ڈانس', 'Sindh ڈانس کرتیں', 'ڈانس کرتیں stateabovestate', 'کرتیں stateabovestate پیمرا', 'stateabovestate پیمرا چیرمین', 'پیمرا چیرمین وزیراطلات', 'چیرمین وزیراطلات ھم', 'وزیراطلات ھم ۲۰۱۴', 'ھم ۲۰۱۴ ھوئے', '۲۰۱۴ ھوئے گود', 'ھوئے گود مبشر', 'گود مبشر زیدی', 'مبشر زیدی کنفیوزن', 'زیدی کنفیوزن میکو', 'کنفیوزن میکو رخصتی', 'میکو رخصتی روئے', 'رخصتی روئے چاند', 'روئے چاند پڑا', 'چاند پڑا اکر', 'پڑا اکر ھاں', 'اکر ھاں ایکسیجن', 'ھاں ایکسیجن گٹھنے', 'ایکسیجن گٹھنے خطرہ', 'گٹھنے خطرہ فنا', 'خطرہ فنا چاہنے', 'فنا چاہنے شکست', 'چاہنے شکست کتھوں', 'شکست کتھوں ائیاں', 'کتھوں ائیاں ساری', 'ائیاں ساری خوشیاں', 'ساری خوشیاں دیکھی', 'خوشیاں دیکھی bhai', 'دیکھی bhai اخروٹ', 'bhai اخروٹ فرماندے', 'اخروٹ فرماندے کلیاں', 'فرماندے کلیاں کھان', 'کلیاں کھان ڈھڈ', 'کھان ڈھڈ کیڑے', 'ڈھڈ کیڑے پیندے', 'کیڑے پیندے شفاف', 'پیندے شفاف کرائے', 'شفاف کرائے SindhGovt', 'کرائے SindhGovt گیراج', 'SindhGovt گیراج رنگے', 'گیراج رنگے ہاتھوں', 'رنگے ہاتھوں پکڑا', 'ہاتھوں پکڑا بیچنے', 'پکڑا بیچنے لگو', 'بیچنے لگو کھٹارا', 'لگو کھٹارا پس', 'کھٹارا پس مارکیٹ', 'پس مارکیٹ کیتا', 'مارکیٹ کیتا ویاہ', 'کیتا ویاہ دفع', 'ویاہ دفع چوہدری', 'دفع چوہدری مھجے', 'چوہدری مھجے اسٹبلیشمنٹ', 'مھجے اسٹبلیشمنٹ نسی', 'اسٹبلیشمنٹ نسی طلال', 'نسی طلال چوھدری', 'طلال چوھدری کیوںکہ', 'چوھدری کیوںکہ خطر', 'کیوںکہ خطر سمجھاوے', 'خطر سمجھاوے بھئی', 'سمجھاوے بھئی لچ', 'بھئی لچ تلنے', 'لچ تلنے ٹک', 'تلنے ٹک باوے', 'ٹک باوے بارہ', 'باوے بارہ ربیع', 'بارہ ربیع الاول', 'ربیع الاول ہزاروں', 'الاول ہزاروں کیک', 'ہزاروں کیک کاٹیں', 'کیک کاٹیں رسولﷺ', 'کاٹیں رسولﷺ اسم', 'رسولﷺ اسم رضی', 'اسم رضی عنہ', 'رضی عنہ رسولﷺکا', 'عنہ رسولﷺکا مٹایا', 'رسولﷺکا مٹایا دعوے', 'مٹایا دعوے کیکوں', 'دعوے کیکوں کیجئے', 'کیکوں کیجئے الا', 'کیجئے الا احسن', 'الا احسن اقبال', 'احسن اقبال کمیشن', 'اقبال کمیشن قسم', 'کمیشن قسم پول', 'قسم پول پٹواریاں', 'پول پٹواریاں موقع', 'پٹواریاں موقع دوے', 'موقع دوے ایڈی', 'دوے ایڈی سنجیدہ', 'ایڈی سنجیدہ صورتحال', 'سنجیدہ صورتحال جگتاں', 'صورتحال جگتاں باز', 'جگتاں باز اوندے', 'باز اوندے لگڑ', 'اوندے لگڑ بگڑ', 'لگڑ بگڑ کھاو', 'بگڑ کھاو تنہائی', 'کھاو تنہائی ں', 'تنہائی ں حقیقتیں', 'ں حقیقتیں ساریاں', 'حقیقتیں ساریاں موشن', 'ساریاں موشن گۓ', 'موشن گۓ مٹھائی', 'گۓ مٹھائی کہلوانا', 'مٹھائی کہلوانا مولوی', 'کہلوانا مولوی تہ', 'مولوی تہ اہ', 'تہ اہ بدبخت', 'اہ بدبخت ٹھہرے', 'بدبخت ٹھہرے بخت', 'ٹھہرے بخت ہاہاہا', 'بخت ہاہاہا ڈبل', 'ہاہاہا ڈبل علیحدہ', 'ڈبل علیحدہ چکے', 'علیحدہ چکے بزدل', 'چکے بزدل ہٹ', 'بزدل ہٹ لکڑ', 'ہٹ لکڑ شرافت', 'لکڑ شرافت شر', 'شرافت شر ہےاور', 'شر ہےاور افت', 'ہےاور افت میٹنگ', 'افت میٹنگ انکوائری', 'میٹنگ انکوائری مطالبہ', 'انکوائری مطالبہ ہورہی', 'مطالبہ ہورہی ڈرو', 'ہورہی ڈرو برکت', 'ڈرو برکت اکاونٹ', 'برکت اکاونٹ دوستی', 'اکاونٹ دوستی سٹار', 'دوستی سٹار ارادہ', 'سٹار ارادہ مدینہ', 'ارادہ مدینہ مندر', 'مدینہ مندر شکل', 'مندر شکل بندر', 'شکل بندر گندہ', 'بندر گندہ بتاو', 'گندہ بتاو ھوگے', 'بتاو ھوگے توانو', 'ھوگے توانو خکومت', 'توانو خکومت قہر', 'خکومت قہر سامنا', 'قہر سامنا چورنی', 'سامنا چورنی ببلو', 'چورنی ببلو ڈبلو', 'ببلو ڈبلو بزنس', 'ڈبلو بزنس کاروبار', 'بزنس کاروبار فرانس', 'کاروبار فرانس اگیا', 'فرانس اگیا فراڈیہ', 'اگیا فراڈیہ پیڑوں', 'فراڈیہ پیڑوں ممکن', 'پیڑوں ممکن دوڑ', 'ممکن دوڑ اتے', 'دوڑ اتے لائق', 'اتے لائق ذہنوں', 'لائق ذہنوں زباں', 'ذہنوں زباں المیہ', 'زباں المیہ سیکٹر', 'المیہ سیکٹر مداخلت', 'سیکٹر مداخلت چٹھیوں', 'مداخلت چٹھیوں معملے', 'چٹھیوں معملے انکا', 'معملے انکا دخل', 'انکا دخل ۱۵', 'دخل ۱۵ ساگ', '۱۵ ساگ بائیسویں', 'ساگ بائیسویں گریڈ', 'بائیسویں گریڈ افسر', 'گریڈ افسر انفورسمنٹ', 'افسر انفورسمنٹ ہیڈ', 'انفورسمنٹ ہیڈ حیثیت', 'ہیڈ حیثیت سچویشن', 'حیثیت سچویشن اپنیاں', 'سچویشن اپنیاں لتاں', 'اپنیاں لتاں چک', 'لتاں چک لینیاں', 'چک لینیاں کرکے', 'لینیاں کرکے ایف', 'کرکے ایف کروائی', 'ایف کروائی نااہل', 'کروائی نااہل محمود', 'نااہل محمود کےبچےجو', 'محمود کےبچےجو کرتےہیں', 'کےبچےجو کرتےہیں فورا', 'کرتےہیں فورا ہوجاتی', 'فورا ہوجاتی بچپن', 'ہوجاتی بچپن ۵روپےکیلئےایک', 'بچپن ۵روپےکیلئےایک زمین', '۵روپےکیلئےایک زمین ناگن', 'زمین ناگن کرناپڑتا', 'ناگن کرناپڑتا تعلق', 'کرناپڑتا تعلق لوٹے', 'تعلق لوٹے برصغیر', 'لوٹے برصغیر بنے', 'برصغیر بنے بخش', 'بنے بخش چڑ', 'بخش چڑ کری', 'چڑ کری لحاظ', 'کری لحاظ بھناں', 'لحاظ بھناں ساڈا', 'بھناں ساڈا چسکا', 'ساڈا چسکا حمایت', 'چسکا حمایت والدیں', 'حمایت والدیں رسوا', 'والدیں رسوا ھوتے', 'رسوا ھوتے جوتے', 'ھوتے جوتے لگائیں', 'جوتے لگائیں بھٹی', 'لگائیں بھٹی اگاہی', 'بھٹی اگاہی ٹوئٹ', 'اگاہی ٹوئٹ ایچ', 'ٹوئٹ ایچ جمن', 'ایچ جمن الیا', 'جمن الیا قصور', 'الیا قصور گراؤنڈ', 'قصور گراؤنڈ تیسرا', 'گراؤنڈ تیسرا معاملے', 'تیسرا معاملے مانے', 'معاملے مانے ہرگز', 'مانے ہرگز جیالے', 'ہرگز جیالے غلطیاں', 'جیالے غلطیاں برے', 'غلطیاں برے رشتے', 'برے رشتے قربان', 'رشتے قربان کرنی', 'قربان کرنی معزز', 'کرنی معزز ادم', 'معزز ادم السلام', 'ادم السلام محبتاں', 'السلام محبتاں سرکار', 'محبتاں سرکار تواڈے', 'سرکار تواڈے پکیاں', 'تواڈے پکیاں کرگیا', 'پکیاں کرگیا مسکرائیے', 'کرگیا مسکرائیے ملکیت', 'مسکرائیے ملکیت ھاھاھاھاھا', 'ملکیت ھاھاھاھاھا کونسی', 'ھاھاھاھاھا کونسی تبلیغ', 'کونسی تبلیغ بھاشن', 'تبلیغ بھاشن ڈکیت', 'بھاشن ڈکیت وکالت', 'ڈکیت وکالت سراج', 'وکالت سراج الحق', 'سراج الحق سعودیہ', 'الحق سعودیہ افیشل', 'سعودیہ افیشل باندر', 'افیشل باندر عطر', 'باندر عطر کپڑوں', 'عطر کپڑوں مہکانا', 'کپڑوں مہکانا خوشبو', 'مہکانا خوشبو بھتیجیاں', 'خوشبو بھتیجیاں خوبصورت', 'بھتیجیاں خوبصورت ھونا', 'خوبصورت ھونا چاھیے', 'ھونا چاھیے ہیرو', 'چاھیے ہیرو پلیٹاں', 'ہیرو پلیٹاں دھون', 'پلیٹاں دھون لئی', 'دھون لئی رکھیا', 'لئی رکھیا بلاو', 'رکھیا بلاو چائی', 'بلاو چائی عمراں', 'چائی عمراں رکھیاں', 'عمراں رکھیاں نہلاتے', 'رکھیاں نہلاتے رھنما', 'نہلاتے رھنما رانا', 'رھنما رانا ثناء', 'رانا ثناء نہلایا', 'ثناء نہلایا sheikhrasheed', 'نہلایا sheikhrasheed ranasanaullah', 'sheikhrasheed ranasanaullah NawazSharif', 'ranasanaullah NawazSharif مخاطب', 'NawazSharif مخاطب ہوکر', 'مخاطب ہوکر قانونی', 'ہوکر قانونی احکامات', 'قانونی احکامات ماننے', 'احکامات ماننے دکھا', 'ماننے دکھا اجتمائی', 'دکھا اجتمائی بھیجیں', 'اجتمائی بھیجیں کنفرم', 'بھیجیں کنفرم کردیو', 'کنفرم کردیو لگوں', 'کردیو لگوں ترسیل', 'لگوں ترسیل تماشہ', 'ترسیل تماشہ پہنڑ', 'تماشہ پہنڑ دیوبندی', 'پہنڑ دیوبندی وہابی', 'دیوبندی وہابی گھاس', 'وہابی گھاس پھوس', 'گھاس پھوس چرنے', 'پھوس چرنے ہاؤس', 'چرنے ہاؤس گورنر', 'ہاؤس گورنر بنائی', 'گورنر بنائی یونیورسٹیاں', 'بنائی یونیورسٹیاں داخلے', 'یونیورسٹیاں داخلے مرغیالوجی', 'داخلے مرغیالوجی بکریالوجی', 'مرغیالوجی بکریالوجی کٹیالوجی', 'بکریالوجی کٹیالوجی فیض', 'کٹیالوجی فیض دھرنے', 'فیض دھرنے طرز', 'دھرنے طرز تقویت', 'طرز تقویت گٸی', 'تقویت گٸی مانیں', 'گٸی مانیں اسمبلیوں', 'مانیں اسمبلیوں فریقین', 'اسمبلیوں فریقین صفحے', 'فریقین صفحے استراحت', 'صفحے استراحت فرمانا', 'استراحت فرمانا روم', 'فرمانا روم میٹ', 'روم میٹ حالات', 'میٹ حالات ھاھاھا', 'حالات ھاھاھا حسینا', 'ھاھاھا حسینا دیوانی', 'حسینا دیوانی مخلص', 'دیوانی مخلص جرم', 'مخلص جرم حاضر', 'جرم حاضر باجواہ', 'حاضر باجواہ واقع', 'باجواہ واقع لاعلم', 'واقع لاعلم ہونااور', 'لاعلم ہونااور علان', 'ہونااور علان بیگم', 'علان بیگم بتانا', 'بیگم بتانا اف', 'بتانا اف سٹاف', 'اف سٹاف چھوٹا', 'سٹاف چھوٹا گھوم', 'چھوٹا گھوم اپکا', 'گھوم اپکا ب', 'اپکا ب امن', 'ب امن استحکام', 'امن استحکام کےلیے', 'استحکام کےلیے قیمت', 'کےلیے قیمت چکاٸی', 'قیمت چکاٸی مستحکم', 'چکاٸی مستحکم بھرپور', 'مستحکم بھرپور جاوید', 'بھرپور جاوید زیرصدارت', 'جاوید زیرصدارت مہمان', 'زیرصدارت مہمان علیکم', 'مہمان علیکم ورحمتہ', 'علیکم ورحمتہ وبرکاتہ', 'ورحمتہ وبرکاتہ اجکل', 'وبرکاتہ اجکل ٹاک', 'اجکل ٹاک مصدق', 'ٹاک مصدق ڈیفنڈ', 'مصدق ڈیفنڈ الطاف', 'ڈیفنڈ الطاف انشاءاللہ', 'الطاف انشاءاللہ طیب', 'انشاءاللہ طیب اردگان', 'طیب اردگان ادویات', 'اردگان ادویات قیمتوں', 'ادویات قیمتوں بجلی', 'قیمتوں بجلی خیبر', 'بجلی خیبر ۳۵۰', 'خیبر ۳۵۰ ڈیمز', '۳۵۰ ڈیمز شکرے', 'ڈیمز شکرے اندھیروں', 'شکرے اندھیروں بم', 'اندھیروں بم دھماکے', 'بم دھماکے ٹارگٹ', 'دھماکے ٹارگٹ کلنگ', 'ٹارگٹ کلنگ مانو', 'کلنگ مانو گھسیٹ', 'مانو گھسیٹ بھلے', 'گھسیٹ بھلے رابطہ', 'بھلے رابطہ زرائع', 'رابطہ زرائع دیاں', 'زرائع دیاں ونگاں', 'دیاں ونگاں دیسی', 'ونگاں دیسی انڈوں', 'دیسی انڈوں اونہہ', 'انڈوں اونہہ سمجھتا', 'اونہہ سمجھتا ایکسپوز', 'سمجھتا ایکسپوز خواہش', 'ایکسپوز خواہش بوائز', 'خواہش بوائز توبہ', 'بوائز توبہ خوشامد', 'توبہ خوشامد کاکوئی', 'خوشامد کاکوئی ضرورہونا', 'کاکوئی ضرورہونا شاباش', 'ضرورہونا شاباش موقعہ', 'شاباش موقعہ جایۓ', 'موقعہ جایۓ کیجیے', 'جایۓ کیجیے فالوورز', 'کیجیے فالوورز کمینٹ', 'فالوورز کمینٹ سیکشن', 'کمینٹ سیکشن کریں…', 'سیکشن کریں… مہرباں', 'کریں… مہرباں چاہا', 'مہرباں چاہا سنتا', 'چاہا سنتا گالیاں', 'سنتا گالیاں دیدی', 'گالیاں دیدی بھتے', 'دیدی بھتے ہوجائےگا', 'بھتے ہوجائےگا اہلکاروں', 'ہوجائےگا اہلکاروں ہوجائیں', 'اہلکاروں ہوجائیں ایڈیشنل', 'ہوجائیں ایڈیشنل گھومیں', 'ایڈیشنل گھومیں ماشاءاللہ', 'گھومیں ماشاءاللہ غلامان', 'ماشاءاللہ غلامان سیشن', 'غلامان سیشن سورہ', 'سیشن سورہ اغاز', 'سورہ اغاز No', 'اغاز No Ay…', 'No Ay… پینا', 'Ay… پینا جرور', 'پینا جرور اداروں', 'جرور اداروں Love', 'اداروں Love فاطمہ', 'Love فاطمہ بنت', 'فاطمہ بنت شوھر', 'بنت شوھر ایمان', 'شوھر ایمان فتوحات', 'ایمان فتوحات کیں', 'فتوحات کیں چاہتی', 'کیں چاہتی ابو', 'چاہتی ابو ڈان', 'ابو ڈان لیکس', 'ڈان لیکس چھوٹ', 'لیکس چھوٹ ملنی', 'چھوٹ ملنی وما', 'ملنی وما كان', 'وما كان ربك', 'كان ربك نسيا', 'ربك نسيا بےشک', 'نسيا بےشک گھومے', 'بےشک گھومے ترے', 'گھومے ترے ٹھکرا', 'ترے ٹھکرا باادب', 'ٹھکرا باادب سفید', 'باادب سفید بالوں', 'سفید بالوں تنکا', 'بالوں تنکا اسوقت', 'تنکا اسوقت لگانا', 'اسوقت لگانا نکا', 'لگانا نکا وڈھے', 'نکا وڈھے ڈیپلائی', 'وڈھے ڈیپلائی طرع', 'ڈیپلائی طرع چوراہے', 'طرع چوراہے کامی', 'چوراہے کامی ٹھوکی', 'کامی ٹھوکی مند', 'ٹھوکی مند چالاک', 'مند چالاک چاہتے', 'چالاک چاہتے \\u200cبڑا', 'چاہتے \\u200cبڑا عہدہ', '\\u200cبڑا عہدہ بلائے', 'عہدہ بلائے ٹپکی', 'بلائے ٹپکی میٹرو', 'ٹپکی میٹرو چکی', 'میٹرو چکی اوندی', 'چکی اوندی اوے', 'اوندی اوے پترا', 'اوے پترا چاپلوسی', 'پترا چاپلوسی بدنام', 'چاپلوسی بدنام مال', 'بدنام مال پلتی', 'مال پلتی پھدو', 'پلتی پھدو بنائیں', 'پھدو بنائیں بوٹے', 'بنائیں بوٹے گالاں', 'بوٹے گالاں کڈ', 'گالاں کڈ رج', 'کڈ رج جواد', 'رج جواد لالے', 'جواد لالے ڈیلیٹ', 'لالے ڈیلیٹ کدی', 'ڈیلیٹ کدی کہن', 'کدی کہن جنا', 'کہن جنا confuse', 'جنا confuse دتا', 'confuse دتا تویٹس', 'دتا تویٹس معیاری', 'تویٹس معیاری تصادم', 'معیاری تصادم استعفیٰ', 'تصادم استعفیٰ پیک', 'استعفیٰ پیک وزارت', 'پیک وزارت منسلک', 'وزارت منسلک سربراہ', 'منسلک سربراہ برانڈ', 'سربراہ برانڈ پسندیدہ', 'برانڈ پسندیدہ مرگئی', 'پسندیدہ مرگئی مانگوں', 'مرگئی مانگوں ڈال', 'مانگوں ڈال ویکھو', 'ڈال ویکھو پرواں', 'ویکھو پرواں تنگ', 'پرواں تنگ نیب', 'تنگ نیب ویڈیو', 'نیب ویڈیو خاں', 'ویڈیو خاں پارٹنر', 'خاں پارٹنر اعجاز', 'پارٹنر اعجاز ائر', 'اعجاز ائر میجر', 'ائر میجر جرنل', 'میجر جرنل ریٹائرڈ', 'جرنل ریٹائرڈ حقیقت', 'ریٹائرڈ حقیقت پیغمبر', 'حقیقت پیغمبر بالکل', 'پیغمبر بالکل ارڈر', 'بالکل ارڈر سلسلے', 'ارڈر سلسلے منسٹر', 'سلسلے منسٹر ھوتی', 'منسٹر ھوتی جوڑے', 'ھوتی جوڑے اسمانوں', 'جوڑے اسمانوں وزن', 'اسمانوں وزن نظریہ', 'وزن نظریہ سمجھنے', 'نظریہ سمجھنے کوشیش', 'سمجھنے کوشیش انشااللہ', 'کوشیش انشااللہ بھڑوا', 'انشااللہ بھڑوا ٹیوٹ', 'بھڑوا ٹیوٹ مقصد', 'ٹیوٹ مقصد چارجنگ', 'مقصد چارجنگ دوسار', 'چارجنگ دوسار ہینڈ', 'دوسار ہینڈ استین', 'ہینڈ استین سانپ', 'استین سانپ پال', 'سانپ پال ھیرے', 'پال ھیرے امید', 'ھیرے امید اگئی', 'امید اگئی ایموجی', 'اگئی ایموجی اعشاریہ', 'ایموجی اعشاریہ فیصد', 'اعشاریہ فیصد کیپ', 'فیصد کیپ اٹ', 'کیپ اٹ گرل', 'اٹ گرل کین', 'گرل کین ڈو', 'کین ڈو کمنٹ', 'ڈو کمنٹ ڈے', 'کمنٹ ڈے شرمندگی', 'ڈے شرمندگی ٹریننگ', 'شرمندگی ٹریننگ بوجھ', 'ٹریننگ بوجھ سٹک', 'بوجھ سٹک رو', 'سٹک رو بھری', 'رو بھری داستان', 'بھری داستان عنقریب', 'داستان عنقریب ٹوٹنے', 'عنقریب ٹوٹنے جاننے', 'ٹوٹنے جاننے بھگت', 'جاننے بھگت فرمائیں', 'بھگت فرمائیں پاؤں', 'فرمائیں پاؤں اکھڑ', 'پاؤں اکھڑ عرصہ', 'اکھڑ عرصہ اگلی', 'عرصہ اگلی رینجرز', 'اگلی رینجرز راج', 'رینجرز راج برقرار', 'راج برقرار فیڈر', 'برقرار فیڈر محبتیں', 'فیڈر محبتیں خیرات', 'محبتیں خیرات خاموش', 'خیرات خاموش پرہیز', 'خاموش پرہیز علاج', 'پرہیز علاج غدار', 'علاج غدار ہنڑ', 'غدار ہنڑ پھا', 'ہنڑ پھا بیٹھ', 'پھا بیٹھ کھائیے', 'بیٹھ کھائیے چٹائ', 'کھائیے چٹائ حلف', 'چٹائ حلف وفاداری', 'حلف وفاداری جعلی', 'وفاداری جعلی پلیٹوں', 'جعلی پلیٹوں سہارا', 'پلیٹوں سہارا لیکر', 'سہارا لیکر المیم', 'لیکر المیم مانگنا', 'المیم مانگنا اہمیت', 'مانگنا اہمیت Ego', 'اہمیت Ego بڑھ', 'Ego بڑھ الزاء', 'بڑھ الزاء موڑ', 'الزاء موڑ صلح', 'موڑ صلح سیکھو', 'صلح سیکھو جھکتا', 'سیکھو جھکتا اکڑنا', 'جھکتا اکڑنا مردے', 'اکڑنا مردے برو', 'مردے برو ملو', 'برو ملو قاۂل', 'ملو قاۂل مغرور', 'قاۂل مغرور العین', 'مغرور العین والدین', 'العین والدین جھکا', 'والدین جھکا انگلش', 'جھکا انگلش صاحبہ', 'انگلش صاحبہ سپورٹرز', 'صاحبہ سپورٹرز نیوٹن', 'سپورٹرز نیوٹن تھرڈ', 'نیوٹن تھرڈ ردعمل', 'تھرڈ ردعمل بلانے', 'ردعمل بلانے مصیبت', 'بلانے مصیبت جیب', 'مصیبت جیب نکلوانا', 'جیب نکلوانا ادھار', 'نکلوانا ادھار اسانی', 'ادھار اسانی بنالیتی', 'اسانی بنالیتی دھو', 'بنالیتی دھو دبا', 'دھو دبا کرونگی', 'دبا کرونگی مرضی', 'کرونگی مرضی سات', 'مرضی سات کلومیٹر', 'سات کلومیٹر باندھ', 'کلومیٹر باندھ شعر', 'باندھ شعر دکھی', 'شعر دکھی ٹٹے', 'دکھی ٹٹے ھلا', 'ٹٹے ھلا بھاگتے', 'ھلا بھاگتے پھرو', 'بھاگتے پھرو وھاں', 'پھرو وھاں ھیرو', 'وھاں ھیرو السین', 'ھیرو السین سچائی', 'السین سچائی خلوص', 'سچائی خلوص دیگا', 'خلوص دیگا حدیث', 'دیگا حدیث ابوہریرہ', 'حدیث ابوہریرہ ؓ', 'ابوہریرہ ؓ \\u200cاللہ', 'ؓ \\u200cاللہ \\u200cعلیہ', '\\u200cاللہ \\u200cعلیہ \\u200cوالہ', '\\u200cعلیہ \\u200cوالہ \\u200cوسلم', '\\u200cوالہ \\u200cوسلم نےفرمایا', '\\u200cوسلم نےفرمایا ادمیوں', 'نےفرمایا ادمیوں ائند', 'ادمیوں ائند قرار', 'ائند قرار over', 'قرار over واردات', 'over واردات کھرے', 'واردات کھرے بیانات', 'کھرے بیانات مختلف', 'بیانات مختلف صاف', 'مختلف صاف جبری', 'صاف جبری دبایا', 'جبری دبایا مارے', 'دبایا مارے ذلالت', 'مارے ذلالت چوٹی', 'ذلالت چوٹی پہنچنا', 'چوٹی پہنچنا نعرے', 'پہنچنا نعرے راتوں', 'نعرے راتوں ابوبکر', 'راتوں ابوبکر صدیق', 'ابوبکر صدیق شان', 'صدیق شان گستاخی', 'شان گستاخی فرار', 'گستاخی فرار Tabdeeli', 'فرار Tabdeeli بھوسڑی', 'Tabdeeli بھوسڑی دوائیاں', 'بھوسڑی دوائیاں مخالفاں', 'دوائیاں مخالفاں ویکھ', 'مخالفاں ویکھ یوٹرن', 'ویکھ یوٹرن کھلم', 'یوٹرن کھلم کھلا', 'کھلم کھلا ہاۓ', 'کھلا ہاۓ FATF', 'ہاۓ FATF گرے', 'FATF گرے نکلنے', 'گرے نکلنے صوبہ', 'نکلنے صوبہ تھوپا', 'صوبہ تھوپا ڈوریاں', 'تھوپا ڈوریاں بھارت', 'ڈوریاں بھارت کمیٹی', 'بھارت کمیٹی فرررر', 'کمیٹی فرررر گیو', 'فرررر گیو پبلک', 'گیو پبلک سمجھو', 'پبلک سمجھو دکھاؤ', 'سمجھو دکھاؤ وزیراعلیٰ', 'دکھاؤ وزیراعلیٰ گیری', 'وزیراعلیٰ گیری پٹھی', 'گیری پٹھی جدا', 'پٹھی جدا نکلیا', 'جدا نکلیا اینوں', 'نکلیا اینوں پینے', 'اینوں پینے مجال', 'پینے مجال لکھیں', 'مجال لکھیں نگیٹو', 'لکھیں نگیٹو پوزیٹو', 'نگیٹو پوزیٹو عتیق', 'پوزیٹو عتیق دیکھتا', 'عتیق دیکھتا پشتو', 'دیکھتا پشتو ته', 'پشتو ته دلته', 'ته دلته اوودريگه', 'دلته اوودريگه زه', 'اوودريگه زه پسې', 'زه پسې پلار', 'پسې پلار راولم', 'پلار راولم جتھے', 'راولم جتھے سائیںاں', 'جتھے سائیںاں انہاں', 'سائیںاں انہاں پونچ', 'انہاں پونچ جانڑاں', 'پونچ جانڑاں کیہڑی', 'جانڑاں کیہڑی پیکنگ', 'کیہڑی پیکنگ ناحق', 'پیکنگ ناحق سزا', 'ناحق سزا پیدا', 'سزا پیدا بلوچ', 'پیدا بلوچ سردار', 'بلوچ سردار ۱۰۰۰۰', 'سردار ۱۰۰۰۰ سےکم', '۱۰۰۰۰ سےکم کرینگے', 'سےکم کرینگے ریٹویٹوالوں', 'کرینگے ریٹویٹوالوں کری…', 'ریٹویٹوالوں کری… حلیمہ', 'کری… حلیمہ موٹے', 'حلیمہ موٹے نین', 'موٹے نین جٹی', 'نین جٹی چرچے', 'جٹی چرچے رہن', 'چرچے رہن فقط', 'رہن فقط ٹکڑا', 'فقط ٹکڑا گردش', 'ٹکڑا گردش محروم', 'گردش محروم ہوں…', 'محروم ہوں… باؤ', 'ہوں… باؤ ہارٹ', 'باؤ ہارٹ اٹیک', 'ہارٹ اٹیک باو', 'اٹیک باو چولیں', 'باو چولیں مارلیتی', 'چولیں مارلیتی پایین', 'مارلیتی پایین تواڈی', 'پایین تواڈی چھوڑیں', 'تواڈی چھوڑیں بدمعاش', 'چھوڑیں بدمعاش کھسرا', 'بدمعاش کھسرا تفتیش', 'کھسرا تفتیش فٹے', 'تفتیش فٹے ترسا', 'فٹے ترسا بنگالی', 'ترسا بنگالی گاہک', 'بنگالی گاہک ستے', 'گاہک ستے طلعت', 'ستے طلعت کوارڈینیشن', 'طلعت کوارڈینیشن وکٹ', 'کوارڈینیشن وکٹ دعوت', 'وکٹ دعوت انشاللہ', 'دعوت انشاللہ دوران', 'انشاللہ دوران بنینگے', 'دوران بنینگے کمپین', 'بنینگے کمپین حصہ', 'کمپین حصہ پہلاں', 'حصہ پہلاں ہوٸی', 'پہلاں ہوٸی تھانے', 'ہوٸی تھانے خاوند', 'تھانے خاوند copy', 'خاوند copy مطالعہ', 'copy مطالعہ مختصر', 'مطالعہ مختصر ٹاپک', 'مختصر ٹاپک متاثرین', 'ٹاپک متاثرین بادن', 'متاثرین بادن ھوتا', 'بادن ھوتا سائٹ', 'ھوتا سائٹ تفصیل', 'سائٹ تفصیل مفتی', 'تفصیل مفتی ملنے', 'مفتی ملنے شناخت', 'ملنے شناخت شجرہ', 'شناخت شجرہ نسب', 'شجرہ نسب چیڑیل', 'نسب چیڑیل غصے', 'چیڑیل غصے جاؤ\\u200cں', 'غصے جاؤ\\u200cں نمبر۲ہے', 'جاؤ\\u200cں نمبر۲ہے اورنیازی', 'نمبر۲ہے اورنیازی نمبر۱', 'اورنیازی نمبر۱ اورہے', 'نمبر۱ اورہے لگاناپڑھیگا', 'اورہے لگاناپڑھیگا گنے', 'لگاناپڑھیگا گنے چنے', 'گنے چنے این', 'چنے این اوکے', 'این اوکے مستحق', 'اوکے مستحق نرمی', 'مستحق نرمی جاسکتی', 'نرمی جاسکتی پرستی', 'جاسکتی پرستی تقاضے', 'پرستی تقاضے مسئلے', 'تقاضے مسئلے تلوار', 'مسئلے تلوار نوبل', 'تلوار نوبل انعام', 'نوبل انعام پسندی', 'انعام پسندی گانے', 'پسندی گانے ہنسی', 'گانے ہنسی رونا', 'ہنسی رونا عراقی', 'رونا عراقی دبئی', 'عراقی دبئی تندوری', 'دبئی تندوری تر', 'تندوری تر جلتى', 'تر جلتى هے', 'جلتى هے دنيا', 'هے دنيا همارى', 'دنيا همارى يارى', 'همارى يارى كى', 'يارى كى يار', 'كى يار نهيں', 'يار نهيں چهوڑ', 'نهيں چهوڑ سكتے', 'چهوڑ سكتے جاتےتھے', 'سكتے جاتےتھے جاتےتھےاب', 'جاتےتھے جاتےتھےاب تواتنی', 'جاتےتھےاب تواتنی ھوگئی', 'تواتنی ھوگئی ود', 'ھوگئی ود مختاریا', 'ود مختاریا نفرت', 'مختاریا نفرت ہواؤں', 'نفرت ہواؤں اڑتی', 'ہواؤں اڑتی رہیگی', 'اڑتی رہیگی انٹری', 'رہیگی انٹری دھماکہ', 'انٹری دھماکہ خیز', 'دھماکہ خیز حکومتی', 'خیز حکومتی خاموشی', 'حکومتی خاموشی اکیلی', 'خاموشی اکیلی نکلی', 'اکیلی نکلی جانب', 'نکلی جانب منزل', 'جانب منزل وہلیاں', 'منزل وہلیاں گیں', 'وہلیاں گیں فلووینگ', 'گیں فلووینگ بڑھتی', 'فلووینگ بڑھتی گیی', 'بڑھتی گیی رک', 'گیی رک پڑہ', 'رک پڑہ إلٰه', 'پڑہ إلٰه إلا', 'إلٰه إلا أنت', 'إلا أنت سبحانك', 'أنت سبحانك إني', 'سبحانك إني كنت', 'إني كنت من', 'كنت من الظالمين', 'من الظالمين گزری', 'الظالمين گزری خفا', 'گزری خفا حرمتی', 'خفا حرمتی ھوی', 'حرمتی ھوی ۱۴', 'ھوی ۱۴ اگست', '۱۴ اگست پڑھنا', 'اگست پڑھنا لکھنے', 'پڑھنا لکھنے کلیکشن', 'لکھنے کلیکشن فرمایا', 'کلیکشن فرمایا اکٹھا', 'فرمایا اکٹھا دکھائیں', 'اکٹھا دکھائیں بھروسہ', 'دکھائیں بھروسہ ارب', 'بھروسہ ارب پتی', 'ارب پتی سوری', 'پتی سوری ڑونٹ', 'سوری ڑونٹ بتائی', 'ڑونٹ بتائی تضاد', 'بتائی تضاد چیزیں', 'تضاد چیزیں خوف', 'چیزیں خوف مرنا', 'خوف مرنا دعویٰ', 'مرنا دعویٰ تعالیٰ', 'دعویٰ تعالیٰ مقدر', 'تعالیٰ مقدر اورنگزیب', 'مقدر اورنگزیب اکے', 'اورنگزیب اکے بتائے', 'اکے بتائے مسلط', 'بتائے مسلط کتابوں', 'مسلط کتابوں لیکں', 'کتابوں لیکں ڈھیٹ', 'لیکں ڈھیٹ پن', 'ڈھیٹ پن سوہنی', 'پن سوہنی گارڈ', 'سوہنی گارڈ باد', 'گارڈ باد چھیڑ', 'باد چھیڑ نندن', 'چھیڑ نندن nationlovespakistanarmy', 'نندن nationlovespakistanarmy ٹرینڈ', 'nationlovespakistanarmy ٹرینڈ برداشتہ', 'ٹرینڈ برداشتہ ماہ', 'برداشتہ ماہ رخصت', 'ماہ رخصت ماؤں', 'رخصت ماؤں لال', 'ماؤں لال بندے', 'لال بندے جنازے', 'بندے جنازے ۱۰', 'جنازے ۱۰ جاوے', '۱۰ جاوے مردہ', 'جاوے مردہ دھڑکن', 'مردہ دھڑکن ویرانے', 'دھڑکن ویرانے گستاخ', 'ویرانے گستاخ صحابہ', 'گستاخ صحابہ سیلبریٹ', 'صحابہ سیلبریٹ جتئیے', 'سیلبریٹ جتئیے اقتدار', 'جتئیے اقتدار ضیاء', 'اقتدار ضیاء طلب', 'ضیاء طلب کرلی', 'طلب کرلی ٹینڈے', 'کرلی ٹینڈے میـٹر', 'ٹینڈے میـٹر ھاھا', 'میـٹر ھاھا حیا', 'ھاھا حیا ر', 'حیا ر جل', 'ر جل دھوکہ', 'جل دھوکہ فیک', 'دھوکہ فیک لاکن', 'فیک لاکن ماننی', 'لاکن ماننی ائیں', 'ماننی ائیں جد', 'ائیں جد گنوائیں', 'جد گنوائیں دورہ', 'گنوائیں دورہ تقدیر', 'دورہ تقدیر لہر', 'تقدیر لہر دیھک', 'لہر دیھک کراپ', 'دیھک کراپ کروناکی', 'کراپ کروناکی بہانہ', 'کروناکی بہانہ ٹیلیفون', 'بہانہ ٹیلیفون موجودہ', 'ٹیلیفون موجودہ تبادلہ', 'موجودہ تبادلہ ناظرین', 'تبادلہ ناظرین پھٹی', 'ناظرین پھٹی عاشقی', 'پھٹی عاشقی قدموں', 'عاشقی قدموں مجازی', 'قدموں مجازی ورکر', 'مجازی ورکر عظمت', 'ورکر عظمت پالیسی', 'عظمت پالیسی اسلام', 'پالیسی اسلام متحمل', 'اسلام متحمل صنم', 'متحمل صنم ڈوبیں', 'صنم ڈوبیں ٹو', 'ڈوبیں ٹو سلیکٹرز', 'ٹو سلیکٹرز انچ', 'سلیکٹرز انچ چاول', 'انچ چاول ۱۵۰', 'چاول ۱۵۰ گوشت', '۱۵۰ گوشت ۴۵۰', 'گوشت ۴۵۰ لیٹرپالک', '۴۵۰ لیٹرپالک ۲۳۰', 'لیٹرپالک ۲۳۰ مرلہ', '۲۳۰ مرلہ نظیر', 'مرلہ نظیر ننگی', 'نظیر ننگی تصویریں', 'ننگی تصویریں پھینکواتا', 'تصویریں پھینکواتا nani۴۲۰', 'پھینکواتا nani۴۲۰ لکل', 'nani۴۲۰ لکل لبیک', 'لکل لبیک باباجی', 'لبیک باباجی ذندہ', 'باباجی ذندہ ا۶ی', 'ذندہ ا۶ی نالائقی', 'ا۶ی نالائقی دفتروں', 'نالائقی دفتروں فائلز', 'دفتروں فائلز بلڈنگز', 'فائلز بلڈنگز ریکارڈ', 'بلڈنگز ریکارڈ جلاۓ', 'ریکارڈ جلاۓ بیغیرتی', 'جلاۓ بیغیرتی کیلا', 'بیغیرتی کیلا مشکلات', 'کیلا مشکلات زراری', 'مشکلات زراری چلغوزے', 'زراری چلغوزے ۲۵۰۰', 'چلغوزے ۲۵۰۰ کلو', '۲۵۰۰ کلو چوراپوزیشن', 'کلو چوراپوزیشن پٹ', 'چوراپوزیشن پٹ پٹا', 'پٹ پٹا تاڈا', 'پٹا تاڈا اچکزی', 'تاڈا اچکزی خارشی', 'اچکزی خارشی جسکو', 'خارشی جسکو دیکھنی', 'جسکو دیکھنی لے۳۵سال', 'دیکھنی لے۳۵سال شلواریں', 'لے۳۵سال شلواریں شلواروں', 'شلواریں شلواروں ناڑے', 'شلواروں ناڑے انتخابات', 'ناڑے انتخابات لڑیں', 'انتخابات لڑیں ڈنگرپٹواریوں', 'لڑیں ڈنگرپٹواریوں جاہل', 'ڈنگرپٹواریوں جاہل جیالوں', 'جاہل جیالوں کوپھرپھدوبنائیں', 'جیالوں کوپھرپھدوبنائیں ورلڈکپ', 'کوپھرپھدوبنائیں ورلڈکپ شوکت', 'ورلڈکپ شوکت خانم', 'شوکت خانم ایمپائر', 'خانم ایمپائر انگلی', 'ایمپائر انگلی کوکین', 'انگلی کوکین پڑیا', 'کوکین پڑیا بچتے', 'پڑیا بچتے بتاۓ', 'بچتے بتاۓ سپری', 'بتاۓ سپری اکاونٹس', 'سپری اکاونٹس موڈ', 'اکاونٹس موڈ کائینات', 'موڈ کائینات ملکر', 'کائینات ملکر عادی', 'ملکر عادی کرلیں', 'عادی کرلیں سین', 'کرلیں سین ایکٹ', 'سین ایکٹ تحت', 'ایکٹ تحت مسکین', 'تحت مسکین ۱۹۷۰', 'مسکین ۱۹۷۰ ۷۰پارٹیاں', '۱۹۷۰ ۷۰پارٹیاں کررہی', '۷۰پارٹیاں کررہی ڈنگر', 'کررہی ڈنگر موؤمنٹ', 'ڈنگر موؤمنٹ مشاہد', 'موؤمنٹ مشاہد ہندو', 'مشاہد ہندو گائےکو', 'ہندو گائےکو مانتےہیں', 'گائےکو مانتےہیں بیل', 'مانتےہیں بیل کوباپ', 'بیل کوباپ ویسےہی', 'کوباپ ویسےہی کوبہنوئی', 'ویسےہی کوبہنوئی کیز', 'کوبہنوئی کیز بارے', 'کیز بارے اونوں', 'بارے اونوں معلومات', 'اونوں معلومات للہ', 'معلومات للہ الیہ', 'للہ الیہ راجعون', 'الیہ راجعون معروف', 'راجعون معروف عالم', 'معروف عالم دین', 'عالم دین مناظر', 'دین مناظر عبدالکریم', 'مناظر عبدالکریم نعمانی', 'عبدالکریم نعمانی کبیر', 'نعمانی کبیر والہ', 'کبیر والہ انتقال', 'والہ انتقال فرما', 'انتقال فرما اناللہ', 'فرما اناللہ وانا', 'اناللہ وانا نمازجنازہ', 'وانا نمازجنازہ دارالعلوم', 'نمازجنازہ دارالعلوم کبیروالا', 'دارالعلوم کبیروالا ترس', 'کبیروالا ترس امران', 'ترس امران خانی', 'امران خانی انوں', 'خانی انوں چنگا', 'انوں چنگا نندا', 'چنگا نندا مشیر', 'نندا مشیر بنگش', 'مشیر بنگش نوکری', 'بنگش نوکری سندہ', 'نوکری سندہ سندھی', 'سندہ سندھی بولنے', 'سندھی بولنے اسکول', 'بولنے اسکول ٹیچر', 'اسکول ٹیچر سوالوں', 'ٹیچر سوالوں بچنے', 'سوالوں بچنے کرجاتے', 'بچنے کرجاتے کتےکی', 'کرجاتے کتےکی ڈاون', 'کتےکی ڈاون حیران', 'ڈاون حیران رہاہوں', 'حیران رہاہوں ڈھیل', 'رہاہوں ڈھیل چڑھیں', 'ڈھیل چڑھیں ڈرائنگ', 'چڑھیں ڈرائنگ کروائیں', 'ڈرائنگ کروائیں سافٹ', 'کروائیں سافٹ وئیر', 'سافٹ وئیر اپڈیٹ', 'وئیر اپڈیٹ وائرس', 'اپڈیٹ وائرس smooth', 'وائرس smooth چلیں', 'smooth چلیں کنجرلوگ', 'چلیں کنجرلوگ مائنڈ', 'کنجرلوگ مائنڈ کرگئے', 'مائنڈ کرگئے کمائی', 'کرگئے کمائی منایا', 'کمائی منایا برنال', 'منایا برنال برف', 'برنال برف ٹکور', 'برف ٹکور قادر', 'ٹکور قادر پارلیمنٹ', 'قادر پارلیمنٹ چلاتے', 'پارلیمنٹ چلاتے پوچھتے', 'چلاتے پوچھتے تواڈا', 'پوچھتے تواڈا بنایا', 'تواڈا بنایا کریے', 'بنایا کریے اوہی', 'کریے اوہی اندا']\n"
          ]
        }
      ]
    },
    {
      "cell_type": "code",
      "source": [
        "unigrams=vocabulary\n",
        "print('unigrams')\n",
        "print(unigrams)"
      ],
      "metadata": {
        "colab": {
          "base_uri": "https://localhost:8080/"
        },
        "id": "biDyQaUYHEzi",
        "outputId": "550239f1-ed89-4e17-ca58-fc2fa4fcf083"
      },
      "execution_count": 116,
      "outputs": [
        {
          "output_type": "stream",
          "name": "stdout",
          "text": [
            "unigrams\n",
            "['لینے', 'شادی', 'فسادن', 'ٹھیک', 'کوجی', 'چاہیے', 'چل', 'مہمانوں', 'کھانا', 'سرو', 'چڑیل', 'چاچی', 'نوں', 'دسدی', 'اں', 'کامران', 'خان', 'اپکی', 'دن', 'بھریہ', 'زمہ', 'داری', 'لگائی', 'اپوزیشن', 'کردار', 'کشی', 'اوراس', 'پربھونکناہےاپ', 'خوشامدگری', 'وچاپلوسی', 'سےاورکتنی', 'دولت', 'کماناچاہتےہیں', 'موٹرسائیکل', 'سےپیجارو', 'پراڈو', 'کےسفرمیں', 'ضمیرکی', 'لاش', 'سےاٹھتی', 'بدبواپ', 'ناک', 'بند', 'نوٹ', 'اپ', 'سےالتجاگزارش', 'ہےہمیں', 'فالوکریں', 'شکریہ', 'مراد', 'علی', 'شاہ', 'بھیس', 'ڈی', 'جی', 'ائی', 'ایس', 'حامد', 'میر', 'قابل', 'اعتبار', 'اکثر', 'قاتل', 'انساں', 'تھکا', 'سوچوں', 'سفر', 'صاحب', 'ویلڈن', 'یار', 'وچارہ', 'ویلا', 'ہوندا', 'ارے', 'ہویا', 'تسی', 'تے', 'پکے', 'نجومی', 'منندے', 'سمجھنا', 'سارا', 'پاکستان', 'بیوقوف', 'ھے', 'لڑاںٔی', 'کروانی', 'ساڈی', 'پائن', 'دوبارہ', 'فالو', 'کرئیے', 'کتنی', 'مہنگائی', 'الو', 'دوسو', 'روپے', 'درجن', 'کدو', '۸۰روپے', 'گز', 'ISPR', 'عشق', 'راس', 'اۓ', 'زخم', 'کھاٶ', 'مسکراٶ', 'چونا', 'خاتم', '_', 'النبیین', 'محمدﷺ', 'Surat', '۷۳', 'سورة', 'المزمل', 'Ayt', '۲۰', 'حصہ۵', 'ترجمہ', 'اللہ', 'راہ', 'لڑتے', 'جتنا', 'قران', 'میسر', 'پڑھواورنماز', 'قائم', 'رکھواورزکوٰة', 'دواور', 'اچھا', 'قرض', 'درود', 'وقران', 'صلی', 'علٰی', 'حبیبہٖ', 'سیدنا', 'محمد', 'والہٖ', 'وصحبہٖ', 'وسلم', 'اب', 'بس', 'بیچارے', 'بیویاں', 'ہیے', 'تیسری', 'ٹرائ', 'پتہ', 'ہورہا', 'بورڈ', 'زنگ', 'لگ', 'رحمتوں', 'سائے', 'مکمل', 'صحت', 'یاب', 'فرمائے', 'ارمی', 'چیف', 'نوٹس', 'مجرم', 'جرائیم', 'خود', 'کرےگا', 'کھوتی', 'بچیا', 'عزت', 'کیتی', 'قدر', 'شکر', 'بونڈ', 'نئیں', 'ماری', 'جے', 'ہوندی', 'تینوں', 'پٹھاناں', 'ہتھے', 'چاڑ', 'پین', 'یکا', 'فوج', 'سیاست', 'دور', 'بلاول', 'زرداری', 'کراچی', 'واقعے', 'لڑکی', 'جیتی', 'صدائیں', 'درودوں', 'اتی', 'رہینگی', 'سن', 'دل', 'شاد', 'خدا', 'اہلسنت', 'اباد', 'میلاد', 'رہیگا', 'ﷺ', 'Eide…', 'ووٹ', 'بجائے', 'ووٹر', '۲۰۰۴', 'نشئی', 'اسٹیبلشمنٹ', 'کتا', 'وزیراعظم', 'بن', '۲۰۱۸', 'کتے', 'PMبنتے', 'دیکھ', 'مشکل', 'ناممکن', 'کوشش', 'پورے', 'ہفتے', 'سالن', 'روٹی', 'حال', 'وھ', 'ھو', 'بیشک', 'کیمنا', 'حرام', 'حق', 'بات', 'کتنا', 'پیسا', 'ماضی', 'انتہائی', 'وقوف', 'سمجھدار', 'مریم', 'نواز', 'بزدارکی', 'پرواز', 'بیک…', 'امین', 'ثمہ', 'جیتھے', 'وتھے', 'ا', 'کھلوتی', 'اسمبلی', 'بغیر', 'ڈیزل', 'اسکو', 'گدھا', 'گدھے', 'ڈنڈے', 'ضرورت', 'عجیب', 'پنگا', 'گولیاں', 'محو', 'رقص', 'کوئ', 'خبر', 'غلط', 'سکتی', 'دروازے', 'اتارتے', 'تھپڑ', 'لگاتے', 'ویسے', 'پیر', 'کلہاڑی', 'مارنا', 'سیکھے', 'دلہن', 'پھپھو', 'ندیم', 'ملک', 'بطور', 'عام', 'پاکستانی', 'عزیز', 'وزیر', 'اعلیٰ', 'پنجاب', 'جناب', 'عثمان', 'احمد', 'بزدار', 'خلاف', 'بیان', 'پرزور', 'مزمت', 'بیکار', 'قطری', 'نانی', 'بلو', 'رانی', 'ذلیل', 'وقت', 'چاہتا', 'گیم', 'بری', 'پھنس', 'صفدر', 'ازاد', 'واکے', 'ٹوپی', 'ڈرامہ', 'کھولے', 'ماب', 'درخواست', 'حضور', 'جال', 'بچائیں', 'بھائیوں', 'ویلکم', 'بہنوں', 'کرا', 'نہیںبلی', 'دیکھو', 'زرا', 'پہ', 'کڑی', 'نظر', 'موٹی', 'ٹویٹ', 'ایتھے', 'جج', 'اک', 'محترمہ', 'پاک', 'بکواس', 'رات', 'فوجی', 'ساتھ', 'گل', 'لگتا', 'انکے', 'دیوتا', 'پورا', 'لکیروں', 'سہارے', 'سوچتا', 'بولتا', 'ہاہاہاہاہاہاہاہاہاہاہااہاہاہاہا', 'لگدا', 'مینوں', 'ای', 'قربانی', 'پڑنی', 'الٹی', 'کھوپڑی', 'کان', 'سنو', 'دوسرے', 'نکال', 'سنا', '۱', 'اکیلا', '۱۱', 'گیارہ', 'تاریخ', 'پہلی', 'دفعہ', 'برباد', 'کردیا', 'واہ', 'زندگی', 'مصروف', 'اتنا', 'بھول', 'یاد', 'اردو', 'زبان', 'ہور', 'ٹرک', 'انا', 'ملوث', 'سندھ', 'پولیس', 'حوالے', 'وچ', 'کہڑہ', 'جوک', 'جنابچھڈو', 'رھن', 'دیو', 'تہانوں', 'دا', 'پتا', 'اج', 'استعفی', 'لکھنا', 'ایا', 'اگلے', 'جنم', 'مل', 'پریس', 'کانفرنس', 'صبح', 'واقعات', 'بابت', 'کور', 'کمانڈر', 'تحقیقات', 'رپورٹ', 'پیش', 'حکم', 'حکومت', 'IG', 'زبردست', 'چھٹیوں', 'بھیجا', 'کھیل', 'مزید', 'دلچسپ', 'جلسے', 'لوگوں', 'بلالیا', 'مرگیا', 'اسکی', 'برسی', 'محبت', 'وراثت', 'ملتی', 'تلاش', 'پڑتی', 'ادب', 'نوازش', 'دوسروں', 'جلنے', 'بہتر', 'یے', 'بیویوں', 'خرچہ', 'پارلر', 'مارخورز', 'سعید', 'غنی', 'عمران', 'سازش', 'الحمدللہ', 'بےنقاب', 'صافی', 'پوچھوں', 'بلاک', 'سچ', 'بتائو', 'تبدیلی', 'ارہی', 'لفافی', 'صحافی', 'ہاہاہاہاہاہا', 'چالیس', 'سالہ', 'صحافت', 'بلتکار', 'مولا', 'خوش', 'دراصل', 'ٹکلا', 'انکل', 'چمہ', 'بیچ', 'نانا', 'اگئے', 'اوئے', 'غائب', 'لوگ', 'ائے', 'ہا', 'اہو', 'پشاور', 'ہاٸیکورٹ', 'لیگی', 'رہنما', 'امیر', 'مقام', 'FIA', 'کیسز', 'سفارشات', 'رد', 'باعزت', 'لینا', 'ھی', 'ھوا', 'دودھ', 'راکھا', 'بلا', 'چراغ', 'تلے', 'اندھیرا', '۶', 'بسکٹ', 'گن', 'معافی', 'دیندے', 'قوم', 'غلامی', 'رسول', 'موت', 'قبول', 'مصطفی', 'فضول', 'حضورصلى', 'الله', 'عليه', 'النبيين', 'صلى', 'نبی', 'شک', 'بیرونی', 'دوست', 'مدد', 'لٸے', 'تیار', 'بیٹھے', 'ہمیں', 'پوچھنا', 'چھٹی', 'لکھ', 'شغل', 'میلہ', 'لان', 'دؤ', 'توانوں', 'فالورز', 'بڑھانے', 'تشریف', 'محسوس', 'دیوار', 'حکیم', 'اشتہار', 'ٹوئیٹر', 'دواخانہ', 'غیرتوں', 'جاہلوں', 'سوا', 'نیازی', 'ہارون', 'رشید', 'StandWithSindhPolice', 'فلاسفی', 'کھلے', 'بولا', 'مائی', 'لارڈ', 'ڈیر', 'خکولے', 'ماشاءالله', 'دیکھنا', 'کافی', 'مقدار', 'پاپ', 'کارن', 'منگوا', 'اواز', 'قائد', 'اعظم', 'لوگو', 'فون', 'پوچھ', 'مزار', 'داخل', 'تعجب', 'جانتا', 'کہنے', 'کاروائی', 'چلو', 'ریلیف', 'ملے', 'صف', 'شامل', 'ھوگیا', 'ھمارا', 'نعرہ', 'حسن', 'اتفاق', 'گلی', 'کام', 'معاملہ', 'بولے', 'ڈمی', 'PM', 'لطیفے', 'کپتان', 'میراثی', 'مرغے', 'نام', 'وردی', 'اتار', 'کہیں', 'مرد', 'جوانی', 'اعمال', 'بیٹی', 'قسمت', 'ساقی', 'بستا', 'وجود', 'سلطنت', 'رگ', 'لفظ', 'تشریح', 'غریب', 'ڈھنگی', 'پرواہ', 'مخلوق', 'عرض', 'کیلئے', 'ڈھنگ', 'کھسم', 'مر', 'نئ', 'سکون', 'عطا', 'فرماۓ', 'ثم', 'ایناں', 'نی', 'جیناں', 'اویا', 'ملازم', 'تنخواہ', 'تولہ', 'سونے', 'برابر', 'بیغیرت', 'چوک', 'در', 'کہتے', 'کٹھ', 'پتلی', 'فیصلے', 'انتقام', 'جلدی', 'سوچ', 'بدزبان', 'بد', 'کلام', 'چوہان', 'ٹائیگر', 'نامی', 'لگام', 'BachaKhanOurHero', 'دماغ', 'گرد', 'گھومتے', 'موجودگی', 'ضروری', 'استعمال', 'عورت', 'اتنی', 'وفا', 'جنت', 'خواب', 'جبکہ', 'پہلو', 'بیٹھا', 'تین', 'کسطرح', 'سانوں', 'بھل', 'سکدے', 'ملی', 'ہنھ', 'نہی', 'بدلے', 'چکا', 'ن', 'لیک', 'گنجے', 'مخالف', 'تقریر', 'کروائ', 'گنجی', 'اجازت', 'پوسٹر', 'نیچے', 'پیپلزپارٹی', 'لکھوا', 'بینرز', 'وائرل', 'جوائ', 'گرفتار', 'کروا', 'اتحاد', 'بینڈ', 'بجائ', 'جارہی', 'گشتی', 'پاگل', 'ہوگی', 'سیریس', 'شام', 'جتنے', 'ریٹویٹ', 'سپیشل', 'پروموشن', 'لسٹ', 'گاجلدی', 'گارنٹی', 'ف…', 'سرعام', 'گوئ', 'ہنر', 'پایا', 'ع', 'جگر', 'وچلے', 'ذرائع', 'مطابق', 'کپٹن', '۱۹۹۲', 'بدلہ', 'CompromiseGames', 'پٹواریوں', 'مادرملت', 'بنا', 'سوار', 'سواری', 'نکما', 'کیپٹن', 'صفدو', 'گجر', 'طیارہ', 'وڑائچ', 'چیمہ', 'خدمت', 'نیو', 'لیول', 'انسانوں', 'ملا', 'حساب', 'کتوں', 'ہوگا', 'باجوا', 'چھاتی', 'قریب', 'میڈل', 'دیکھے', 'پچھلے', 'چار', 'سالوں', 'سےاتنا', 'فتح', 'کشمیر', 'اسکے', 'بائیں', 'ہاتھ', 'راکٹ', 'سائنس', 'جیو', 'شیرنی', 'مشیروں', 'وزیروں', 'نیند', 'پنڈی', 'بواے', 'کال', 'گئ', 'zabardast', 'رابطے', 'شفاء', 'روح', 'انتہا', 'چوری', 'خوب', 'کمال', 'مسکرانا', 'ھمیں', 'ڈوبا', '۴٢٠', 'زنبیل', 'دفن', 'اڑ', 'ماتحت', 'بنانا', 'اسان', 'ٹرکوں', 'پیچھے', 'سلام', 'مادر', 'ملت', 'زلت', 'افتخار', 'ٹھاکر', 'سٹائل', 'بھٹو', 'پوچھنے', 'بتانے', 'ضروت', 'کل', 'کہاں', 'گزاری', 'چنگچی', 'ڈھونڈ', 'بیانیہ', 'گھر', 'پہنچائیں', 'انقلاب', 'بریکنگ', 'نیوز', 'کامیاب', 'جلسوں', 'نکے', 'ابا', 'استعفے', 'شروع', 'مبارک', 'ریاست', '…', 'ڈوبے', 'اصل', 'لفافے', 'خونی', 'لبرل', 'روز', 'جھوٹ', 'بولتے', 'سوتے', 'عادت', 'غم', 'شب', 'ارزو', 'چاہ', 'اجڑ', 'بسا', 'بچھڑ', 'علاؤہ', 'دنیا', 'سچی', 'مطلب', 'کنوارا', 'مروں', 'سمجھ', 'ارہا', '۹', 'بجے', 'خبریں', 'فلم', 'سنگم', 'طبعیت', 'خراب', 'ہوگئی', 'بھونکنے', 'ائ', 'دباو', 'گورنمنٹ', 'وفاق', 'پہر', 'بھر', 'بھونک', 'ضرور', 'غور', 'پانی', 'ختم', 'پرائمری', 'سکول', 'بچہ', 'منٹ', 'اشتاد', 'پی', 'اواں', 'اغواکاروں', 'چنگل', 'کرانا', 'کاکا', 'عدت', 'پوری', 'عوام', 'مدت', 'ترجمان', 'گھٹیا', 'باتیں', 'اندر', 'اوپر', 'درست', 'رویہ', 'قسمیں', 'انج', 'چھوٹنے', 'موسمیات', 'زرتاج', 'اظہار', 'اطمینان', 'ھاھاھاھاھااو', 'خیر', 'پاٸیا', 'فیاض', 'نال', 'پٸے', 'کردے', 'جونی', 'نٸیں', 'جماعت', 'اسلامی', 'جلوس', 'تحریک', 'طور', 'نوکر', 'شاہی', 'دلالی', 'ایم', 'مخالفت', 'ھاھاھاھا', 'توں', 'مزے', 'ماہیا', 'ہن', 'انیل', 'کپورے', 'کہنا', 'نامراد', 'کہی', 'دوسری', 'کھڑی', 'فراغت', 'میاں', 'ساب', 'شیر', 'ثابت', 'پونچھ', 'لگوانے', 'سرجری', 'روانہ', 'ذرایع', 'حامڈ', 'میڑ', 'جلد', 'سوفٹ', 'ویئر', 'ڈیٹ', 'شیخ', 'خودکش', 'گھنٹے', 'اپنوں', 'نقصان', 'پہنچانے', 'نظرتوصرف', 'لڑکیوں', 'کولگتی', 'لڑکوں', 'پیچھےتوجب', 'لگتے', 'زادی', 'بستی', 'ملنا', 'بار', 'منیر', 'الیکشن', 'امیدوار', 'کمشنر', 'نو', 'گولی', 'مار', 'دیندا', 'لگھڑ', 'بھگڑ', 'کروایا', 'پلے', 'ھیں', 'حیرت', 'انکو', 'اعتراض', 'کریڈٹ', 'پڑے', 'بهی', 'یوتھیے', 'بےچارے', 'فی', 'سبیل', 'ہيں', 'مان', 'مرشد', 'تیر', 'ميں', 'شکار', 'StateAboveStateRejected', 'IGSindh', 'نیا', 'گانا', 'ریلیز', 'کتی', 'جئ', 'زنانی', 'رول', 'جھاد', 'مجاد', 'جناح', 'رح', 'نہیںتم', 'چھٹیاں', 'بتا', 'شرم', 'انی', 'چاہیےقانون', 'عمل', 'گیایہ', 'باپ', 'ہےیہ', 'پاکستانیوں', 'وطن', 'ہےاب', 'داماد', 'مچھ', 'جیل', 'تھاقانون', 'پڑھو', 'اخر', 'ماموں', 'بیٹے', 'کلاس', 'باخدا', 'یقین', 'اتا', 'لڑکا', 'Geo', 'News', 'پروگرام', 'پکا', 'اصلی', 'بیٹا', 'بندوق', 'ذیادہ', 'طاقت', 'قلم', 'کیمرے', 'شرط', 'کیمرا', 'بکے', 'دلال', 'اعوان', 'جذباتی', 'ایہہ', 'کم', 'پیندا', 'سارے', 'بابر', 'فردوس', 'عاشق', 'ہوندے', 'پچیس', 'پیچش', 'سال', 'اذان', 'سننےسے', 'ذہنی', 'بیماریوں', 'نجات', 'بدتمیزی', 'مت', 'گھبرائیں', 'تعارف', 'کرواتے', 'سمجھداری', 'پہچان', 'اگے', 'مرادعلی', 'سےپوچھے', 'اریحائی', 'ملازمت', 'چھوڑ', 'کھیتی', 'باڑی', 'ارائیوں', 'پیشہ', 'ذراعت', 'باغ', 'بانی', 'پیاز', 'اگانے', 'کھانے', 'کوپیاز', 'تڑکا', 'لگانے', 'طریقہ', 'اقوام', 'سیکھا', 'ارائیں', 'عربی', 'نسل', 'عرب', 'عجم', 'انکی', 'تہذیب', 'نمائیاں', 'فرق', 'نشہ', 'شاہین', 'واقعی', 'مزہ', 'حیدر', 'بھائی', 'پیارے', 'انسان', 'بےوفا', 'مانا', 'تیرا', 'بنتا', 'فیصل', 'واوڈا', 'ترین', 'اعلان', 'انڈیا', 'سوگ', 'انرت', 'ہوگیا', 'ہمیشہ', 'دیوالی', 'مانتا', 'انڈین', 'جان', 'ڈھائی', 'ہزار', 'کرسیوں', 'پانچ', 'لاکھ', 'افراد', 'بٹھانے', 'ذمہ', 'عاصمہ', 'شیرازی', 'سلیم', 'اٹھتی', 'کالج', '۵', 'منت', 'ٹویٹر', 'بخیر', 'سکوں', 'لیٹ', 'پاتی', 'وین', 'اورمیں', 'بھاگ', 'گانڈو', 'بھڑوے', 'کنجر', 'نشئ', 'چور', 'اچکے', 'حرامخور', 'کرپٹ', 'زانی', 'پالشیئے', 'ھمارے', 'جلانے', 'یوے', 'انے', 'لفافہ', 'کتنے', 'نیک', 'پیپلز', 'پارٹی', 'نون', 'لیگ', 'مولانا', 'فضل', 'ا…', 'بڑوں', 'لڑائی', 'خوشی', 'اچھل', 'رھے', 'ھوتابعدار', 'نوازشریف', 'اعزاز', 'حاصل', 'لوئر', 'پاپولر', 'ھورھا', 'وؤٹ', 'بندہ', 'بوٹ', 'چاٹ', 'تھکتا', 'شاعر', 'ائو', 'اکٹھے', 'ڈوبتے', 'ڈوبنا', 'پٹوارن', 'بیغیرتوں', 'افسوس', 'محض', 'ڈرامے', 'مبنی', 'راء', 'ٹکڑوں', 'پلنے', 'خاص', 'بھونکنا', 'پھونکی', 'ہٹے', 'شکوے', 'برا', 'چاہنا', 'تربیت', 'اپس', 'چے', 'فساد', 'پے', 'جانا', 'وا', 'صحافیوں', 'کھسرے', 'اوزار', 'دئے', 'جونسا', 'سائڈ', 'سکو', 'مثلا', 'پڑتا', 'افسران', 'چلے', 'فورس', 'لیئے', 'ڈاکٹر', 'شہباز', 'ہائے', 'مینو', 'خور', 'میڈم', 'جتنی', 'لڑکیاں', 'سوٹ', 'پہن', 'ماسک', 'کرونا', 'پیٹھ', 'برائی', 'ایمانداری', 'کھو', 'جاو', 'سلیوٹ', 'جہنوں', 'دائرہ', 'اختیار', 'اثر', 'انداز', 'احتجاجا', 'درخواستیں', 'جمع', 'کروانا', 'کردیں', 'ITTEFAQ', 'PROMO', 'بہترین', 'فالوبیک', 'ٹیم', 'خوامخواہ', 'شراکت', 'ہنستے', 'سہہ', 'سیانے', 'طریقے', 'رہیے', 'حالت', 'سہی', '۷', 'خون', 'معاف', 'شخص', 'گراتے', 'گر', 'کاٹ', 'افراتفری', 'پھیل', 'جنریٹر', 'مک', 'غزوہ', 'ٹویٹس', 'ڈرافٹ', 'قدرت', 'حسین', 'مورت', 'جانچنے', 'بیٹھوں', 'صدیاں', 'پڑ', 'ادائے', 'سخن', 'جبیں', 'چھونے', 'دھرتی', 'ٹکرا', 'ناز', 'چھو', 'ازلوں', 'بیمار', 'لمحوں', 'عزتی', 'چیئرمین', 'زندہ', 'سیاسی', 'جرنیل', 'بیوی', 'سکتے', 'دلوائے', 'خنزیرکےبچےکاباقی', 'کاٹبرجوپاکستان', 'ہےاسےISIاٹھاکےاس', 'خنزیرکوپاکستان', 'بلاسکتی', 'ہےاورپھراس', 'پرچھترول', 'کےبیل', 'بوٹےبناکےاس', 'کاایجنڈاپروپیگنڈااس', 'گھسابھی', 'ہےاوراس', 'کےناجائزباپ', 'گوالمنڈیلاجس', 'کایہ', 'پالتوکتاہےکوبھی', 'واپس', 'مادرچودایزی', 'لےرہاISIکومیشایاداگئی', 'سکینہ', 'کہتا', 'بابا', 'مرثیہ', 'سوال', 'جواب', 'پوچھا', 'مفت', 'گھوٹ', 'بوا', 'بنی', 'تبھی', 'نکالا', 'منحوس', 'مارا', 'لوڈ', 'شیڈنگ', 'وعدہ', 'کمبخت', 'پرچی', 'پڑھ', 'بونگیاں', 'مارتے', 'رحم', 'عیش', 'اولاد', 'چھتر', 'پٹواری', 'کھا', 'پٹ…', 'ادارے', 'وقار', 'احتجاج', 'سستا', 'بناؤ', 'ٹکے', 'سلیکٹڈ', 'بھلا', 'سلیکٹر', 'اجائے', 'بھنگڑے', 'ڈالتے', 'اوقات', 'ریے', 'مزا', 'پٹیل', 'اکلوتی', 'کلئیر', 'بننے', 'شکوک', 'کدھر', 'افواہ', 'سسرال', 'درویش', 'چھٹ', 'لیڈر', 'نکلا', 'باندری', 'الگ', 'جانتے', 'گالی', 'توہین', 'لگالے', 'دیکھنے', 'شکھنا', 'کوٸی', 'گڈ', 'ناٸیٹ', 'گزر', 'موازنہ', 'ترق…', 'مقبول', 'ٹی', 'مجبور', 'ارہے', 'عقل', 'جمی', 'پڑی', 'پھوپھا', 'حرکتیں', 'دس', 'تانو', 'پھوپو', 'SindhPolice', 'شمالی', 'علاقہ', 'جات', 'سیر', 'محکمہ', 'سیاحت', 'مہنگا', 'تصویروں', 'لےکر', 'لاک', 'رہڈیو', '۷۴۹', 'ورکرز', 'فارغ', '۲۰۲۰', 'نوکریاں', 'ترقی', 'شبلی', 'شیدا', 'فواد', 'مسٹر', 'اکبر', 'WeStandWithSindhPolice', 'PunjabPolice', 'تھوڑی', 'چپیڑ', 'چوڑے', 'دکھاو', 'بتاتا', 'جگہ', 'چاہئے', 'انکھوں', 'روشنی', 'رکھ', 'سہیلے', 'بےبے', 'چمڑہ', 'سک', 'اوتھے', 'تیل', 'پیپا', 'پانا', 'پئے', 'البتہ', 'بھیناں', 'کاشت', 'نیں', 'انیس', 'بیس', 'ساٹھ', 'ستر', 'گزار', 'دھوبی', 'گھاٹ', 'کااس', 'dog', 'سمجھاپڑھا', 'نئی', 'علم', 'علمیت', 'جنازہ', 'نکل', 'کپڑے', 'دھونے', 'ڈنڈا', 'جسے', 'پھرتا', 'یکو', 'پہلا', 'جلوہ', 'خلا', 'ئ', 'مخلو', 'ق', 'ابے', 'Game', 'کہتی', 'بڑ', 'وں', 'کوئٹہ', 'شرکت', 'انکار', 'پیا', 'شفاعت', 'یقیں', 'حشر', 'جہنم', 'بچا', 'واله', 'گرم', 'چائے', 'گرتا', 'از', 'محنتی', 'محنت', 'تکے', 'مارنے', 'شریف', 'ظالم', 'سر', 'غزوۂ', 'ہند', 'زلیل', 'بـے', 'شـک', 'شـخـص', 'کامـیاب', 'ہـو', 'گیـا', 'جـس', 'نـے', 'اپـنے', 'نـفس', 'کـو', 'پـاکـیزہ', 'رکـھا', 'الـــقـــران', '°', 'للو', 'اینکر', 'ہولیس', 'ایشو', 'زاتی', 'اینگل', 'مانگ', 'بیانیے', 'منہ', 'موڑا', 'نما', 'نالائق', 'جوتی', 'نوک', 'توجہ', 'سیدھا', 'الو۲۰۰روپےدرجن', 'انڈے۲۰۰کلو', 'اٹا۶۰۰روپےلیٹر', 'چینی', '۱۰۰', 'روپےمربع', 'فٹ', 'سونا۱لاکھ', 'روپےکلومیڑ', 'سائنسدان', 'بتائیں', 'کنڈوم', 'کوالٹی', 'چیک', 'کروگے', 'نتیجہ', 'لخد', 'لعنت', 'BachaKhanO…', 'اینج', 'جیویں', 'سٹینڈ', 'ہندی', 'بتادیا', 'جیتے', 'جٸے', 'ذیابطیس', 'وجہ', 'شدید', 'پلیز', 'دعاۓ', 'جزاک', 'یقینی', 'انتظار', 'mr', 'mayo۷۵۶', 'Insta', 'I', 'd', '۲۵', '٪', 'مکس', 'اچار', 'پارٹیوں', 'واے', 'اپکے', 'ایل', 'بریانی', 'پلیٹ', '۱۰۰۰', 'دیہاڑی', 'دار', 'مقابلہ', 'تصویر', 'ٹانگ', 'بیٹھیں', 'پراپیگنڈا', 'تحفظ', 'موومنٹ', 'کیسا', 'سرپرائز', 'ISPRچیئرمین', 'بھٹوزرداری', 'سےارمی', 'قمرجاوید', 'باج', 'کاکراچی', 'واقعےپرتبادلہ', 'خیال', 'کوارمی', 'جنرل', 'قمر', 'جاویدباجوہ', 'کاٹیلی', 'ہاوس', 'اا', 'صوبے', 'موساد', 'تھوڑا', 'اڈیکتا', 'سلامی', 'کھاۓ', 'پیے', 'جاٸیں', 'ظلم', 'برداشت', 'میک', 'یقینا', 'ماسٹر', 'پینٹ', 'لگایا', 'بچیے', 'اینی', 'ٹینشن', 'بارش', 'اگردر', 'دیندارۍپخته\\u200cشدید', '\\u200cخام\\u200cنخواهید\\u200cشد', 'ولےاگرداغ\\u200cشدید', 'احتمالاسردخواهیدشد', 'پخته\\u200cشویم', 'باہمت', 'ہارا', 'جیت', 'سیکھ', 'بروقت', 'برملا', 'نہانے', 'صابن', 'جھاگ', 'کانوں', 'باقی', 'مارننگ', 'دیکھیں', 'اندازہ', 'بوکھلائے', 'عمر', 'تقاضہ', 'بولو', 'بنانے', 'بناتی', 'میٹھے', 'پتر', 'NationLovesPakistanArmy', 'تنظیم', 'سازی', 'چھوڑدے', 'چکیا', 'فائدہ', 'بھیجنے', 'اجتماعی', 'اپشن', 'دکھ', 'بول', 'دسیا', 'ٹویٹا', 'الفاظ', 'اوٹ', 'پاکیزہ', 'الزام', 'لگائے', 'نماز', 'پڑھنے', 'ٹیکس', 'ڈیم', 'قرضہ', 'ادا', 'ہوجائے', 'لہو', 'بغاوت', 'فرض', 'سوفیسٹیکیٹڈ', 'چلائی', 'چنگی', 'پلی', 'یاسر', 'ے', 'افزائی', 'تعریف', 'یوتھیوں', '۲۲', 'کروڑ', 'سونپ', 'مے', 'گونگے', 'اندھے', 'جدید', 'خطرناک', 'ایجاد', 'عارضی', 'تعلقات', 'اللھم', 'صل', 'وعلی', 'ال', 'ٹولہ', 'انگوٹھے', 'انگوٹھا', 'بھیجوں', 'خواہ', 'مخواہ', 'خاندان', 'جسکی', 'تعلیم', 'کزنوں', 'لائف', 'ٹائم', 'طعنے', 'سننے', 'پڑتے', 'کزن', 'چاہو', 'ٹیسٹی', 'بھیج', 'گھوبھی', 'شائد', 'چلی', 'دفتر', 'بچاکر', 'گزارہ', 'جاے', 'فریال', 'پکڑ', 'لارہی', 'لائینز', 'ایریا', 'علاقے', 'خاتون', 'لگتی', 'پان', 'وچوں', 'باہر', 'نمبر', 'بیلجیم', 'کافر', 'سیدھے', '۱۱۸', 'ویں', 'فرشتے', 'Ho', '۳۰۰', 'اضافہ', 'مینشن', 'ریٹوئیٹ', 'بیک', 'دیں…', 'سبزیوں', 'ریٹ', 'کھیرا', 'مولی', 'گاجر', 'فری', 'صفدرے', 'پکڑنا', 'یو', 'ٹرن', 'بخدا', 'ماں', 'پکار', 'چند', 'سڑو', 'کمنٹس', 'مذاق', 'حس', 'چول', 'جئے', 'پا', 'ڈر', 'پیدائش', 'دائی', 'ناں', 'وچاری', 'قبر', 'عذاب', 'اٹھانے', 'سبق', 'پرانی', 'کہانیوں', 'بھولنے', 'الجھن', 'باتوں', 'خرافات', 'اسکتا', 'ظرف', 'Dedicated', 'تمھارا', 'موذوع', 'بدل', 'بنتے', 'قبضہ', 'رھا', 'چپ', 'ستمبر', '۲۰۲۰میں', 'ستمبر۲۰۱۹کے', 'مقابلے', 'شہری', 'شرح', 'دگنی', 'یعنی۲۰٪اوردیہاتی', 'یعنی۲۴٪رہی', 'وفاقی', 'ادارہ', 'شماریات', 'ڈپٹی', 'کربوٹے', 'بوٹا', 'ظالموں', 'وی', 'شعریف', 'کردو', 'لاڈلی', 'بہن', 'کرن', 'ڈھولکی', 'جینا', 'مسکرا', 'جینے', 'حرج', 'جنریشن', 'موبائل', 'چھیننا', 'مریض', 'اکسیجن', 'اتارنے', 'لائن', 'دیر', 'اللٰہ', 'الخیر', 'وضاحت', 'کٙتا', 'دوپٹہ', 'حجاب', 'چادر', 'مردوں', 'اٙحتراما', 'عورتوں', 'راستہ', 'نظریں', 'جھکاتے…', 'بےغم', 'ادمی', 'کہلانے', '۲', 'دشمن', 'بچو', '۳', 'چڑیوں', 'کھال', 'ایویں', 'چاہی', 'ههههههههههههههههههههہ', 'ه', 'حافظ', 'دلوں', 'اگ', 'حساس', 'مظبوط', 'دوستیاں', 'ڈالیں', 'جذبات', 'زیادتی', 'نداز', 'ہوسکتی', 'پائے', 'ھوں', 'محترم', 'پہاڑوں', 'پرندے', 'جاگتے', 'دعائے', 'صبحدم', 'Follow', 'لئیے', 'رشتہ', 'لاؤں', 'فکر', 'الســلام', 'عليڪم', 'ورحمـةاللـه', 'وبرڪــاته', '𝐌𝐀𝐒𝐇𝐀ماشاء', 'اللہ𝐀𝐋𝐋𝐀𝐇', 'قیـامت', 'کـے', 'سـاری', 'کـرنسـی', 'فیــل', 'ہـوجائـے', 'گـی', 'حضرت', 'سـے', 'محـبت', 'کـا', 'سکـہ', 'چلـتا', 'رہــے', '𝓓𝓻', '𝓜𝓾𝓱𝓪𝓶𝓶𝓪𝓭', '𝓐𝓴𝓶𝓪𝓵', '𝓚𝓱𝓪𝓷', '𝓜𝓾𝓱𝓶𝓪𝓷𝓭', 'جزاکم', 'سدا', 'واقعہ', 'ار', 'ویسا', 'وینا', 'ائندہ', 'بہلانے', 'غالب', 'ہتھ', 'ہولا', 'اردگرد', 'منافق', '۴۰۰', 'کراس', 'کامیابی', 'چوٹیوں', 'رکا', 'تسلی', 'خفیہ', 'ہتھیار', 'سہیلی', 'پالی', 'انصاف', 'صوبوں', 'یکساں', 'خوشحالی', 'شہر', 'ک…', 'پنسل', 'لکهو', 'ربڑ', 'مٹا', 'کمپنی', 'ضد', 'ناکر', 'ادھ', 'دھاندلی', 'کریم', 'حبیب', 'صدقے', 'کروٹ', 'نصیب', 'کورکمانڈر', 'تبصرہ', 'PDM', 'گلہ', 'گھونٹنے', 'کفن', 'پیج', 'پلٹ', 'دیگر', 'COAS', 'وئی', 'پروفیسر', 'کیہڑیاں', 'کھانیاں', 'چوں', 'منا', 'ایکسٹینشن', 'نکلیں', 'بچی', 'لفظوں', 'پریم', 'کہانی', 'پھوپھو', 'ڈھولک', 'پیار', 'بانٹیں', 'بانٹنا', 'ئیں', 'سمجیں', 'میدان', 'بچاؤ', 'چلائیں', 'فیصلہ', 'چوروں', 'ٹانگنا', 'چلتا', 'حرف', 'الگاف', 'گفتگو', '★', 'میٹھی', 'بولنا', 'سرکاری', 'حاجن', 'سخت', 'مایوسی', 'ہون', 'کیہ', 'باجی', 'ہین', 'تارے', 'توڑ', 'اؤ', 'فلاح', 'کاپی', 'صفحہ', 'غیرت', 'سکے', 'انڈے', '۲۱۶', 'ہوگئے', 'گندے', 'سہیل', 'شوبازے', 'لندن', 'بلایا', 'کرسی', 'کتاب', 'پڑھی', 'پنجابی', 'گنڈاسے', 'وفاوں', 'مکر', 'واقف', 'چاہت', 'کپ', 'باجوہ', 'کرنل', 'پرامن', 'بنادیا', 'تازہ', 'مثال', 'جہاں', 'بکری', 'زیبرا', 'اٸی', 'اغوا', 'وارنٹ', 'گرفتاری', 'جاری', 'چاھٸے', 'قصہ', 'ہوجاٸے', 'باری', 'احتیاط', 'سکیورٹی', 'لاجک', 'چھڈنا', 'پاسے', 'سیکنا', 'ویر', 'پیلے', 'تمھاری', 'جوکر', 'جھوٹی', 'تھک', 'عائشہ', 'گلالئی', 'میسیجز', 'کمر', 'درد', 'پیٹ', 'می', 'ٹھوک', 'وغیرہ', 'اتش', 'جوان', 'لالیکا', 'لالا', 'انگریزی', 'Smokeless', 'fire', 'کالا', 'دھواں', 'ریحام', 'طلاق', 'پرانے', 'کوسنے', 'لگےلگی', 'نوبت', 'مارشل', 'لاء', 'تمیز', 'جاندا', 'دکھانے', 'سرفہرست', 'BohtZulmHuaDilKySaht', 'ورنہ', 'چلنا', 'مصروفیت', 'چیز', 'feelings', 'سرحدوں', 'محافظ', 'ملائی', 'معصول', 'برائے', 'مہربانی', 'ہولڈ', 'خلیمہ', 'پہنچ', 'باس', 'شرماناں', 'ایں', 'Leonardo', 'بنڑ', 'شاوا', 'میشی', 'لیونارڈو', 'خیرا', 'کثیرا', 'موچی', 'ایلفی', 'چاروں', 'دوسےبڑھ', 'ائین', 'کااحترم', 'حدود', 'رہوتک', 'ہےبچےبوڑھے', 'مزدور', 'تاجر', 'پولی…', 'کما', 'نیچ', 'حرکت', 'چھپ', 'تانک', 'جھانک', 'مکھی', 'صحیح', 'ویران', 'مدینے', 'ز', 'ل', 'م', 'صفہ', 'پرھ', 'شئیرز', 'کافروں', 'بنانی', 'ٹیوب', 'چینل', 'ریسیپی', 'سینڈ', 'چھڈو', 'پراں', 'روزی', 'دانشوری', 'داران', 'صفائیاں', 'بتایا', 'دوسرا', 'سٹاک', 'بیچنا', 'چہرے', 'انشاء', 'شفا', 'دےامین', 'جشن', 'ڈن', 'لٹ', 'رے', 'دوجی', 'جتے', 'کیطرح', 'فرمائش', 'سمسنگ', 'ٹچ', 'خرید', 'دسو', 'نہیںزرداری', 'ملنگ', 'ہوگٸ', 'تسلسل', 'چاہیۓ', 'تھکن', 'زمانوں', 'کب', 'اترتی', 'رینجر', 'اغواہ', 'ناراض', 'ظاہر', 'اغواء', 'مہنگاٸی', 'چھٹکارہ', 'لنگر', 'خانے', 'مسافر', 'پناہ', 'گاھیں', 'کٹے', 'مرغیاں', 'درخت', 'جابز', 'پچاس', 'مکانات', 'بھنگ', 'بچت', 'بازار', 'الزامات', 'بلاؤل', 'کروانے', 'بلی', 'چھچھڑوں', 'والے…', 'حد', 'سرحد', 'درمیاں', 'فاصلے', 'پیتا', 'گردوں', 'پھیر', 'سکی', 'معلوم', 'رشتو…', 'بھوک', 'بلبلاتے', 'روتے', 'خاطر', 'کیانی', 'شادیوں', 'پیسے', 'لوٹا', 'پوچھو', 'ماروگے', 'پیدائشی', 'PTI', 'جوائن', 'پیدل', 'مشن', 'impossible', 'اسکا', 'حل', 'چکر', 'اچ', 'بیستی', 'نیئں', 'کردی', 'پڑجانی', 'فیلڈ', 'پکارتے', 'Salute', 'You', 'Commander', 'گوجرانوالا', 'ٹیلی', 'اپناؤ', 'ائیگا', 'چھین', 'جائیگا', 'ساڈے', 'کیہڑے', 'لن', 'ٹھنڈ', 'ایہدی', 'مروڑے', 'پاواں', 'امریکا', 'افغانستان', 'تابوت', 'ہدف', 'کرسکا', 'گلبدین', 'حکمت', 'Reason', 'ISI', 'پیٹرول', '۲۰۰', 'انگور۲۰۰', 'لیٹر', 'اٹا', '۶۰۰', 'میٹر', 'نویں', 'بونگی', 'شوق', 'زمانہ', 'جاھلیت', 'فراز', 'کمی', 'ھوگی', 'بلکل', 'شو', 'شا', 'ناکام', 'کوششیں', 'کونسا', 'جمسا', 'لیپرڈ', 'جملہ', 'اخری', 'جہاز', 'کھوتوں', 'پوچھے', 'پوسٹ', 'لائک', 'انگور', '۱۸۰', '۳۰', 'لفافوں', 'اہل', 'بصارت', 'گہرائیاں', 'ہیش', 'ٹیگ', 'ارشد', 'ٹرینڈز', 'چاہئیں', 'انصافیوں', 'بشری', 'بی', 'عرف', 'پنکی', 'بتاؤ', 'وزریراعظم', 'معاملات', 'اپکو', 'نئے', 'انقلابی', 'خریدنے', 'متعدد', 'رشوت', 'اعجازالحق', 'غیر', 'جانبدار', 'پیغام', 'دہا', 'دروازہ', 'توڑا', 'جانبداری', 'کیسی', 'یس', 'سس', 'legendfrndz', 'ہمشیہ', 'ہمکنار', 'بھئ', 'اونو', 'کیڑا', 'ویکھاں', 'دھبہ', 'ویائی', 'ماحول', 'ٹھنڈی', 'ہوگئ', 'ٹویٹیں', 'میٹرک', 'فیل', 'خطیب', 'امام', 'مسجد', 'امامت', 'مساوی', 'معاشرہ', 'بھائ', 'حسد', 'رونق', 'اچھاہے', 'حنا', 'سمجھایا', 'چھپکے', 'سوشل', 'میڈیا', 'زریعے', 'سنے', 'لدھڑ', 'ڈینگیں', 'زہنی', 'مزاحمت', 'رکھیں', 'گیند', 'کورٹ', 'ٹوٸیٹس', 'سڑیل', 'جھوووووووٹ', 'سراسر', 'پسند', 'پیسوں', 'ارٹسٹ', 'رکجو', 'پالش', 'مقتدر', 'قوتوں', 'منجی', 'فخر', 'ٹوٹے', 'مدہوش', 'دم', 'نکلے', 'مرے', 'روبرو', 'گزارش', 'خدارا', 'شفائی', 'کاملہ', 'عاجلہ', 'گھبرانا', 'مذید', 'کٸ', 'دہاٸیوں', 'نکاح', 'نامہ', 'پکڑے', 'مانتے', 'کھوکھر', 'بالخصوص', 'بڑھاتے', 'شکایت', 'اٹھاتا', 'جھوٹا', 'شكوے', 'زرفوں', 'لگنا', 'ثبوت', 'مکار', 'رسیدیں', 'صورت', 'تھو', 'بھاری', 'بوسہ', 'تکلیف', 'سنائیں', 'غلام', 'مصطفیٰ', 'کیونکر', 'ستائیں', 'ﷺﷺﷺﷺﷺﷺﷺ', 'تاجدارحرمﷺ', 'انمول', 'تودو', 'مرا', 'بہ', 'ط', 'افریده', 'است', 'عید', 'بیعت', 'کئ', 'بھولی', 'صورتوں', 'چھوڑو', 'نوجوان', 'کنزرویٹو', 'شريف', 'عالمی', 'مجلس', 'نبوت', 'زیر', 'اہتمام', '۲۲۲۳', 'اکتوبر', 'منعقد', 'ہونیوالی', 'سالانہ', 'چناپ', 'نگر', 'احباب', 'ری', 'شئیر', 'حاضری', 'لگایں', 'علیہ', 'دفاع', 'لازم', 'مسلم', 'تسبیح', 'لوڑ', 'ڈاکو', 'یوتھیئے', 'یوتھیا', 'چارجر', 'نقشہ', 'جرنیلوں', 'چہتی', 'چلانا', 'اتاروں', 'وردیاں', 'مانگو', 'جاۓگا', 'کیلے', 'تقدس', 'پامال', 'قضاء', 'جاۓ', 'واجب', 'سادگی', 'مرزے', 'ٹٹی', 'کھبا', 'کپورہ', 'فیر', 'اپنڑیاں', 'پی…', 'کرکٹ', 'کھسری', 'عنبر', 'CM', 'Sindh', 'ڈانس', 'کرتیں', 'stateabovestate', 'پیمرا', 'چیرمین', 'وزیراطلات', 'ھم', '۲۰۱۴', 'ھوئے', 'گود', 'مبشر', 'زیدی', 'کنفیوزن', 'میکو', 'رخصتی', 'روئے', 'چاند', 'پڑا', 'اکر', 'ھاں', 'ایکسیجن', 'گٹھنے', 'خطرہ', 'فنا', 'چاہنے', 'شکست', 'کتھوں', 'ائیاں', 'ساری', 'خوشیاں', 'دیکھی', 'bhai', 'اخروٹ', 'فرماندے', 'کلیاں', 'کھان', 'ڈھڈ', 'کیڑے', 'پیندے', 'شفاف', 'کرائے', 'SindhGovt', 'گیراج', 'رنگے', 'ہاتھوں', 'پکڑا', 'بیچنے', 'لگو', 'کھٹارا', 'پس', 'مارکیٹ', 'کیتا', 'ویاہ', 'دفع', 'چوہدری', 'مھجے', 'اسٹبلیشمنٹ', 'نسی', 'طلال', 'چوھدری', 'کیوںکہ', 'خطر', 'سمجھاوے', 'بھئی', 'لچ', 'تلنے', 'ٹک', 'باوے', 'بارہ', 'ربیع', 'الاول', 'ہزاروں', 'کیک', 'کاٹیں', 'رسولﷺ', 'اسم', 'رضی', 'عنہ', 'رسولﷺکا', 'مٹایا', 'دعوے', 'کیکوں', 'کیجئے', 'الا', 'احسن', 'اقبال', 'کمیشن', 'قسم', 'پول', 'پٹواریاں', 'موقع', 'دوے', 'ایڈی', 'سنجیدہ', 'صورتحال', 'جگتاں', 'باز', 'اوندے', 'لگڑ', 'بگڑ', 'کھاو', 'تنہائی', 'ں', 'حقیقتیں', 'ساریاں', 'موشن', 'گۓ', 'مٹھائی', 'کہلوانا', 'مولوی', 'تہ', 'اہ', 'بدبخت', 'ٹھہرے', 'بخت', 'ہاہاہا', 'ڈبل', 'علیحدہ', 'چکے', 'بزدل', 'ہٹ', 'لکڑ', 'شرافت', 'شر', 'ہےاور', 'افت', 'میٹنگ', 'انکوائری', 'مطالبہ', 'ہورہی', 'ڈرو', 'برکت', 'اکاونٹ', 'دوستی', 'سٹار', 'ارادہ', 'مدینہ', 'مندر', 'شکل', 'بندر', 'گندہ', 'بتاو', 'ھوگے', 'توانو', 'خکومت', 'قہر', 'سامنا', 'چورنی', 'ببلو', 'ڈبلو', 'بزنس', 'کاروبار', 'فرانس', 'اگیا', 'فراڈیہ', 'پیڑوں', 'ممکن', 'دوڑ', 'اتے', 'لائق', 'ذہنوں', 'زباں', 'المیہ', 'سیکٹر', 'مداخلت', 'چٹھیوں', 'معملے', 'انکا', 'دخل', '۱۵', 'ساگ', 'بائیسویں', 'گریڈ', 'افسر', 'انفورسمنٹ', 'ہیڈ', 'حیثیت', 'سچویشن', 'اپنیاں', 'لتاں', 'چک', 'لینیاں', 'کرکے', 'ایف', 'کروائی', 'نااہل', 'محمود', 'کےبچےجو', 'کرتےہیں', 'فورا', 'ہوجاتی', 'بچپن', '۵روپےکیلئےایک', 'زمین', 'ناگن', 'کرناپڑتا', 'تعلق', 'لوٹے', 'برصغیر', 'بنے', 'بخش', 'چڑ', 'کری', 'لحاظ', 'بھناں', 'ساڈا', 'چسکا', 'حمایت', 'والدیں', 'رسوا', 'ھوتے', 'جوتے', 'لگائیں', 'بھٹی', 'اگاہی', 'ٹوئٹ', 'ایچ', 'جمن', 'الیا', 'قصور', 'گراؤنڈ', 'تیسرا', 'معاملے', 'مانے', 'ہرگز', 'جیالے', 'غلطیاں', 'برے', 'رشتے', 'قربان', 'کرنی', 'معزز', 'ادم', 'السلام', 'محبتاں', 'سرکار', 'تواڈے', 'پکیاں', 'کرگیا', 'مسکرائیے', 'ملکیت', 'ھاھاھاھاھا', 'کونسی', 'تبلیغ', 'بھاشن', 'ڈکیت', 'وکالت', 'سراج', 'الحق', 'سعودیہ', 'افیشل', 'باندر', 'عطر', 'کپڑوں', 'مہکانا', 'خوشبو', 'بھتیجیاں', 'خوبصورت', 'ھونا', 'چاھیے', 'ہیرو', 'پلیٹاں', 'دھون', 'لئی', 'رکھیا', 'بلاو', 'چائی', 'عمراں', 'رکھیاں', 'نہلاتے', 'رھنما', 'رانا', 'ثناء', 'نہلایا', 'sheikhrasheed', 'ranasanaullah', 'NawazSharif', 'مخاطب', 'ہوکر', 'قانونی', 'احکامات', 'ماننے', 'دکھا', 'اجتمائی', 'بھیجیں', 'کنفرم', 'کردیو', 'لگوں', 'ترسیل', 'تماشہ', 'پہنڑ', 'دیوبندی', 'وہابی', 'گھاس', 'پھوس', 'چرنے', 'ہاؤس', 'گورنر', 'بنائی', 'یونیورسٹیاں', 'داخلے', 'مرغیالوجی', 'بکریالوجی', 'کٹیالوجی', 'فیض', 'دھرنے', 'طرز', 'تقویت', 'گٸی', 'مانیں', 'اسمبلیوں', 'فریقین', 'صفحے', 'استراحت', 'فرمانا', 'روم', 'میٹ', 'حالات', 'ھاھاھا', 'حسینا', 'دیوانی', 'مخلص', 'جرم', 'حاضر', 'باجواہ', 'واقع', 'لاعلم', 'ہونااور', 'علان', 'بیگم', 'بتانا', 'اف', 'سٹاف', 'چھوٹا', 'گھوم', 'اپکا', 'ب', 'امن', 'استحکام', 'کےلیے', 'قیمت', 'چکاٸی', 'مستحکم', 'بھرپور', 'جاوید', 'زیرصدارت', 'مہمان', 'علیکم', 'ورحمتہ', 'وبرکاتہ', 'اجکل', 'ٹاک', 'مصدق', 'ڈیفنڈ', 'الطاف', 'انشاءاللہ', 'طیب', 'اردگان', 'ادویات', 'قیمتوں', 'بجلی', 'خیبر', '۳۵۰', 'ڈیمز', 'شکرے', 'اندھیروں', 'بم', 'دھماکے', 'ٹارگٹ', 'کلنگ', 'مانو', 'گھسیٹ', 'بھلے', 'رابطہ', 'زرائع', 'دیاں', 'ونگاں', 'دیسی', 'انڈوں', 'اونہہ', 'سمجھتا', 'ایکسپوز', 'خواہش', 'بوائز', 'توبہ', 'خوشامد', 'کاکوئی', 'ضرورہونا', 'شاباش', 'موقعہ', 'جایۓ', 'کیجیے', 'فالوورز', 'کمینٹ', 'سیکشن', 'کریں…', 'مہرباں', 'چاہا', 'سنتا', 'گالیاں', 'دیدی', 'بھتے', 'ہوجائےگا', 'اہلکاروں', 'ہوجائیں', 'ایڈیشنل', 'گھومیں', 'ماشاءاللہ', 'غلامان', 'سیشن', 'سورہ', 'اغاز', 'No', 'Ay…', 'پینا', 'جرور', 'اداروں', 'Love', 'فاطمہ', 'بنت', 'شوھر', 'ایمان', 'فتوحات', 'کیں', 'چاہتی', 'ابو', 'ڈان', 'لیکس', 'چھوٹ', 'ملنی', 'وما', 'كان', 'ربك', 'نسيا', 'بےشک', 'گھومے', 'ترے', 'ٹھکرا', 'باادب', 'سفید', 'بالوں', 'تنکا', 'اسوقت', 'لگانا', 'نکا', 'وڈھے', 'ڈیپلائی', 'طرع', 'چوراہے', 'کامی', 'ٹھوکی', 'مند', 'چالاک', 'چاہتے', '\\u200cبڑا', 'عہدہ', 'بلائے', 'ٹپکی', 'میٹرو', 'چکی', 'اوندی', 'اوے', 'پترا', 'چاپلوسی', 'بدنام', 'مال', 'پلتی', 'پھدو', 'بنائیں', 'بوٹے', 'گالاں', 'کڈ', 'رج', 'جواد', 'لالے', 'ڈیلیٹ', 'کدی', 'کہن', 'جنا', 'confuse', 'دتا', 'تویٹس', 'معیاری', 'تصادم', 'استعفیٰ', 'پیک', 'وزارت', 'منسلک', 'سربراہ', 'برانڈ', 'پسندیدہ', 'مرگئی', 'مانگوں', 'ڈال', 'ویکھو', 'پرواں', 'تنگ', 'نیب', 'ویڈیو', 'خاں', 'پارٹنر', 'اعجاز', 'ائر', 'میجر', 'جرنل', 'ریٹائرڈ', 'حقیقت', 'پیغمبر', 'بالکل', 'ارڈر', 'سلسلے', 'منسٹر', 'ھوتی', 'جوڑے', 'اسمانوں', 'وزن', 'نظریہ', 'سمجھنے', 'کوشیش', 'انشااللہ', 'بھڑوا', 'ٹیوٹ', 'مقصد', 'چارجنگ', 'دوسار', 'ہینڈ', 'استین', 'سانپ', 'پال', 'ھیرے', 'امید', 'اگئی', 'ایموجی', 'اعشاریہ', 'فیصد', 'کیپ', 'اٹ', 'گرل', 'کین', 'ڈو', 'کمنٹ', 'ڈے', 'شرمندگی', 'ٹریننگ', 'بوجھ', 'سٹک', 'رو', 'بھری', 'داستان', 'عنقریب', 'ٹوٹنے', 'جاننے', 'بھگت', 'فرمائیں', 'پاؤں', 'اکھڑ', 'عرصہ', 'اگلی', 'رینجرز', 'راج', 'برقرار', 'فیڈر', 'محبتیں', 'خیرات', 'خاموش', 'پرہیز', 'علاج', 'غدار', 'ہنڑ', 'پھا', 'بیٹھ', 'کھائیے', 'چٹائ', 'حلف', 'وفاداری', 'جعلی', 'پلیٹوں', 'سہارا', 'لیکر', 'المیم', 'مانگنا', 'اہمیت', 'Ego', 'بڑھ', 'الزاء', 'موڑ', 'صلح', 'سیکھو', 'جھکتا', 'اکڑنا', 'مردے', 'برو', 'ملو', 'قاۂل', 'مغرور', 'العین', 'والدین', 'جھکا', 'انگلش', 'صاحبہ', 'سپورٹرز', 'نیوٹن', 'تھرڈ', 'ردعمل', 'بلانے', 'مصیبت', 'جیب', 'نکلوانا', 'ادھار', 'اسانی', 'بنالیتی', 'دھو', 'دبا', 'کرونگی', 'مرضی', 'سات', 'کلومیٹر', 'باندھ', 'شعر', 'دکھی', 'ٹٹے', 'ھلا', 'بھاگتے', 'پھرو', 'وھاں', 'ھیرو', 'السین', 'سچائی', 'خلوص', 'دیگا', 'حدیث', 'ابوہریرہ', 'ؓ', '\\u200cاللہ', '\\u200cعلیہ', '\\u200cوالہ', '\\u200cوسلم', 'نےفرمایا', 'ادمیوں', 'ائند', 'قرار', 'over', 'واردات', 'کھرے', 'بیانات', 'مختلف', 'صاف', 'جبری', 'دبایا', 'مارے', 'ذلالت', 'چوٹی', 'پہنچنا', 'نعرے', 'راتوں', 'ابوبکر', 'صدیق', 'شان', 'گستاخی', 'فرار', 'Tabdeeli', 'بھوسڑی', 'دوائیاں', 'مخالفاں', 'ویکھ', 'یوٹرن', 'کھلم', 'کھلا', 'ہاۓ', 'FATF', 'گرے', 'نکلنے', 'صوبہ', 'تھوپا', 'ڈوریاں', 'بھارت', 'کمیٹی', 'فرررر', 'گیو', 'پبلک', 'سمجھو', 'دکھاؤ', 'وزیراعلیٰ', 'گیری', 'پٹھی', 'جدا', 'نکلیا', 'اینوں', 'پینے', 'مجال', 'لکھیں', 'نگیٹو', 'پوزیٹو', 'عتیق', 'دیکھتا', 'پشتو', 'ته', 'دلته', 'اوودريگه', 'زه', 'پسې', 'پلار', 'راولم', 'جتھے', 'سائیںاں', 'انہاں', 'پونچ', 'جانڑاں', 'کیہڑی', 'پیکنگ', 'ناحق', 'سزا', 'پیدا', 'بلوچ', 'سردار', '۱۰۰۰۰', 'سےکم', 'کرینگے', 'ریٹویٹوالوں', 'کری…', 'حلیمہ', 'موٹے', 'نین', 'جٹی', 'چرچے', 'رہن', 'فقط', 'ٹکڑا', 'گردش', 'محروم', 'ہوں…', 'باؤ', 'ہارٹ', 'اٹیک', 'باو', 'چولیں', 'مارلیتی', 'پایین', 'تواڈی', 'چھوڑیں', 'بدمعاش', 'کھسرا', 'تفتیش', 'فٹے', 'ترسا', 'بنگالی', 'گاہک', 'ستے', 'طلعت', 'کوارڈینیشن', 'وکٹ', 'دعوت', 'انشاللہ', 'دوران', 'بنینگے', 'کمپین', 'حصہ', 'پہلاں', 'ہوٸی', 'تھانے', 'خاوند', 'copy', 'مطالعہ', 'مختصر', 'ٹاپک', 'متاثرین', 'بادن', 'ھوتا', 'سائٹ', 'تفصیل', 'مفتی', 'ملنے', 'شناخت', 'شجرہ', 'نسب', 'چیڑیل', 'غصے', 'جاؤ\\u200cں', 'نمبر۲ہے', 'اورنیازی', 'نمبر۱', 'اورہے', 'لگاناپڑھیگا', 'گنے', 'چنے', 'این', 'اوکے', 'مستحق', 'نرمی', 'جاسکتی', 'پرستی', 'تقاضے', 'مسئلے', 'تلوار', 'نوبل', 'انعام', 'پسندی', 'گانے', 'ہنسی', 'رونا', 'عراقی', 'دبئی', 'تندوری', 'تر', 'جلتى', 'هے', 'دنيا', 'همارى', 'يارى', 'كى', 'يار', 'نهيں', 'چهوڑ', 'سكتے', 'جاتےتھے', 'جاتےتھےاب', 'تواتنی', 'ھوگئی', 'ود', 'مختاریا', 'نفرت', 'ہواؤں', 'اڑتی', 'رہیگی', 'انٹری', 'دھماکہ', 'خیز', 'حکومتی', 'خاموشی', 'اکیلی', 'نکلی', 'جانب', 'منزل', 'وہلیاں', 'گیں', 'فلووینگ', 'بڑھتی', 'گیی', 'رک', 'پڑہ', 'إلٰه', 'إلا', 'أنت', 'سبحانك', 'إني', 'كنت', 'من', 'الظالمين', 'گزری', 'خفا', 'حرمتی', 'ھوی', '۱۴', 'اگست', 'پڑھنا', 'لکھنے', 'کلیکشن', 'فرمایا', 'اکٹھا', 'دکھائیں', 'بھروسہ', 'ارب', 'پتی', 'سوری', 'ڑونٹ', 'بتائی', 'تضاد', 'چیزیں', 'خوف', 'مرنا', 'دعویٰ', 'تعالیٰ', 'مقدر', 'اورنگزیب', 'اکے', 'بتائے', 'مسلط', 'کتابوں', 'لیکں', 'ڈھیٹ', 'پن', 'سوہنی', 'گارڈ', 'باد', 'چھیڑ', 'نندن', 'nationlovespakistanarmy', 'ٹرینڈ', 'برداشتہ', 'ماہ', 'رخصت', 'ماؤں', 'لال', 'بندے', 'جنازے', '۱۰', 'جاوے', 'مردہ', 'دھڑکن', 'ویرانے', 'گستاخ', 'صحابہ', 'سیلبریٹ', 'جتئیے', 'اقتدار', 'ضیاء', 'طلب', 'کرلی', 'ٹینڈے', 'میـٹر', 'ھاھا', 'حیا', 'ر', 'جل', 'دھوکہ', 'فیک', 'لاکن', 'ماننی', 'ائیں', 'جد', 'گنوائیں', 'دورہ', 'تقدیر', 'لہر', 'دیھک', 'کراپ', 'کروناکی', 'بہانہ', 'ٹیلیفون', 'موجودہ', 'تبادلہ', 'ناظرین', 'پھٹی', 'عاشقی', 'قدموں', 'مجازی', 'ورکر', 'عظمت', 'پالیسی', 'اسلام', 'متحمل', 'صنم', 'ڈوبیں', 'ٹو', 'سلیکٹرز', 'انچ', 'چاول', '۱۵۰', 'گوشت', '۴۵۰', 'لیٹرپالک', '۲۳۰', 'مرلہ', 'نظیر', 'ننگی', 'تصویریں', 'پھینکواتا', 'nani۴۲۰', 'لکل', 'لبیک', 'باباجی', 'ذندہ', 'ا۶ی', 'نالائقی', 'دفتروں', 'فائلز', 'بلڈنگز', 'ریکارڈ', 'جلاۓ', 'بیغیرتی', 'کیلا', 'مشکلات', 'زراری', 'چلغوزے', '۲۵۰۰', 'کلو', 'چوراپوزیشن', 'پٹ', 'پٹا', 'تاڈا', 'اچکزی', 'خارشی', 'جسکو', 'دیکھنی', 'لے۳۵سال', 'شلواریں', 'شلواروں', 'ناڑے', 'انتخابات', 'لڑیں', 'ڈنگرپٹواریوں', 'جاہل', 'جیالوں', 'کوپھرپھدوبنائیں', 'ورلڈکپ', 'شوکت', 'خانم', 'ایمپائر', 'انگلی', 'کوکین', 'پڑیا', 'بچتے', 'بتاۓ', 'سپری', 'اکاونٹس', 'موڈ', 'کائینات', 'ملکر', 'عادی', 'کرلیں', 'سین', 'ایکٹ', 'تحت', 'مسکین', '۱۹۷۰', '۷۰پارٹیاں', 'کررہی', 'ڈنگر', 'موؤمنٹ', 'مشاہد', 'ہندو', 'گائےکو', 'مانتےہیں', 'بیل', 'کوباپ', 'ویسےہی', 'کوبہنوئی', 'کیز', 'بارے', 'اونوں', 'معلومات', 'للہ', 'الیہ', 'راجعون', 'معروف', 'عالم', 'دین', 'مناظر', 'عبدالکریم', 'نعمانی', 'کبیر', 'والہ', 'انتقال', 'فرما', 'اناللہ', 'وانا', 'نمازجنازہ', 'دارالعلوم', 'کبیروالا', 'ترس', 'امران', 'خانی', 'انوں', 'چنگا', 'نندا', 'مشیر', 'بنگش', 'نوکری', 'سندہ', 'سندھی', 'بولنے', 'اسکول', 'ٹیچر', 'سوالوں', 'بچنے', 'کرجاتے', 'کتےکی', 'ڈاون', 'حیران', 'رہاہوں', 'ڈھیل', 'چڑھیں', 'ڈرائنگ', 'کروائیں', 'سافٹ', 'وئیر', 'اپڈیٹ', 'وائرس', 'smooth', 'چلیں', 'کنجرلوگ', 'مائنڈ', 'کرگئے', 'کمائی', 'منایا', 'برنال', 'برف', 'ٹکور', 'قادر', 'پارلیمنٹ', 'چلاتے', 'پوچھتے', 'تواڈا', 'بنایا', 'کریے', 'اوہی', 'اندا']\n"
          ]
        }
      ]
    },
    {
      "cell_type": "markdown",
      "source": [
        "Generating embedding from n-grams"
      ],
      "metadata": {
        "id": "vrWYKogBIdrU"
      }
    },
    {
      "cell_type": "code",
      "source": [
        "#calculating word frequency using unigram"
      ],
      "metadata": {
        "id": "z0LUJWIjH-EU"
      },
      "execution_count": 120,
      "outputs": []
    },
    {
      "cell_type": "code",
      "source": [],
      "metadata": {
        "id": "1S7a65DwN7TA"
      },
      "execution_count": null,
      "outputs": []
    }
  ]
}