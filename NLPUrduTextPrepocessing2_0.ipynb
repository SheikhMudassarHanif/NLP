{
  "nbformat": 4,
  "nbformat_minor": 0,
  "metadata": {
    "colab": {
      "provenance": [],
      "mount_file_id": "1Wjy2w9rxmOEevKboke1d7eJLQlnQlHj8",
      "authorship_tag": "ABX9TyO8le64dQqbf30bs8hQcI0z",
      "include_colab_link": true
    },
    "kernelspec": {
      "name": "python3",
      "display_name": "Python 3"
    },
    "language_info": {
      "name": "python"
    }
  },
  "cells": [
    {
      "cell_type": "markdown",
      "metadata": {
        "id": "view-in-github",
        "colab_type": "text"
      },
      "source": [
        "<a href=\"https://colab.research.google.com/github/SheikhMudassarHanif/NLP/blob/main/NLPUrduTextPrepocessing2_0.ipynb\" target=\"_parent\"><img src=\"https://colab.research.google.com/assets/colab-badge.svg\" alt=\"Open In Colab\"/></a>"
      ]
    },
    {
      "cell_type": "markdown",
      "source": [
        "phase3 starting"
      ],
      "metadata": {
        "id": "2pGgV0Fhchaa"
      }
    },
    {
      "cell_type": "code",
      "source": [
        "import pandas as pd\n",
        "import numpy as np\n",
        "import re\n",
        "import string\n",
        "\n"
      ],
      "metadata": {
        "id": "NNOleLYZcpqk"
      },
      "execution_count": 8,
      "outputs": []
    },
    {
      "cell_type": "code",
      "source": [
        "import nltk as nltk\n",
        "nltk.download('stopwords')\n",
        "from nltk.corpus import stopwords\n",
        "nltk.download('punkt')"
      ],
      "metadata": {
        "colab": {
          "base_uri": "https://localhost:8080/"
        },
        "id": "qA4TRSsNLGVx",
        "outputId": "e052bdc5-73b4-4b80-e19a-eceb0a55f565"
      },
      "execution_count": 9,
      "outputs": [
        {
          "output_type": "stream",
          "name": "stderr",
          "text": [
            "[nltk_data] Downloading package stopwords to /root/nltk_data...\n",
            "[nltk_data]   Package stopwords is already up-to-date!\n",
            "[nltk_data] Downloading package punkt to /root/nltk_data...\n",
            "[nltk_data]   Package punkt is already up-to-date!\n"
          ]
        },
        {
          "output_type": "execute_result",
          "data": {
            "text/plain": [
              "True"
            ]
          },
          "metadata": {},
          "execution_count": 9
        }
      ]
    },
    {
      "cell_type": "code",
      "source": [
        "df=pd.read_csv('/content/drive/MyDrive/urdu_sarcastic_dataset.csv')\n",
        "df.drop(columns=['Unnamed: 2','Unnamed: 3','Unnamed: 4','Unnamed: 5','Unnamed: 6','Unnamed: 7'],inplace=True)\n",
        "df.dropna(inplace=True)\n",
        "df.head()"
      ],
      "metadata": {
        "colab": {
          "base_uri": "https://localhost:8080/",
          "height": 206
        },
        "id": "zyj4abxw-dO_",
        "outputId": "508e51c0-ac04-4934-c0cf-e1ee69042985"
      },
      "execution_count": 10,
      "outputs": [
        {
          "output_type": "execute_result",
          "data": {
            "text/plain": [
              "                                           urdu_text  is_sarcastic\n",
              "0  🤣😂😂 ہو لینے دے میری شادی فسادن ٹھیک ہے کوجی نہ...           1.0\n",
              "1  چل مہمانوں میں کھانا سرو کر چڑیل چاچی نوں دسدی...           1.0\n",
              "2  کامران خان آپکی دن بھریہ زمہ داری لگائی گئی اپ...           0.0\n",
              "3                                       نہیں پائین 😎           0.0\n",
              "4   `` مراد علی شاہ کے بھیس میں ڈی جی آئی ایس آئی...           1.0"
            ],
            "text/html": [
              "\n",
              "  <div id=\"df-c27d7259-6389-4e57-811d-16fa4ac6ceb0\" class=\"colab-df-container\">\n",
              "    <div>\n",
              "<style scoped>\n",
              "    .dataframe tbody tr th:only-of-type {\n",
              "        vertical-align: middle;\n",
              "    }\n",
              "\n",
              "    .dataframe tbody tr th {\n",
              "        vertical-align: top;\n",
              "    }\n",
              "\n",
              "    .dataframe thead th {\n",
              "        text-align: right;\n",
              "    }\n",
              "</style>\n",
              "<table border=\"1\" class=\"dataframe\">\n",
              "  <thead>\n",
              "    <tr style=\"text-align: right;\">\n",
              "      <th></th>\n",
              "      <th>urdu_text</th>\n",
              "      <th>is_sarcastic</th>\n",
              "    </tr>\n",
              "  </thead>\n",
              "  <tbody>\n",
              "    <tr>\n",
              "      <th>0</th>\n",
              "      <td>🤣😂😂 ہو لینے دے میری شادی فسادن ٹھیک ہے کوجی نہ...</td>\n",
              "      <td>1.0</td>\n",
              "    </tr>\n",
              "    <tr>\n",
              "      <th>1</th>\n",
              "      <td>چل مہمانوں میں کھانا سرو کر چڑیل چاچی نوں دسدی...</td>\n",
              "      <td>1.0</td>\n",
              "    </tr>\n",
              "    <tr>\n",
              "      <th>2</th>\n",
              "      <td>کامران خان آپکی دن بھریہ زمہ داری لگائی گئی اپ...</td>\n",
              "      <td>0.0</td>\n",
              "    </tr>\n",
              "    <tr>\n",
              "      <th>3</th>\n",
              "      <td>نہیں پائین 😎</td>\n",
              "      <td>0.0</td>\n",
              "    </tr>\n",
              "    <tr>\n",
              "      <th>4</th>\n",
              "      <td>`` مراد علی شاہ کے بھیس میں ڈی جی آئی ایس آئی...</td>\n",
              "      <td>1.0</td>\n",
              "    </tr>\n",
              "  </tbody>\n",
              "</table>\n",
              "</div>\n",
              "    <div class=\"colab-df-buttons\">\n",
              "\n",
              "  <div class=\"colab-df-container\">\n",
              "    <button class=\"colab-df-convert\" onclick=\"convertToInteractive('df-c27d7259-6389-4e57-811d-16fa4ac6ceb0')\"\n",
              "            title=\"Convert this dataframe to an interactive table.\"\n",
              "            style=\"display:none;\">\n",
              "\n",
              "  <svg xmlns=\"http://www.w3.org/2000/svg\" height=\"24px\" viewBox=\"0 -960 960 960\">\n",
              "    <path d=\"M120-120v-720h720v720H120Zm60-500h600v-160H180v160Zm220 220h160v-160H400v160Zm0 220h160v-160H400v160ZM180-400h160v-160H180v160Zm440 0h160v-160H620v160ZM180-180h160v-160H180v160Zm440 0h160v-160H620v160Z\"/>\n",
              "  </svg>\n",
              "    </button>\n",
              "\n",
              "  <style>\n",
              "    .colab-df-container {\n",
              "      display:flex;\n",
              "      gap: 12px;\n",
              "    }\n",
              "\n",
              "    .colab-df-convert {\n",
              "      background-color: #E8F0FE;\n",
              "      border: none;\n",
              "      border-radius: 50%;\n",
              "      cursor: pointer;\n",
              "      display: none;\n",
              "      fill: #1967D2;\n",
              "      height: 32px;\n",
              "      padding: 0 0 0 0;\n",
              "      width: 32px;\n",
              "    }\n",
              "\n",
              "    .colab-df-convert:hover {\n",
              "      background-color: #E2EBFA;\n",
              "      box-shadow: 0px 1px 2px rgba(60, 64, 67, 0.3), 0px 1px 3px 1px rgba(60, 64, 67, 0.15);\n",
              "      fill: #174EA6;\n",
              "    }\n",
              "\n",
              "    .colab-df-buttons div {\n",
              "      margin-bottom: 4px;\n",
              "    }\n",
              "\n",
              "    [theme=dark] .colab-df-convert {\n",
              "      background-color: #3B4455;\n",
              "      fill: #D2E3FC;\n",
              "    }\n",
              "\n",
              "    [theme=dark] .colab-df-convert:hover {\n",
              "      background-color: #434B5C;\n",
              "      box-shadow: 0px 1px 3px 1px rgba(0, 0, 0, 0.15);\n",
              "      filter: drop-shadow(0px 1px 2px rgba(0, 0, 0, 0.3));\n",
              "      fill: #FFFFFF;\n",
              "    }\n",
              "  </style>\n",
              "\n",
              "    <script>\n",
              "      const buttonEl =\n",
              "        document.querySelector('#df-c27d7259-6389-4e57-811d-16fa4ac6ceb0 button.colab-df-convert');\n",
              "      buttonEl.style.display =\n",
              "        google.colab.kernel.accessAllowed ? 'block' : 'none';\n",
              "\n",
              "      async function convertToInteractive(key) {\n",
              "        const element = document.querySelector('#df-c27d7259-6389-4e57-811d-16fa4ac6ceb0');\n",
              "        const dataTable =\n",
              "          await google.colab.kernel.invokeFunction('convertToInteractive',\n",
              "                                                    [key], {});\n",
              "        if (!dataTable) return;\n",
              "\n",
              "        const docLinkHtml = 'Like what you see? Visit the ' +\n",
              "          '<a target=\"_blank\" href=https://colab.research.google.com/notebooks/data_table.ipynb>data table notebook</a>'\n",
              "          + ' to learn more about interactive tables.';\n",
              "        element.innerHTML = '';\n",
              "        dataTable['output_type'] = 'display_data';\n",
              "        await google.colab.output.renderOutput(dataTable, element);\n",
              "        const docLink = document.createElement('div');\n",
              "        docLink.innerHTML = docLinkHtml;\n",
              "        element.appendChild(docLink);\n",
              "      }\n",
              "    </script>\n",
              "  </div>\n",
              "\n",
              "\n",
              "<div id=\"df-6a15004d-6388-46e5-9ee9-d61a38254cb7\">\n",
              "  <button class=\"colab-df-quickchart\" onclick=\"quickchart('df-6a15004d-6388-46e5-9ee9-d61a38254cb7')\"\n",
              "            title=\"Suggest charts\"\n",
              "            style=\"display:none;\">\n",
              "\n",
              "<svg xmlns=\"http://www.w3.org/2000/svg\" height=\"24px\"viewBox=\"0 0 24 24\"\n",
              "     width=\"24px\">\n",
              "    <g>\n",
              "        <path d=\"M19 3H5c-1.1 0-2 .9-2 2v14c0 1.1.9 2 2 2h14c1.1 0 2-.9 2-2V5c0-1.1-.9-2-2-2zM9 17H7v-7h2v7zm4 0h-2V7h2v10zm4 0h-2v-4h2v4z\"/>\n",
              "    </g>\n",
              "</svg>\n",
              "  </button>\n",
              "\n",
              "<style>\n",
              "  .colab-df-quickchart {\n",
              "      --bg-color: #E8F0FE;\n",
              "      --fill-color: #1967D2;\n",
              "      --hover-bg-color: #E2EBFA;\n",
              "      --hover-fill-color: #174EA6;\n",
              "      --disabled-fill-color: #AAA;\n",
              "      --disabled-bg-color: #DDD;\n",
              "  }\n",
              "\n",
              "  [theme=dark] .colab-df-quickchart {\n",
              "      --bg-color: #3B4455;\n",
              "      --fill-color: #D2E3FC;\n",
              "      --hover-bg-color: #434B5C;\n",
              "      --hover-fill-color: #FFFFFF;\n",
              "      --disabled-bg-color: #3B4455;\n",
              "      --disabled-fill-color: #666;\n",
              "  }\n",
              "\n",
              "  .colab-df-quickchart {\n",
              "    background-color: var(--bg-color);\n",
              "    border: none;\n",
              "    border-radius: 50%;\n",
              "    cursor: pointer;\n",
              "    display: none;\n",
              "    fill: var(--fill-color);\n",
              "    height: 32px;\n",
              "    padding: 0;\n",
              "    width: 32px;\n",
              "  }\n",
              "\n",
              "  .colab-df-quickchart:hover {\n",
              "    background-color: var(--hover-bg-color);\n",
              "    box-shadow: 0 1px 2px rgba(60, 64, 67, 0.3), 0 1px 3px 1px rgba(60, 64, 67, 0.15);\n",
              "    fill: var(--button-hover-fill-color);\n",
              "  }\n",
              "\n",
              "  .colab-df-quickchart-complete:disabled,\n",
              "  .colab-df-quickchart-complete:disabled:hover {\n",
              "    background-color: var(--disabled-bg-color);\n",
              "    fill: var(--disabled-fill-color);\n",
              "    box-shadow: none;\n",
              "  }\n",
              "\n",
              "  .colab-df-spinner {\n",
              "    border: 2px solid var(--fill-color);\n",
              "    border-color: transparent;\n",
              "    border-bottom-color: var(--fill-color);\n",
              "    animation:\n",
              "      spin 1s steps(1) infinite;\n",
              "  }\n",
              "\n",
              "  @keyframes spin {\n",
              "    0% {\n",
              "      border-color: transparent;\n",
              "      border-bottom-color: var(--fill-color);\n",
              "      border-left-color: var(--fill-color);\n",
              "    }\n",
              "    20% {\n",
              "      border-color: transparent;\n",
              "      border-left-color: var(--fill-color);\n",
              "      border-top-color: var(--fill-color);\n",
              "    }\n",
              "    30% {\n",
              "      border-color: transparent;\n",
              "      border-left-color: var(--fill-color);\n",
              "      border-top-color: var(--fill-color);\n",
              "      border-right-color: var(--fill-color);\n",
              "    }\n",
              "    40% {\n",
              "      border-color: transparent;\n",
              "      border-right-color: var(--fill-color);\n",
              "      border-top-color: var(--fill-color);\n",
              "    }\n",
              "    60% {\n",
              "      border-color: transparent;\n",
              "      border-right-color: var(--fill-color);\n",
              "    }\n",
              "    80% {\n",
              "      border-color: transparent;\n",
              "      border-right-color: var(--fill-color);\n",
              "      border-bottom-color: var(--fill-color);\n",
              "    }\n",
              "    90% {\n",
              "      border-color: transparent;\n",
              "      border-bottom-color: var(--fill-color);\n",
              "    }\n",
              "  }\n",
              "</style>\n",
              "\n",
              "  <script>\n",
              "    async function quickchart(key) {\n",
              "      const quickchartButtonEl =\n",
              "        document.querySelector('#' + key + ' button');\n",
              "      quickchartButtonEl.disabled = true;  // To prevent multiple clicks.\n",
              "      quickchartButtonEl.classList.add('colab-df-spinner');\n",
              "      try {\n",
              "        const charts = await google.colab.kernel.invokeFunction(\n",
              "            'suggestCharts', [key], {});\n",
              "      } catch (error) {\n",
              "        console.error('Error during call to suggestCharts:', error);\n",
              "      }\n",
              "      quickchartButtonEl.classList.remove('colab-df-spinner');\n",
              "      quickchartButtonEl.classList.add('colab-df-quickchart-complete');\n",
              "    }\n",
              "    (() => {\n",
              "      let quickchartButtonEl =\n",
              "        document.querySelector('#df-6a15004d-6388-46e5-9ee9-d61a38254cb7 button');\n",
              "      quickchartButtonEl.style.display =\n",
              "        google.colab.kernel.accessAllowed ? 'block' : 'none';\n",
              "    })();\n",
              "  </script>\n",
              "</div>\n",
              "\n",
              "    </div>\n",
              "  </div>\n"
            ],
            "application/vnd.google.colaboratory.intrinsic+json": {
              "type": "dataframe",
              "variable_name": "df",
              "summary": "{\n  \"name\": \"df\",\n  \"rows\": 19955,\n  \"fields\": [\n    {\n      \"column\": \"urdu_text\",\n      \"properties\": {\n        \"dtype\": \"string\",\n        \"num_unique_values\": 15813,\n        \"samples\": [\n          \"\\u0635\\u0644\\u06cc \\u0627\\u0644\\u0644\\u06c1 \\u0639\\u0644\\u06cc\\u06c1 \\u0648\\u0627\\u0670\\u0644\\u06c1 \\u0648\\u0633\\u0644\\u0645\",\n          \"\\u0633\\u0686\\u06cc \\u0645\\u0632\\u06c1 \\u0622\\u06cc\\u0627 \\u06d4\\u06d4\\u06d4\\u0648\\u06cc\\u0633\\u06d2 \\u062d\\u06cc\\u062f\\u0631 \\u0628\\u06be\\u0627\\u0626\\u06cc \\u0628\\u06c1\\u062a \\u067e\\u06cc\\u0627\\u0631\\u06d2 \\u0627\\u0646\\u0633\\u0627\\u0646 \\u06c1\\u06cc\\u06ba \\u2764\",\n          \"\\ud83d\\ude02\\ud83e\\udd23\\ud83d\\ude02\\u0622\\u067e \\u0633\\u06d2 \\u0628\\u06c1\\u062a \\u0639\\u0631\\u0635\\u06c1 \\u067e\\u06c1\\u0644\\u06d2 \\u06a9\\u06c1\\u0627 \\u062a\\u06be\\u0627 \\u06a9\\u06c1 \\u0686\\u06be\\u0648\\u0644\\u06d2 \\u0641\\u0631\\u0648\\u0634 \\u0636\\u0645\\u06cc\\u0631 \\u0641\\u0631\\u0648\\u0634 \\u0627\\u0648\\u0631 \\u0633\\u067e\\u0644\\u0627\\u0626\\u06cc\\u0631 \\u062e\\u0648\\u062f \\u0633\\u0627\\u062e\\u062a\\u06c1 \\u0635\\u062d\\u0627\\u0641\\u06cc \\u06c1\\u06d2 \\u06cc\\u06c1\"\n        ],\n        \"semantic_type\": \"\",\n        \"description\": \"\"\n      }\n    },\n    {\n      \"column\": \"is_sarcastic\",\n      \"properties\": {\n        \"dtype\": \"number\",\n        \"std\": 0.5000119253068661,\n        \"min\": 0.0,\n        \"max\": 1.0,\n        \"num_unique_values\": 2,\n        \"samples\": [\n          0.0,\n          1.0\n        ],\n        \"semantic_type\": \"\",\n        \"description\": \"\"\n      }\n    }\n  ]\n}"
            }
          },
          "metadata": {},
          "execution_count": 10
        }
      ]
    },
    {
      "cell_type": "code",
      "source": [
        "corpus=df['urdu_text'].to_numpy()"
      ],
      "metadata": {
        "id": "2SjpZCKX-dtR"
      },
      "execution_count": 11,
      "outputs": []
    },
    {
      "cell_type": "code",
      "source": [
        "\n",
        "def remove_stopWords(whitespaced_tokens, numpy_array):\n",
        "    # Create a new list to hold tokens after removing stop words\n",
        "    filtered_tokens = []\n",
        "\n",
        "    for word in whitespaced_tokens:\n",
        "        if word not in numpy_array:\n",
        "            filtered_tokens.append(word)  # Keep the word if it's not a stop word\n",
        "\n",
        "    return filtered_tokens"
      ],
      "metadata": {
        "id": "-B6zDXpvhcIM"
      },
      "execution_count": 12,
      "outputs": []
    },
    {
      "cell_type": "code",
      "source": [
        "# def remove_punctuation(text):\n",
        "#     return text.translate(str.maketrans('', '', string.punctuation))\n",
        "def remove_urdu_punctuation(text):\n",
        "    urdu_punctuation = r\"[۔.،؛؟!''\\\"”“():{}<>[\\]|/\\\\~`@#$%^&*+=-]\"\n",
        "    return re.sub(urdu_punctuation, \"\", text)"
      ],
      "metadata": {
        "id": "mv_4C_VhmQUj"
      },
      "execution_count": 13,
      "outputs": []
    },
    {
      "cell_type": "code",
      "source": [
        "def remove_hashtags(text):\n",
        "\n",
        "  return re.sub(r'#\\w+', '', text)\n"
      ],
      "metadata": {
        "id": "tQr1D8gO1ESK"
      },
      "execution_count": 14,
      "outputs": []
    },
    {
      "cell_type": "code",
      "source": [
        "\n",
        "def remove_url(text):\n",
        "    return re.sub(r'http\\S+|www\\S+|https\\S+', '', text, flags=re.MULTILINE)"
      ],
      "metadata": {
        "id": "I6eZz0lEzECR"
      },
      "execution_count": 15,
      "outputs": []
    },
    {
      "cell_type": "code",
      "source": [
        "import emoji\n",
        "def remove_emoji(text):\n",
        "    emojis = sorted(emoji.EMOJI_DATA, key=len, reverse=True)\n",
        "    pattern = u'(' + u'|'.join(re.escape(u) for u in emojis) + u')'\n",
        "    return re.compile(pattern).sub(r'', text)"
      ],
      "metadata": {
        "id": "zNAczN3S_2kF"
      },
      "execution_count": 16,
      "outputs": []
    },
    {
      "cell_type": "code",
      "source": [
        "# # prompt: remove emjoi funcion\n",
        "\n",
        "# import re\n",
        "\n",
        "# def remove_emoji(text):\n",
        "#   emoji_pattern = re.compile(\"[\"\n",
        "#                            u\"\\U0001F600-\\U0001F64F\"  # emoticons\n",
        "#                            u\"\\U0001F300-\\U0001F5FF\"  # symbols & pictographs\n",
        "#                            u\"\\U0001F680-\\U0001F6FF\"  # transport & map symbols\n",
        "#                            u\"\\U0001F1E0-\\U0001F1FF\"  # flags (iOS)\n",
        "#                            u\"\\U00002702-\\U000027B0\"\n",
        "#                            u\"\\U000024C2-\\U0001F251\"\n",
        "#                            \"]+\", flags=re.UNICODE)\n",
        "#   return emoji_pattern.sub(r'', text)\n",
        "# !pip install emoji --upgrade\n"
      ],
      "metadata": {
        "id": "jU3fzlD0DV9H",
        "colab": {
          "base_uri": "https://localhost:8080/"
        },
        "outputId": "83dd7add-8783-45db-93ff-379498cf0318"
      },
      "execution_count": 162,
      "outputs": [
        {
          "output_type": "stream",
          "name": "stdout",
          "text": [
            "Requirement already satisfied: emoji in /usr/local/lib/python3.10/dist-packages (2.13.2)\n"
          ]
        }
      ]
    },
    {
      "cell_type": "code",
      "source": [
        "def Remove_short_convos(text):\n",
        "  positive_sentiments = [\"خوشی\", \"محبت\", \"امید\", \"عزت\", \"اطمینان\", \"رحمت\", \"خواب\", \"مسرت\", \"کامیابی\", \"سکون\", \"شکریہ\", \"دوستی\", \"خوبصورتی\", \"قوت\", \"خیرخواہی\"]\n",
        "  negative_sentiments = [\"غم\", \"نفرت\", \"مایوسی\", \"شرمندگی\", \"خوف\", \"تنہائی\", \"دکھ\", \"ناکامی\", \"پریشانی\", \"دھمکی\", \"نفرت\", \"خطرہ\", \"بے چینی\", \"دھوکہ\", \"غصہ\"]\n",
        "  if any(sentiment in text for sentiment in positive_sentiments) and any(sentiment in text for sentiment in negative_sentiments):\n",
        "    return True\n",
        "  else:\n",
        "    return False\n"
      ],
      "metadata": {
        "id": "D41F7aozyzFF"
      },
      "execution_count": 17,
      "outputs": []
    },
    {
      "cell_type": "code",
      "source": [
        "from LughaatNLP import LughaatNLP\n",
        "urdu_text_processing = LughaatNLP()\n"
      ],
      "metadata": {
        "id": "5Q5hR1mNxxaD"
      },
      "execution_count": 18,
      "outputs": []
    },
    {
      "cell_type": "code",
      "source": [
        "def clean_text(text, stopwords_array):\n",
        "    # Step 1: Remove URLs\n",
        "    text = remove_url(text)\n",
        "\n",
        "    # Step 2: Remove Hashtags\n",
        "    text = remove_hashtags(text)\n",
        "\n",
        "    #step2.5 : Remove Emjoi\n",
        "    text=remove_emoji(text)\n",
        "    #step2.6:normalize\n",
        "    text=urdu_text_processing.normalize(text)\n",
        "\n",
        "    # Step 3: Remove Punctuation\n",
        "    text = remove_urdu_punctuation(text)\n",
        "\n",
        "    # Step 4: Tokenize text\n",
        "    # whitespaced_tokens = text.split()\n",
        "    whitespaced_tokens=nltk.word_tokenize(text)\n",
        "\n",
        "    # Step 5: Remove Stopwords\n",
        "    filtered_tokens = remove_stopWords(whitespaced_tokens, stopwords_array)\n",
        "\n",
        "    return ' '.join(filtered_tokens)\n",
        "\n",
        "\n",
        "\n",
        "data=pd.read_csv('/content/drive/MyDrive/stopwords-list.csv')\n",
        "df = pd.DataFrame(data)\n",
        "urdu_stopwords = df.to_numpy()\n",
        "\n",
        "\n",
        "\n",
        "\n",
        "\n",
        "\n",
        "\n",
        "\n",
        "cleaned_corpus=[]\n",
        "for doc in corpus:\n",
        "  words = doc.split()\n",
        "  if len(words)<=3:\n",
        "    if Remove_short_convos(doc):\n",
        "      cleaned_corpus.append(clean_text(doc,urdu_stopwords))\n",
        "\n",
        "  else:\n",
        "      cleaned_corpus.append(clean_text(doc,urdu_stopwords))\n",
        "\n",
        "\n",
        "\n",
        "#cleaned corpus\n",
        "cleaned_corpus[:10]\n",
        "\n"
      ],
      "metadata": {
        "colab": {
          "base_uri": "https://localhost:8080/"
        },
        "id": "a5akeACpjPGV",
        "outputId": "cd596b81-201d-4924-9db5-b261490a469a"
      },
      "execution_count": 19,
      "outputs": [
        {
          "output_type": "execute_result",
          "data": {
            "text/plain": [
              "['لینے شادی فسادن ٹھیک کوجی چاہیے',\n",
              " 'چل مہمانوں کھانا سرو چڑیل چاچی نوں دسدی اں',\n",
              " 'کامران خان اپکی دن بھریہ زمہ داری لگائی اپوزیشن کردار کشی اوراس پربھونکناہےاپ خوشامدگری وچاپلوسی سےاورکتنی دولت کماناچاہتےہیں موٹرسائیکل سےپیجارو پراڈو کےسفرمیں ضمیرکی لاش سےاٹھتی بدبواپ ناک بند نوٹ اپ سےالتجاگزارش ہےہمیں فالوکریں شکریہ',\n",
              " 'مراد علی شاہ بھیس ڈی جی ائی ایس ائی حامد میر',\n",
              " 'قابل اعتبار اکثر قاتل اعتبار',\n",
              " 'انساں تھکا سوچوں سفر',\n",
              " 'حامد میر صاحب ویلڈن',\n",
              " 'یار وچارہ ویلا ہوندا ارے ہویا تسی تے پکے نجومی منندے',\n",
              " 'سمجھتے سارا پاکستان بیوقوف ھے',\n",
              " 'تسی لڑاںٔی کروانی ساڈی']"
            ]
          },
          "metadata": {},
          "execution_count": 19
        }
      ]
    },
    {
      "cell_type": "code",
      "source": [
        "base_words = {\n",
        "    # General Nouns\n",
        "    'کتاب': ['کتاب', 'کتابیں'],                     # Book\n",
        "    'گھر': ['گھر', 'گھروں'],                         # House\n",
        "    'بچہ': ['بچہ', 'بچے', 'بچوں'],                   # Child\n",
        "    'نظام': ['نظام', 'نظاموں'],                     # System\n",
        "    'دنیا': ['دنیا', 'دنیاوں'],                      # World\n",
        "    'خواب': ['خواب', 'خوابوں'],                      # Dream\n",
        "    'دوست': ['دوست', 'دوستوں'],                      # Friend\n",
        "    'محبت': ['محبت', 'محبتوں'],                      # Love\n",
        "    'خوشی': ['خوشی', 'خوشیوں'],                      # Happiness\n",
        "    'دکھ': ['دکھ', 'دکھوں'],                          # Sadness\n",
        "    'فطرت': ['فطرت', 'فطرتوں'],                      # Nature\n",
        "    'کام': ['کام', 'کاموں'],                        # Work\n",
        "\n",
        "    # General Adjectives\n",
        "    'خوبصورت': ['خوبصورت', 'خوبصورتوں'],          # Beautiful\n",
        "    'اچھا': ['اچھا', 'اچھی', 'اچھے'],                # Good\n",
        "    'بڑا': ['بڑا', 'بڑی', 'بڑے'],                    # Big\n",
        "    'چھوٹا': ['چھوٹا', 'چھوٹی', 'چھوٹے'],           # Small\n",
        "    'مہنگا': ['مہنگا', 'مہنگی', 'مہنگے'],            # Expensive\n",
        "    'سستا': ['سستا', 'سستی', 'سستے'],               # Cheap\n",
        "    'سخت': ['سخت', 'سختی', 'سختیوں'],               # Hard\n",
        "\n",
        "    # General Verbs\n",
        "    'پڑھنا': ['پڑھنا', 'پڑھتے', 'پڑھتی', 'پڑھا'],   # To read\n",
        "    'لکھنا': ['لکھنا', 'لکھتے', 'لکھتی', 'لکھا'],    # To write\n",
        "    'چلنا': ['چلنا', 'چلتے', 'چلتی', 'چلا'],          # To walk\n",
        "    'دیکھنا': ['دیکھنا', 'دیکھتے', 'دیکھتی', 'دیکھا'], # To see\n",
        "    'سنا': ['سنا', 'سنتے', 'سنائی', 'سنایا'],         # To hear\n",
        "    'سمجھنا': ['سمجھنا', 'سمجھتے', 'سمجھتی', 'سمجھا'], # To understand\n",
        "    'کھیلنا': ['کھیلنا', 'کھیلتے', 'کھیلتی', 'کھیلا'], # To play\n",
        "    'کھانا': ['کھانا', 'کھاتے', 'کھاتی', 'کھایا'],     # To eat\n",
        "\n",
        "    # Political Nouns\n",
        "    'سیاست': ['سیاست', 'سیاستدان', 'سیاستدانوں'],    # Politics, Politician\n",
        "    'حکومت': ['حکومت', 'حکومتیں'],                     # Government\n",
        "    'پارٹی': ['پارٹی', 'پارٹیاں'],                      # Party\n",
        "    'انتخابات': ['انتخابات', 'انتخابی'],              # Elections\n",
        "    'حزب': ['حزب', 'احزاب'],                           # Party (political)\n",
        "    'قومی': ['قومی', 'قومیت'],                         # National\n",
        "    'مسئلہ': ['مسئلہ', 'مسائل'],                       # Issue\n",
        "    'بجٹ': ['بجٹ', 'بجٹوں'],                           # Budget\n",
        "    'مفاہمت': ['مفاہمت', 'مفاہمتیں'],                 # Reconciliation\n",
        "    'پالیسی': ['پالیسی', 'پالیسیوں'],                 # Policy\n",
        "    'غیرت': ['غیرت', 'غیرتیں'],                       # Honor\n",
        "    'دولت': ['دولت', 'دولتیں'],                       # Wealth\n",
        "    'قانون': ['قانون', 'قوانین'],                     # Law\n",
        "    'امن': ['امن', 'امنیں'],                          # Peace\n",
        "    'تنقید': ['تنقید', 'تنقیدیں'],                     # Criticism\n",
        "\n",
        "    # Sarcastic Expressions\n",
        "    'واہ': ['واہ', 'واہ واہ'],                       # Wow\n",
        "    'بہت اچھا': ['بہت اچھا', 'بہت اچھی', 'بہت اچھے'], # Very good (sarcastic)\n",
        "    'کمال': ['کمال', 'کمالات'],                      # Amazing (sarcastic)\n",
        "    'عمدہ': ['عمدہ', 'عمدہ کام'],                     # Excellent (sarcastic)\n",
        "    'کیا بات ہے': ['کیا بات ہے', 'کیا باتیں ہیں'],     # What a thing (sarcastic)\n",
        "    'زبردست': ['زبردست', 'زبردستی'],                 # Fantastic (sarcastic)\n",
        "    'مزا آ گیا': ['مزا آ گیا', 'مزا آگیا'],          # That was fun (sarcastic)\n",
        "    'شکریہ': ['شکریہ', 'شکریہ ادا کرنا'],             # Thank you (can be sarcastic)\n",
        "\n",
        "    # Political Adjectives\n",
        "    'سیاسی': ['سیاسی', 'سیاسیوں'],                    # Political\n",
        "    'مقامی': ['مقامی', 'مقامیوں'],                    # Local\n",
        "    'علاقائی': ['علاقائی', 'علاقائیوں'],              # Regional\n",
        "    'مفہومی': ['مفہومی', 'مفہومیوں'],                  # Conceptual\n",
        "    'مفاہمتی': ['مفاہمتی', 'مفاہمتیوں'],              # Reconciliatory\n",
        "    'مفید': ['مفید', 'مفیدوں'],                        # Useful\n",
        "    'نیک': ['نیک', 'نیکوں'],                            # Good/virtuous\n",
        "\n",
        "    # Political Verbs\n",
        "    'چننا': ['چننا', 'چنتے', 'چنتی', 'چنا'],            # To elect\n",
        "    'بیان کرنا': ['بیان کرنا', 'بیان کرتے', 'بیان کرتی'], # To state\n",
        "    'مذاکرہ کرنا': ['مذاکرہ کرنا', 'مذاکرے کرتے'],    # To negotiate\n",
        "    'منظور کرنا': ['منظور کرنا', 'منظور کرتے'],       # To approve\n",
        "    'تحریک کرنا': ['تحریک کرنا', 'تحریک کرتے'],       # To motivate\n",
        "    'اجلاس کرنا': ['اجلاس کرنا', 'اجلاس کرتے'],       # To convene\n",
        "    'تنقید کرنا': ['تنقید کرنا', 'تنقید کرتے'],        # To criticize\n",
        "    'تشکیل دینا': ['تشکیل دینا', 'تشکیل دیتے'],        # To form\n",
        "\n",
        "    # Other\n",
        "    'مسلم': ['مسلم', 'مسلمان', 'مسلمانوں'],            # Muslim\n",
        "    'عوام': ['عوام', 'عوامی'],                          # Public\n",
        "    'عقیدہ': ['عقیدہ', 'عقائد'],                       # Belief\n",
        "}\n",
        "\n",
        "# Example usage\n",
        "\n"
      ],
      "metadata": {
        "id": "1CdMIphMBJd2"
      },
      "execution_count": 20,
      "outputs": []
    },
    {
      "cell_type": "code",
      "source": [
        "#now lemmatization"
      ],
      "metadata": {
        "id": "AC0kFYg1DQ9_"
      },
      "execution_count": 125,
      "outputs": []
    },
    {
      "cell_type": "code",
      "source": [
        "updated_corpus = []\n",
        "\n",
        "for sentence in cleaned_corpus:\n",
        "    updated_sentence = []\n",
        "    words = sentence.split()  # Split sentence into individual words\n",
        "    for word in words:\n",
        "        found_root = False\n",
        "        for root_word, variants in base_words.items():\n",
        "            if word in variants:\n",
        "                updated_sentence.append(root_word)\n",
        "                found_root = True\n",
        "                break\n",
        "        if not found_root:\n",
        "            updated_sentence.append(word)  # If no root found, keep the original word\n",
        "    updated_corpus.append(' '.join(updated_sentence))\n",
        "\n",
        "# Print the updated corpus with root words\n",
        "# for sentence in updated_corpus:\n",
        "#     print(sentence)"
      ],
      "metadata": {
        "id": "1vPcEnGELd9o"
      },
      "execution_count": 57,
      "outputs": []
    },
    {
      "cell_type": "code",
      "source": [
        "# !pip install LughaatNLP\n",
        "from LughaatNLP import LughaatNLP"
      ],
      "metadata": {
        "id": "M7Hun_5_5Sdw"
      },
      "execution_count": 22,
      "outputs": []
    },
    {
      "cell_type": "code",
      "source": [
        "urdu_text_processing = LughaatNLP()\n"
      ],
      "metadata": {
        "id": "TJPFVFhSAB6-"
      },
      "execution_count": 23,
      "outputs": []
    },
    {
      "cell_type": "code",
      "source": [
        "stemmed_sentence=[]\n",
        "\n",
        "for sentence in cleaned_corpus:\n",
        "  stemmed_sentence.append(urdu_text_processing.urdu_stemmer(sentence))\n"
      ],
      "metadata": {
        "id": "gl1Jh7RVBXaY"
      },
      "execution_count": 24,
      "outputs": []
    },
    {
      "cell_type": "code",
      "source": [
        "# for sentence in stemmed_sentence:\n",
        "#   print(sentence)"
      ],
      "metadata": {
        "colab": {
          "base_uri": "https://localhost:8080/"
        },
        "id": "_mkLCNK8BsqZ",
        "outputId": "1bef3a88-77ed-4e14-9cec-8f6c15a6ee52"
      },
      "execution_count": 148,
      "outputs": [
        {
          "output_type": "stream",
          "name": "stdout",
          "text": [
            "کتب دلچسپ پسند\n",
            "زندگی کامیابی محنت صبر ضروری\n",
            "کام ختم\n",
            "حکومت محنت کامیابی حاصل\n",
            "سیاستدانا عوام سخت قوانین بنائہ\n",
            "بچہ روزانہ کتب پڑھ کامیاب\n",
            "طلبء سیاست به کتب پڑھ\n"
          ]
        }
      ]
    },
    {
      "cell_type": "markdown",
      "source": [
        "Phase 3 start feature extraction"
      ],
      "metadata": {
        "id": "T4NHmIv7DQm1"
      }
    },
    {
      "cell_type": "code",
      "source": [
        "#tokenization step 1\n",
        "vocabulary=[]\n",
        "for sentence in updated_corpus:\n",
        "  words=sentence.split()\n",
        "  for word in words:\n",
        "    if word not in vocabulary:\n",
        "      vocabulary.append(word)"
      ],
      "metadata": {
        "id": "kt5bHHyeB4Hy"
      },
      "execution_count": 55,
      "outputs": []
    },
    {
      "cell_type": "code",
      "source": [
        "def Tf(word, sentence):\n",
        "    words = sentence.split()\n",
        "    if words.count(word) != 0 and len(words) != 0:\n",
        "        return words.count(word) / len(words)\n",
        "    else:\n",
        "        return 0\n",
        "\n",
        "\n",
        "\n"
      ],
      "metadata": {
        "id": "mDIJFrjfFDnx"
      },
      "execution_count": 29,
      "outputs": []
    },
    {
      "cell_type": "code",
      "source": [
        "import numpy as np\n",
        "\n",
        "# Step 1: Define the TF function\n",
        "def Tf(word, sentence):\n",
        "    words = sentence.split()\n",
        "    if words.count(word) != 0 and len(words) != 0:\n",
        "        return words.count(word) / len(words)\n",
        "    else:\n",
        "        return 0\n",
        "\n",
        "# Step 2: Define the IDF function\n",
        "def Idf(vocabulary, corpus):\n",
        "    total_sentences = len(corpus)\n",
        "    idf_values = {}\n",
        "\n",
        "    # If the corpus is empty, return an empty dictionary\n",
        "    if total_sentences == 0:\n",
        "        return idf_values\n",
        "\n",
        "    for word in vocabulary:\n",
        "        # Use a set to track unique sentences that contain the word\n",
        "        count = sum(1 for sentence in corpus if word in set(sentence.split()))\n",
        "\n",
        "        if count == 0:\n",
        "            idf_values[word] = 0  # Assign IDF value as 0 for this word\n",
        "        else:\n",
        "            idf_values[word] = np.log(total_sentences / count)  # Calculate IDF value\n",
        "\n",
        "    return idf_values  # Return the complete dictionary of IDF values\n",
        "\n",
        "\n",
        "\n",
        "\n",
        "# Step 5: Calculate IDF values\n",
        "idf_values = Idf(vocabulary, updated_corpus)\n",
        "\n",
        "# Step 6: Calculate TF-IDF\n",
        "words_tfidf = {}\n",
        "for word in vocabulary:\n",
        "    words_tfidf[word] = []\n",
        "    for sentence in updated_corpus:\n",
        "        tf = Tf(word, sentence)\n",
        "        idf = idf_values[word]  # Retrieve the pre-calculated IDF value\n",
        "        words_tfidf[word].append(tf * idf)  # Store the TF-IDF value\n",
        "\n",
        "\n",
        "\n",
        "# Iterate through the words_tfidf dictionary\n",
        "for word, tfidf_scores in words_tfidf.items():\n",
        "  # Calculate the average TF-IDF score for the word across all sentences\n",
        "  average_tfidf = sum(tfidf_scores) / len(tfidf_scores) if tfidf_scores else 0\n",
        "  # Store the word and its average TF-IDF score as a tuple\n",
        "  words_tfidf[word] = average_tfidf\n",
        "\n",
        "\n",
        "# Sort the dictionary by TF-IDF scores in descending order\n",
        "sorted_words_tfidf = dict(sorted(words_tfidf.items(), key=lambda item: item[1], reverse=True))\n",
        "\n",
        "# Get the top 10 words with their TF-IDF scores\n",
        "top_10_words = list(sorted_words_tfidf.items())[:10]\n",
        "\n",
        "# Print the top 10 words and their TF-IDF scores\n",
        "print(\"Top 10 words and their TF-IDF scores:\")\n",
        "for word, tfidf_score in top_10_words:\n",
        "    print(f\"{word}: {tfidf_score:.4f}\")\n",
        "\n",
        "\n",
        "\n",
        "\n",
        "\n"
      ],
      "metadata": {
        "colab": {
          "base_uri": "https://localhost:8080/"
        },
        "id": "ScHt4-mVmaUz",
        "outputId": "7b900c65-6cba-4c5c-86fe-21dd11c41688"
      },
      "execution_count": 58,
      "outputs": [
        {
          "output_type": "stream",
          "name": "stdout",
          "text": [
            "Top 10 words and their TF-IDF scores:\n",
            "کام: 0.0089\n",
            "زندگی: 0.0071\n",
            "ختم: 0.0063\n",
            "پسند: 0.0041\n",
            "کتاب: 0.0019\n",
            "صبر: 0.0017\n",
            "رنگ: 0.0017\n",
            "محنت: 0.0017\n",
            "ضروری: 0.0013\n",
            "کامیابی: 0.0008\n"
          ]
        }
      ]
    },
    {
      "cell_type": "code",
      "source": [
        "\n",
        "import numpy as np\n",
        "\n",
        "def Idf(vocabulary, corpus):\n",
        "    total_sentences = len(corpus)\n",
        "    idf_values = {}\n",
        "\n",
        "    # If the corpus is empty, return an empty dictionary\n",
        "    if total_sentences == 0:\n",
        "        return idf_values\n",
        "\n",
        "    for word in vocabulary:\n",
        "        # Use a set to track unique sentences that contain the word\n",
        "        count = sum(1 for sentence in corpus if word in set(sentence.split()))\n",
        "\n",
        "        if count == 0:\n",
        "            idf_values[word] = 0  # Assign IDF value as 0 for this word\n",
        "        else:\n",
        "            idf_values[word] = np.log(total_sentences / count)  # Calculate IDF value\n",
        "\n",
        "    return idf_values  # Return the complete dictionary of IDF values\n",
        "\n"
      ],
      "metadata": {
        "id": "BJUq94N8RNjb"
      },
      "execution_count": 51,
      "outputs": []
    },
    {
      "cell_type": "code",
      "source": [
        "print(Idf(vocabulary[:500],updated_corpus))"
      ],
      "metadata": {
        "colab": {
          "base_uri": "https://localhost:8080/"
        },
        "id": "IgC5f27EiEAR",
        "outputId": "a3c7ebd4-12a9-48de-e416-afa04c9c2cf4"
      },
      "execution_count": 53,
      "outputs": [
        {
          "output_type": "stream",
          "name": "stdout",
          "text": [
            "{'لینے': 5.163106976729673, 'شادی': 5.229482045674546, 'فسادن': 7.146404657856607, 'ٹھیک': 4.551149950899741, 'کوجی': 7.6572302816225974, 'چاہیے': 4.602181430912187, 'چل': 4.644968706117396, 'مہمانوں': 7.551869765964771, 'کھانا': 5.219725870729181, 'سرو': 8.468160497838927, 'چڑیل': 6.910015879792376, 'چاچی': 8.245016946524716, 'نوں': 5.423638060115503, 'دسدی': 8.468160497838927, 'اں': 6.42046765447367, 'کامران': 4.724556144035743, 'خان': 2.9750990544983775, 'اپکی': 5.127067040246476, 'دن': 3.8237695986975533, 'بھریہ': 7.908544709903503, 'زمہ': 6.718960643029667, 'داری': 5.591774981917501, 'لگائی': 6.522250348783613, 'اپوزیشن': 4.561150034234324, 'کردار': 5.63494715378271, 'کشی': 7.146404657856607, 'اوراس': 7.77501331727898, 'پربھونکناہےاپ': 7.908544709903503, 'خوشامدگری': 7.908544709903503, 'وچاپلوسی': 7.908544709903503, 'سےاورکتنی': 7.908544709903503, 'دولت': 6.3887189561590905, 'کماناچاہتےہیں': 7.908544709903503, 'موٹرسائیکل': 7.6572302816225974, 'سےپیجارو': 7.908544709903503, 'پراڈو': 7.908544709903503, 'کےسفرمیں': 7.908544709903503, 'ضمیرکی': 7.908544709903503, 'لاش': 7.0212415149026, 'سےاٹھتی': 7.908544709903503, 'بدبواپ': 7.908544709903503, 'ناک': 6.4532574772966615, 'بند': 5.09228092416106, 'نوٹ': 5.485007006491795, 'اپ': 2.3478630788879755, 'سےالتجاگزارش': 8.245016946524716, 'ہےہمیں': 7.77501331727898, 'فالوکریں': 6.093254743265255, 'شکریہ': 4.531444879820408, 'مراد': 5.605959616909458, 'علی': 4.650448171882021, 'شاہ': 5.109522730595566, 'بھیس': 7.0212415149026, 'ڈی': 4.108251668418664, 'جی': 3.0975224697112633, 'ائی': 3.3264969413362664, 'ایس': 4.83057433811254, 'حامد': 5.32185536580556, 'میر': 4.919980925828125, 'قابل': 5.563995417810426, 'اعتبار': 6.858722585404825, 'اکثر': 5.727320473913725, 'قاتل': 6.809932421235394, 'انساں': 8.062695389730761, 'تھکا': 7.908544709903503, 'سوچوں': 7.908544709903503, 'سفر': 5.219725870729181, 'صاحب': 3.124630788469341, 'ویلڈن': 6.7634124056005005, 'یار': 4.724556144035743, 'وچارہ': 8.755842570290707, 'ویلا': 6.809932421235394, 'ہوندا': 7.0212415149026, 'ارے': 6.070265225040555, 'ہویا': 6.718960643029667, 'تسی': 5.0024245950392, 'تے': 3.8334315096092904, 'پکے': 7.77501331727898, 'نجومی': 8.062695389730761, 'منندے': 8.755842570290707, 'سمجھنا': 4.877721116538242, 'سارا': 5.109522730595566, 'پاکستان': 3.2106651258111447, 'بیوقوف': 6.4532574772966615, 'ھے': 3.1887711411764084, 'لڑاںٔی': 9.854454858958817, 'کروانی': 7.908544709903503, 'ساڈی': 7.28950550149728, 'پائن': 7.28950550149728, 'دوبارہ': 6.004307257248758, 'فالو': 4.566187828264281, 'کرئیے': 9.161307678398872, 'کتنی': 5.435614251162218, 'مہنگائی': 5.026141121656516, 'الو': 5.63494715378271, 'دوسو': 7.908544709903503, 'روپے': 4.507347328241348, 'درجن': 5.144924657646483, 'کدو': 5.811403591124266, '۸۰روپے': 8.062695389730761, 'گز': 5.942431853530671, 'ISPR': 6.19089321282917, 'عشق': 4.912812436349513, 'راس': 7.551869765964771, 'اۓ': 6.3887189561590905, 'زخم': 6.910015879792376, 'کھاٶ': 8.245016946524716, 'مسکراٶ': 8.755842570290707, 'چونا': 7.28950550149728, 'خاتم': 5.577788739942761, '_': 2.6362780205554093, 'النبیین': 5.649762239567851, 'محمدﷺ': 5.743580994785505, 'Surat': 7.77501331727898, '۷۳': 7.369548209170817, 'سورة': 7.6572302816225974, 'المزمل': 7.77501331727898, 'Ayt': 9.161307678398872, '۲۰': 6.270935920502707, 'حصہ۵': 9.161307678398872, 'ترجمہ': 7.6572302816225974, 'اللہ': 3.1439317495063883, 'راہ': 5.922629226234491, 'لڑتے': 8.468160497838927, 'جتنا': 5.649762239567851, 'قران': 6.116785240675449, 'میسر': 7.215397529343558, 'پڑھواورنماز': 9.161307678398872, 'قائم': 6.270935920502707, 'رکھواورزکوٰة': 9.161307678398872, 'دواور': 9.161307678398872, 'اچھا': 3.539096857436482, 'قرض': 7.081866136719036, 'درود': 6.522250348783613, 'وقران': 7.456559586160446, 'صلی': 4.956615059007905, 'علٰی': 7.28950550149728, 'حبیبہٖ': 8.755842570290707, 'سیدنا': 7.6572302816225974, 'محمد': 5.127067040246476, 'والہٖ': 6.676401028610871, 'وصحبہٖ': 8.468160497838927, 'وسلم': 4.87084823725048, 'اب': 2.7602200130340613, 'بس': 3.608348093477254, 'بیچارے': 5.829103168223668, 'بیویاں': 7.0212415149026, 'ہیے': 7.456559586160446, 'تیسری': 7.456559586160446, 'ٹرائ': 8.468160497838927, 'پتہ': 4.1018822201331835, 'ہورہا': 6.558617992954487, 'بورڈ': 7.77501331727898, 'زنگ': 8.755842570290707, 'لگ': 4.618012896128867, 'رحمتوں': 8.755842570290707, 'سائے': 7.908544709903503, 'مکمل': 5.563995417810426, 'صحت': 5.2004945088012935, 'یاب': 9.161307678398872, 'فرمائے': 5.135955987663722, 'ارمی': 4.31712059194028, 'چیف': 4.244983063773857, 'نوٹس': 4.919980925828125, 'مجرم': 5.711320132567284, 'جرائیم': 8.062695389730761, 'خود': 3.6785875888530555, 'کرےگا': 7.6572302816225974, 'کھوتی': 6.809932421235394, 'بچیا': 7.6572302816225974, 'عزت': 4.0225723816753, 'کیتی': 6.964083101062652, 'قدر': 5.865470812394542, 'شکر': 5.377118044480611, 'بونڈ': 7.908544709903503, 'نئیں': 5.510649437105132, 'ماری': 6.357947297492337, 'جے': 5.0422705035863995, 'ہوندی': 7.369548209170817, 'تینوں': 6.299106797469403, 'پٹھاناں': 8.468160497838927, 'ہتھے': 7.908544709903503, 'چاڑ': 8.468160497838927, 'پین': 6.216868699232431, 'یکا': 8.062695389730761, 'فوج': 4.064494688061563, 'سیاست': 4.216100189625071, 'دور': 4.541248879917029, 'بلاول': 3.6279181896713513, 'زرداری': 4.373815935616825, 'کراچی': 4.407717487292507, 'واقعے': 6.558617992954487, 'لڑکی': 5.377118044480611, 'جیتی': 8.468160497838927, 'صدائیں': 7.908544709903503, 'درودوں': 9.854454858958817, 'اتی': 4.877721116538242, 'رہینگی': 9.161307678398872, 'سن': 5.249284672970726, 'دل': 3.651919341770894, 'شاد': 7.081866136719036, 'خدا': 5.153974493166401, 'اہلسنت': 9.161307678398872, 'اباد': 5.63494715378271, 'میلاد': 6.809932421235394, 'رہیگا': 9.854454858958817, 'ﷺ': 5.884162945406695, 'Eide…': 9.854454858958817, 'ووٹ': 4.541248879917029, 'بجائے': 5.3546451886285515, 'ووٹر': 8.062695389730761, '۲۰۰۴': 7.77501331727898, 'نشئی': 7.456559586160446, 'اسٹیبلشمنٹ': 6.070265225040555, 'کتا': 5.447735611694563, 'وزیراعظم': 4.357286633665615, 'بن': 4.061441250574673, '۲۰۱۸': 7.0212415149026, 'کتے': 4.9344739331306915, 'PMبنتے': 8.245016946524716, 'دیکھ': 4.167479502618997, 'مشکل': 5.388546740304233, 'ناممکن': 6.676401028610871, 'کوشش': 4.9344739331306915, 'پورے': 5.279743880455434, 'ہفتے': 6.910015879792376, 'سالن': 7.77501331727898, 'روٹی': 6.116785240675449, 'حال': 5.018172952007339, 'وھ': 8.245016946524716, 'ھو': 4.4207328554045775, 'بیشک': 6.558617992954487, 'کیمنا': 8.755842570290707, 'حرام': 5.447735611694563, 'حق': 5.172323631834597, 'بات': 3.037718978363848, 'کتنا': 5.460005704286377, 'پیسا': 8.245016946524716, 'ماضی': 6.116785240675449, 'انتہائی': 6.243536946314592, 'وقوف': 6.910015879792376, 'سمجھدار': 6.070265225040555, 'مریم': 3.718889967877078, 'نواز': 3.4071489964176034, 'بزدارکی': 5.63494715378271, 'پرواز': 5.620348354361557, 'بیک…': 7.77501331727898, 'امین': 4.3329939410965705, 'ثمہ': 7.77501331727898, 'جیتھے': 8.755842570290707, 'وتھے': 8.755842570290707, 'ا': 3.8237695986975533, 'کھلوتی': 8.245016946524716, 'اسمبلی': 6.19089321282917, 'بغیر': 5.09228092416106, 'ڈیزل': 5.365818489226677, 'اسکو': 5.68006758906318, 'گدھا': 6.243536946314592, 'گدھے': 6.0258134624697215, 'ڈنڈے': 7.081866136719036, 'ضرورت': 4.798209053610509, 'عجیب': 5.605959616909458, 'پنگا': 8.245016946524716, 'گولیاں': 6.7634124056005005, 'محو': 8.755842570290707, 'رقص': 7.551869765964771, 'کوئ': 5.400107562705309, 'خبر': 5.010267772500225, 'غلط': 5.058664313362075, 'سکتی': 5.026141121656516, 'دروازے': 6.676401028610871, 'اتارتے': 8.468160497838927, 'تھپڑ': 7.0212415149026, 'لگاتے': 6.243536946314592, 'ویسے': 4.1640954046347565, 'پیر': 6.487159028972343, 'کلہاڑی': 8.755842570290707, 'مارنا': 7.28950550149728, 'سیکھے': 8.245016946524716, 'دلہن': 7.081866136719036, 'پھپھو': 7.369548209170817, 'ندیم': 7.908544709903503, 'ملک': 4.016724411792877, 'بطور': 7.081866136719036, 'عام': 5.577788739942761, 'پاکستانی': 4.712791302456157, 'عزیز': 6.596358320937335, 'وزیر': 4.742467070602274, 'اعلیٰ': 6.3887189561590905, 'پنجاب': 5.311160076688813, 'جناب': 5.229482045674546, 'عثمان': 5.942431853530671, 'احمد': 5.563995417810426, 'بزدار': 5.68006758906318, 'خلاف': 4.58145530039507, 'بیان': 5.5237215186724855, 'پرزور': 7.908544709903503, 'مزمت': 8.062695389730761, 'بیکار': 5.68006758906318, 'قطری': 6.216868699232431, 'نانی': 4.321065370231296, 'بلو': 6.216868699232431, 'رانی': 6.165575404844881, 'ذلیل': 5.5237215186724855, 'وقت': 3.809449544922805, 'چاہتا': 5.249284672970726, 'گیم': 6.0258134624697215, 'بری': 6.004307257248758, 'پھنس': 7.456559586160446, 'صفدر': 3.7167278048725825, 'ازاد': 6.328094334342655, 'واکے': 8.755842570290707, 'ٹوپی': 8.755842570290707, 'ڈرامہ': 5.942431853530671, 'کھولے': 8.062695389730761, 'ماب': 7.77501331727898, 'درخواست': 5.423638060115503, 'حضور': 6.676401028610871, 'جال': 8.245016946524716, 'بچائیں': 7.215397529343558, 'بھائیوں': 6.487159028972343, 'ویلکم': 6.809932421235394, 'بہنوں': 6.910015879792376, 'کرا': 6.558617992954487, 'نہیںبلی': 9.854454858958817, 'دیکھو': 5.563995417810426, 'زرا': 6.216868699232431, 'پہ': 3.4608641050081848, 'کڑی': 7.456559586160446, 'نظر': 4.4251092300043755, 'موٹی': 8.245016946524716, 'ٹویٹ': 4.618012896128867, 'ایتھے': 6.7634124056005005, 'جج': 5.497746032269225, 'اک': 4.683970863920665, 'محترمہ': 5.983253848050926, 'پاک': 4.403416405393116, 'بکواس': 5.68006758906318, 'رات': 4.644968706117396, 'فوجی': 5.332666281909776, 'ساتھ': 3.496612592450717, 'گل': 4.77928104372499, 'لگتا': 4.019644121896212, 'انکے': 5.577788739942761, 'دیوتا': 8.755842570290707, 'پورا': 5.19101576484675, 'لکیروں': 8.062695389730761, 'سہارے': 8.062695389730761, 'سوچتا': 6.7634124056005005, 'بولتا': 6.7634124056005005, 'ہاہاہاہاہاہاہاہاہاہاہااہاہاہاہا': 9.854454858958817, 'لگدا': 6.596358320937335, 'مینوں': 6.116785240675449, 'ای': 4.898627801357556, 'قربانی': 7.28950550149728, 'پڑنی': 8.755842570290707, 'الٹی': 7.369548209170817, 'کھوپڑی': 8.062695389730761, 'کان': 6.216868699232431, 'سنو': 6.270935920502707, 'دوسرے': 4.8640222721800805, 'نکال': 5.605959616909458, 'سنا': 4.81102974203957, '۱': 5.332666281909776, 'اکیلا': 6.42046765447367, '۱۱': 6.216868699232431, 'گیارہ': 6.299106797469403, 'تاریخ': 5.388546740304233, 'پہلی': 5.400107562705309, 'دفعہ': 5.695571775599145, 'برباد': 6.116785240675449, 'کردیا': 5.181626024496911, 'واہ': 5.09228092416106, 'زندگی': 4.07680253573616, 'مصروف': 6.140882792254509, 'اتنا': 4.3821841852873415, 'بھول': 5.63494715378271, 'یاد': 4.31712059194028, 'اردو': 4.1640954046347565, 'زبان': 4.2560328999604415, 'ہور': 6.047792369188497, 'ٹرک': 7.77501331727898, 'انا': 5.32185536580556, 'ملوث': 7.0212415149026, 'سندھ': 3.309105198624397, 'پولیس': 3.645864832862188, 'حوالے': 6.3887189561590905, 'وچ': 5.63494715378271, 'کہڑہ': 9.854454858958817, 'جوک': 8.468160497838927, 'جنابچھڈو': 9.854454858958817, 'رھن': 9.854454858958817, 'دیو': 6.270935920502707, 'تہانوں': 7.908544709903503, 'دا': 4.612707843899174, 'پتا': 4.857242585194702, 'اج': 3.3294252011153547, 'استعفی': 6.487159028972343, 'لکھنا': 4.678305126384988, 'ایا': 4.507347328241348, 'اگلے': 5.743580994785505, 'جنم': 6.299106797469403, 'مل': 4.483816830831154, 'پریس': 5.68006758906318, 'کانفرنس': 5.649762239567851, 'صبح': 5.0422705035863995, 'واقعات': 6.910015879792376, 'بابت': 8.245016946524716, 'کور': 6.42046765447367, 'کمانڈر': 6.093254743265255, 'تحقیقات': 5.472428224284935, 'رپورٹ': 6.0258134624697215, 'پیش': 5.536966745422506, 'حکم': 5.942431853530671, 'حکومت': 3.574059019998622, 'IG': 6.243536946314592, 'زبردست': 5.760110296736716, 'چھٹیوں': 6.216868699232431, 'بھیجا': 7.0212415149026, 'کھیل': 5.664800116932391, 'مزید': 5.550389765754646, 'دلچسپ': 6.910015879792376, 'جلسے': 4.661498008068606, 'لوگوں': 3.8781039496608827, 'بلالیا': 8.468160497838927, 'مرگیا': 7.77501331727898, 'اسکی': 5.259335008824227, 'برسی': 8.062695389730761, 'محبت': 4.130869757006436, 'وراثت': 8.468160497838927, 'ملتی': 5.760110296736716, 'تلاش': 7.146404657856607, 'پڑتی': 6.964083101062652, 'ادب': 5.472428224284935, 'نوازش': 7.77501331727898, 'دوسروں': 5.4118036024685, 'جلنے': 7.369548209170817, 'بہتر': 4.919980925828125, 'یے': 6.243536946314592, 'بیویوں': 7.551869765964771, 'خرچہ': 6.4532574772966615, 'پارلر': 7.215397529343558, 'مارخورز': 4.994642454597145, 'سعید': 6.858722585404825, 'غنی': 7.908544709903503, 'عمران': 3.474332322059052, 'سازش': 7.146404657856607, 'الحمدللہ': 6.676401028610871, 'بےنقاب': 8.245016946524716, 'صافی': 6.635579034090616, 'پوچھوں': 7.6572302816225974, 'بلاک': 5.695571775599145, 'سچ': 4.979257535757665, 'بتائو': 8.755842570290707, 'تبدیلی': 5.210063959817444, 'ارہی': 6.140882792254509, 'لفافی': 7.456559586160446, 'صحافی': 5.0024245950392, 'ہاہاہاہاہاہا': 6.718960643029667, 'چالیس': 7.369548209170817, 'سالہ': 6.809932421235394, 'صحافت': 5.229482045674546, 'بلتکار': 8.062695389730761, 'مولا': 6.7634124056005005, 'خوش': 4.181131591787324, 'دراصل': 7.456559586160446, 'ٹکلا': 8.755842570290707, 'انکل': 6.522250348783613, 'چمہ': 8.755842570290707, 'بیچ': 5.847121673726345, 'نانا': 7.081866136719036, 'اگئے': 6.910015879792376, 'اوئے': 6.858722585404825, 'غائب': 6.093254743265255, 'لوگ': 3.4475748728895024, 'ائے': 4.28611035519772, 'ہا': 6.7634124056005005, 'اہو': 6.116785240675449, 'پشاور': 6.910015879792376, 'ہاٸیکورٹ': 8.062695389730761, 'لیگی': 6.635579034090616, 'رہنما': 7.369548209170817, 'امیر': 6.7634124056005005, 'مقام': 5.743580994785505, 'FIA': 8.062695389730761, 'کیسز': 7.0212415149026, 'سفارشات': 8.062695389730761, 'رد': 7.28950550149728, 'باعزت': 8.062695389730761, 'لینا': 5.239334342117557, 'ھی': 5.210063959817444, 'ھوا': 5.847121673726345, 'دودھ': 6.3887189561590905, 'راکھا': 8.062695389730761, 'بلا': 5.865470812394542, 'چراغ': 7.081866136719036, 'تلے': 7.369548209170817, 'اندھیرا': 7.6572302816225974, '۶': 6.3887189561590905, 'بسکٹ': 5.9626345608481905}\n"
          ]
        }
      ]
    },
    {
      "cell_type": "code",
      "source": [
        "# Step 4: Calculate TF-IDF\n",
        "words_tfidf = {}\n",
        "for word in vocabulary[:500]:\n",
        "    words_tfidf[word] = []\n",
        "    for sentence in updated_corpus:\n",
        "        tf = Tf(word, sentence)\n",
        "        words_tfidf[word].append(tf)\n",
        "\n",
        ""
      ],
      "metadata": {
        "id": "LhH3fwzVbTYD"
      },
      "execution_count": 48,
      "outputs": []
    },
    {
      "cell_type": "code",
      "source": [
        "\n",
        "\n",
        "# Iterate through the words_tfidf dictionary\n",
        "for word, tfidf_scores in words_tfidf.items():\n",
        "  # Calculate the average TF-IDF score for the word across all sentences\n",
        "  average_tfidf = sum(tfidf_scores) / len(tfidf_scores) if tfidf_scores else 0\n",
        "  # Store the word and its average TF-IDF score as a tuple\n",
        "  words_tfidf[word] = average_tfidf\n",
        "\n",
        "\n",
        "# Sort the dictionary by TF-IDF scores in descending order\n",
        "sorted_words_tfidf = dict(sorted(words_tfidf.items(), key=lambda item: item[1], reverse=True))\n",
        "\n",
        "# Get the top 10 words with their TF-IDF scores\n",
        "top_10_words = list(sorted_words_tfidf.items())[:10]\n",
        "\n",
        "# Print the top 10 words and their TF-IDF scores\n",
        "print(\"Top 10 words and their TF-IDF scores:\")\n",
        "for word, tfidf_score in top_10_words:\n",
        "    print(f\"{word}: {tfidf_score:.4f}\")\n"
      ],
      "metadata": {
        "id": "SJbFyViAk7RQ",
        "colab": {
          "base_uri": "https://localhost:8080/"
        },
        "outputId": "300c5f8e-fb4c-43b4-fdb0-e9f0e19c0815"
      },
      "execution_count": 49,
      "outputs": [
        {
          "output_type": "stream",
          "name": "stdout",
          "text": [
            "Top 10 words and their TF-IDF scores:\n",
            "اپ: 0.0120\n",
            "_: 0.0118\n",
            "اب: 0.0064\n",
            "بات: 0.0059\n",
            "اللہ: 0.0054\n",
            "جی: 0.0053\n",
            "خان: 0.0048\n",
            "ھے: 0.0047\n",
            "صاحب: 0.0044\n",
            "اچھا: 0.0040\n"
          ]
        }
      ]
    },
    {
      "cell_type": "code",
      "source": [],
      "metadata": {
        "id": "G1xz_D_79X9f"
      },
      "execution_count": 1,
      "outputs": []
    },
    {
      "cell_type": "code",
      "source": [],
      "metadata": {
        "colab": {
          "base_uri": "https://localhost:8080/"
        },
        "id": "k-RCuWuDInfc",
        "outputId": "7034a018-56fc-43a0-a0c7-1d9198a5f53d"
      },
      "execution_count": 42,
      "outputs": [
        {
          "output_type": "stream",
          "name": "stdout",
          "text": [
            "Inverse Document Frequency of \"لینے\": 5.163106976729673\n",
            "Inverse Document Frequency of \"شادی\": 5.229482045674546\n",
            "Inverse Document Frequency of \"فسادن\": 7.146404657856607\n",
            "Inverse Document Frequency of \"ٹھیک\": 4.551149950899741\n",
            "Inverse Document Frequency of \"کوجی\": 7.6572302816225974\n",
            "Inverse Document Frequency of \"چاہیے\": 4.602181430912187\n",
            "Inverse Document Frequency of \"چل\": 4.644968706117396\n",
            "Inverse Document Frequency of \"مہمانوں\": 7.551869765964771\n",
            "Inverse Document Frequency of \"کھانا\": 5.219725870729181\n",
            "Inverse Document Frequency of \"سرو\": 8.468160497838927\n",
            "Inverse Document Frequency of \"چڑیل\": 6.910015879792376\n",
            "Inverse Document Frequency of \"چاچی\": 8.245016946524716\n",
            "Inverse Document Frequency of \"نوں\": 5.423638060115503\n",
            "Inverse Document Frequency of \"دسدی\": 8.468160497838927\n",
            "Inverse Document Frequency of \"اں\": 6.42046765447367\n",
            "Inverse Document Frequency of \"کامران\": 4.724556144035743\n",
            "Inverse Document Frequency of \"خان\": 2.9750990544983775\n",
            "Inverse Document Frequency of \"اپکی\": 5.127067040246476\n",
            "Inverse Document Frequency of \"دن\": 3.8237695986975533\n",
            "Inverse Document Frequency of \"بھریہ\": 7.908544709903503\n",
            "Inverse Document Frequency of \"زمہ\": 6.718960643029667\n",
            "Inverse Document Frequency of \"داری\": 5.591774981917501\n",
            "Inverse Document Frequency of \"لگائی\": 6.522250348783613\n",
            "Inverse Document Frequency of \"اپوزیشن\": 4.561150034234324\n",
            "Inverse Document Frequency of \"کردار\": 5.63494715378271\n",
            "Inverse Document Frequency of \"کشی\": 7.146404657856607\n",
            "Inverse Document Frequency of \"اوراس\": 7.77501331727898\n",
            "Inverse Document Frequency of \"پربھونکناہےاپ\": 7.908544709903503\n",
            "Inverse Document Frequency of \"خوشامدگری\": 7.908544709903503\n",
            "Inverse Document Frequency of \"وچاپلوسی\": 7.908544709903503\n",
            "Inverse Document Frequency of \"سےاورکتنی\": 7.908544709903503\n",
            "Inverse Document Frequency of \"دولت\": 6.3887189561590905\n",
            "Inverse Document Frequency of \"کماناچاہتےہیں\": 7.908544709903503\n",
            "Inverse Document Frequency of \"موٹرسائیکل\": 7.6572302816225974\n",
            "Inverse Document Frequency of \"سےپیجارو\": 7.908544709903503\n",
            "Inverse Document Frequency of \"پراڈو\": 7.908544709903503\n",
            "Inverse Document Frequency of \"کےسفرمیں\": 7.908544709903503\n",
            "Inverse Document Frequency of \"ضمیرکی\": 7.908544709903503\n",
            "Inverse Document Frequency of \"لاش\": 7.0212415149026\n",
            "Inverse Document Frequency of \"سےاٹھتی\": 7.908544709903503\n",
            "Inverse Document Frequency of \"بدبواپ\": 7.908544709903503\n",
            "Inverse Document Frequency of \"ناک\": 6.4532574772966615\n",
            "Inverse Document Frequency of \"بند\": 5.09228092416106\n",
            "Inverse Document Frequency of \"نوٹ\": 5.485007006491795\n",
            "Inverse Document Frequency of \"اپ\": 2.3478630788879755\n",
            "Inverse Document Frequency of \"سےالتجاگزارش\": 8.245016946524716\n",
            "Inverse Document Frequency of \"ہےہمیں\": 7.77501331727898\n",
            "Inverse Document Frequency of \"فالوکریں\": 6.093254743265255\n",
            "Inverse Document Frequency of \"شکریہ\": 4.531444879820408\n",
            "Inverse Document Frequency of \"مراد\": 5.605959616909458\n"
          ]
        }
      ]
    },
    {
      "cell_type": "code",
      "source": [],
      "metadata": {
        "id": "AMRVG42GaqSX"
      },
      "execution_count": null,
      "outputs": []
    }
  ]
}