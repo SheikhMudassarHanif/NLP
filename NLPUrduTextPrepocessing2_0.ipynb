{
  "nbformat": 4,
  "nbformat_minor": 0,
  "metadata": {
    "colab": {
      "provenance": [],
      "mount_file_id": "1Wjy2w9rxmOEevKboke1d7eJLQlnQlHj8",
      "authorship_tag": "ABX9TyNJZD/jO7yD2yWI4+AgRlSV",
      "include_colab_link": true
    },
    "kernelspec": {
      "name": "python3",
      "display_name": "Python 3"
    },
    "language_info": {
      "name": "python"
    }
  },
  "cells": [
    {
      "cell_type": "markdown",
      "metadata": {
        "id": "view-in-github",
        "colab_type": "text"
      },
      "source": [
        "<a href=\"https://colab.research.google.com/github/SheikhMudassarHanif/NLP/blob/main/NLPUrduTextPrepocessing2_0.ipynb\" target=\"_parent\"><img src=\"https://colab.research.google.com/assets/colab-badge.svg\" alt=\"Open In Colab\"/></a>"
      ]
    },
    {
      "cell_type": "markdown",
      "source": [
        "Implemented cleaning prodcedures , next is lemma and stemming\n"
      ],
      "metadata": {
        "id": "2pGgV0Fhchaa"
      }
    },
    {
      "cell_type": "code",
      "source": [
        "import pandas as pd\n",
        "import numpy as np\n",
        "import re\n",
        "import string\n",
        "\n"
      ],
      "metadata": {
        "id": "NNOleLYZcpqk"
      },
      "execution_count": null,
      "outputs": []
    },
    {
      "cell_type": "code",
      "source": [
        "import pandas as pd\n",
        "import ast\n",
        "\n",
        "# Read the data from the file\n",
        "with open('/content/drive/MyDrive/urdu_stopwords2.txt', 'r', encoding='utf-8') as file:\n",
        "    data = file.read()\n",
        "\n",
        "# Convert the string representation of the list to an actual list\n",
        "data_list = ast.literal_eval(data)  # Safely evaluate the string as a Python literal\n",
        "\n",
        "# Create a Pandas DataFrame from the list\n",
        "df = pd.DataFrame(data_list, columns=['UrduStopWords'])  # You can name the column as needed\n",
        "\n",
        "\n",
        "# Optionally, convert to a NumPy array if needed\n",
        "numpy_array = df.to_numpy()\n",
        "\n",
        "\n",
        "\n",
        "with open('/content/drive/MyDrive/urdu_stopwords3.txt', 'r', encoding='utf-8') as file:\n",
        "  data=file.read()\n",
        "  df = pd.DataFrame(data_list, columns=['UrduStopWords'])  # You can name the column as needed\n",
        "\n",
        "  numpy_array2 = df.to_numpy()\n",
        "\n",
        "\n",
        "combined_array = np.concatenate((numpy_array, numpy_array2), axis=0)\n",
        "combined_array = np.append(combined_array, ['ہے', 'یا'])\n"
      ],
      "metadata": {
        "id": "IDqCgCKjg7jx"
      },
      "execution_count": null,
      "outputs": []
    },
    {
      "cell_type": "code",
      "source": [
        "\n",
        "def remove_stopWords(whitespaced_tokens, numpy_array):\n",
        "    # Create a new list to hold tokens after removing stop words\n",
        "    filtered_tokens = []\n",
        "\n",
        "    for word in whitespaced_tokens:\n",
        "        if word not in numpy_array:\n",
        "            filtered_tokens.append(word)  # Keep the word if it's not a stop word\n",
        "\n",
        "    return filtered_tokens"
      ],
      "metadata": {
        "id": "-B6zDXpvhcIM"
      },
      "execution_count": null,
      "outputs": []
    },
    {
      "cell_type": "code",
      "source": [
        "def remove_punctuation(text):\n",
        "\n",
        "  text = re.sub(r'[!\"#$%&\\'()*+,-./:;<=>?@[\\]^_`{|}~،؟۔]', '', text)\n",
        "  return text\n"
      ],
      "metadata": {
        "id": "r4Sy4GjCxuJj"
      },
      "execution_count": null,
      "outputs": []
    },
    {
      "cell_type": "code",
      "source": [
        "def remove_hashtags(text):\n",
        "\n",
        "  return re.sub(r'#\\w+', '', text)\n"
      ],
      "metadata": {
        "id": "tQr1D8gO1ESK"
      },
      "execution_count": null,
      "outputs": []
    },
    {
      "cell_type": "code",
      "source": [
        "def remove_url(text):\n",
        "  url_pattern = re.compile(r'https?://\\S+|www\\.\\S+')\n",
        "  return url_pattern.sub(r'', text)"
      ],
      "metadata": {
        "id": "I6eZz0lEzECR"
      },
      "execution_count": null,
      "outputs": []
    },
    {
      "cell_type": "code",
      "source": [
        "def tokenization(text):\n",
        "  return text.split()\n"
      ],
      "metadata": {
        "id": "tH1u13MWAOZE"
      },
      "execution_count": null,
      "outputs": []
    },
    {
      "cell_type": "code",
      "source": [
        "# prompt: remove emjoi funcion\n",
        "\n",
        "import re\n",
        "\n",
        "def remove_emoji(text):\n",
        "  emoji_pattern = re.compile(\"[\"\n",
        "                           u\"\\U0001F600-\\U0001F64F\"  # emoticons\n",
        "                           u\"\\U0001F300-\\U0001F5FF\"  # symbols & pictographs\n",
        "                           u\"\\U0001F680-\\U0001F6FF\"  # transport & map symbols\n",
        "                           u\"\\U0001F1E0-\\U0001F1FF\"  # flags (iOS)\n",
        "                           u\"\\U00002702-\\U000027B0\"\n",
        "                           u\"\\U000024C2-\\U0001F251\"\n",
        "                           \"]+\", flags=re.UNICODE)\n",
        "  return emoji_pattern.sub(r'', text)\n"
      ],
      "metadata": {
        "id": "jU3fzlD0DV9H"
      },
      "execution_count": null,
      "outputs": []
    },
    {
      "cell_type": "code",
      "source": [
        "# prompt: import urduhack modules\n",
        "\n",
        "from urduhack import normalize\n",
        "from urduhack import tokenization\n"
      ],
      "metadata": {
        "id": "5Q5hR1mNxxaD"
      },
      "execution_count": null,
      "outputs": []
    },
    {
      "cell_type": "code",
      "source": [
        "import re\n",
        "import string\n",
        "import numpy as np\n",
        "\n",
        "def clean_text(text, stopwords_array):\n",
        "    # Step 1: Remove URLs\n",
        "    text = remove_url(text)\n",
        "\n",
        "    # Step 2: Remove Hashtags\n",
        "    text = remove_hashtags(text)\n",
        "\n",
        "    #step2.5 : Remove Emjoi\n",
        "    text=remove_emoji(text)\n",
        "\n",
        "    # Step 3: Remove Punctuation\n",
        "    text = remove_punctuation(text)\n",
        "\n",
        "    # Step 4: Tokenize text\n",
        "    whitespaced_tokens = text.split()\n",
        "\n",
        "    # Step 5: Remove Stopwords\n",
        "    filtered_tokens = remove_stopWords(whitespaced_tokens, numpy_array)\n",
        "\n",
        "    return ' '.join(filtered_tokens)\n",
        "\n",
        "# text=\"اسلام علیکم! آج کا دن بہت خوبصورت ہے۔ کیا آپ نے کبھی #پاکستان کی ثقافت کے بارے میں سنا ہے؟ اگر آپ مزید معلومات چاہتے ہیں تو براہ کرم اس لنک پر جائیں: https://www.example.com/culture۔ مجھے اُمید ہے کہ آپ کو یہ معلومات پسند آئیں گی۔ ہمیں اپنے ملک کی خوبصورتی کو سوشل میڈیا پر #خوبصورتی کے ساتھ شیئر کرنا چاہیے۔ آپ کو کیا لگتا ہے؟\"\n",
        "text='پائن دوبارہ فالو کرئیے..؟؟😆🙄'\n",
        "text = normalize(text)\n",
        "\n",
        "cleaned_text = clean_text(text, numpy_array)\n",
        "print(cleaned_text)\n"
      ],
      "metadata": {
        "colab": {
          "base_uri": "https://localhost:8080/"
        },
        "id": "a5akeACpjPGV",
        "outputId": "d23e62c7-eb92-4677-ccdd-d1de9aa3a845"
      },
      "execution_count": null,
      "outputs": [
        {
          "output_type": "stream",
          "name": "stdout",
          "text": [
            "پائن فالو کرئیے\n"
          ]
        }
      ]
    },
    {
      "cell_type": "code",
      "source": [
        "\n"
      ],
      "metadata": {
        "id": "1CdMIphMBJd2"
      },
      "execution_count": null,
      "outputs": []
    },
    {
      "cell_type": "code",
      "source": [],
      "metadata": {
        "id": "AC0kFYg1DQ9_"
      },
      "execution_count": null,
      "outputs": []
    }
  ]
}