{
  "nbformat": 4,
  "nbformat_minor": 0,
  "metadata": {
    "colab": {
      "provenance": [],
      "mount_file_id": "1Wjy2w9rxmOEevKboke1d7eJLQlnQlHj8",
      "authorship_tag": "ABX9TyO3rmt71HGo2mX7NiHETl7V",
      "include_colab_link": true
    },
    "kernelspec": {
      "name": "python3",
      "display_name": "Python 3"
    },
    "language_info": {
      "name": "python"
    }
  },
  "cells": [
    {
      "cell_type": "markdown",
      "metadata": {
        "id": "view-in-github",
        "colab_type": "text"
      },
      "source": [
        "<a href=\"https://colab.research.google.com/github/SheikhMudassarHanif/NLP/blob/main/NLPUrduTextPrepocessing2_0.ipynb\" target=\"_parent\"><img src=\"https://colab.research.google.com/assets/colab-badge.svg\" alt=\"Open In Colab\"/></a>"
      ]
    },
    {
      "cell_type": "markdown",
      "source": [
        "Implemented cleaning prodcedures , next is lemma and stemming\n"
      ],
      "metadata": {
        "id": "2pGgV0Fhchaa"
      }
    },
    {
      "cell_type": "code",
      "source": [
        "import pandas as pd\n",
        "import numpy as np\n",
        "import re\n",
        "import string\n",
        "\n"
      ],
      "metadata": {
        "id": "NNOleLYZcpqk"
      },
      "execution_count": 140,
      "outputs": []
    },
    {
      "cell_type": "code",
      "source": [
        "import nltk as nltk\n",
        "nltk.download('stopwords')\n",
        "from nltk.corpus import stopwords\n",
        "nltk.download('punkt')"
      ],
      "metadata": {
        "colab": {
          "base_uri": "https://localhost:8080/"
        },
        "id": "qA4TRSsNLGVx",
        "outputId": "b4b558d2-2580-4198-d7ec-da66ad952b2d"
      },
      "execution_count": 142,
      "outputs": [
        {
          "output_type": "stream",
          "name": "stderr",
          "text": [
            "[nltk_data] Downloading package stopwords to /root/nltk_data...\n",
            "[nltk_data]   Package stopwords is already up-to-date!\n",
            "[nltk_data] Downloading package punkt to /root/nltk_data...\n",
            "[nltk_data]   Package punkt is already up-to-date!\n"
          ]
        },
        {
          "output_type": "execute_result",
          "data": {
            "text/plain": [
              "True"
            ]
          },
          "metadata": {},
          "execution_count": 142
        }
      ]
    },
    {
      "cell_type": "code",
      "source": [
        "\n",
        "def remove_stopWords(whitespaced_tokens, numpy_array):\n",
        "    # Create a new list to hold tokens after removing stop words\n",
        "    filtered_tokens = []\n",
        "\n",
        "    for word in whitespaced_tokens:\n",
        "        if word not in numpy_array:\n",
        "            filtered_tokens.append(word)  # Keep the word if it's not a stop word\n",
        "\n",
        "    return filtered_tokens"
      ],
      "metadata": {
        "id": "-B6zDXpvhcIM"
      },
      "execution_count": 144,
      "outputs": []
    },
    {
      "cell_type": "code",
      "source": [
        "def remove_punctuation(text):\n",
        "    return text.translate(str.maketrans('', '', string.punctuation))"
      ],
      "metadata": {
        "id": "mv_4C_VhmQUj"
      },
      "execution_count": 146,
      "outputs": []
    },
    {
      "cell_type": "code",
      "source": [
        "def remove_hashtags(text):\n",
        "\n",
        "  return re.sub(r'#\\w+', '', text)\n"
      ],
      "metadata": {
        "id": "tQr1D8gO1ESK"
      },
      "execution_count": 147,
      "outputs": []
    },
    {
      "cell_type": "code",
      "source": [
        "\n",
        "def remove_url(text):\n",
        "    return re.sub(r'http\\S+|www\\S+|https\\S+', '', text, flags=re.MULTILINE)"
      ],
      "metadata": {
        "id": "I6eZz0lEzECR"
      },
      "execution_count": 148,
      "outputs": []
    },
    {
      "cell_type": "code",
      "source": [
        "# prompt: remove emjoi funcion\n",
        "\n",
        "import re\n",
        "\n",
        "def remove_emoji(text):\n",
        "  emoji_pattern = re.compile(\"[\"\n",
        "                           u\"\\U0001F600-\\U0001F64F\"  # emoticons\n",
        "                           u\"\\U0001F300-\\U0001F5FF\"  # symbols & pictographs\n",
        "                           u\"\\U0001F680-\\U0001F6FF\"  # transport & map symbols\n",
        "                           u\"\\U0001F1E0-\\U0001F1FF\"  # flags (iOS)\n",
        "                           u\"\\U00002702-\\U000027B0\"\n",
        "                           u\"\\U000024C2-\\U0001F251\"\n",
        "                           \"]+\", flags=re.UNICODE)\n",
        "  return emoji_pattern.sub(r'', text)\n"
      ],
      "metadata": {
        "id": "jU3fzlD0DV9H"
      },
      "execution_count": 149,
      "outputs": []
    },
    {
      "cell_type": "code",
      "source": [
        "# prompt: import urduhack modules\n",
        "\n",
        "from urduhack import normalize\n",
        "from urduhack import tokenization\n"
      ],
      "metadata": {
        "id": "5Q5hR1mNxxaD"
      },
      "execution_count": 150,
      "outputs": []
    },
    {
      "cell_type": "code",
      "source": [
        "def clean_text(text, stopwords_array):\n",
        "    # Step 1: Remove URLs\n",
        "    text = remove_url(text)\n",
        "\n",
        "    # Step 2: Remove Hashtags\n",
        "    text = remove_hashtags(text)\n",
        "\n",
        "    #step2.5 : Remove Emjoi\n",
        "    text=remove_emoji(text)\n",
        "\n",
        "    # Step 3: Remove Punctuation\n",
        "    text = remove_punctuation(text)\n",
        "\n",
        "    # Step 4: Tokenize text\n",
        "    # whitespaced_tokens = text.split()\n",
        "    whitespaced_tokens=nltk.word_tokenize(text)\n",
        "\n",
        "    # Step 5: Remove Stopwords\n",
        "    filtered_tokens = remove_stopWords(whitespaced_tokens, stopwords_array)\n",
        "\n",
        "    return ' '.join(filtered_tokens)\n",
        "\n",
        "\n",
        "\n",
        "data=pd.read_csv('/stopwords-list.csv')\n",
        "df = pd.DataFrame(data)\n",
        "urdu_stopwords = df.to_numpy()\n",
        "\n",
        "\n",
        "\n",
        "\n",
        "corpus=[\n",
        "    'یہ کتاب بہت دلچسپ ہے اور مجھے بہت پسند ہے.',\n",
        "    '\"زندگی میں کامیابی کے لئے محنت اور صبر ضروری ہے۔\"'\n",
        "\n",
        "]\n",
        "\n",
        "\n",
        "\n",
        "cleaned_corpus=[]\n",
        "for doc in corpus:\n",
        "  cleaned_corpus.append(clean_text(doc,urdu_stopwords))\n",
        "cleaned_corpus\n",
        "\n"
      ],
      "metadata": {
        "colab": {
          "base_uri": "https://localhost:8080/"
        },
        "id": "a5akeACpjPGV",
        "outputId": "e7b92c93-0139-4161-ccb3-b9df2ab87b12"
      },
      "execution_count": 178,
      "outputs": [
        {
          "output_type": "stream",
          "name": "stdout",
          "text": [
            "کتاب دلچسپ پسند\n"
          ]
        },
        {
          "output_type": "execute_result",
          "data": {
            "text/plain": [
              "['کتاب دلچسپ پسند', 'زندگی کامیابی محنت صبر ضروری']"
            ]
          },
          "metadata": {},
          "execution_count": 178
        }
      ]
    },
    {
      "cell_type": "code",
      "source": [],
      "metadata": {
        "id": "1CdMIphMBJd2"
      },
      "execution_count": 178,
      "outputs": []
    },
    {
      "cell_type": "code",
      "source": [],
      "metadata": {
        "id": "AC0kFYg1DQ9_"
      },
      "execution_count": 97,
      "outputs": []
    },
    {
      "cell_type": "code",
      "source": [],
      "metadata": {
        "id": "1vPcEnGELd9o"
      },
      "execution_count": null,
      "outputs": []
    }
  ]
}