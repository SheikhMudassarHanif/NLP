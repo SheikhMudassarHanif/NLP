{
  "nbformat": 4,
  "nbformat_minor": 0,
  "metadata": {
    "colab": {
      "provenance": [],
      "mount_file_id": "1YReJYDP5NwBIYchoj581onGyzp2h5yi9",
      "authorship_tag": "ABX9TyM7bqiYnE/zhSxWs26ygiID",
      "include_colab_link": true
    },
    "kernelspec": {
      "name": "python3",
      "display_name": "Python 3"
    },
    "language_info": {
      "name": "python"
    }
  },
  "cells": [
    {
      "cell_type": "markdown",
      "metadata": {
        "id": "view-in-github",
        "colab_type": "text"
      },
      "source": [
        "<a href=\"https://colab.research.google.com/github/SheikhMudassarHanif/NLP/blob/main/TextTranslationRNN.ipynb\" target=\"_parent\"><img src=\"https://colab.research.google.com/assets/colab-badge.svg\" alt=\"Open In Colab\"/></a>"
      ]
    },
    {
      "cell_type": "markdown",
      "source": [
        "##**I Will be Implementing text translation using Simple RNN and LSTM and compare their performance**"
      ],
      "metadata": {
        "id": "SE_dAWIblxQK"
      }
    },
    {
      "cell_type": "code",
      "execution_count": 1,
      "metadata": {
        "id": "WRiiQ02HLz_S"
      },
      "outputs": [],
      "source": [
        "import pandas as pd\n",
        "import numpy as np\n",
        "import matplotlib.pyplot as plt\n",
        "import seaborn as sns\n",
        "import warnings\n",
        "warnings.filterwarnings('ignore')\n",
        "#\n",
        "import tensorflow as tf\n",
        "from tensorflow import keras"
      ]
    },
    {
      "cell_type": "code",
      "source": [
        "excel_file_path = '/content/parallel-corpus.xlsx'\n",
        "column_names = pd.read_excel(excel_file_path, nrows=0).columns.tolist()\n",
        "df = pd.read_excel(excel_file_path,usecols=[column_names[0],column_names[1]])\n",
        "df.dropna(inplace=True)\n",
        "df.head()"
      ],
      "metadata": {
        "colab": {
          "base_uri": "https://localhost:8080/",
          "height": 206
        },
        "id": "LFQzo2O3MUGi",
        "outputId": "cb6e5bcf-96ca-4e8b-8c9e-67b5c05631d4"
      },
      "execution_count": 2,
      "outputs": [
        {
          "output_type": "execute_result",
          "data": {
            "text/plain": [
              "                                          SENTENCES   \\\n",
              "0             How can I communicate with my parents?   \n",
              "1                           How can I make friends?’   \n",
              "2                              Why do I get so sad?’   \n",
              "3  If you’ve asked yourself such questions, you’r...   \n",
              "4  Depending on where you’ve turned for guidance,...   \n",
              "\n",
              "                                             MEANING  \n",
              "0                 میں اپنے والدین سے کیسے بات کروں ؟  \n",
              "1                             میں دوست کیسے بنائوں ؟  \n",
              "2                           میں اتنا اداس کیوں ہوں؟.  \n",
              "3  اگر آپ نے اپنے آپ سے ایسے سوالات کیے ہیں، تو آ...  \n",
              "4   اس بات پر منحصر ہے کہ آپ رہنمائی کے لیے کہاں ...  "
            ],
            "text/html": [
              "\n",
              "  <div id=\"df-d830b9a6-afb4-4905-8b37-083e07654531\" class=\"colab-df-container\">\n",
              "    <div>\n",
              "<style scoped>\n",
              "    .dataframe tbody tr th:only-of-type {\n",
              "        vertical-align: middle;\n",
              "    }\n",
              "\n",
              "    .dataframe tbody tr th {\n",
              "        vertical-align: top;\n",
              "    }\n",
              "\n",
              "    .dataframe thead th {\n",
              "        text-align: right;\n",
              "    }\n",
              "</style>\n",
              "<table border=\"1\" class=\"dataframe\">\n",
              "  <thead>\n",
              "    <tr style=\"text-align: right;\">\n",
              "      <th></th>\n",
              "      <th>SENTENCES</th>\n",
              "      <th>MEANING</th>\n",
              "    </tr>\n",
              "  </thead>\n",
              "  <tbody>\n",
              "    <tr>\n",
              "      <th>0</th>\n",
              "      <td>How can I communicate with my parents?</td>\n",
              "      <td>میں اپنے والدین سے کیسے بات کروں ؟</td>\n",
              "    </tr>\n",
              "    <tr>\n",
              "      <th>1</th>\n",
              "      <td>How can I make friends?’</td>\n",
              "      <td>میں دوست کیسے بنائوں ؟</td>\n",
              "    </tr>\n",
              "    <tr>\n",
              "      <th>2</th>\n",
              "      <td>Why do I get so sad?’</td>\n",
              "      <td>میں اتنا اداس کیوں ہوں؟.</td>\n",
              "    </tr>\n",
              "    <tr>\n",
              "      <th>3</th>\n",
              "      <td>If you’ve asked yourself such questions, you’r...</td>\n",
              "      <td>اگر آپ نے اپنے آپ سے ایسے سوالات کیے ہیں، تو آ...</td>\n",
              "    </tr>\n",
              "    <tr>\n",
              "      <th>4</th>\n",
              "      <td>Depending on where you’ve turned for guidance,...</td>\n",
              "      <td>اس بات پر منحصر ہے کہ آپ رہنمائی کے لیے کہاں ...</td>\n",
              "    </tr>\n",
              "  </tbody>\n",
              "</table>\n",
              "</div>\n",
              "    <div class=\"colab-df-buttons\">\n",
              "\n",
              "  <div class=\"colab-df-container\">\n",
              "    <button class=\"colab-df-convert\" onclick=\"convertToInteractive('df-d830b9a6-afb4-4905-8b37-083e07654531')\"\n",
              "            title=\"Convert this dataframe to an interactive table.\"\n",
              "            style=\"display:none;\">\n",
              "\n",
              "  <svg xmlns=\"http://www.w3.org/2000/svg\" height=\"24px\" viewBox=\"0 -960 960 960\">\n",
              "    <path d=\"M120-120v-720h720v720H120Zm60-500h600v-160H180v160Zm220 220h160v-160H400v160Zm0 220h160v-160H400v160ZM180-400h160v-160H180v160Zm440 0h160v-160H620v160ZM180-180h160v-160H180v160Zm440 0h160v-160H620v160Z\"/>\n",
              "  </svg>\n",
              "    </button>\n",
              "\n",
              "  <style>\n",
              "    .colab-df-container {\n",
              "      display:flex;\n",
              "      gap: 12px;\n",
              "    }\n",
              "\n",
              "    .colab-df-convert {\n",
              "      background-color: #E8F0FE;\n",
              "      border: none;\n",
              "      border-radius: 50%;\n",
              "      cursor: pointer;\n",
              "      display: none;\n",
              "      fill: #1967D2;\n",
              "      height: 32px;\n",
              "      padding: 0 0 0 0;\n",
              "      width: 32px;\n",
              "    }\n",
              "\n",
              "    .colab-df-convert:hover {\n",
              "      background-color: #E2EBFA;\n",
              "      box-shadow: 0px 1px 2px rgba(60, 64, 67, 0.3), 0px 1px 3px 1px rgba(60, 64, 67, 0.15);\n",
              "      fill: #174EA6;\n",
              "    }\n",
              "\n",
              "    .colab-df-buttons div {\n",
              "      margin-bottom: 4px;\n",
              "    }\n",
              "\n",
              "    [theme=dark] .colab-df-convert {\n",
              "      background-color: #3B4455;\n",
              "      fill: #D2E3FC;\n",
              "    }\n",
              "\n",
              "    [theme=dark] .colab-df-convert:hover {\n",
              "      background-color: #434B5C;\n",
              "      box-shadow: 0px 1px 3px 1px rgba(0, 0, 0, 0.15);\n",
              "      filter: drop-shadow(0px 1px 2px rgba(0, 0, 0, 0.3));\n",
              "      fill: #FFFFFF;\n",
              "    }\n",
              "  </style>\n",
              "\n",
              "    <script>\n",
              "      const buttonEl =\n",
              "        document.querySelector('#df-d830b9a6-afb4-4905-8b37-083e07654531 button.colab-df-convert');\n",
              "      buttonEl.style.display =\n",
              "        google.colab.kernel.accessAllowed ? 'block' : 'none';\n",
              "\n",
              "      async function convertToInteractive(key) {\n",
              "        const element = document.querySelector('#df-d830b9a6-afb4-4905-8b37-083e07654531');\n",
              "        const dataTable =\n",
              "          await google.colab.kernel.invokeFunction('convertToInteractive',\n",
              "                                                    [key], {});\n",
              "        if (!dataTable) return;\n",
              "\n",
              "        const docLinkHtml = 'Like what you see? Visit the ' +\n",
              "          '<a target=\"_blank\" href=https://colab.research.google.com/notebooks/data_table.ipynb>data table notebook</a>'\n",
              "          + ' to learn more about interactive tables.';\n",
              "        element.innerHTML = '';\n",
              "        dataTable['output_type'] = 'display_data';\n",
              "        await google.colab.output.renderOutput(dataTable, element);\n",
              "        const docLink = document.createElement('div');\n",
              "        docLink.innerHTML = docLinkHtml;\n",
              "        element.appendChild(docLink);\n",
              "      }\n",
              "    </script>\n",
              "  </div>\n",
              "\n",
              "\n",
              "<div id=\"df-0516e3b8-a9e5-4486-80e7-b41d14527bb4\">\n",
              "  <button class=\"colab-df-quickchart\" onclick=\"quickchart('df-0516e3b8-a9e5-4486-80e7-b41d14527bb4')\"\n",
              "            title=\"Suggest charts\"\n",
              "            style=\"display:none;\">\n",
              "\n",
              "<svg xmlns=\"http://www.w3.org/2000/svg\" height=\"24px\"viewBox=\"0 0 24 24\"\n",
              "     width=\"24px\">\n",
              "    <g>\n",
              "        <path d=\"M19 3H5c-1.1 0-2 .9-2 2v14c0 1.1.9 2 2 2h14c1.1 0 2-.9 2-2V5c0-1.1-.9-2-2-2zM9 17H7v-7h2v7zm4 0h-2V7h2v10zm4 0h-2v-4h2v4z\"/>\n",
              "    </g>\n",
              "</svg>\n",
              "  </button>\n",
              "\n",
              "<style>\n",
              "  .colab-df-quickchart {\n",
              "      --bg-color: #E8F0FE;\n",
              "      --fill-color: #1967D2;\n",
              "      --hover-bg-color: #E2EBFA;\n",
              "      --hover-fill-color: #174EA6;\n",
              "      --disabled-fill-color: #AAA;\n",
              "      --disabled-bg-color: #DDD;\n",
              "  }\n",
              "\n",
              "  [theme=dark] .colab-df-quickchart {\n",
              "      --bg-color: #3B4455;\n",
              "      --fill-color: #D2E3FC;\n",
              "      --hover-bg-color: #434B5C;\n",
              "      --hover-fill-color: #FFFFFF;\n",
              "      --disabled-bg-color: #3B4455;\n",
              "      --disabled-fill-color: #666;\n",
              "  }\n",
              "\n",
              "  .colab-df-quickchart {\n",
              "    background-color: var(--bg-color);\n",
              "    border: none;\n",
              "    border-radius: 50%;\n",
              "    cursor: pointer;\n",
              "    display: none;\n",
              "    fill: var(--fill-color);\n",
              "    height: 32px;\n",
              "    padding: 0;\n",
              "    width: 32px;\n",
              "  }\n",
              "\n",
              "  .colab-df-quickchart:hover {\n",
              "    background-color: var(--hover-bg-color);\n",
              "    box-shadow: 0 1px 2px rgba(60, 64, 67, 0.3), 0 1px 3px 1px rgba(60, 64, 67, 0.15);\n",
              "    fill: var(--button-hover-fill-color);\n",
              "  }\n",
              "\n",
              "  .colab-df-quickchart-complete:disabled,\n",
              "  .colab-df-quickchart-complete:disabled:hover {\n",
              "    background-color: var(--disabled-bg-color);\n",
              "    fill: var(--disabled-fill-color);\n",
              "    box-shadow: none;\n",
              "  }\n",
              "\n",
              "  .colab-df-spinner {\n",
              "    border: 2px solid var(--fill-color);\n",
              "    border-color: transparent;\n",
              "    border-bottom-color: var(--fill-color);\n",
              "    animation:\n",
              "      spin 1s steps(1) infinite;\n",
              "  }\n",
              "\n",
              "  @keyframes spin {\n",
              "    0% {\n",
              "      border-color: transparent;\n",
              "      border-bottom-color: var(--fill-color);\n",
              "      border-left-color: var(--fill-color);\n",
              "    }\n",
              "    20% {\n",
              "      border-color: transparent;\n",
              "      border-left-color: var(--fill-color);\n",
              "      border-top-color: var(--fill-color);\n",
              "    }\n",
              "    30% {\n",
              "      border-color: transparent;\n",
              "      border-left-color: var(--fill-color);\n",
              "      border-top-color: var(--fill-color);\n",
              "      border-right-color: var(--fill-color);\n",
              "    }\n",
              "    40% {\n",
              "      border-color: transparent;\n",
              "      border-right-color: var(--fill-color);\n",
              "      border-top-color: var(--fill-color);\n",
              "    }\n",
              "    60% {\n",
              "      border-color: transparent;\n",
              "      border-right-color: var(--fill-color);\n",
              "    }\n",
              "    80% {\n",
              "      border-color: transparent;\n",
              "      border-right-color: var(--fill-color);\n",
              "      border-bottom-color: var(--fill-color);\n",
              "    }\n",
              "    90% {\n",
              "      border-color: transparent;\n",
              "      border-bottom-color: var(--fill-color);\n",
              "    }\n",
              "  }\n",
              "</style>\n",
              "\n",
              "  <script>\n",
              "    async function quickchart(key) {\n",
              "      const quickchartButtonEl =\n",
              "        document.querySelector('#' + key + ' button');\n",
              "      quickchartButtonEl.disabled = true;  // To prevent multiple clicks.\n",
              "      quickchartButtonEl.classList.add('colab-df-spinner');\n",
              "      try {\n",
              "        const charts = await google.colab.kernel.invokeFunction(\n",
              "            'suggestCharts', [key], {});\n",
              "      } catch (error) {\n",
              "        console.error('Error during call to suggestCharts:', error);\n",
              "      }\n",
              "      quickchartButtonEl.classList.remove('colab-df-spinner');\n",
              "      quickchartButtonEl.classList.add('colab-df-quickchart-complete');\n",
              "    }\n",
              "    (() => {\n",
              "      let quickchartButtonEl =\n",
              "        document.querySelector('#df-0516e3b8-a9e5-4486-80e7-b41d14527bb4 button');\n",
              "      quickchartButtonEl.style.display =\n",
              "        google.colab.kernel.accessAllowed ? 'block' : 'none';\n",
              "    })();\n",
              "  </script>\n",
              "</div>\n",
              "\n",
              "    </div>\n",
              "  </div>\n"
            ],
            "application/vnd.google.colaboratory.intrinsic+json": {
              "type": "dataframe",
              "variable_name": "df",
              "summary": "{\n  \"name\": \"df\",\n  \"rows\": 29617,\n  \"fields\": [\n    {\n      \"column\": \"SENTENCES \",\n      \"properties\": {\n        \"dtype\": \"string\",\n        \"num_unique_values\": 23159,\n        \"samples\": [\n          \"We went to the place to have some Kababs & Tikkas. The experience was good but the food was a bit spicy.\",\n          \"nice food good quality\",\n          \"BBQ was worse (taste and quantity), Mutton Mandi was average, Smoothie was fine enough.\\nService was not good.\"\n        ],\n        \"semantic_type\": \"\",\n        \"description\": \"\"\n      }\n    },\n    {\n      \"column\": \"MEANING\",\n      \"properties\": {\n        \"dtype\": \"string\",\n        \"num_unique_values\": 22594,\n        \"samples\": [\n          \"\\u0648\\u0627\\u06c1 \\u0639\\u0645\\u062f\\u06c1 \\u0642\\u0633\\u0645 \\u06a9\\u06d2 \\u06a9\\u06be\\u0627\\u0646\\u06d2\",\n          \"\\u0627\\u06af\\u0631 \\u0634\\u064e\\u06cc\\u0637\\u0627\\u0646 \\u0627\\u067e\\u0646\\u0627 \\u06c1\\u06cc \\u0645\\u062e\\u0627\\u0644\\u0650\\u0641 \\u06c1\\u0648\\u06a9\\u0631 \\u0627\\u067e\\u0646\\u06d2 \\u0645\\u06cc\\u06ba \\u067e\\u064f\\u06be\\u0648\\u0679 \\u0688\\u0627\\u0644\\u06d2 \\u062a\\u0648 \\u0648\\u06c1 \\u0642\\u0627\\u0626\\u0645 \\u0646\\u06c1\\u06cc\\u06ba \\u0631\\u06c1 \\u0633\\u06a9\\u062a\\u0627 \\u0628\\u0644\\u06a9\\u06c1 \\u0627\\u064f\\u0633 \\u06a9\\u0627 \\u062e\\u0627\\u062a\\u0645\\u06c1 \\u06c1\\u0648\\u062c\\u0627\\u0626\\u06d2 \\u06af\\u0627 \\u06d4\",\n          \"\\u062e\\u0627\\u0646\\u062f\\u0627\\u0646 \\u06cc\\u0627 \\u062f\\u0648\\u0633\\u062a\\u0648\\u06ba \\u06a9\\u06d2 \\u0633\\u0627\\u062a\\u06be \\u062c\\u0627\\u0646\\u06d2 \\u06a9\\u06d2 \\u0644\\u06cc\\u06d2 \\u0628\\u06c1\\u062a\\u0631 \\u06c1\\u0648\\u0679\\u0644\\u06d4\"\n        ],\n        \"semantic_type\": \"\",\n        \"description\": \"\"\n      }\n    }\n  ]\n}"
            }
          },
          "metadata": {},
          "execution_count": 2
        }
      ]
    },
    {
      "cell_type": "code",
      "source": [
        "column_names"
      ],
      "metadata": {
        "colab": {
          "base_uri": "https://localhost:8080/"
        },
        "id": "ckG6bPbOPEqH",
        "outputId": "08dcec98-8187-49c1-e141-12d6c9040852"
      },
      "execution_count": 3,
      "outputs": [
        {
          "output_type": "execute_result",
          "data": {
            "text/plain": [
              "['SENTENCES ', 'MEANING']"
            ]
          },
          "metadata": {},
          "execution_count": 3
        }
      ]
    },
    {
      "cell_type": "code",
      "source": [
        "train,val,test=np.split(df.sample(frac=1),[int(0.8*len(df)),int(0.9*len(df))])"
      ],
      "metadata": {
        "id": "zwChm3QyMd_2"
      },
      "execution_count": 4,
      "outputs": []
    },
    {
      "cell_type": "code",
      "source": [
        "len(train),len(val),len(test)"
      ],
      "metadata": {
        "colab": {
          "base_uri": "https://localhost:8080/"
        },
        "id": "AMNLju11Nnrk",
        "outputId": "1d83d518-63c4-401b-d0eb-933bce921299"
      },
      "execution_count": 5,
      "outputs": [
        {
          "output_type": "execute_result",
          "data": {
            "text/plain": [
              "(23693, 2962, 2962)"
            ]
          },
          "metadata": {},
          "execution_count": 5
        }
      ]
    },
    {
      "cell_type": "code",
      "source": [
        "\n",
        "from LughaatNLP import LughaatNLP\n",
        "urdu_text_processing = LughaatNLP()"
      ],
      "metadata": {
        "id": "F3jchbT5NqwM"
      },
      "execution_count": 7,
      "outputs": []
    },
    {
      "cell_type": "code",
      "source": [
        "t1=df['MEANING'][0]"
      ],
      "metadata": {
        "id": "BIKICXp5PZeC"
      },
      "execution_count": 8,
      "outputs": []
    },
    {
      "cell_type": "code",
      "source": [
        "t1"
      ],
      "metadata": {
        "colab": {
          "base_uri": "https://localhost:8080/",
          "height": 35
        },
        "id": "NvwKaJQlP1ff",
        "outputId": "eb639f5c-ddc7-4bab-d08e-7405a6a95968"
      },
      "execution_count": 9,
      "outputs": [
        {
          "output_type": "execute_result",
          "data": {
            "text/plain": [
              "'میں اپنے والدین سے کیسے بات کروں ؟'"
            ],
            "application/vnd.google.colaboratory.intrinsic+json": {
              "type": "string"
            }
          },
          "metadata": {},
          "execution_count": 9
        }
      ]
    },
    {
      "cell_type": "code",
      "source": [
        "urdu_text_processing.normalize(t1)"
      ],
      "metadata": {
        "colab": {
          "base_uri": "https://localhost:8080/",
          "height": 35
        },
        "id": "7H4_CEgIP2aY",
        "outputId": "10f3fedd-e19e-4b6f-91e3-ba3508704b89"
      },
      "execution_count": 10,
      "outputs": [
        {
          "output_type": "execute_result",
          "data": {
            "text/plain": [
              "'میں اپنے والدین سے کیسے بات کروں ؟'"
            ],
            "application/vnd.google.colaboratory.intrinsic+json": {
              "type": "string"
            }
          },
          "metadata": {},
          "execution_count": 10
        }
      ]
    },
    {
      "cell_type": "code",
      "source": [
        "def Normalize_label(text):\n",
        "    # Check if the input is not a string\n",
        "    if not isinstance(text, str):\n",
        "        text = str(text)  # Convert it to a string\n",
        "    return urdu_text_processing.normalize(text)\n"
      ],
      "metadata": {
        "id": "6orNT4XsP6l4"
      },
      "execution_count": 11,
      "outputs": []
    },
    {
      "cell_type": "code",
      "source": [
        "df['MEANING']=df['MEANING'].apply(Normalize_label)"
      ],
      "metadata": {
        "id": "yyh4NNdbQPnr"
      },
      "execution_count": 12,
      "outputs": []
    },
    {
      "cell_type": "code",
      "source": [
        "import re\n",
        "\n",
        "def Normalize_Input(text):\n",
        "    # Check if the input is not a string\n",
        "    if not isinstance(text, str):\n",
        "        text = str(text)  # Convert non-string values to string\n",
        "    # Convert to lowercase and remove punctuation\n",
        "    text = text.lower()\n",
        "    text = re.sub(r'[^\\w\\s]', '', text)  # Remove punctuation\n",
        "    return text\n"
      ],
      "metadata": {
        "id": "3Bq1EgwgQlFt"
      },
      "execution_count": 13,
      "outputs": []
    },
    {
      "cell_type": "code",
      "source": [
        "df['SENTENCES ']=df['SENTENCES '].apply(Normalize_Input)"
      ],
      "metadata": {
        "id": "zK1SexGBRY-r"
      },
      "execution_count": 14,
      "outputs": []
    },
    {
      "cell_type": "markdown",
      "source": [
        "#Input and Labels normalized now converting them into embeddings\n"
      ],
      "metadata": {
        "id": "jy3RXVO1R8Ok"
      }
    },
    {
      "cell_type": "code",
      "source": [
        "from tensorflow.keras.preprocessing.text import Tokenizer\n",
        "from tensorflow.keras.preprocessing.sequence import pad_sequences"
      ],
      "metadata": {
        "id": "rn21d9aaRgDH"
      },
      "execution_count": 15,
      "outputs": []
    },
    {
      "cell_type": "markdown",
      "source": [
        "Hyper parameters adjustment"
      ],
      "metadata": {
        "id": "CsRFR_tLTiV4"
      }
    },
    {
      "cell_type": "code",
      "source": [
        "vocab_size=1000\n",
        "embedding_dim=50\n",
        "max_length=120\n",
        "trunc_type='post'\n",
        "oov_tok='<OOV>'"
      ],
      "metadata": {
        "id": "ArJ7EVIqSRby"
      },
      "execution_count": 16,
      "outputs": []
    },
    {
      "cell_type": "markdown",
      "source": [
        "extracted the dataset into relative segments train test validation"
      ],
      "metadata": {
        "id": "wgHJEu7xT1zj"
      }
    },
    {
      "cell_type": "code",
      "source": [
        "train_inputs=train['SENTENCES '].values\n",
        "val_inputs=val['SENTENCES '].values\n",
        "test_inputs=test['SENTENCES '].values\n",
        "\n",
        "\n",
        "val_inputs_str=[str(x) for x in val_inputs]\n",
        "test_inputs_str=[str(x) for x in test_inputs]\n",
        "train_inputs_str = [str(x) for x in train_inputs]\n",
        "\n",
        "\n",
        "#tokenization of input (english sentences)\n",
        "tokenizer=Tokenizer(num_words=vocab_size,oov_token=oov_tok)\n",
        "tokenizer.fit_on_texts(train_inputs_str)\n",
        "\n",
        "#vectorization of input\n",
        "\n",
        "train_sequences = tokenizer.texts_to_sequences(train_inputs_str)\n",
        "val_sequences = tokenizer.texts_to_sequences(val_inputs_str)\n",
        "test_sequences = tokenizer.texts_to_sequences(test_inputs_str)\n",
        "\n",
        "#Pad the sequences to ensure equal length\n",
        "train_padded = pad_sequences(train_sequences, maxlen=max_length, truncating=trunc_type)\n",
        "val_padded = pad_sequences(val_sequences, maxlen=max_length, truncating=trunc_type)\n",
        "test_padded = pad_sequences(test_sequences, maxlen=max_length, truncating=trunc_type)\n"
      ],
      "metadata": {
        "id": "BKFuEBzSTg2-"
      },
      "execution_count": 17,
      "outputs": []
    },
    {
      "cell_type": "code",
      "source": [
        "train_labels=train['MEANING'].values\n",
        "train_labels = [str(x) for x in train_labels]\n",
        "tokenizer=Tokenizer(num_words=vocab_size,oov_token=oov_tok)\n",
        "tokenizer.fit_on_texts(train_labels)"
      ],
      "metadata": {
        "id": "tIk2T0NocBRQ"
      },
      "execution_count": 18,
      "outputs": []
    },
    {
      "cell_type": "code",
      "source": [
        "train_labels_sequences = tokenizer.texts_to_sequences(train_labels)\n",
        "padded_train_labels = pad_sequences(train_labels_sequences, maxlen=max_length, truncating=trunc_type)"
      ],
      "metadata": {
        "id": "lC-ojP1Uc2Ie"
      },
      "execution_count": 19,
      "outputs": []
    },
    {
      "cell_type": "code",
      "source": [
        "val_labels=val['MEANING'].values\n",
        "val_labels = [str(x) for x in val_labels]\n",
        "tokenizer=Tokenizer(num_words=vocab_size,oov_token=oov_tok)\n",
        "tokenizer.fit_on_texts(val_labels)\n",
        "val_labels_sequences = tokenizer.texts_to_sequences(val_labels)\n",
        "padded_val_labels = pad_sequences(val_labels_sequences, maxlen=max_length, truncating=trunc_type)"
      ],
      "metadata": {
        "id": "xGz4xjnEfEuw"
      },
      "execution_count": 20,
      "outputs": []
    },
    {
      "cell_type": "code",
      "source": [
        "test_labels=test['MEANING'].values\n",
        "test_labels = [str(x) for x in test_labels]\n",
        "tokenizer=Tokenizer(num_words=vocab_size,oov_token=oov_tok)\n",
        "tokenizer.fit_on_texts(test_labels)\n",
        "test_labels_sequences = tokenizer.texts_to_sequences(test_labels)\n",
        "padded_test_labels = pad_sequences(test_labels_sequences, maxlen=max_length, truncating=trunc_type)"
      ],
      "metadata": {
        "id": "HNnPWa1xfib4"
      },
      "execution_count": 21,
      "outputs": []
    },
    {
      "cell_type": "code",
      "source": [
        "padded_train_labels.shape,padded_val_labels.shape,padded_test_labels.shape"
      ],
      "metadata": {
        "colab": {
          "base_uri": "https://localhost:8080/"
        },
        "id": "V7GV4yA3dTa7",
        "outputId": "d4bceeb0-a0c6-43ae-e2ce-6ae1889d29c5"
      },
      "execution_count": 22,
      "outputs": [
        {
          "output_type": "execute_result",
          "data": {
            "text/plain": [
              "((23693, 120), (2962, 120), (2962, 120))"
            ]
          },
          "metadata": {},
          "execution_count": 22
        }
      ]
    },
    {
      "cell_type": "markdown",
      "source": [
        "Now designing a neural network RNN"
      ],
      "metadata": {
        "id": "KuSAwGUyVg6R"
      }
    },
    {
      "cell_type": "code",
      "source": [
        "#important to check\n",
        "print(train_padded.dtype)\n",
        "print(padded_train_labels.dtype),print(padded_val_labels.dtype),print(padded_test_labels.dtype)\n"
      ],
      "metadata": {
        "colab": {
          "base_uri": "https://localhost:8080/"
        },
        "id": "R-1SGj53Xb7B",
        "outputId": "08e05799-5ec9-4965-ade2-ee3bc6b6a7d3"
      },
      "execution_count": 23,
      "outputs": [
        {
          "output_type": "stream",
          "name": "stdout",
          "text": [
            "int32\n",
            "int32\n",
            "int32\n",
            "int32\n"
          ]
        },
        {
          "output_type": "execute_result",
          "data": {
            "text/plain": [
              "(None, None, None)"
            ]
          },
          "metadata": {},
          "execution_count": 23
        }
      ]
    },
    {
      "cell_type": "markdown",
      "source": [
        "##Simple RNN layer used"
      ],
      "metadata": {
        "id": "vyAxSEhoknbh"
      }
    },
    {
      "cell_type": "code",
      "source": [
        "\n",
        "model = tf.keras.Sequential([\n",
        "    tf.keras.layers.Embedding(vocab_size, embedding_dim, input_length=max_length),\n",
        "    tf.keras.layers.SimpleRNN(128, return_sequences=True),  # Simple RNN layer\n",
        "    tf.keras.layers.SimpleRNN(128, return_sequences=True),\n",
        "    tf.keras.layers.SimpleRNN(128, return_sequences=True),\n",
        "    tf.keras.layers.TimeDistributed(tf.keras.layers.Dense(vocab_size, activation='softmax'))  # Output layer for each time step\n",
        "])"
      ],
      "metadata": {
        "id": "DgPPIpOVT0Zf"
      },
      "execution_count": 24,
      "outputs": []
    },
    {
      "cell_type": "markdown",
      "source": [
        "##Used Adam as optimimizer and sparse_categorical_crossentropy for loss calculation because it is used for multiclass classification"
      ],
      "metadata": {
        "id": "GZmID7ITksho"
      }
    },
    {
      "cell_type": "code",
      "source": [
        "model.compile(loss='sparse_categorical_crossentropy',optimizer='adam',metrics=['accuracy'])"
      ],
      "metadata": {
        "id": "14eESx-lWW52"
      },
      "execution_count": 25,
      "outputs": []
    },
    {
      "cell_type": "code",
      "source": [
        "model.summary()"
      ],
      "metadata": {
        "colab": {
          "base_uri": "https://localhost:8080/",
          "height": 306
        },
        "id": "OaZSJiNlWfPH",
        "outputId": "cc955515-eb6a-4ef5-bf10-46b3bf614bf1"
      },
      "execution_count": 26,
      "outputs": [
        {
          "output_type": "display_data",
          "data": {
            "text/plain": [
              "\u001b[1mModel: \"sequential\"\u001b[0m\n"
            ],
            "text/html": [
              "<pre style=\"white-space:pre;overflow-x:auto;line-height:normal;font-family:Menlo,'DejaVu Sans Mono',consolas,'Courier New',monospace\"><span style=\"font-weight: bold\">Model: \"sequential\"</span>\n",
              "</pre>\n"
            ]
          },
          "metadata": {}
        },
        {
          "output_type": "display_data",
          "data": {
            "text/plain": [
              "┏━━━━━━━━━━━━━━━━━━━━━━━━━━━━━━━━━━━━━━┳━━━━━━━━━━━━━━━━━━━━━━━━━━━━━┳━━━━━━━━━━━━━━━━━┓\n",
              "┃\u001b[1m \u001b[0m\u001b[1mLayer (type)                        \u001b[0m\u001b[1m \u001b[0m┃\u001b[1m \u001b[0m\u001b[1mOutput Shape               \u001b[0m\u001b[1m \u001b[0m┃\u001b[1m \u001b[0m\u001b[1m        Param #\u001b[0m\u001b[1m \u001b[0m┃\n",
              "┡━━━━━━━━━━━━━━━━━━━━━━━━━━━━━━━━━━━━━━╇━━━━━━━━━━━━━━━━━━━━━━━━━━━━━╇━━━━━━━━━━━━━━━━━┩\n",
              "│ embedding (\u001b[38;5;33mEmbedding\u001b[0m)                │ ?                           │     \u001b[38;5;34m0\u001b[0m (unbuilt) │\n",
              "├──────────────────────────────────────┼─────────────────────────────┼─────────────────┤\n",
              "│ simple_rnn (\u001b[38;5;33mSimpleRNN\u001b[0m)               │ ?                           │     \u001b[38;5;34m0\u001b[0m (unbuilt) │\n",
              "├──────────────────────────────────────┼─────────────────────────────┼─────────────────┤\n",
              "│ simple_rnn_1 (\u001b[38;5;33mSimpleRNN\u001b[0m)             │ ?                           │     \u001b[38;5;34m0\u001b[0m (unbuilt) │\n",
              "├──────────────────────────────────────┼─────────────────────────────┼─────────────────┤\n",
              "│ simple_rnn_2 (\u001b[38;5;33mSimpleRNN\u001b[0m)             │ ?                           │     \u001b[38;5;34m0\u001b[0m (unbuilt) │\n",
              "├──────────────────────────────────────┼─────────────────────────────┼─────────────────┤\n",
              "│ time_distributed (\u001b[38;5;33mTimeDistributed\u001b[0m)   │ ?                           │     \u001b[38;5;34m0\u001b[0m (unbuilt) │\n",
              "└──────────────────────────────────────┴─────────────────────────────┴─────────────────┘\n"
            ],
            "text/html": [
              "<pre style=\"white-space:pre;overflow-x:auto;line-height:normal;font-family:Menlo,'DejaVu Sans Mono',consolas,'Courier New',monospace\">┏━━━━━━━━━━━━━━━━━━━━━━━━━━━━━━━━━━━━━━┳━━━━━━━━━━━━━━━━━━━━━━━━━━━━━┳━━━━━━━━━━━━━━━━━┓\n",
              "┃<span style=\"font-weight: bold\"> Layer (type)                         </span>┃<span style=\"font-weight: bold\"> Output Shape                </span>┃<span style=\"font-weight: bold\">         Param # </span>┃\n",
              "┡━━━━━━━━━━━━━━━━━━━━━━━━━━━━━━━━━━━━━━╇━━━━━━━━━━━━━━━━━━━━━━━━━━━━━╇━━━━━━━━━━━━━━━━━┩\n",
              "│ embedding (<span style=\"color: #0087ff; text-decoration-color: #0087ff\">Embedding</span>)                │ ?                           │     <span style=\"color: #00af00; text-decoration-color: #00af00\">0</span> (unbuilt) │\n",
              "├──────────────────────────────────────┼─────────────────────────────┼─────────────────┤\n",
              "│ simple_rnn (<span style=\"color: #0087ff; text-decoration-color: #0087ff\">SimpleRNN</span>)               │ ?                           │     <span style=\"color: #00af00; text-decoration-color: #00af00\">0</span> (unbuilt) │\n",
              "├──────────────────────────────────────┼─────────────────────────────┼─────────────────┤\n",
              "│ simple_rnn_1 (<span style=\"color: #0087ff; text-decoration-color: #0087ff\">SimpleRNN</span>)             │ ?                           │     <span style=\"color: #00af00; text-decoration-color: #00af00\">0</span> (unbuilt) │\n",
              "├──────────────────────────────────────┼─────────────────────────────┼─────────────────┤\n",
              "│ simple_rnn_2 (<span style=\"color: #0087ff; text-decoration-color: #0087ff\">SimpleRNN</span>)             │ ?                           │     <span style=\"color: #00af00; text-decoration-color: #00af00\">0</span> (unbuilt) │\n",
              "├──────────────────────────────────────┼─────────────────────────────┼─────────────────┤\n",
              "│ time_distributed (<span style=\"color: #0087ff; text-decoration-color: #0087ff\">TimeDistributed</span>)   │ ?                           │     <span style=\"color: #00af00; text-decoration-color: #00af00\">0</span> (unbuilt) │\n",
              "└──────────────────────────────────────┴─────────────────────────────┴─────────────────┘\n",
              "</pre>\n"
            ]
          },
          "metadata": {}
        },
        {
          "output_type": "display_data",
          "data": {
            "text/plain": [
              "\u001b[1m Total params: \u001b[0m\u001b[38;5;34m0\u001b[0m (0.00 B)\n"
            ],
            "text/html": [
              "<pre style=\"white-space:pre;overflow-x:auto;line-height:normal;font-family:Menlo,'DejaVu Sans Mono',consolas,'Courier New',monospace\"><span style=\"font-weight: bold\"> Total params: </span><span style=\"color: #00af00; text-decoration-color: #00af00\">0</span> (0.00 B)\n",
              "</pre>\n"
            ]
          },
          "metadata": {}
        },
        {
          "output_type": "display_data",
          "data": {
            "text/plain": [
              "\u001b[1m Trainable params: \u001b[0m\u001b[38;5;34m0\u001b[0m (0.00 B)\n"
            ],
            "text/html": [
              "<pre style=\"white-space:pre;overflow-x:auto;line-height:normal;font-family:Menlo,'DejaVu Sans Mono',consolas,'Courier New',monospace\"><span style=\"font-weight: bold\"> Trainable params: </span><span style=\"color: #00af00; text-decoration-color: #00af00\">0</span> (0.00 B)\n",
              "</pre>\n"
            ]
          },
          "metadata": {}
        },
        {
          "output_type": "display_data",
          "data": {
            "text/plain": [
              "\u001b[1m Non-trainable params: \u001b[0m\u001b[38;5;34m0\u001b[0m (0.00 B)\n"
            ],
            "text/html": [
              "<pre style=\"white-space:pre;overflow-x:auto;line-height:normal;font-family:Menlo,'DejaVu Sans Mono',consolas,'Courier New',monospace\"><span style=\"font-weight: bold\"> Non-trainable params: </span><span style=\"color: #00af00; text-decoration-color: #00af00\">0</span> (0.00 B)\n",
              "</pre>\n"
            ]
          },
          "metadata": {}
        }
      ]
    },
    {
      "cell_type": "code",
      "source": [
        "# Assuming train_labels contains your target decoder output data\n",
        "history = model.fit(train_padded, np.expand_dims(padded_train_labels, -1), epochs=10, validation_data=(val_padded,padded_val_labels))"
      ],
      "metadata": {
        "colab": {
          "base_uri": "https://localhost:8080/"
        },
        "id": "2hw1RvZZWjY3",
        "outputId": "48617c9e-d108-4a08-c6da-03cb23539458"
      },
      "execution_count": null,
      "outputs": [
        {
          "output_type": "stream",
          "name": "stdout",
          "text": [
            "Epoch 1/10\n",
            "\u001b[1m741/741\u001b[0m \u001b[32m━━━━━━━━━━━━━━━━━━━━\u001b[0m\u001b[37m\u001b[0m \u001b[1m347s\u001b[0m 453ms/step - accuracy: 0.8647 - loss: 1.2918 - val_accuracy: 0.8949 - val_loss: 0.7395\n",
            "Epoch 2/10\n",
            "\u001b[1m741/741\u001b[0m \u001b[32m━━━━━━━━━━━━━━━━━━━━\u001b[0m\u001b[37m\u001b[0m \u001b[1m382s\u001b[0m 453ms/step - accuracy: 0.8911 - loss: 0.7424 - val_accuracy: 0.8949 - val_loss: 0.7536\n",
            "Epoch 3/10\n",
            "\u001b[1m741/741\u001b[0m \u001b[32m━━━━━━━━━━━━━━━━━━━━\u001b[0m\u001b[37m\u001b[0m \u001b[1m389s\u001b[0m 462ms/step - accuracy: 0.8934 - loss: 0.7131 - val_accuracy: 0.8949 - val_loss: 0.7602\n",
            "Epoch 4/10\n",
            "\u001b[1m741/741\u001b[0m \u001b[32m━━━━━━━━━━━━━━━━━━━━\u001b[0m\u001b[37m\u001b[0m \u001b[1m367s\u001b[0m 443ms/step - accuracy: 0.8943 - loss: 0.7051 - val_accuracy: 0.8951 - val_loss: 0.7656\n",
            "Epoch 5/10\n",
            "\u001b[1m741/741\u001b[0m \u001b[32m━━━━━━━━━━━━━━━━━━━━\u001b[0m\u001b[37m\u001b[0m \u001b[1m384s\u001b[0m 446ms/step - accuracy: 0.8940 - loss: 0.7040 - val_accuracy: 0.8951 - val_loss: 0.7694\n",
            "Epoch 6/10\n",
            "\u001b[1m741/741\u001b[0m \u001b[32m━━━━━━━━━━━━━━━━━━━━\u001b[0m\u001b[37m\u001b[0m \u001b[1m386s\u001b[0m 451ms/step - accuracy: 0.8946 - loss: 0.6974 - val_accuracy: 0.8952 - val_loss: 0.7719\n",
            "Epoch 7/10\n",
            "\u001b[1m741/741\u001b[0m \u001b[32m━━━━━━━━━━━━━━━━━━━━\u001b[0m\u001b[37m\u001b[0m \u001b[1m374s\u001b[0m 440ms/step - accuracy: 0.8934 - loss: 0.7023 - val_accuracy: 0.8951 - val_loss: 0.7735\n",
            "Epoch 8/10\n",
            "\u001b[1m741/741\u001b[0m \u001b[32m━━━━━━━━━━━━━━━━━━━━\u001b[0m\u001b[37m\u001b[0m \u001b[1m388s\u001b[0m 447ms/step - accuracy: 0.8952 - loss: 0.6868 - val_accuracy: 0.8955 - val_loss: 0.7777\n",
            "Epoch 9/10\n",
            "\u001b[1m741/741\u001b[0m \u001b[32m━━━━━━━━━━━━━━━━━━━━\u001b[0m\u001b[37m\u001b[0m \u001b[1m377s\u001b[0m 441ms/step - accuracy: 0.8945 - loss: 0.6871 - val_accuracy: 0.8955 - val_loss: 0.7796\n",
            "Epoch 10/10\n",
            "\u001b[1m741/741\u001b[0m \u001b[32m━━━━━━━━━━━━━━━━━━━━\u001b[0m\u001b[37m\u001b[0m \u001b[1m330s\u001b[0m 445ms/step - accuracy: 0.8945 - loss: 0.6855 - val_accuracy: 0.8955 - val_loss: 0.7813\n"
          ]
        }
      ]
    },
    {
      "cell_type": "code",
      "source": [
        "plt.plot(history.history['accuracy'])\n",
        "plt.plot(history.history['val_accuracy'])\n",
        "plt.title('Model Accuracy')\n",
        "plt.ylabel('Accuracy')\n",
        "plt.xlabel('Epoch')\n",
        "plt.legend(['Train', 'Validation'], loc='upper left')"
      ],
      "metadata": {
        "colab": {
          "base_uri": "https://localhost:8080/",
          "height": 489
        },
        "id": "o2jk2L7AWp-_",
        "outputId": "2a719712-e3cc-4cc0-cc2b-120e6fc9a9c7"
      },
      "execution_count": null,
      "outputs": [
        {
          "output_type": "execute_result",
          "data": {
            "text/plain": [
              "<matplotlib.legend.Legend at 0x7bf212a4f4c0>"
            ]
          },
          "metadata": {},
          "execution_count": 112
        },
        {
          "output_type": "display_data",
          "data": {
            "text/plain": [
              "<Figure size 640x480 with 1 Axes>"
            ],
            "image/png": "[encoded data removed]"
          },
          "metadata": {}
        }
      ]
    },
    {
      "cell_type": "code",
      "source": [
        "plt.plot(history.history['loss'])\n",
        "plt.plot(history.history['val_loss'])\n",
        "plt.title('Model Loss')\n",
        "plt.ylabel('Loss')\n",
        "plt.xlabel('Epoch')\n",
        "plt.legend(['Train', 'Validation'], loc='upper left')\n"
      ],
      "metadata": {
        "colab": {
          "base_uri": "https://localhost:8080/",
          "height": 489
        },
        "id": "r4ZJ7B4isKf_",
        "outputId": "247fc9bb-da8f-4b57-c8f8-03273f9f41de"
      },
      "execution_count": null,
      "outputs": [
        {
          "output_type": "execute_result",
          "data": {
            "text/plain": [
              "<matplotlib.legend.Legend at 0x7bf219b5ac20>"
            ]
          },
          "metadata": {},
          "execution_count": 113
        },
        {
          "output_type": "display_data",
          "data": {
            "text/plain": [
              "<Figure size 640x480 with 1 Axes>"
            ],
            "image/png": "[encoded data removed]"
          },
          "metadata": {}
        }
      ]
    },
    {
      "cell_type": "code",
      "source": [
        "\n",
        "def Model_ready_input(text):\n",
        "  text=str(text)\n",
        "  text=Normalize_Input(text)\n",
        "  text_sequence = tokenizer.texts_to_sequences([text])\n",
        "  text_padded = pad_sequences(text_sequence, maxlen=max_length, truncating=trunc_type)\n",
        "  return text_padded\n"
      ],
      "metadata": {
        "id": "ET_DGkKBsQu7"
      },
      "execution_count": null,
      "outputs": []
    },
    {
      "cell_type": "markdown",
      "source": [
        "##Simple RNN  Result on test dataset  \n",
        "\n",
        "---\n",
        "accuracy: 0.8931 - loss: 0.8018\n"
      ],
      "metadata": {
        "id": "_WgHC4Q-svJO"
      }
    },
    {
      "cell_type": "code",
      "source": [
        "model.evaluate(test_padded,padded_test_labels)\n"
      ],
      "metadata": {
        "colab": {
          "base_uri": "https://localhost:8080/"
        },
        "id": "7T2fT2Chsmt1",
        "outputId": "87cddfa7-8458-4c80-de6d-10292b967ba3"
      },
      "execution_count": null,
      "outputs": [
        {
          "output_type": "stream",
          "name": "stdout",
          "text": [
            "\u001b[1m93/93\u001b[0m \u001b[32m━━━━━━━━━━━━━━━━━━━━\u001b[0m\u001b[37m\u001b[0m \u001b[1m13s\u001b[0m 138ms/step - accuracy: 0.8931 - loss: 0.8018\n"
          ]
        },
        {
          "output_type": "execute_result",
          "data": {
            "text/plain": [
              "[0.80629962682724, 0.8925192952156067]"
            ]
          },
          "metadata": {},
          "execution_count": 115
        }
      ]
    },
    {
      "cell_type": "markdown",
      "source": [
        "#Translating english to urdu"
      ],
      "metadata": {
        "id": "lGzfsUdWtAr8"
      }
    },
    {
      "cell_type": "code",
      "source": [
        "text='How are You?'\n",
        "text=Model_ready_input(text)\n",
        "predictions=model.predict(text)"
      ],
      "metadata": {
        "colab": {
          "base_uri": "https://localhost:8080/"
        },
        "id": "rr1i-z54sqSx",
        "outputId": "6ccb88b6-ea14-441d-8ae2-4cf72bf9a47a"
      },
      "execution_count": null,
      "outputs": [
        {
          "output_type": "stream",
          "name": "stdout",
          "text": [
            "\u001b[1m1/1\u001b[0m \u001b[32m━━━━━━━━━━━━━━━━━━━━\u001b[0m\u001b[37m\u001b[0m \u001b[1m0s\u001b[0m 34ms/step\n"
          ]
        }
      ]
    },
    {
      "cell_type": "code",
      "source": [
        "\n",
        "def Model_ready_input(text):\n",
        "    text = str(text)  # Ensure the text is a string\n",
        "    text = Normalize_Input(text)  # Normalize the input text\n",
        "    text_sequence = tokenizer.texts_to_sequences([text])  # Tokenize the input\n",
        "    text_padded = pad_sequences(text_sequence, maxlen=max_length, truncating=trunc_type)  # Pad the sequence\n",
        "    return text_padded\n",
        "\n",
        "# Prepare your input text\n",
        "text = 'How are You?'\n",
        "text_padded = Model_ready_input(text)  # Prepare the input\n",
        "\n",
        "# Make a prediction\n",
        "predictions = model.predict(text_padded)\n",
        "\n",
        "# Print raw prediction output\n",
        "print(\"Raw prediction output:\", predictions)\n",
        "\n",
        "# Get the predicted index (assuming your output is structured as (None, max_length, vocab_size))\n",
        "predicted_index = np.argmax(predictions, axis=-1)\n",
        "\n",
        "# Reverse the word index to map indices to words\n",
        "reverse_word_index = {value: key for key, value in tokenizer.word_index.items()}\n",
        "\n",
        "# Decode the predicted index to Urdu words\n",
        "translated_text = ' '.join([reverse_word_index.get(idx, '<OOV>') for idx in predicted_index[0] if idx != 0])\n",
        "print(f\"Predicted Urdu Translation: {translated_text}\")"
      ],
      "metadata": {
        "colab": {
          "base_uri": "https://localhost:8080/"
        },
        "id": "krVo-5lfuPmP",
        "outputId": "b8436655-0adc-4017-86cb-46a480aaef4b"
      },
      "execution_count": null,
      "outputs": [
        {
          "output_type": "stream",
          "name": "stdout",
          "text": [
            "\u001b[1m1/1\u001b[0m \u001b[32m━━━━━━━━━━━━━━━━━━━━\u001b[0m\u001b[37m\u001b[0m \u001b[1m0s\u001b[0m 46ms/step\n",
            "Raw prediction output: [[[9.8031497e-01 1.1486697e-03 7.7980134e-04 ... 4.8863262e-06\n",
            "   3.0653121e-06 4.2209022e-06]\n",
            "  [9.6998000e-01 4.4409130e-03 1.7128773e-03 ... 3.5397650e-06\n",
            "   3.0141323e-06 4.9776218e-06]\n",
            "  [9.6955991e-01 4.7952062e-03 1.6975921e-03 ... 3.2243481e-06\n",
            "   2.9426699e-06 4.5458628e-06]\n",
            "  ...\n",
            "  [7.9371281e-02 3.5564598e-01 3.3910878e-02 ... 1.8770156e-04\n",
            "   2.6377491e-04 4.9051810e-05]\n",
            "  [2.1996988e-02 4.3687117e-01 2.6421394e-02 ... 4.2164247e-04\n",
            "   3.1261533e-04 4.4887547e-05]\n",
            "  [8.5372180e-03 4.3623987e-01 1.9400986e-02 ... 3.2446042e-04\n",
            "   1.9762252e-04 7.8391102e-05]]]\n",
            "Predicted Urdu Translation: <OOV> <OOV> <OOV>\n"
          ]
        }
      ]
    },
    {
      "cell_type": "code",
      "source": [],
      "metadata": {
        "id": "zfFtZMWBvAzy"
      },
      "execution_count": null,
      "outputs": []
    }
  ]
}